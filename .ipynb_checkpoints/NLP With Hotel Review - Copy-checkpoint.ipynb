{
 "cells": [
  {
   "cell_type": "markdown",
   "id": "5b6e5399",
   "metadata": {},
   "source": [
    "# NLP With Hotel Review"
   ]
  },
  {
   "cell_type": "markdown",
   "id": "46e822ea",
   "metadata": {},
   "source": [
    "# Masoud Arefi\n",
    "\n",
    "Below are links to my LinkedIn profile and GitHub repository where you can find my projects and contributions.\n",
    "\n",
    "## Connect with Me\n",
    "\n",
    "- [LinkedIn](https://www.linkedin.com/in/masoud-arefi/)\n",
    "- [GitHub](https://github.com/MaSOouD69/capstone-repo)\n"
   ]
  },
  {
   "cell_type": "code",
   "execution_count": 1,
   "id": "7de53d45",
   "metadata": {},
   "outputs": [],
   "source": [
    "import numpy as np\n",
    "import pandas as pd\n",
    "\n",
    "import matplotlib.pyplot as plt\n",
    "import seaborn as sns\n",
    "\n",
    "import re\n",
    "import string\n",
    "\n",
    "# SK Packages\n",
    "from sklearn.linear_model import LogisticRegression\n",
    "from sklearn.model_selection import train_test_split\n",
    "\n",
    "## Vectorizers\n",
    "from sklearn.feature_extraction.text import CountVectorizer\n",
    "from sklearn.feature_extraction.text import TfidfVectorizer\n",
    "\n",
    "# NLTK\n",
    "import nltk"
   ]
  },
  {
   "cell_type": "code",
   "execution_count": 2,
   "id": "94f6d44e",
   "metadata": {},
   "outputs": [],
   "source": [
    "# NLTK Packages\n",
    "# Use the code below to download the NLTK package, a straightforward GUI should pop up\n",
    "# nltk.download()\n",
    "from nltk.corpus import stopwords\n",
    "from nltk.tokenize import word_tokenize\n",
    "from nltk.stem import PorterStemmer\n",
    "from nltk.stem import WordNetLemmatizer"
   ]
  },
  {
   "cell_type": "markdown",
   "id": "c644e726",
   "metadata": {},
   "source": [
    "## Exploratory Data Analysis\n",
    "First, let's load the data and understand what we are working with.\n",
    "\n",
    "1. Perform EDA on the data and mention 3-4 observations from which you can draw actionable insights. In your EDA, you may consider creating a data dictionary, basic statistical analysis, data visualizations, data cleaning and preprocessing to prepare the data for modeling.\n"
   ]
  },
  {
   "cell_type": "code",
   "execution_count": 3,
   "id": "d3350297",
   "metadata": {},
   "outputs": [],
   "source": [
    "# load the data sets\n",
    "df_raw = pd.read_csv('Hotel_Reviews.csv', index_col=0)"
   ]
  },
  {
   "cell_type": "code",
   "execution_count": 4,
   "id": "f9f48092",
   "metadata": {},
   "outputs": [
    {
     "data": {
      "text/plain": [
       "Index(['Additional_Number_of_Scoring', 'Average_Score', 'Negative_Review',\n",
       "       'Review_Total_Negative_Word_Counts', 'Total_Number_of_Reviews',\n",
       "       'Positive_Review', 'Review_Total_Positive_Word_Counts',\n",
       "       'Total_Number_of_Reviews_Reviewer_Has_Given', 'Reviewer_Score',\n",
       "       'Days_Since_Review', 'Latitude', 'Longitude', 'Day', 'Month', 'Year',\n",
       "       'Reviewer_Nationality_Australia', 'Reviewer_Nationality_Ireland',\n",
       "       'Reviewer_Nationality_UAE', 'Reviewer_Nationality_UK',\n",
       "       'Reviewer_Nationality_USA', 'Reviewer_Nationality_Other',\n",
       "       'Hotel_Address_Amsterdam', 'Hotel_Address_Barcelona',\n",
       "       'Hotel_Address_London', 'Hotel_Address_Milan', 'Hotel_Address_Paris',\n",
       "       'Hotel_Address_Vienna', 'Leisure_Trip', 'Nights_Stayed'],\n",
       "      dtype='object')"
      ]
     },
     "execution_count": 4,
     "metadata": {},
     "output_type": "execute_result"
    }
   ],
   "source": [
    "# firat look at the columns\n",
    "df_raw.columns"
   ]
  },
  {
   "cell_type": "code",
   "execution_count": 5,
   "id": "c7168534",
   "metadata": {},
   "outputs": [
    {
     "name": "stdout",
     "output_type": "stream",
     "text": [
      "<class 'pandas.core.frame.DataFrame'>\n",
      "Index: 515738 entries, 0 to 515737\n",
      "Data columns (total 29 columns):\n",
      " #   Column                                      Non-Null Count   Dtype  \n",
      "---  ------                                      --------------   -----  \n",
      " 0   Additional_Number_of_Scoring                515738 non-null  int64  \n",
      " 1   Average_Score                               515738 non-null  float64\n",
      " 2   Negative_Review                             515738 non-null  object \n",
      " 3   Review_Total_Negative_Word_Counts           515738 non-null  int64  \n",
      " 4   Total_Number_of_Reviews                     515738 non-null  int64  \n",
      " 5   Positive_Review                             515738 non-null  object \n",
      " 6   Review_Total_Positive_Word_Counts           515738 non-null  int64  \n",
      " 7   Total_Number_of_Reviews_Reviewer_Has_Given  515738 non-null  int64  \n",
      " 8   Reviewer_Score                              515738 non-null  int64  \n",
      " 9   Days_Since_Review                           515738 non-null  int64  \n",
      " 10  Latitude                                    515738 non-null  float64\n",
      " 11  Longitude                                   515738 non-null  float64\n",
      " 12  Day                                         515738 non-null  int64  \n",
      " 13  Month                                       515738 non-null  int64  \n",
      " 14  Year                                        515738 non-null  int64  \n",
      " 15  Reviewer_Nationality_Australia              515738 non-null  int64  \n",
      " 16  Reviewer_Nationality_Ireland                515738 non-null  int64  \n",
      " 17  Reviewer_Nationality_UAE                    515738 non-null  int64  \n",
      " 18  Reviewer_Nationality_UK                     515738 non-null  int64  \n",
      " 19  Reviewer_Nationality_USA                    515738 non-null  int64  \n",
      " 20  Reviewer_Nationality_Other                  515738 non-null  int64  \n",
      " 21  Hotel_Address_Amsterdam                     515738 non-null  int64  \n",
      " 22  Hotel_Address_Barcelona                     515738 non-null  int64  \n",
      " 23  Hotel_Address_London                        515738 non-null  int64  \n",
      " 24  Hotel_Address_Milan                         515738 non-null  int64  \n",
      " 25  Hotel_Address_Paris                         515738 non-null  int64  \n",
      " 26  Hotel_Address_Vienna                        515738 non-null  int64  \n",
      " 27  Leisure_Trip                                515738 non-null  int64  \n",
      " 28  Nights_Stayed                               515738 non-null  int64  \n",
      "dtypes: float64(3), int64(24), object(2)\n",
      "memory usage: 118.0+ MB\n"
     ]
    }
   ],
   "source": [
    "# check the info for the dataframe\n",
    "df_raw.info()"
   ]
  },
  {
   "cell_type": "code",
   "execution_count": 6,
   "id": "76e464ca",
   "metadata": {},
   "outputs": [
    {
     "data": {
      "text/plain": [
       "Negative_Review\n",
       "No Negative    127890\n",
       " Nothing        14295\n",
       " Nothing         4236\n",
       " nothing         2225\n",
       " N A             1037\n",
       "Name: count, dtype: int64"
      ]
     },
     "execution_count": 6,
     "metadata": {},
     "output_type": "execute_result"
    }
   ],
   "source": [
    "# first look at the negative reviews\n",
    "df_raw['Negative_Review'].value_counts().head()"
   ]
  },
  {
   "cell_type": "code",
   "execution_count": 7,
   "id": "3d2ab38a",
   "metadata": {},
   "outputs": [
    {
     "data": {
      "text/html": [
       "<div>\n",
       "<style scoped>\n",
       "    .dataframe tbody tr th:only-of-type {\n",
       "        vertical-align: middle;\n",
       "    }\n",
       "\n",
       "    .dataframe tbody tr th {\n",
       "        vertical-align: top;\n",
       "    }\n",
       "\n",
       "    .dataframe thead th {\n",
       "        text-align: right;\n",
       "    }\n",
       "</style>\n",
       "<table border=\"1\" class=\"dataframe\">\n",
       "  <thead>\n",
       "    <tr style=\"text-align: right;\">\n",
       "      <th></th>\n",
       "      <th>Additional_Number_of_Scoring</th>\n",
       "      <th>Average_Score</th>\n",
       "      <th>Negative_Review</th>\n",
       "      <th>Review_Total_Negative_Word_Counts</th>\n",
       "      <th>Total_Number_of_Reviews</th>\n",
       "      <th>Positive_Review</th>\n",
       "      <th>Review_Total_Positive_Word_Counts</th>\n",
       "      <th>Total_Number_of_Reviews_Reviewer_Has_Given</th>\n",
       "      <th>Reviewer_Score</th>\n",
       "      <th>Days_Since_Review</th>\n",
       "      <th>Latitude</th>\n",
       "      <th>Longitude</th>\n",
       "      <th>Day</th>\n",
       "      <th>Month</th>\n",
       "      <th>Year</th>\n",
       "    </tr>\n",
       "  </thead>\n",
       "  <tbody>\n",
       "    <tr>\n",
       "      <th>0</th>\n",
       "      <td>194</td>\n",
       "      <td>7.7</td>\n",
       "      <td>I am so angry that i made this post available...</td>\n",
       "      <td>397</td>\n",
       "      <td>1403</td>\n",
       "      <td>Only the park outside of the hotel was beauti...</td>\n",
       "      <td>11</td>\n",
       "      <td>7</td>\n",
       "      <td>0</td>\n",
       "      <td>0</td>\n",
       "      <td>52.360576</td>\n",
       "      <td>4.915968</td>\n",
       "      <td>3</td>\n",
       "      <td>8</td>\n",
       "      <td>2017</td>\n",
       "    </tr>\n",
       "    <tr>\n",
       "      <th>1</th>\n",
       "      <td>194</td>\n",
       "      <td>7.7</td>\n",
       "      <td>No Negative</td>\n",
       "      <td>0</td>\n",
       "      <td>1403</td>\n",
       "      <td>No real complaints the hotel was great great ...</td>\n",
       "      <td>105</td>\n",
       "      <td>7</td>\n",
       "      <td>0</td>\n",
       "      <td>0</td>\n",
       "      <td>52.360576</td>\n",
       "      <td>4.915968</td>\n",
       "      <td>3</td>\n",
       "      <td>8</td>\n",
       "      <td>2017</td>\n",
       "    </tr>\n",
       "    <tr>\n",
       "      <th>2</th>\n",
       "      <td>194</td>\n",
       "      <td>7.7</td>\n",
       "      <td>Rooms are nice but for elderly a bit difficul...</td>\n",
       "      <td>42</td>\n",
       "      <td>1403</td>\n",
       "      <td>Location was good and staff were ok It is cut...</td>\n",
       "      <td>21</td>\n",
       "      <td>9</td>\n",
       "      <td>0</td>\n",
       "      <td>3</td>\n",
       "      <td>52.360576</td>\n",
       "      <td>4.915968</td>\n",
       "      <td>31</td>\n",
       "      <td>7</td>\n",
       "      <td>2017</td>\n",
       "    </tr>\n",
       "    <tr>\n",
       "      <th>3</th>\n",
       "      <td>194</td>\n",
       "      <td>7.7</td>\n",
       "      <td>My room was dirty and I was afraid to walk ba...</td>\n",
       "      <td>210</td>\n",
       "      <td>1403</td>\n",
       "      <td>Great location in nice surroundings the bar a...</td>\n",
       "      <td>26</td>\n",
       "      <td>1</td>\n",
       "      <td>0</td>\n",
       "      <td>3</td>\n",
       "      <td>52.360576</td>\n",
       "      <td>4.915968</td>\n",
       "      <td>31</td>\n",
       "      <td>7</td>\n",
       "      <td>2017</td>\n",
       "    </tr>\n",
       "    <tr>\n",
       "      <th>4</th>\n",
       "      <td>194</td>\n",
       "      <td>7.7</td>\n",
       "      <td>You When I booked with your company on line y...</td>\n",
       "      <td>140</td>\n",
       "      <td>1403</td>\n",
       "      <td>Amazing location and building Romantic setting</td>\n",
       "      <td>8</td>\n",
       "      <td>3</td>\n",
       "      <td>0</td>\n",
       "      <td>10</td>\n",
       "      <td>52.360576</td>\n",
       "      <td>4.915968</td>\n",
       "      <td>24</td>\n",
       "      <td>7</td>\n",
       "      <td>2017</td>\n",
       "    </tr>\n",
       "  </tbody>\n",
       "</table>\n",
       "</div>"
      ],
      "text/plain": [
       "   Additional_Number_of_Scoring  Average_Score  \\\n",
       "0                           194            7.7   \n",
       "1                           194            7.7   \n",
       "2                           194            7.7   \n",
       "3                           194            7.7   \n",
       "4                           194            7.7   \n",
       "\n",
       "                                     Negative_Review  \\\n",
       "0   I am so angry that i made this post available...   \n",
       "1                                        No Negative   \n",
       "2   Rooms are nice but for elderly a bit difficul...   \n",
       "3   My room was dirty and I was afraid to walk ba...   \n",
       "4   You When I booked with your company on line y...   \n",
       "\n",
       "   Review_Total_Negative_Word_Counts  Total_Number_of_Reviews  \\\n",
       "0                                397                     1403   \n",
       "1                                  0                     1403   \n",
       "2                                 42                     1403   \n",
       "3                                210                     1403   \n",
       "4                                140                     1403   \n",
       "\n",
       "                                     Positive_Review  \\\n",
       "0   Only the park outside of the hotel was beauti...   \n",
       "1   No real complaints the hotel was great great ...   \n",
       "2   Location was good and staff were ok It is cut...   \n",
       "3   Great location in nice surroundings the bar a...   \n",
       "4    Amazing location and building Romantic setting    \n",
       "\n",
       "   Review_Total_Positive_Word_Counts  \\\n",
       "0                                 11   \n",
       "1                                105   \n",
       "2                                 21   \n",
       "3                                 26   \n",
       "4                                  8   \n",
       "\n",
       "   Total_Number_of_Reviews_Reviewer_Has_Given  Reviewer_Score  \\\n",
       "0                                           7               0   \n",
       "1                                           7               0   \n",
       "2                                           9               0   \n",
       "3                                           1               0   \n",
       "4                                           3               0   \n",
       "\n",
       "   Days_Since_Review   Latitude  Longitude  Day  Month  Year  \n",
       "0                  0  52.360576   4.915968    3      8  2017  \n",
       "1                  0  52.360576   4.915968    3      8  2017  \n",
       "2                  3  52.360576   4.915968   31      7  2017  \n",
       "3                  3  52.360576   4.915968   31      7  2017  \n",
       "4                 10  52.360576   4.915968   24      7  2017  "
      ]
     },
     "execution_count": 7,
     "metadata": {},
     "output_type": "execute_result"
    }
   ],
   "source": [
    "# take brief look at first 15 columns\n",
    "df_raw.iloc[:5,:15]"
   ]
  },
  {
   "cell_type": "code",
   "execution_count": 8,
   "id": "4c575e01",
   "metadata": {},
   "outputs": [
    {
     "data": {
      "text/html": [
       "<div>\n",
       "<style scoped>\n",
       "    .dataframe tbody tr th:only-of-type {\n",
       "        vertical-align: middle;\n",
       "    }\n",
       "\n",
       "    .dataframe tbody tr th {\n",
       "        vertical-align: top;\n",
       "    }\n",
       "\n",
       "    .dataframe thead th {\n",
       "        text-align: right;\n",
       "    }\n",
       "</style>\n",
       "<table border=\"1\" class=\"dataframe\">\n",
       "  <thead>\n",
       "    <tr style=\"text-align: right;\">\n",
       "      <th></th>\n",
       "      <th>Reviewer_Nationality_Australia</th>\n",
       "      <th>Reviewer_Nationality_Ireland</th>\n",
       "      <th>Reviewer_Nationality_UAE</th>\n",
       "      <th>Reviewer_Nationality_UK</th>\n",
       "      <th>Reviewer_Nationality_USA</th>\n",
       "      <th>Reviewer_Nationality_Other</th>\n",
       "      <th>Hotel_Address_Amsterdam</th>\n",
       "      <th>Hotel_Address_Barcelona</th>\n",
       "      <th>Hotel_Address_London</th>\n",
       "      <th>Hotel_Address_Milan</th>\n",
       "      <th>Hotel_Address_Paris</th>\n",
       "      <th>Hotel_Address_Vienna</th>\n",
       "      <th>Leisure_Trip</th>\n",
       "      <th>Nights_Stayed</th>\n",
       "    </tr>\n",
       "  </thead>\n",
       "  <tbody>\n",
       "    <tr>\n",
       "      <th>0</th>\n",
       "      <td>0</td>\n",
       "      <td>0</td>\n",
       "      <td>0</td>\n",
       "      <td>0</td>\n",
       "      <td>0</td>\n",
       "      <td>1</td>\n",
       "      <td>1</td>\n",
       "      <td>0</td>\n",
       "      <td>0</td>\n",
       "      <td>0</td>\n",
       "      <td>0</td>\n",
       "      <td>0</td>\n",
       "      <td>1</td>\n",
       "      <td>6</td>\n",
       "    </tr>\n",
       "    <tr>\n",
       "      <th>1</th>\n",
       "      <td>0</td>\n",
       "      <td>1</td>\n",
       "      <td>0</td>\n",
       "      <td>0</td>\n",
       "      <td>0</td>\n",
       "      <td>0</td>\n",
       "      <td>1</td>\n",
       "      <td>0</td>\n",
       "      <td>0</td>\n",
       "      <td>0</td>\n",
       "      <td>0</td>\n",
       "      <td>0</td>\n",
       "      <td>1</td>\n",
       "      <td>4</td>\n",
       "    </tr>\n",
       "    <tr>\n",
       "      <th>2</th>\n",
       "      <td>1</td>\n",
       "      <td>0</td>\n",
       "      <td>0</td>\n",
       "      <td>0</td>\n",
       "      <td>0</td>\n",
       "      <td>0</td>\n",
       "      <td>1</td>\n",
       "      <td>0</td>\n",
       "      <td>0</td>\n",
       "      <td>0</td>\n",
       "      <td>0</td>\n",
       "      <td>0</td>\n",
       "      <td>1</td>\n",
       "      <td>3</td>\n",
       "    </tr>\n",
       "    <tr>\n",
       "      <th>3</th>\n",
       "      <td>0</td>\n",
       "      <td>0</td>\n",
       "      <td>0</td>\n",
       "      <td>1</td>\n",
       "      <td>0</td>\n",
       "      <td>0</td>\n",
       "      <td>1</td>\n",
       "      <td>0</td>\n",
       "      <td>0</td>\n",
       "      <td>0</td>\n",
       "      <td>0</td>\n",
       "      <td>0</td>\n",
       "      <td>1</td>\n",
       "      <td>3</td>\n",
       "    </tr>\n",
       "    <tr>\n",
       "      <th>4</th>\n",
       "      <td>0</td>\n",
       "      <td>0</td>\n",
       "      <td>0</td>\n",
       "      <td>0</td>\n",
       "      <td>0</td>\n",
       "      <td>1</td>\n",
       "      <td>1</td>\n",
       "      <td>0</td>\n",
       "      <td>0</td>\n",
       "      <td>0</td>\n",
       "      <td>0</td>\n",
       "      <td>0</td>\n",
       "      <td>1</td>\n",
       "      <td>2</td>\n",
       "    </tr>\n",
       "  </tbody>\n",
       "</table>\n",
       "</div>"
      ],
      "text/plain": [
       "   Reviewer_Nationality_Australia  Reviewer_Nationality_Ireland  \\\n",
       "0                               0                             0   \n",
       "1                               0                             1   \n",
       "2                               1                             0   \n",
       "3                               0                             0   \n",
       "4                               0                             0   \n",
       "\n",
       "   Reviewer_Nationality_UAE  Reviewer_Nationality_UK  \\\n",
       "0                         0                        0   \n",
       "1                         0                        0   \n",
       "2                         0                        0   \n",
       "3                         0                        1   \n",
       "4                         0                        0   \n",
       "\n",
       "   Reviewer_Nationality_USA  Reviewer_Nationality_Other  \\\n",
       "0                         0                           1   \n",
       "1                         0                           0   \n",
       "2                         0                           0   \n",
       "3                         0                           0   \n",
       "4                         0                           1   \n",
       "\n",
       "   Hotel_Address_Amsterdam  Hotel_Address_Barcelona  Hotel_Address_London  \\\n",
       "0                        1                        0                     0   \n",
       "1                        1                        0                     0   \n",
       "2                        1                        0                     0   \n",
       "3                        1                        0                     0   \n",
       "4                        1                        0                     0   \n",
       "\n",
       "   Hotel_Address_Milan  Hotel_Address_Paris  Hotel_Address_Vienna  \\\n",
       "0                    0                    0                     0   \n",
       "1                    0                    0                     0   \n",
       "2                    0                    0                     0   \n",
       "3                    0                    0                     0   \n",
       "4                    0                    0                     0   \n",
       "\n",
       "   Leisure_Trip  Nights_Stayed  \n",
       "0             1              6  \n",
       "1             1              4  \n",
       "2             1              3  \n",
       "3             1              3  \n",
       "4             1              2  "
      ]
     },
     "execution_count": 8,
     "metadata": {},
     "output_type": "execute_result"
    }
   ],
   "source": [
    "# take brief look at last 15 columns\n",
    "df_raw.iloc[:5,15:30]"
   ]
  },
  {
   "cell_type": "code",
   "execution_count": 9,
   "id": "82ffc0c0",
   "metadata": {},
   "outputs": [
    {
     "data": {
      "text/plain": [
       "Additional_Number_of_Scoring                  0\n",
       "Average_Score                                 0\n",
       "Negative_Review                               0\n",
       "Review_Total_Negative_Word_Counts             0\n",
       "Total_Number_of_Reviews                       0\n",
       "Positive_Review                               0\n",
       "Review_Total_Positive_Word_Counts             0\n",
       "Total_Number_of_Reviews_Reviewer_Has_Given    0\n",
       "Reviewer_Score                                0\n",
       "Days_Since_Review                             0\n",
       "Latitude                                      0\n",
       "Longitude                                     0\n",
       "Day                                           0\n",
       "Month                                         0\n",
       "Year                                          0\n",
       "Reviewer_Nationality_Australia                0\n",
       "Reviewer_Nationality_Ireland                  0\n",
       "Reviewer_Nationality_UAE                      0\n",
       "Reviewer_Nationality_UK                       0\n",
       "Reviewer_Nationality_USA                      0\n",
       "Reviewer_Nationality_Other                    0\n",
       "Hotel_Address_Amsterdam                       0\n",
       "Hotel_Address_Barcelona                       0\n",
       "Hotel_Address_London                          0\n",
       "Hotel_Address_Milan                           0\n",
       "Hotel_Address_Paris                           0\n",
       "Hotel_Address_Vienna                          0\n",
       "Leisure_Trip                                  0\n",
       "Nights_Stayed                                 0\n",
       "dtype: int64"
      ]
     },
     "execution_count": 9,
     "metadata": {},
     "output_type": "execute_result"
    }
   ],
   "source": [
    "# checking for missing value\n",
    "df_raw.isna().sum()"
   ]
  },
  {
   "cell_type": "code",
   "execution_count": 10,
   "id": "f1cd340e",
   "metadata": {},
   "outputs": [
    {
     "data": {
      "text/plain": [
       "539"
      ]
     },
     "execution_count": 10,
     "metadata": {},
     "output_type": "execute_result"
    }
   ],
   "source": [
    "# checking for duplicated data\n",
    "df_raw.duplicated().sum()"
   ]
  },
  {
   "cell_type": "markdown",
   "id": "cd2ebfbd",
   "metadata": {},
   "source": [
    "look like there is 539 duplicate records. lets drop them"
   ]
  },
  {
   "cell_type": "code",
   "execution_count": 11,
   "id": "76ffaed1",
   "metadata": {},
   "outputs": [],
   "source": [
    "df_raw = df_raw.drop_duplicates()"
   ]
  },
  {
   "cell_type": "code",
   "execution_count": 12,
   "id": "a5096802",
   "metadata": {},
   "outputs": [
    {
     "name": "stdout",
     "output_type": "stream",
     "text": [
      "<class 'pandas.core.frame.DataFrame'>\n",
      "Index: 515199 entries, 0 to 515737\n",
      "Data columns (total 29 columns):\n",
      " #   Column                                      Non-Null Count   Dtype  \n",
      "---  ------                                      --------------   -----  \n",
      " 0   Additional_Number_of_Scoring                515199 non-null  int64  \n",
      " 1   Average_Score                               515199 non-null  float64\n",
      " 2   Negative_Review                             515199 non-null  object \n",
      " 3   Review_Total_Negative_Word_Counts           515199 non-null  int64  \n",
      " 4   Total_Number_of_Reviews                     515199 non-null  int64  \n",
      " 5   Positive_Review                             515199 non-null  object \n",
      " 6   Review_Total_Positive_Word_Counts           515199 non-null  int64  \n",
      " 7   Total_Number_of_Reviews_Reviewer_Has_Given  515199 non-null  int64  \n",
      " 8   Reviewer_Score                              515199 non-null  int64  \n",
      " 9   Days_Since_Review                           515199 non-null  int64  \n",
      " 10  Latitude                                    515199 non-null  float64\n",
      " 11  Longitude                                   515199 non-null  float64\n",
      " 12  Day                                         515199 non-null  int64  \n",
      " 13  Month                                       515199 non-null  int64  \n",
      " 14  Year                                        515199 non-null  int64  \n",
      " 15  Reviewer_Nationality_Australia              515199 non-null  int64  \n",
      " 16  Reviewer_Nationality_Ireland                515199 non-null  int64  \n",
      " 17  Reviewer_Nationality_UAE                    515199 non-null  int64  \n",
      " 18  Reviewer_Nationality_UK                     515199 non-null  int64  \n",
      " 19  Reviewer_Nationality_USA                    515199 non-null  int64  \n",
      " 20  Reviewer_Nationality_Other                  515199 non-null  int64  \n",
      " 21  Hotel_Address_Amsterdam                     515199 non-null  int64  \n",
      " 22  Hotel_Address_Barcelona                     515199 non-null  int64  \n",
      " 23  Hotel_Address_London                        515199 non-null  int64  \n",
      " 24  Hotel_Address_Milan                         515199 non-null  int64  \n",
      " 25  Hotel_Address_Paris                         515199 non-null  int64  \n",
      " 26  Hotel_Address_Vienna                        515199 non-null  int64  \n",
      " 27  Leisure_Trip                                515199 non-null  int64  \n",
      " 28  Nights_Stayed                               515199 non-null  int64  \n",
      "dtypes: float64(3), int64(24), object(2)\n",
      "memory usage: 117.9+ MB\n"
     ]
    }
   ],
   "source": [
    "df_raw.info()"
   ]
  },
  {
   "cell_type": "code",
   "execution_count": 13,
   "id": "ac76a591",
   "metadata": {},
   "outputs": [
    {
     "data": {
      "text/plain": [
       "Reviewer_Score\n",
       "1    293715\n",
       "0    221484\n",
       "Name: count, dtype: int64"
      ]
     },
     "execution_count": 13,
     "metadata": {},
     "output_type": "execute_result"
    }
   ],
   "source": [
    "# a brief look at data target\n",
    "df_raw['Reviewer_Score'].value_counts()"
   ]
  },
  {
   "cell_type": "code",
   "execution_count": 14,
   "id": "82473dae",
   "metadata": {},
   "outputs": [],
   "source": [
    "good_percent, bad_percent = df_raw['Reviewer_Score'].value_counts() /df_raw.shape[0]"
   ]
  },
  {
   "cell_type": "code",
   "execution_count": 15,
   "id": "5be5dae0",
   "metadata": {},
   "outputs": [
    {
     "name": "stdout",
     "output_type": "stream",
     "text": [
      "Good reviews: 57.01000972439776 %\n",
      "Bad reviews: 42.98999027560224 %\n"
     ]
    }
   ],
   "source": [
    "print(f'Good reviews: {good_percent * 100} %')\n",
    "print(f'Bad reviews: {bad_percent * 100} %')"
   ]
  },
  {
   "cell_type": "markdown",
   "id": "3d5f2da5",
   "metadata": {},
   "source": [
    "#### The data target is almost balenced"
   ]
  },
  {
   "cell_type": "code",
   "execution_count": 16,
   "id": "ef6b831c",
   "metadata": {},
   "outputs": [
    {
     "name": "stdout",
     "output_type": "stream",
     "text": [
      "Number of Unique Positive reviews: 412601\n",
      "Number of Unique Negative reviews: 330011\n"
     ]
    }
   ],
   "source": [
    "# check for target count\n",
    "print(\"Number of Unique Positive reviews: \",end=\"\")\n",
    "print(df_raw['Positive_Review'].value_counts().shape[0])\n",
    "print(\"Number of Unique Negative reviews: \",end=\"\")\n",
    "print(df_raw['Negative_Review'].value_counts().shape[0])"
   ]
  },
  {
   "cell_type": "code",
   "execution_count": 17,
   "id": "cfe171fa",
   "metadata": {},
   "outputs": [
    {
     "data": {
      "image/png": "[encoded data removed]",
      "text/plain": [
       "<Figure size 864x432 with 1 Axes>"
      ]
     },
     "metadata": {
      "needs_background": "light"
     },
     "output_type": "display_data"
    }
   ],
   "source": [
    "# Assuming df is your DataFrame and Average_Score and Reviewer_Score are the columns\n",
    "plt.figure(figsize=(12, 6))  # Set the size of the plot\n",
    "sns.countplot(x='Average_Score', hue='Reviewer_Score', data=df_raw, palette=\"deep\")\n",
    "\n",
    "plt.xlabel('Average Score')  # Set the x-axis label\n",
    "plt.ylabel('Count')          # Set the y-axis label\n",
    "plt.title('Distribution of Average Scores')  # Set the title of the plot\n",
    "\n",
    "plt.xticks(rotation=90)  # Rotate the x-axis labels for better readability if needed\n",
    "\n",
    "plt.show()\n",
    "\n"
   ]
  },
  {
   "cell_type": "markdown",
   "id": "aee56e0f",
   "metadata": {},
   "source": [
    "first make copy for cleaning as df_clean "
   ]
  },
  {
   "cell_type": "code",
   "execution_count": 18,
   "id": "3bf121bc",
   "metadata": {},
   "outputs": [],
   "source": [
    "df_clean = df_raw.copy()"
   ]
  },
  {
   "cell_type": "markdown",
   "id": "22b8b616",
   "metadata": {},
   "source": [
    "In This level for easier visalization, reverse the dummy data into categorical columns"
   ]
  },
  {
   "cell_type": "code",
   "execution_count": 19,
   "id": "c7ef4835",
   "metadata": {},
   "outputs": [],
   "source": [
    "# Extracting columns related to Reviewer_Nationality and Hotel_Address\n",
    "reviewer_nationality_cols = [col for col in df_clean.columns if 'Reviewer_Nationality' in col]\n",
    "hotel_address_cols = [col for col in df_clean.columns if 'Hotel_Address' in col]\n",
    "\n",
    "# Function to get the category name\n",
    "def get_category(row, columns):\n",
    "    for col in columns:\n",
    "        if row[col] == 1:\n",
    "            return col.split('_')[-1]\n",
    "    return None\n",
    "\n",
    "# Apply the function to each row\n",
    "df_clean['Reviewer_Nationality'] = df_clean.apply(lambda row: get_category(row, reviewer_nationality_cols), axis=1)\n",
    "df_clean['Hotel_Address'] = df_clean.apply(lambda row: get_category(row, hotel_address_cols), axis=1)\n",
    "\n",
    "#  drop the original dummy columns\n",
    "df_clean.drop(reviewer_nationality_cols + hotel_address_cols, axis=1, inplace=True)\n"
   ]
  },
  {
   "cell_type": "code",
   "execution_count": 20,
   "id": "00c1315b",
   "metadata": {},
   "outputs": [
    {
     "data": {
      "text/html": [
       "<div>\n",
       "<style scoped>\n",
       "    .dataframe tbody tr th:only-of-type {\n",
       "        vertical-align: middle;\n",
       "    }\n",
       "\n",
       "    .dataframe tbody tr th {\n",
       "        vertical-align: top;\n",
       "    }\n",
       "\n",
       "    .dataframe thead th {\n",
       "        text-align: right;\n",
       "    }\n",
       "</style>\n",
       "<table border=\"1\" class=\"dataframe\">\n",
       "  <thead>\n",
       "    <tr style=\"text-align: right;\">\n",
       "      <th></th>\n",
       "      <th>Additional_Number_of_Scoring</th>\n",
       "      <th>Average_Score</th>\n",
       "      <th>Negative_Review</th>\n",
       "      <th>Review_Total_Negative_Word_Counts</th>\n",
       "      <th>Total_Number_of_Reviews</th>\n",
       "      <th>Positive_Review</th>\n",
       "      <th>Review_Total_Positive_Word_Counts</th>\n",
       "      <th>Total_Number_of_Reviews_Reviewer_Has_Given</th>\n",
       "      <th>Reviewer_Score</th>\n",
       "      <th>Days_Since_Review</th>\n",
       "      <th>Latitude</th>\n",
       "      <th>Longitude</th>\n",
       "      <th>Day</th>\n",
       "      <th>Month</th>\n",
       "      <th>Year</th>\n",
       "      <th>Leisure_Trip</th>\n",
       "      <th>Nights_Stayed</th>\n",
       "      <th>Reviewer_Nationality</th>\n",
       "      <th>Hotel_Address</th>\n",
       "    </tr>\n",
       "  </thead>\n",
       "  <tbody>\n",
       "    <tr>\n",
       "      <th>0</th>\n",
       "      <td>194</td>\n",
       "      <td>7.7</td>\n",
       "      <td>I am so angry that i made this post available...</td>\n",
       "      <td>397</td>\n",
       "      <td>1403</td>\n",
       "      <td>Only the park outside of the hotel was beauti...</td>\n",
       "      <td>11</td>\n",
       "      <td>7</td>\n",
       "      <td>0</td>\n",
       "      <td>0</td>\n",
       "      <td>52.360576</td>\n",
       "      <td>4.915968</td>\n",
       "      <td>3</td>\n",
       "      <td>8</td>\n",
       "      <td>2017</td>\n",
       "      <td>1</td>\n",
       "      <td>6</td>\n",
       "      <td>Other</td>\n",
       "      <td>Amsterdam</td>\n",
       "    </tr>\n",
       "    <tr>\n",
       "      <th>1</th>\n",
       "      <td>194</td>\n",
       "      <td>7.7</td>\n",
       "      <td>No Negative</td>\n",
       "      <td>0</td>\n",
       "      <td>1403</td>\n",
       "      <td>No real complaints the hotel was great great ...</td>\n",
       "      <td>105</td>\n",
       "      <td>7</td>\n",
       "      <td>0</td>\n",
       "      <td>0</td>\n",
       "      <td>52.360576</td>\n",
       "      <td>4.915968</td>\n",
       "      <td>3</td>\n",
       "      <td>8</td>\n",
       "      <td>2017</td>\n",
       "      <td>1</td>\n",
       "      <td>4</td>\n",
       "      <td>Ireland</td>\n",
       "      <td>Amsterdam</td>\n",
       "    </tr>\n",
       "    <tr>\n",
       "      <th>2</th>\n",
       "      <td>194</td>\n",
       "      <td>7.7</td>\n",
       "      <td>Rooms are nice but for elderly a bit difficul...</td>\n",
       "      <td>42</td>\n",
       "      <td>1403</td>\n",
       "      <td>Location was good and staff were ok It is cut...</td>\n",
       "      <td>21</td>\n",
       "      <td>9</td>\n",
       "      <td>0</td>\n",
       "      <td>3</td>\n",
       "      <td>52.360576</td>\n",
       "      <td>4.915968</td>\n",
       "      <td>31</td>\n",
       "      <td>7</td>\n",
       "      <td>2017</td>\n",
       "      <td>1</td>\n",
       "      <td>3</td>\n",
       "      <td>Australia</td>\n",
       "      <td>Amsterdam</td>\n",
       "    </tr>\n",
       "  </tbody>\n",
       "</table>\n",
       "</div>"
      ],
      "text/plain": [
       "   Additional_Number_of_Scoring  Average_Score  \\\n",
       "0                           194            7.7   \n",
       "1                           194            7.7   \n",
       "2                           194            7.7   \n",
       "\n",
       "                                     Negative_Review  \\\n",
       "0   I am so angry that i made this post available...   \n",
       "1                                        No Negative   \n",
       "2   Rooms are nice but for elderly a bit difficul...   \n",
       "\n",
       "   Review_Total_Negative_Word_Counts  Total_Number_of_Reviews  \\\n",
       "0                                397                     1403   \n",
       "1                                  0                     1403   \n",
       "2                                 42                     1403   \n",
       "\n",
       "                                     Positive_Review  \\\n",
       "0   Only the park outside of the hotel was beauti...   \n",
       "1   No real complaints the hotel was great great ...   \n",
       "2   Location was good and staff were ok It is cut...   \n",
       "\n",
       "   Review_Total_Positive_Word_Counts  \\\n",
       "0                                 11   \n",
       "1                                105   \n",
       "2                                 21   \n",
       "\n",
       "   Total_Number_of_Reviews_Reviewer_Has_Given  Reviewer_Score  \\\n",
       "0                                           7               0   \n",
       "1                                           7               0   \n",
       "2                                           9               0   \n",
       "\n",
       "   Days_Since_Review   Latitude  Longitude  Day  Month  Year  Leisure_Trip  \\\n",
       "0                  0  52.360576   4.915968    3      8  2017             1   \n",
       "1                  0  52.360576   4.915968    3      8  2017             1   \n",
       "2                  3  52.360576   4.915968   31      7  2017             1   \n",
       "\n",
       "   Nights_Stayed Reviewer_Nationality Hotel_Address  \n",
       "0              6                Other     Amsterdam  \n",
       "1              4              Ireland     Amsterdam  \n",
       "2              3            Australia     Amsterdam  "
      ]
     },
     "execution_count": 20,
     "metadata": {},
     "output_type": "execute_result"
    }
   ],
   "source": [
    "df_clean.head(3)"
   ]
  },
  {
   "cell_type": "markdown",
   "id": "27ea9622",
   "metadata": {},
   "source": [
    "Now we have columns with categorical columns"
   ]
  },
  {
   "cell_type": "markdown",
   "id": "58428245",
   "metadata": {},
   "source": [
    "## Data Dictionary\n",
    "\n",
    "| Column Name                                  | Description                                               | Type       |\n",
    "| -------------------------------------------- | --------------------------------------------------------- | ---------- |\n",
    "| Additional_Number_of_Scoring                 | Number of scores given without an accompanying review.    | int64      |\n",
    "| Average_Score                                | Average score of the hotel, calculated based on the latest comments in the last year. | float64    |\n",
    "| Negative_Review                              | Text of the negative review given by the reviewer. 'No Negative' if no negative review is given. | object     |\n",
    "| Review_Total_Negative_Word_Counts            | Total number of words in the negative review.             | int64      |\n",
    "| Total_Number_of_Reviews                      | Total number of valid reviews the hotel has received.     | int64      |\n",
    "| Positive_Review                              | Text of the positive review given by the reviewer. 'No Positive' if no positive review is given. | object     |\n",
    "| Review_Total_Positive_Word_Counts            | Total number of words in the positive review.             | int64      |\n",
    "| Total_Number_of_Reviews_Reviewer_Has_Given   | Number of reviews the reviewer has given in the past.     | int64      |\n",
    "| Reviewer_Score                               | Score the reviewer has given to the hotel, based on his/her experience. | int64      |\n",
    "| Days_Since_Review                            | Duration between the review date and scrape date.         | int64      |\n",
    "| Latitude                                     | Geographical latitude of the hotel.                       | float64    |\n",
    "| Longitude                                    | Geographical longitude of the hotel.                      | float64    |\n",
    "| Day                                          | Day of the month when the review was posted.              | int64      |\n",
    "| Month                                        | Month when the review was posted.                         | int64      |\n",
    "| Year                                         | Year when the review was posted.                          | int64      |\n",
    "| Leisure_Trip                                 | Indicates whether the trip was for leisure (1) or not (0).| int64      |\n",
    "| Nights_Stayed                                | Number of nights the reviewer stayed in the hotel.        | int64      |\n",
    "| Reviewer_Nationality                         | Nationality of the reviewer.                              | object     |\n",
    "| Hotel_Address                                | Address of the hotel.                                     | object     |\n"
   ]
  },
  {
   "cell_type": "code",
   "execution_count": 21,
   "id": "f6f66a64",
   "metadata": {},
   "outputs": [
    {
     "data": {
      "text/html": [
       "<div>\n",
       "<style scoped>\n",
       "    .dataframe tbody tr th:only-of-type {\n",
       "        vertical-align: middle;\n",
       "    }\n",
       "\n",
       "    .dataframe tbody tr th {\n",
       "        vertical-align: top;\n",
       "    }\n",
       "\n",
       "    .dataframe thead th {\n",
       "        text-align: right;\n",
       "    }\n",
       "</style>\n",
       "<table border=\"1\" class=\"dataframe\">\n",
       "  <thead>\n",
       "    <tr style=\"text-align: right;\">\n",
       "      <th></th>\n",
       "      <th>Additional_Number_of_Scoring</th>\n",
       "      <th>Average_Score</th>\n",
       "      <th>Review_Total_Negative_Word_Counts</th>\n",
       "      <th>Total_Number_of_Reviews</th>\n",
       "      <th>Review_Total_Positive_Word_Counts</th>\n",
       "      <th>Total_Number_of_Reviews_Reviewer_Has_Given</th>\n",
       "      <th>Reviewer_Score</th>\n",
       "      <th>Days_Since_Review</th>\n",
       "      <th>Latitude</th>\n",
       "      <th>Longitude</th>\n",
       "      <th>Day</th>\n",
       "      <th>Month</th>\n",
       "      <th>Year</th>\n",
       "      <th>Leisure_Trip</th>\n",
       "      <th>Nights_Stayed</th>\n",
       "    </tr>\n",
       "  </thead>\n",
       "  <tbody>\n",
       "    <tr>\n",
       "      <th>count</th>\n",
       "      <td>515199.000000</td>\n",
       "      <td>515199.000000</td>\n",
       "      <td>515199.000000</td>\n",
       "      <td>515199.000000</td>\n",
       "      <td>515199.000000</td>\n",
       "      <td>515199.000000</td>\n",
       "      <td>515199.000000</td>\n",
       "      <td>515199.000000</td>\n",
       "      <td>515199.000000</td>\n",
       "      <td>515199.000000</td>\n",
       "      <td>515199.000000</td>\n",
       "      <td>515199.000000</td>\n",
       "      <td>515199.00000</td>\n",
       "      <td>515199.000000</td>\n",
       "      <td>515199.000000</td>\n",
       "    </tr>\n",
       "    <tr>\n",
       "      <th>mean</th>\n",
       "      <td>498.417604</td>\n",
       "      <td>8.397776</td>\n",
       "      <td>18.540711</td>\n",
       "      <td>2744.691424</td>\n",
       "      <td>17.778489</td>\n",
       "      <td>7.164750</td>\n",
       "      <td>0.570100</td>\n",
       "      <td>354.402120</td>\n",
       "      <td>49.433012</td>\n",
       "      <td>2.893915</td>\n",
       "      <td>15.680589</td>\n",
       "      <td>6.486043</td>\n",
       "      <td>2016.12092</td>\n",
       "      <td>0.810070</td>\n",
       "      <td>2.361750</td>\n",
       "    </tr>\n",
       "    <tr>\n",
       "      <th>std</th>\n",
       "      <td>500.673193</td>\n",
       "      <td>0.547947</td>\n",
       "      <td>29.693602</td>\n",
       "      <td>2318.112418</td>\n",
       "      <td>21.804665</td>\n",
       "      <td>11.039315</td>\n",
       "      <td>0.495062</td>\n",
       "      <td>208.909135</td>\n",
       "      <td>3.461933</td>\n",
       "      <td>4.669672</td>\n",
       "      <td>8.864227</td>\n",
       "      <td>3.351916</td>\n",
       "      <td>0.68751</td>\n",
       "      <td>0.392246</td>\n",
       "      <td>1.646734</td>\n",
       "    </tr>\n",
       "    <tr>\n",
       "      <th>min</th>\n",
       "      <td>1.000000</td>\n",
       "      <td>5.200000</td>\n",
       "      <td>0.000000</td>\n",
       "      <td>43.000000</td>\n",
       "      <td>0.000000</td>\n",
       "      <td>1.000000</td>\n",
       "      <td>0.000000</td>\n",
       "      <td>0.000000</td>\n",
       "      <td>41.328376</td>\n",
       "      <td>-0.369758</td>\n",
       "      <td>1.000000</td>\n",
       "      <td>1.000000</td>\n",
       "      <td>2015.00000</td>\n",
       "      <td>0.000000</td>\n",
       "      <td>1.000000</td>\n",
       "    </tr>\n",
       "    <tr>\n",
       "      <th>25%</th>\n",
       "      <td>169.000000</td>\n",
       "      <td>8.100000</td>\n",
       "      <td>2.000000</td>\n",
       "      <td>1161.000000</td>\n",
       "      <td>5.000000</td>\n",
       "      <td>1.000000</td>\n",
       "      <td>0.000000</td>\n",
       "      <td>175.000000</td>\n",
       "      <td>48.214066</td>\n",
       "      <td>-0.143372</td>\n",
       "      <td>8.000000</td>\n",
       "      <td>4.000000</td>\n",
       "      <td>2016.00000</td>\n",
       "      <td>1.000000</td>\n",
       "      <td>1.000000</td>\n",
       "    </tr>\n",
       "    <tr>\n",
       "      <th>50%</th>\n",
       "      <td>342.000000</td>\n",
       "      <td>8.400000</td>\n",
       "      <td>9.000000</td>\n",
       "      <td>2134.000000</td>\n",
       "      <td>11.000000</td>\n",
       "      <td>3.000000</td>\n",
       "      <td>1.000000</td>\n",
       "      <td>353.000000</td>\n",
       "      <td>51.499981</td>\n",
       "      <td>0.019886</td>\n",
       "      <td>16.000000</td>\n",
       "      <td>7.000000</td>\n",
       "      <td>2016.00000</td>\n",
       "      <td>1.000000</td>\n",
       "      <td>2.000000</td>\n",
       "    </tr>\n",
       "    <tr>\n",
       "      <th>75%</th>\n",
       "      <td>660.000000</td>\n",
       "      <td>8.800000</td>\n",
       "      <td>23.000000</td>\n",
       "      <td>3633.000000</td>\n",
       "      <td>22.000000</td>\n",
       "      <td>8.000000</td>\n",
       "      <td>1.000000</td>\n",
       "      <td>527.000000</td>\n",
       "      <td>51.516288</td>\n",
       "      <td>4.841163</td>\n",
       "      <td>23.000000</td>\n",
       "      <td>9.000000</td>\n",
       "      <td>2017.00000</td>\n",
       "      <td>1.000000</td>\n",
       "      <td>3.000000</td>\n",
       "    </tr>\n",
       "    <tr>\n",
       "      <th>max</th>\n",
       "      <td>2682.000000</td>\n",
       "      <td>9.800000</td>\n",
       "      <td>408.000000</td>\n",
       "      <td>16670.000000</td>\n",
       "      <td>395.000000</td>\n",
       "      <td>355.000000</td>\n",
       "      <td>1.000000</td>\n",
       "      <td>730.000000</td>\n",
       "      <td>52.400181</td>\n",
       "      <td>16.429233</td>\n",
       "      <td>31.000000</td>\n",
       "      <td>12.000000</td>\n",
       "      <td>2017.00000</td>\n",
       "      <td>1.000000</td>\n",
       "      <td>31.000000</td>\n",
       "    </tr>\n",
       "  </tbody>\n",
       "</table>\n",
       "</div>"
      ],
      "text/plain": [
       "       Additional_Number_of_Scoring  Average_Score  \\\n",
       "count                 515199.000000  515199.000000   \n",
       "mean                     498.417604       8.397776   \n",
       "std                      500.673193       0.547947   \n",
       "min                        1.000000       5.200000   \n",
       "25%                      169.000000       8.100000   \n",
       "50%                      342.000000       8.400000   \n",
       "75%                      660.000000       8.800000   \n",
       "max                     2682.000000       9.800000   \n",
       "\n",
       "       Review_Total_Negative_Word_Counts  Total_Number_of_Reviews  \\\n",
       "count                      515199.000000            515199.000000   \n",
       "mean                           18.540711              2744.691424   \n",
       "std                            29.693602              2318.112418   \n",
       "min                             0.000000                43.000000   \n",
       "25%                             2.000000              1161.000000   \n",
       "50%                             9.000000              2134.000000   \n",
       "75%                            23.000000              3633.000000   \n",
       "max                           408.000000             16670.000000   \n",
       "\n",
       "       Review_Total_Positive_Word_Counts  \\\n",
       "count                      515199.000000   \n",
       "mean                           17.778489   \n",
       "std                            21.804665   \n",
       "min                             0.000000   \n",
       "25%                             5.000000   \n",
       "50%                            11.000000   \n",
       "75%                            22.000000   \n",
       "max                           395.000000   \n",
       "\n",
       "       Total_Number_of_Reviews_Reviewer_Has_Given  Reviewer_Score  \\\n",
       "count                               515199.000000   515199.000000   \n",
       "mean                                     7.164750        0.570100   \n",
       "std                                     11.039315        0.495062   \n",
       "min                                      1.000000        0.000000   \n",
       "25%                                      1.000000        0.000000   \n",
       "50%                                      3.000000        1.000000   \n",
       "75%                                      8.000000        1.000000   \n",
       "max                                    355.000000        1.000000   \n",
       "\n",
       "       Days_Since_Review       Latitude      Longitude            Day  \\\n",
       "count      515199.000000  515199.000000  515199.000000  515199.000000   \n",
       "mean          354.402120      49.433012       2.893915      15.680589   \n",
       "std           208.909135       3.461933       4.669672       8.864227   \n",
       "min             0.000000      41.328376      -0.369758       1.000000   \n",
       "25%           175.000000      48.214066      -0.143372       8.000000   \n",
       "50%           353.000000      51.499981       0.019886      16.000000   \n",
       "75%           527.000000      51.516288       4.841163      23.000000   \n",
       "max           730.000000      52.400181      16.429233      31.000000   \n",
       "\n",
       "               Month          Year   Leisure_Trip  Nights_Stayed  \n",
       "count  515199.000000  515199.00000  515199.000000  515199.000000  \n",
       "mean        6.486043    2016.12092       0.810070       2.361750  \n",
       "std         3.351916       0.68751       0.392246       1.646734  \n",
       "min         1.000000    2015.00000       0.000000       1.000000  \n",
       "25%         4.000000    2016.00000       1.000000       1.000000  \n",
       "50%         7.000000    2016.00000       1.000000       2.000000  \n",
       "75%         9.000000    2017.00000       1.000000       3.000000  \n",
       "max        12.000000    2017.00000       1.000000      31.000000  "
      ]
     },
     "execution_count": 21,
     "metadata": {},
     "output_type": "execute_result"
    }
   ],
   "source": [
    "df_clean.describe()"
   ]
  },
  {
   "cell_type": "code",
   "execution_count": 22,
   "id": "4a06d399",
   "metadata": {
    "scrolled": false
   },
   "outputs": [
    {
     "name": "stdout",
     "output_type": "stream",
     "text": [
      "<class 'pandas.core.frame.DataFrame'>\n",
      "Index: 515199 entries, 0 to 515737\n",
      "Data columns (total 19 columns):\n",
      " #   Column                                      Non-Null Count   Dtype  \n",
      "---  ------                                      --------------   -----  \n",
      " 0   Additional_Number_of_Scoring                515199 non-null  int64  \n",
      " 1   Average_Score                               515199 non-null  float64\n",
      " 2   Negative_Review                             515199 non-null  object \n",
      " 3   Review_Total_Negative_Word_Counts           515199 non-null  int64  \n",
      " 4   Total_Number_of_Reviews                     515199 non-null  int64  \n",
      " 5   Positive_Review                             515199 non-null  object \n",
      " 6   Review_Total_Positive_Word_Counts           515199 non-null  int64  \n",
      " 7   Total_Number_of_Reviews_Reviewer_Has_Given  515199 non-null  int64  \n",
      " 8   Reviewer_Score                              515199 non-null  int64  \n",
      " 9   Days_Since_Review                           515199 non-null  int64  \n",
      " 10  Latitude                                    515199 non-null  float64\n",
      " 11  Longitude                                   515199 non-null  float64\n",
      " 12  Day                                         515199 non-null  int64  \n",
      " 13  Month                                       515199 non-null  int64  \n",
      " 14  Year                                        515199 non-null  int64  \n",
      " 15  Leisure_Trip                                515199 non-null  int64  \n",
      " 16  Nights_Stayed                               515199 non-null  int64  \n",
      " 17  Reviewer_Nationality                        515199 non-null  object \n",
      " 18  Hotel_Address                               515199 non-null  object \n",
      "dtypes: float64(3), int64(12), object(4)\n",
      "memory usage: 78.6+ MB\n"
     ]
    }
   ],
   "source": [
    "df_clean.info()"
   ]
  },
  {
   "cell_type": "markdown",
   "id": "403d5ff7",
   "metadata": {},
   "source": [
    "The DataFrame's data types are correctly assigned, but some columns could be optimized for computational efficiency. Adjusting these data types will enhance processing and analysis performance."
   ]
  },
  {
   "cell_type": "code",
   "execution_count": 23,
   "id": "dac59819",
   "metadata": {},
   "outputs": [
    {
     "data": {
      "text/plain": [
       "Hotel_Address\n",
       "London       262293\n",
       "Barcelona     60148\n",
       "Paris         59412\n",
       "Amsterdam     57209\n",
       "Vienna        38935\n",
       "Milan         37202\n",
       "Name: count, dtype: int64"
      ]
     },
     "execution_count": 23,
     "metadata": {},
     "output_type": "execute_result"
    }
   ],
   "source": [
    "df_clean['Hotel_Address'].value_counts()"
   ]
  },
  {
   "cell_type": "code",
   "execution_count": 24,
   "id": "0cde6798",
   "metadata": {
    "scrolled": false
   },
   "outputs": [
    {
     "data": {
      "text/plain": [
       "<AxesSubplot:xlabel='Hotel_Address'>"
      ]
     },
     "execution_count": 24,
     "metadata": {},
     "output_type": "execute_result"
    },
    {
     "data": {
      "image/png": "[encoded data removed]",
      "text/plain": [
       "<Figure size 432x288 with 1 Axes>"
      ]
     },
     "metadata": {
      "needs_background": "light"
     },
     "output_type": "display_data"
    }
   ],
   "source": [
    "df_clean['Hotel_Address'].value_counts().plot(kind = 'bar')\n"
   ]
  },
  {
   "cell_type": "markdown",
   "id": "62812466",
   "metadata": {},
   "source": [
    "The analysis of the Hotel_Address column reveals that the majority of hotel reviews are concentrated in London, with a count of 262,301. This is followed by Barcelona, Paris, Amsterdam, Vienna, and Milan, indicating a higher volume of reviews in these popular European cities."
   ]
  },
  {
   "cell_type": "code",
   "execution_count": 25,
   "id": "9943e5ef",
   "metadata": {},
   "outputs": [
    {
     "data": {
      "text/plain": [
       "Reviewer_Nationality\n",
       "UK           245107\n",
       "Other        188053\n",
       "USA           35349\n",
       "Australia     21648\n",
       "Ireland       14814\n",
       "UAE           10228\n",
       "Name: count, dtype: int64"
      ]
     },
     "execution_count": 25,
     "metadata": {},
     "output_type": "execute_result"
    }
   ],
   "source": [
    "df_clean['Reviewer_Nationality'].value_counts()"
   ]
  },
  {
   "cell_type": "code",
   "execution_count": 26,
   "id": "292cab22",
   "metadata": {},
   "outputs": [
    {
     "data": {
      "text/plain": [
       "<AxesSubplot:xlabel='Reviewer_Nationality'>"
      ]
     },
     "execution_count": 26,
     "metadata": {},
     "output_type": "execute_result"
    },
    {
     "data": {
      "image/png": "[encoded data removed]",
      "text/plain": [
       "<Figure size 432x288 with 1 Axes>"
      ]
     },
     "metadata": {
      "needs_background": "light"
     },
     "output_type": "display_data"
    }
   ],
   "source": [
    "df_clean['Reviewer_Nationality'].value_counts().plot(kind = 'bar')"
   ]
  },
  {
   "cell_type": "markdown",
   "id": "7b1f2023",
   "metadata": {},
   "source": [
    "This distribution indicates a significant representation of UK reviewers in the dataset"
   ]
  },
  {
   "cell_type": "code",
   "execution_count": 27,
   "id": "7924fccf",
   "metadata": {
    "scrolled": true
   },
   "outputs": [
    {
     "data": {
      "text/plain": [
       "Nights_Stayed\n",
       "1     193495\n",
       "2     133997\n",
       "3      95702\n",
       "4      47747\n",
       "5      20818\n",
       "6       9754\n",
       "7       7387\n",
       "8       2498\n",
       "9       1293\n",
       "10       887\n",
       "11       417\n",
       "12       316\n",
       "14       247\n",
       "13       246\n",
       "15       117\n",
       "16        57\n",
       "17        42\n",
       "18        33\n",
       "19        29\n",
       "21        23\n",
       "20        19\n",
       "30        11\n",
       "27        11\n",
       "23        10\n",
       "22        10\n",
       "25         7\n",
       "28         7\n",
       "26         7\n",
       "24         6\n",
       "29         5\n",
       "31         1\n",
       "Name: count, dtype: int64"
      ]
     },
     "execution_count": 27,
     "metadata": {},
     "output_type": "execute_result"
    }
   ],
   "source": [
    "df_clean['Nights_Stayed'].value_counts()"
   ]
  },
  {
   "cell_type": "code",
   "execution_count": null,
   "id": "ff751879",
   "metadata": {},
   "outputs": [],
   "source": []
  },
  {
   "cell_type": "code",
   "execution_count": 28,
   "id": "272ed45a",
   "metadata": {
    "scrolled": false
   },
   "outputs": [
    {
     "data": {
      "image/png": "[encoded data removed]",
      "text/plain": [
       "<Figure size 1152x432 with 1 Axes>"
      ]
     },
     "metadata": {
      "needs_background": "light"
     },
     "output_type": "display_data"
    }
   ],
   "source": [
    "plt.figure(figsize=(16,6))\n",
    "df_clean['Nights_Stayed'].value_counts().plot(kind = 'bar')\n",
    "plt.tight_layout()\n"
   ]
  },
  {
   "cell_type": "markdown",
   "id": "0ba2f1f1",
   "metadata": {},
   "source": [
    "The analysis of the Nights_Stayed column indicates that most hotel stays are short, with single-night stays being the most common at 193,645 instances. Two-night and three-night stays follow with 134,129 and 95,821 instances, respectively. The frequency of stays decreases significantly as the number of nights increases, highlighting a preference for shorter hotel visits in the dataset"
   ]
  },
  {
   "cell_type": "code",
   "execution_count": 29,
   "id": "647c65f0",
   "metadata": {},
   "outputs": [
    {
     "data": {
      "text/plain": [
       "Leisure_Trip\n",
       "1    417347\n",
       "0     97852\n",
       "Name: count, dtype: int64"
      ]
     },
     "execution_count": 29,
     "metadata": {},
     "output_type": "execute_result"
    }
   ],
   "source": [
    "df_clean['Leisure_Trip'].value_counts()"
   ]
  },
  {
   "cell_type": "code",
   "execution_count": 30,
   "id": "222622ee",
   "metadata": {
    "scrolled": true
   },
   "outputs": [
    {
     "data": {
      "text/plain": [
       "<AxesSubplot:xlabel='Leisure_Trip'>"
      ]
     },
     "execution_count": 30,
     "metadata": {},
     "output_type": "execute_result"
    },
    {
     "data": {
      "image/png": "[encoded data removed]",
      "text/plain": [
       "<Figure size 432x288 with 1 Axes>"
      ]
     },
     "metadata": {
      "needs_background": "light"
     },
     "output_type": "display_data"
    }
   ],
   "source": [
    "df_clean['Leisure_Trip'].value_counts().plot(kind = 'bar')"
   ]
  },
  {
   "cell_type": "markdown",
   "id": "d9f74905",
   "metadata": {},
   "source": [
    "The data reveals that a substantial majority of hotel stays, totaling 417,778, are categorized as leisure trips. This significantly outweighs the 97,960 instances of non-leisure stays, indicating a predominant leisure-oriented clientele in the dataset"
   ]
  },
  {
   "cell_type": "code",
   "execution_count": 31,
   "id": "06299724",
   "metadata": {},
   "outputs": [
    {
     "data": {
      "text/plain": [
       "Year\n",
       "2016    264147\n",
       "2017    156675\n",
       "2015     94377\n",
       "Name: count, dtype: int64"
      ]
     },
     "execution_count": 31,
     "metadata": {},
     "output_type": "execute_result"
    }
   ],
   "source": [
    "df_clean['Year'].value_counts()"
   ]
  },
  {
   "cell_type": "code",
   "execution_count": 32,
   "id": "5bc1251c",
   "metadata": {
    "scrolled": true
   },
   "outputs": [
    {
     "data": {
      "text/plain": [
       "<AxesSubplot:xlabel='Year'>"
      ]
     },
     "execution_count": 32,
     "metadata": {},
     "output_type": "execute_result"
    },
    {
     "data": {
      "image/png": "[encoded data removed]",
      "text/plain": [
       "<Figure size 432x288 with 1 Axes>"
      ]
     },
     "metadata": {
      "needs_background": "light"
     },
     "output_type": "display_data"
    }
   ],
   "source": [
    "df_clean['Year'].value_counts().plot(kind = 'bar')"
   ]
  },
  {
   "cell_type": "markdown",
   "id": "29f71995",
   "metadata": {},
   "source": [
    "The dataset shows a year-over-year increase in the number of hotel reviews, with 2016 recording the highest count at 264,403. This is a significant rise from the 94,527 reviews in 2015, and the trend continues with 156,808 reviews in 2017, indicating growing engagement over the years."
   ]
  },
  {
   "cell_type": "code",
   "execution_count": 33,
   "id": "292a3fbc",
   "metadata": {},
   "outputs": [
    {
     "data": {
      "text/plain": [
       "Month\n",
       "8     50611\n",
       "7     49266\n",
       "5     46457\n",
       "10    43773\n",
       "6     42855\n",
       "4     42855\n",
       "9     42341\n",
       "1     42118\n",
       "3     41074\n",
       "12    39573\n",
       "2     38337\n",
       "11    35939\n",
       "Name: count, dtype: int64"
      ]
     },
     "execution_count": 33,
     "metadata": {},
     "output_type": "execute_result"
    }
   ],
   "source": [
    "df_clean['Month'].value_counts()"
   ]
  },
  {
   "cell_type": "code",
   "execution_count": 34,
   "id": "5905d36a",
   "metadata": {
    "scrolled": true
   },
   "outputs": [
    {
     "data": {
      "image/png": "[encoded data removed]",
      "text/plain": [
       "<Figure size 1152x432 with 1 Axes>"
      ]
     },
     "metadata": {
      "needs_background": "light"
     },
     "output_type": "display_data"
    }
   ],
   "source": [
    "# Count the occurrences of each month\n",
    "month_counts = df_clean['Month'].value_counts().sort_index()\n",
    "plt.figure(figsize=(16,6))\n",
    "# Plot\n",
    "month_counts.plot(kind='bar')\n",
    "plt.xlabel('Month')\n",
    "plt.ylabel('Count')\n",
    "plt.title('Distribution of Reviews by Month')\n",
    "\n",
    "# Set the x-axis labels to month names for readability\n",
    "plt.xticks(ticks=range(12), labels=['Jan', 'Feb', 'Mar', 'Apr', 'May', 'Jun', 'Jul', 'Aug', 'Sep', 'Oct', 'Nov', 'Dec'], rotation=45)\n",
    "\n",
    "plt.show()\n"
   ]
  },
  {
   "cell_type": "markdown",
   "id": "e11e1a3f",
   "metadata": {},
   "source": [
    "The analysis of hotel reviews by month shows the highest number of reviews in August (50,672) and July (49,318), indicating a peak in hotel stays during the summer season. The months of May and October also see high activity with over 40,000 reviews each. The least number of reviews are recorded in November (35,970) and February (38,370), suggesting a lower frequency of hotel stays during these months"
   ]
  },
  {
   "cell_type": "code",
   "execution_count": 35,
   "id": "1d37c977",
   "metadata": {},
   "outputs": [
    {
     "data": {
      "text/plain": [
       "Days_Since_Review\n",
       "419    274\n",
       "475    267\n",
       "517    264\n",
       "496    263\n",
       "510    261\n",
       "118    259\n",
       "566    258\n",
       "126    257\n",
       "594    254\n",
       "552    252\n",
       "587    249\n",
       "326    248\n",
       "601    248\n",
       "636    240\n",
       "324    240\n",
       "629    238\n",
       "524    237\n",
       "130    233\n",
       "622    229\n",
       "545    226\n",
       "608    224\n",
       "538    223\n",
       "243    206\n",
       "559    204\n",
       "121    202\n",
       "327    199\n",
       "615    194\n",
       "122    192\n",
       "124    172\n",
       "123    142\n",
       "Name: count, dtype: int64"
      ]
     },
     "execution_count": 35,
     "metadata": {},
     "output_type": "execute_result"
    }
   ],
   "source": [
    "df_clean['Days_Since_Review'].value_counts().tail(30)"
   ]
  },
  {
   "cell_type": "code",
   "execution_count": 36,
   "id": "4118ffb4",
   "metadata": {
    "scrolled": false
   },
   "outputs": [
    {
     "data": {
      "text/plain": [
       "Text(0.5, 1.0, 'Distribution of Days_Since_Review')"
      ]
     },
     "execution_count": 36,
     "metadata": {},
     "output_type": "execute_result"
    },
    {
     "data": {
      "image/png": "[encoded data removed]",
      "text/plain": [
       "<Figure size 1152x432 with 1 Axes>"
      ]
     },
     "metadata": {
      "needs_background": "light"
     },
     "output_type": "display_data"
    }
   ],
   "source": [
    "plt.figure(figsize=(16,6))\n",
    "df_clean['Days_Since_Review'].value_counts().plot(kind = 'hist',bins=300)\n",
    "\n",
    "\n",
    "plt.xlabel('Days_Since_Review')  # Set the x-axis label\n",
    "plt.ylabel('Count')          # Set the y-axis label\n",
    "plt.title('Distribution of Days_Since_Review')  # Set the title of the plot"
   ]
  },
  {
   "cell_type": "markdown",
   "id": "fe0c15fe",
   "metadata": {},
   "source": [
    "The Days_Since_Review data shows an unusual pattern with peaks at specific intervals, like 1 day (2,585 reviews), 322 days (2,308 reviews), and 120 days (2,284 reviews), suggesting that review frequency is influenced by certain time periods. This irregular distribution, with spikes up to 611 days, indicates that external factors such as holidays or promotions might affect when reviews are posted. The pattern is atypical for review data and warrants further investigation to understand the underlying reasons"
   ]
  },
  {
   "cell_type": "code",
   "execution_count": 37,
   "id": "29fdbc5b",
   "metadata": {},
   "outputs": [
    {
     "data": {
      "text/plain": [
       "Reviewer_Score\n",
       "1    293715\n",
       "0    221484\n",
       "Name: count, dtype: int64"
      ]
     },
     "execution_count": 37,
     "metadata": {},
     "output_type": "execute_result"
    }
   ],
   "source": [
    "df_clean['Reviewer_Score'].value_counts()"
   ]
  },
  {
   "cell_type": "code",
   "execution_count": 38,
   "id": "e6905b6a",
   "metadata": {
    "scrolled": true
   },
   "outputs": [
    {
     "data": {
      "text/plain": [
       "<AxesSubplot:xlabel='Reviewer_Score'>"
      ]
     },
     "execution_count": 38,
     "metadata": {},
     "output_type": "execute_result"
    },
    {
     "data": {
      "image/png": "[encoded data removed]",
      "text/plain": [
       "<Figure size 432x288 with 1 Axes>"
      ]
     },
     "metadata": {
      "needs_background": "light"
     },
     "output_type": "display_data"
    }
   ],
   "source": [
    "df_clean['Reviewer_Score'].value_counts().plot(kind = 'bar')"
   ]
  },
  {
   "cell_type": "markdown",
   "id": "d54cecec",
   "metadata": {},
   "source": [
    "The dataset indicates a higher frequency of positive reviews, with 293,974 instances scored as '1' (positive sentiment), compared to 221,764 instances scored as '0' (negative sentiment). This suggests that the majority of reviewers had a favorable experience at the hotels."
   ]
  },
  {
   "cell_type": "code",
   "execution_count": 39,
   "id": "9ad583ca",
   "metadata": {},
   "outputs": [
    {
     "data": {
      "text/plain": [
       "Total_Number_of_Reviews_Reviewer_Has_Given\n",
       "1      154505\n",
       "2       67011\n",
       "3       46800\n",
       "4       34990\n",
       "5       27603\n",
       "        ...  \n",
       "137         1\n",
       "135         1\n",
       "181         1\n",
       "186         1\n",
       "164         1\n",
       "Name: count, Length: 198, dtype: int64"
      ]
     },
     "execution_count": 39,
     "metadata": {},
     "output_type": "execute_result"
    }
   ],
   "source": [
    "df_clean['Total_Number_of_Reviews_Reviewer_Has_Given'].value_counts()"
   ]
  },
  {
   "cell_type": "code",
   "execution_count": 40,
   "id": "6a1eb6b5",
   "metadata": {
    "scrolled": true
   },
   "outputs": [
    {
     "data": {
      "image/png": "[encoded data removed]",
      "text/plain": [
       "<Figure size 432x288 with 1 Axes>"
      ]
     },
     "metadata": {
      "needs_background": "light"
     },
     "output_type": "display_data"
    }
   ],
   "source": [
    "df_clean['Total_Number_of_Reviews_Reviewer_Has_Given'].value_counts().head(20).plot(kind = 'bar')\n",
    "plt.tight_layout()"
   ]
  },
  {
   "cell_type": "markdown",
   "id": "8ebc501f",
   "metadata": {},
   "source": [
    "The data shows a decreasing trend in the number of reviews given by individual reviewers. A large portion of reviewers (154,640) have only given one review, with the number progressively decreasing as the total number of reviews given by an individual increases. This trend suggests that most reviewers tend to contribute a single review, with a smaller, more engaged group providing multiple reviews"
   ]
  },
  {
   "cell_type": "code",
   "execution_count": 41,
   "id": "b9ece95b",
   "metadata": {},
   "outputs": [
    {
     "data": {
      "text/plain": [
       "Review_Total_Positive_Word_Counts\n",
       "0      35901\n",
       "6      26887\n",
       "5      26809\n",
       "4      24622\n",
       "7      24517\n",
       "       ...  \n",
       "354        1\n",
       "395        1\n",
       "374        1\n",
       "348        1\n",
       "339        1\n",
       "Name: count, Length: 365, dtype: int64"
      ]
     },
     "execution_count": 41,
     "metadata": {},
     "output_type": "execute_result"
    }
   ],
   "source": [
    "df_clean['Review_Total_Positive_Word_Counts'].value_counts()"
   ]
  },
  {
   "cell_type": "code",
   "execution_count": 42,
   "id": "925fd35f",
   "metadata": {
    "scrolled": true
   },
   "outputs": [
    {
     "data": {
      "image/png": "[encoded data removed]",
      "text/plain": [
       "<Figure size 1152x432 with 1 Axes>"
      ]
     },
     "metadata": {
      "needs_background": "light"
     },
     "output_type": "display_data"
    }
   ],
   "source": [
    "plt.figure(figsize=(16,6))\n",
    "df_clean['Review_Total_Positive_Word_Counts'].value_counts().head(30).plot(kind = 'bar')\n",
    "plt.tight_layout()"
   ]
  },
  {
   "cell_type": "code",
   "execution_count": null,
   "id": "bc6838a9",
   "metadata": {},
   "outputs": [],
   "source": []
  },
  {
   "cell_type": "code",
   "execution_count": 43,
   "id": "f53f86f6",
   "metadata": {},
   "outputs": [
    {
     "data": {
      "text/plain": [
       "Positive_Review\n",
       "No Positive                                                                                                                                                                                                                                                                                                                                                                                                                           35901\n",
       " Location                                                                                                                                                                                                                                                                                                                                                                                                                              9207\n",
       " Everything                                                                                                                                                                                                                                                                                                                                                                                                                            2284\n",
       " location                                                                                                                                                                                                                                                                                                                                                                                                                              1673\n",
       " Nothing                                                                                                                                                                                                                                                                                                                                                                                                                               1241\n",
       "                                                                                                                                                                                                                                                                                                                                                                                                                                      ...  \n",
       " Amazing location nearby the main Paris life                                                                                                                                                                                                                                                                                                                                                                                              1\n",
       " The staff were very efficient but very friendly especially helpful when my daughter sprained an ankle providing an ice pack and support bandage at 10pm The breakfast service was good with a varied choice of food representing good value for money                                                                                                                                                                                    1\n",
       " This hotel is beautiful and the location even more so located in the 7th arr it is around a 7 minute walk to The Louvre a quick 9 taxi ride to the Latin quarter as well as accompanied by many quaint boutiques and cafes which surround the hotel The hotel staff including the cleaning personal who were always sure to warmly welcome my mother and I are incredibly polite and attentive minus one front desk staff member         1\n",
       " The room was nice and cozy facilities are awesome location was also super convenient                                                                                                                                                                                                                                                                                                                                                     1\n",
       " staff was very kind                                                                                                                                                                                                                                                                                                                                                                                                                      1\n",
       "Name: count, Length: 412601, dtype: int64"
      ]
     },
     "execution_count": 43,
     "metadata": {},
     "output_type": "execute_result"
    }
   ],
   "source": [
    "df_clean['Positive_Review'].value_counts()"
   ]
  },
  {
   "cell_type": "code",
   "execution_count": 44,
   "id": "c8344815",
   "metadata": {
    "scrolled": true
   },
   "outputs": [
    {
     "data": {
      "text/plain": [
       "<AxesSubplot:xlabel='Positive_Review'>"
      ]
     },
     "execution_count": 44,
     "metadata": {},
     "output_type": "execute_result"
    },
    {
     "data": {
      "image/png": "[encoded data removed]",
      "text/plain": [
       "<Figure size 1152x432 with 1 Axes>"
      ]
     },
     "metadata": {
      "needs_background": "light"
     },
     "output_type": "display_data"
    }
   ],
   "source": [
    "plt.figure(figsize=(16,6))\n",
    "df_clean['Positive_Review'].value_counts().head(30).plot(kind = 'bar')"
   ]
  },
  {
   "cell_type": "markdown",
   "id": "9a4ab66c",
   "metadata": {},
   "source": [
    "The analysis of the Positive_Review column reveals that a significant number of reviews (35,946) explicitly state 'No Positive' comment. Among those with positive comments, the most frequently mentioned aspect is 'Location', highlighted in various forms (e.g., 'Great location', 'Good location') in over 12,000 reviews. Other common positive remarks include 'Everything' (indicating overall satisfaction), specific mentions of 'Breakfast', 'Friendly staff', and 'Comfy bed'. The repetition of certain key terms like 'location', 'staff', and 'breakfast' underscores their importance in guest satisfaction."
   ]
  },
  {
   "cell_type": "code",
   "execution_count": 45,
   "id": "073e15d3",
   "metadata": {},
   "outputs": [
    {
     "data": {
      "text/plain": [
       "<AxesSubplot:xlabel='Positive_Review'>"
      ]
     },
     "execution_count": 45,
     "metadata": {},
     "output_type": "execute_result"
    },
    {
     "data": {
      "image/png": "[encoded data removed]",
      "text/plain": [
       "<Figure size 1152x432 with 1 Axes>"
      ]
     },
     "metadata": {
      "needs_background": "light"
     },
     "output_type": "display_data"
    }
   ],
   "source": [
    "#remove 'No Positive' frome plot, it can be outlier\n",
    "plt.figure(figsize=(16,6))\n",
    "df_clean[df_clean['Positive_Review'] != 'No Positive']['Positive_Review'].value_counts().head(30).plot(kind = 'bar')"
   ]
  },
  {
   "cell_type": "code",
   "execution_count": 46,
   "id": "e4d567b6",
   "metadata": {
    "scrolled": true
   },
   "outputs": [
    {
     "data": {
      "text/plain": [
       "Total_Number_of_Reviews\n",
       "9086     4789\n",
       "9568     4256\n",
       "12158    4169\n",
       "7105     3577\n",
       "7491     3212\n",
       "         ... \n",
       "66         12\n",
       "43         12\n",
       "45         12\n",
       "207        12\n",
       "110        10\n",
       "Name: count, Length: 1142, dtype: int64"
      ]
     },
     "execution_count": 46,
     "metadata": {},
     "output_type": "execute_result"
    }
   ],
   "source": [
    "df_clean['Total_Number_of_Reviews'].value_counts()"
   ]
  },
  {
   "cell_type": "code",
   "execution_count": 47,
   "id": "18097be4",
   "metadata": {},
   "outputs": [
    {
     "data": {
      "text/plain": [
       "<AxesSubplot:xlabel='Total_Number_of_Reviews'>"
      ]
     },
     "execution_count": 47,
     "metadata": {},
     "output_type": "execute_result"
    },
    {
     "data": {
      "image/png": "[encoded data removed]",
      "text/plain": [
       "<Figure size 1152x432 with 1 Axes>"
      ]
     },
     "metadata": {
      "needs_background": "light"
     },
     "output_type": "display_data"
    }
   ],
   "source": [
    "plt.figure(figsize=(16,6))\n",
    "df_clean['Total_Number_of_Reviews'].value_counts().head(30).plot(kind = 'bar')"
   ]
  },
  {
   "cell_type": "code",
   "execution_count": 48,
   "id": "716fbe50",
   "metadata": {},
   "outputs": [
    {
     "data": {
      "text/plain": [
       "Negative_Review\n",
       "No Negative                    127755\n",
       " Nothing                        14286\n",
       " Nothing                         4233\n",
       " nothing                         2220\n",
       " N A                             1036\n",
       " None                             984\n",
       "                                  849\n",
       " N a                              509\n",
       " Breakfast                        407\n",
       " Small room                       372\n",
       " Location                         367\n",
       " Everything                       325\n",
       " All good                         318\n",
       " Nothing really                   315\n",
       " none                             301\n",
       " nothing                          283\n",
       " No complaints                    274\n",
       " Price                            260\n",
       " Nothing really                   254\n",
       " Nil                              247\n",
       " n a                              227\n",
       " Nothing at all                   221\n",
       " Nothing to dislike               209\n",
       " Nothing at all                   194\n",
       " Small rooms                      188\n",
       " None                             182\n",
       " No complaints                    176\n",
       " All good                         151\n",
       " NA                               148\n",
       " Expensive                        142\n",
       " Room size                        140\n",
       " Can t think of anything          138\n",
       " Staff                            130\n",
       " Absolutely nothing               129\n",
       " No                               129\n",
       " Everything was perfect           129\n",
       " Nothing to dislike               126\n",
       " Very small room                  120\n",
       " Everything was perfect           118\n",
       " Everything was great             114\n",
       " Leaving                          111\n",
       " Leaving                          109\n",
       " Nothing to complain about        109\n",
       " NOTHING                          105\n",
       " Having to leave                  102\n",
       " See above                        100\n",
       " Na                               100\n",
       " small room                        97\n",
       " Nothing not to like               96\n",
       " Can t think of anything           96\n",
       " Liked everything                  95\n",
       " breakfast                         93\n",
       " Non                               91\n",
       " Everything was great              89\n",
       " Expensive breakfast               87\n",
       " Absolutely nothing                85\n",
       " Small room                        82\n",
       " Not much                          81\n",
       " I liked everything                80\n",
       " Pillows                           80\n",
       "Name: count, dtype: int64"
      ]
     },
     "execution_count": 48,
     "metadata": {},
     "output_type": "execute_result"
    }
   ],
   "source": [
    "df_clean['Negative_Review'].value_counts().head(60)"
   ]
  },
  {
   "cell_type": "code",
   "execution_count": 49,
   "id": "d3db80f3",
   "metadata": {
    "scrolled": true
   },
   "outputs": [
    {
     "data": {
      "text/plain": [
       "<AxesSubplot:xlabel='Negative_Review'>"
      ]
     },
     "execution_count": 49,
     "metadata": {},
     "output_type": "execute_result"
    },
    {
     "data": {
      "image/png": "[encoded data removed]",
      "text/plain": [
       "<Figure size 1152x432 with 1 Axes>"
      ]
     },
     "metadata": {
      "needs_background": "light"
     },
     "output_type": "display_data"
    }
   ],
   "source": [
    "plt.figure(figsize=(16,6))\n",
    "df_clean['Negative_Review'].value_counts().head(30).plot(kind = 'bar')"
   ]
  },
  {
   "cell_type": "markdown",
   "id": "ee7a0d35",
   "metadata": {},
   "source": [
    "In the pre-processed dataset, the 'Negative_Review' column, labeled directly from guest comments, shows that a significant number of entries (127,890) are marked as 'No Negative', indicating an absence of negative feedback. Among the reviews with negative labels, common mentions include 'Nothing', 'Small room', 'Location', and 'Breakfast'. The high frequency of 'No Negative' or non-specific negative comments like 'Nothing' suggests that a large portion of guests did not express significant dissatisfaction. Analyzing the correlation between these negative labels and the 'Reviewer_Score' will provide insights into how much these negative aspects, or the lack thereof, influence the overall guest satisfaction and scoring behavior"
   ]
  },
  {
   "cell_type": "code",
   "execution_count": 50,
   "id": "21cbb4ae",
   "metadata": {},
   "outputs": [
    {
     "data": {
      "text/plain": [
       "Average_Score\n",
       "8.4    41220\n",
       "8.1    38119\n",
       "8.5    38066\n",
       "8.7    37798\n",
       "8.6    36943\n",
       "8.2    34847\n",
       "8.3    32877\n",
       "8.8    30835\n",
       "8.9    28470\n",
       "8.0    22341\n",
       "9.1    21378\n",
       "9.0    20960\n",
       "7.8    19892\n",
       "7.9    14848\n",
       "7.5    13719\n",
       "9.2    12935\n",
       "9.3    12659\n",
       "7.7    11829\n",
       "9.4     9339\n",
       "7.1     6780\n",
       "7.6     6684\n",
       "7.4     6298\n",
       "7.3     3996\n",
       "7.0     3899\n",
       "6.9     1736\n",
       "6.8     1304\n",
       "9.5     1207\n",
       "6.4     1163\n",
       "6.7      965\n",
       "9.6      915\n",
       "7.2      684\n",
       "6.6      400\n",
       "5.2       65\n",
       "9.8       28\n",
       "Name: count, dtype: int64"
      ]
     },
     "execution_count": 50,
     "metadata": {},
     "output_type": "execute_result"
    }
   ],
   "source": [
    "df_clean['Average_Score'].value_counts()\n"
   ]
  },
  {
   "cell_type": "code",
   "execution_count": 51,
   "id": "0283758c",
   "metadata": {
    "scrolled": true
   },
   "outputs": [
    {
     "data": {
      "image/png": "[encoded data removed]",
      "text/plain": [
       "<Figure size 864x432 with 1 Axes>"
      ]
     },
     "metadata": {
      "needs_background": "light"
     },
     "output_type": "display_data"
    }
   ],
   "source": [
    "plt.figure(figsize=(12, 6))  # Set the size of the plot\n",
    "sns.countplot(x='Average_Score', data=df_clean)\n",
    "\n",
    "plt.xlabel('Average Score')  # Set the x-axis label\n",
    "plt.ylabel('Count')          # Set the y-axis label\n",
    "plt.title('Distribution of Average Scores')  # Set the title of the plot\n",
    "\n",
    "plt.xticks(rotation=90)  # Rotate the x-axis labels for better readability if needed\n",
    "\n",
    "plt.show()"
   ]
  },
  {
   "cell_type": "markdown",
   "id": "13f3621b",
   "metadata": {},
   "source": [
    "The Average_Score data shows a concentration of scores around the 8.0 to 8.9 range, indicating a generally high level of guest satisfaction. The most frequent score is 8.4 (41,222 instances), followed closely by 8.1 and 8.5. Scores above 9.0 are less common but still significant, with 9.1 and 9.0 also appearing frequently. The lower end of the scale (below 7.0) has notably fewer instances, suggesting that very low scores are relatively rare. This distribution highlights an overall positive guest experience in the dataset"
   ]
  },
  {
   "cell_type": "code",
   "execution_count": 52,
   "id": "bb452142",
   "metadata": {
    "scrolled": true
   },
   "outputs": [
    {
     "data": {
      "text/plain": [
       "Additional_Number_of_Scoring\n",
       "2682    4789\n",
       "2288    4256\n",
       "2623    4169\n",
       "1831    3577\n",
       "1936    3212\n",
       "        ... \n",
       "7         56\n",
       "5         39\n",
       "17        24\n",
       "1         13\n",
       "4         12\n",
       "Name: count, Length: 480, dtype: int64"
      ]
     },
     "execution_count": 52,
     "metadata": {},
     "output_type": "execute_result"
    }
   ],
   "source": [
    "\n",
    "df_clean['Additional_Number_of_Scoring'].value_counts()"
   ]
  },
  {
   "cell_type": "code",
   "execution_count": 53,
   "id": "154afe22",
   "metadata": {},
   "outputs": [
    {
     "data": {
      "text/plain": [
       "<AxesSubplot:xlabel='Additional_Number_of_Scoring'>"
      ]
     },
     "execution_count": 53,
     "metadata": {},
     "output_type": "execute_result"
    },
    {
     "data": {
      "image/png": "[encoded data removed]",
      "text/plain": [
       "<Figure size 864x432 with 1 Axes>"
      ]
     },
     "metadata": {
      "needs_background": "light"
     },
     "output_type": "display_data"
    }
   ],
   "source": [
    "plt.figure(figsize=(12, 6))  # Set the size of the plot\n",
    "df_clean['Additional_Number_of_Scoring'].value_counts().head(30).plot(kind = 'bar')"
   ]
  },
  {
   "cell_type": "code",
   "execution_count": 54,
   "id": "8decf34d",
   "metadata": {
    "scrolled": false
   },
   "outputs": [
    {
     "data": {
      "image/png": "[encoded data removed]",
      "text/plain": [
       "<Figure size 1296x432 with 1 Axes>"
      ]
     },
     "metadata": {
      "needs_background": "light"
     },
     "output_type": "display_data"
    }
   ],
   "source": [
    "plt.figure(figsize=(18, 6))  # Set the size of the plot\n",
    "sns.histplot(x='Additional_Number_of_Scoring', data=df_clean)\n",
    "\n",
    "plt.xlabel('Additional_Number_of_Scoring')  # Set the x-axis label\n",
    "plt.ylabel('Count')          # Set the y-axis label\n",
    "plt.title('Distribution of Additional_Number_of_Scoring')  # Set the title of the plot\n",
    "\n",
    "plt.xticks(rotation=90)  # Rotate the x-axis labels for better readability if needed\n",
    "\n",
    "plt.show()"
   ]
  },
  {
   "cell_type": "code",
   "execution_count": 55,
   "id": "09e1fda8",
   "metadata": {},
   "outputs": [],
   "source": [
    "#drop some of unuseful columns for speeding up the algoritms\n",
    "df_clean.drop(columns=['Days_Since_Review', 'Latitude', 'Longitude', 'Day', 'Month', 'Year',\n",
    "                      'Review_Total_Positive_Word_Counts','Total_Number_of_Reviews'],inplace=True)"
   ]
  },
  {
   "cell_type": "code",
   "execution_count": 56,
   "id": "4454d3e7",
   "metadata": {},
   "outputs": [
    {
     "data": {
      "text/plain": [
       "Index(['Additional_Number_of_Scoring', 'Average_Score', 'Negative_Review',\n",
       "       'Review_Total_Negative_Word_Counts', 'Positive_Review',\n",
       "       'Total_Number_of_Reviews_Reviewer_Has_Given', 'Reviewer_Score',\n",
       "       'Leisure_Trip', 'Nights_Stayed', 'Reviewer_Nationality',\n",
       "       'Hotel_Address'],\n",
       "      dtype='object')"
      ]
     },
     "execution_count": 56,
     "metadata": {},
     "output_type": "execute_result"
    }
   ],
   "source": [
    "df_clean.columns"
   ]
  },
  {
   "cell_type": "markdown",
   "id": "a32412f2",
   "metadata": {},
   "source": [
    "## Preprocessing\n",
    "Next, the text data needs to be processed for modelling.\n",
    "\n",
    "2. Split the data into train and test sets and transform the positive and negative review columns using a CountVectorizer. Consider the following:"
   ]
  },
  {
   "cell_type": "markdown",
   "id": "f1d5a626",
   "metadata": {},
   "source": [
    "What tokenizer and text cleaning steps do you include?\n"
   ]
  },
  {
   "cell_type": "markdown",
   "id": "3bf696ce",
   "metadata": {},
   "source": [
    "Using the vectorizer, maximize the number of features at 500 and make sure that tokens used <10 times are dropped from the vocabulary."
   ]
  },
  {
   "cell_type": "markdown",
   "id": "5164a539",
   "metadata": {},
   "source": [
    "This process may be done on the positive and negative review columns separately and then the resulting arrays merged with the original numeric features to form the final train and test data frames ready for modelling. In your column names, make sure you mark which words are coming from the positive vs negative reviews "
   ]
  },
  {
   "cell_type": "code",
   "execution_count": 57,
   "id": "6ba2a241",
   "metadata": {
    "scrolled": true
   },
   "outputs": [
    {
     "data": {
      "text/html": [
       "<div>\n",
       "<style scoped>\n",
       "    .dataframe tbody tr th:only-of-type {\n",
       "        vertical-align: middle;\n",
       "    }\n",
       "\n",
       "    .dataframe tbody tr th {\n",
       "        vertical-align: top;\n",
       "    }\n",
       "\n",
       "    .dataframe thead th {\n",
       "        text-align: right;\n",
       "    }\n",
       "</style>\n",
       "<table border=\"1\" class=\"dataframe\">\n",
       "  <thead>\n",
       "    <tr style=\"text-align: right;\">\n",
       "      <th></th>\n",
       "      <th>Additional_Number_of_Scoring</th>\n",
       "      <th>Average_Score</th>\n",
       "      <th>Negative_Review</th>\n",
       "      <th>Review_Total_Negative_Word_Counts</th>\n",
       "      <th>Positive_Review</th>\n",
       "      <th>Total_Number_of_Reviews_Reviewer_Has_Given</th>\n",
       "      <th>Reviewer_Score</th>\n",
       "      <th>Leisure_Trip</th>\n",
       "      <th>Nights_Stayed</th>\n",
       "      <th>Reviewer_Nationality</th>\n",
       "      <th>Hotel_Address</th>\n",
       "    </tr>\n",
       "  </thead>\n",
       "  <tbody>\n",
       "    <tr>\n",
       "      <th>0</th>\n",
       "      <td>194</td>\n",
       "      <td>7.7</td>\n",
       "      <td>I am so angry that i made this post available...</td>\n",
       "      <td>397</td>\n",
       "      <td>Only the park outside of the hotel was beauti...</td>\n",
       "      <td>7</td>\n",
       "      <td>0</td>\n",
       "      <td>1</td>\n",
       "      <td>6</td>\n",
       "      <td>Other</td>\n",
       "      <td>Amsterdam</td>\n",
       "    </tr>\n",
       "    <tr>\n",
       "      <th>1</th>\n",
       "      <td>194</td>\n",
       "      <td>7.7</td>\n",
       "      <td>No Negative</td>\n",
       "      <td>0</td>\n",
       "      <td>No real complaints the hotel was great great ...</td>\n",
       "      <td>7</td>\n",
       "      <td>0</td>\n",
       "      <td>1</td>\n",
       "      <td>4</td>\n",
       "      <td>Ireland</td>\n",
       "      <td>Amsterdam</td>\n",
       "    </tr>\n",
       "    <tr>\n",
       "      <th>2</th>\n",
       "      <td>194</td>\n",
       "      <td>7.7</td>\n",
       "      <td>Rooms are nice but for elderly a bit difficul...</td>\n",
       "      <td>42</td>\n",
       "      <td>Location was good and staff were ok It is cut...</td>\n",
       "      <td>9</td>\n",
       "      <td>0</td>\n",
       "      <td>1</td>\n",
       "      <td>3</td>\n",
       "      <td>Australia</td>\n",
       "      <td>Amsterdam</td>\n",
       "    </tr>\n",
       "    <tr>\n",
       "      <th>3</th>\n",
       "      <td>194</td>\n",
       "      <td>7.7</td>\n",
       "      <td>My room was dirty and I was afraid to walk ba...</td>\n",
       "      <td>210</td>\n",
       "      <td>Great location in nice surroundings the bar a...</td>\n",
       "      <td>1</td>\n",
       "      <td>0</td>\n",
       "      <td>1</td>\n",
       "      <td>3</td>\n",
       "      <td>UK</td>\n",
       "      <td>Amsterdam</td>\n",
       "    </tr>\n",
       "    <tr>\n",
       "      <th>4</th>\n",
       "      <td>194</td>\n",
       "      <td>7.7</td>\n",
       "      <td>You When I booked with your company on line y...</td>\n",
       "      <td>140</td>\n",
       "      <td>Amazing location and building Romantic setting</td>\n",
       "      <td>3</td>\n",
       "      <td>0</td>\n",
       "      <td>1</td>\n",
       "      <td>2</td>\n",
       "      <td>Other</td>\n",
       "      <td>Amsterdam</td>\n",
       "    </tr>\n",
       "  </tbody>\n",
       "</table>\n",
       "</div>"
      ],
      "text/plain": [
       "   Additional_Number_of_Scoring  Average_Score  \\\n",
       "0                           194            7.7   \n",
       "1                           194            7.7   \n",
       "2                           194            7.7   \n",
       "3                           194            7.7   \n",
       "4                           194            7.7   \n",
       "\n",
       "                                     Negative_Review  \\\n",
       "0   I am so angry that i made this post available...   \n",
       "1                                        No Negative   \n",
       "2   Rooms are nice but for elderly a bit difficul...   \n",
       "3   My room was dirty and I was afraid to walk ba...   \n",
       "4   You When I booked with your company on line y...   \n",
       "\n",
       "   Review_Total_Negative_Word_Counts  \\\n",
       "0                                397   \n",
       "1                                  0   \n",
       "2                                 42   \n",
       "3                                210   \n",
       "4                                140   \n",
       "\n",
       "                                     Positive_Review  \\\n",
       "0   Only the park outside of the hotel was beauti...   \n",
       "1   No real complaints the hotel was great great ...   \n",
       "2   Location was good and staff were ok It is cut...   \n",
       "3   Great location in nice surroundings the bar a...   \n",
       "4    Amazing location and building Romantic setting    \n",
       "\n",
       "   Total_Number_of_Reviews_Reviewer_Has_Given  Reviewer_Score  Leisure_Trip  \\\n",
       "0                                           7               0             1   \n",
       "1                                           7               0             1   \n",
       "2                                           9               0             1   \n",
       "3                                           1               0             1   \n",
       "4                                           3               0             1   \n",
       "\n",
       "   Nights_Stayed Reviewer_Nationality Hotel_Address  \n",
       "0              6                Other     Amsterdam  \n",
       "1              4              Ireland     Amsterdam  \n",
       "2              3            Australia     Amsterdam  \n",
       "3              3                   UK     Amsterdam  \n",
       "4              2                Other     Amsterdam  "
      ]
     },
     "execution_count": 57,
     "metadata": {},
     "output_type": "execute_result"
    }
   ],
   "source": [
    "df_clean.head()"
   ]
  },
  {
   "cell_type": "markdown",
   "id": "30a49b1e",
   "metadata": {},
   "source": [
    "#### NEGATIVE REVIEWS"
   ]
  },
  {
   "cell_type": "markdown",
   "id": "1682e710",
   "metadata": {},
   "source": [
    "most of place holder and list will get _neg for easier identify from positive reviews"
   ]
  },
  {
   "cell_type": "code",
   "execution_count": 58,
   "id": "25bf537d",
   "metadata": {},
   "outputs": [],
   "source": [
    "df_neg = df_raw.copy()"
   ]
  },
  {
   "cell_type": "code",
   "execution_count": 59,
   "id": "c79f98c5",
   "metadata": {},
   "outputs": [
    {
     "data": {
      "text/plain": [
       "(515199, 29)"
      ]
     },
     "execution_count": 59,
     "metadata": {},
     "output_type": "execute_result"
    }
   ],
   "source": [
    "df_neg.shape"
   ]
  },
  {
   "cell_type": "code",
   "execution_count": 60,
   "id": "f8e345d3",
   "metadata": {},
   "outputs": [],
   "source": [
    "# create X and y\n",
    "X = df_neg[\"Negative_Review\"]\n",
    "y = df_neg['Reviewer_Score']"
   ]
  },
  {
   "cell_type": "code",
   "execution_count": 61,
   "id": "69f511fe",
   "metadata": {
    "scrolled": true
   },
   "outputs": [
    {
     "data": {
      "image/png": "[encoded data removed]",
      "text/plain": [
       "<Figure size 432x288 with 1 Axes>"
      ]
     },
     "metadata": {
      "needs_background": "light"
     },
     "output_type": "display_data"
    }
   ],
   "source": [
    "# plot the ratio of reviews\n",
    "value_counts = dict(df_neg['Reviewer_Score'].value_counts(normalize=True)*100)\n",
    "plt.figure()\n",
    "plt.bar(value_counts.keys(), value_counts.values())\n",
    "plt.xlabel('Review rating')\n",
    "plt.ylabel('Percent of reviews')\n",
    "plt.xticks([0, 1],['Negative', 'Positive'])\n",
    "plt.show()"
   ]
  },
  {
   "cell_type": "markdown",
   "id": "b91ffef3",
   "metadata": {},
   "source": [
    "#### split data in a way without shuffling to keep the order"
   ]
  },
  {
   "cell_type": "code",
   "execution_count": 62,
   "id": "5924f9d6",
   "metadata": {},
   "outputs": [],
   "source": [
    "# split without randomize and stratify\n",
    "X_train, X_test, y_train, y_test = train_test_split(X, y, test_size=0.2, shuffle=False, stratify=None)"
   ]
  },
  {
   "cell_type": "markdown",
   "id": "60fdc527",
   "metadata": {},
   "source": [
    "Now our task is to convert each review into into numeric representation using vectorization"
   ]
  },
  {
   "cell_type": "code",
   "execution_count": 63,
   "id": "9f649ee6",
   "metadata": {},
   "outputs": [
    {
     "name": "stdout",
     "output_type": "stream",
     "text": [
      "The output type is <class 'scipy.sparse.csr.csr_matrix'>\n",
      "(412159, 500)\n",
      "(103040, 500)\n"
     ]
    }
   ],
   "source": [
    "# Initialise a CountVectorizer object\n",
    "count_vectorizer_neg = CountVectorizer(max_features=500,min_df=10)\n",
    "\n",
    "# Fit the CountVectorizer object on X_train\n",
    "count_vectorizer_neg.fit(X_train)\n",
    "\n",
    "# Transform X_train and X_test using the fitted CountVectorizer object\n",
    "count_matrix_train_neg = count_vectorizer_neg.transform(X_train)\n",
    "count_matrix_test_neg = count_vectorizer_neg.transform(X_test)\n",
    "\n",
    "print('The output type is',type(count_matrix_train_neg))\n",
    "\n",
    "# Preview the shape of the transformed matrices\n",
    "print(count_matrix_train_neg.shape)\n",
    "print(count_matrix_test_neg.shape)"
   ]
  },
  {
   "cell_type": "markdown",
   "id": "86693c26",
   "metadata": {},
   "source": [
    "first look at the top token words"
   ]
  },
  {
   "cell_type": "code",
   "execution_count": 64,
   "id": "e56aa3f8",
   "metadata": {},
   "outputs": [
    {
     "name": "stdout",
     "output_type": "stream",
     "text": [
      "['am', 'so', 'that', 'made', 'this', 'available', 'all', 'use', 'when', 'my', 'no', 'one', 'will', 'make', 'the', 'of', 'booking', 'place', 'com', 'we', 'stayed', 'for', 'nights', 'in', 'hotel', 'from', 'to', 'arrival', 'were', 'small']\n"
     ]
    }
   ],
   "source": [
    "print(list(count_vectorizer_neg.vocabulary_.keys())[:30])"
   ]
  },
  {
   "cell_type": "code",
   "execution_count": 65,
   "id": "dde4fd35",
   "metadata": {
    "scrolled": true
   },
   "outputs": [
    {
     "name": "stdout",
     "output_type": "stream",
     "text": [
      "The most common words and their counts are:\n"
     ]
    },
    {
     "data": {
      "text/html": [
       "<div>\n",
       "<style scoped>\n",
       "    .dataframe tbody tr th:only-of-type {\n",
       "        vertical-align: middle;\n",
       "    }\n",
       "\n",
       "    .dataframe tbody tr th {\n",
       "        vertical-align: top;\n",
       "    }\n",
       "\n",
       "    .dataframe thead th {\n",
       "        text-align: right;\n",
       "    }\n",
       "</style>\n",
       "<table border=\"1\" class=\"dataframe\">\n",
       "  <thead>\n",
       "    <tr style=\"text-align: right;\">\n",
       "      <th></th>\n",
       "      <th>counts</th>\n",
       "    </tr>\n",
       "  </thead>\n",
       "  <tbody>\n",
       "    <tr>\n",
       "      <th>the</th>\n",
       "      <td>422313</td>\n",
       "    </tr>\n",
       "    <tr>\n",
       "      <th>was</th>\n",
       "      <td>191754</td>\n",
       "    </tr>\n",
       "    <tr>\n",
       "      <th>to</th>\n",
       "      <td>182702</td>\n",
       "    </tr>\n",
       "    <tr>\n",
       "      <th>and</th>\n",
       "      <td>176017</td>\n",
       "    </tr>\n",
       "    <tr>\n",
       "      <th>no</th>\n",
       "      <td>157674</td>\n",
       "    </tr>\n",
       "    <tr>\n",
       "      <th>room</th>\n",
       "      <td>144013</td>\n",
       "    </tr>\n",
       "    <tr>\n",
       "      <th>in</th>\n",
       "      <td>133779</td>\n",
       "    </tr>\n",
       "    <tr>\n",
       "      <th>negative</th>\n",
       "      <td>102846</td>\n",
       "    </tr>\n",
       "    <tr>\n",
       "      <th>not</th>\n",
       "      <td>99069</td>\n",
       "    </tr>\n",
       "    <tr>\n",
       "      <th>of</th>\n",
       "      <td>96168</td>\n",
       "    </tr>\n",
       "    <tr>\n",
       "      <th>for</th>\n",
       "      <td>94312</td>\n",
       "    </tr>\n",
       "    <tr>\n",
       "      <th>it</th>\n",
       "      <td>85271</td>\n",
       "    </tr>\n",
       "    <tr>\n",
       "      <th>we</th>\n",
       "      <td>79302</td>\n",
       "    </tr>\n",
       "    <tr>\n",
       "      <th>very</th>\n",
       "      <td>65271</td>\n",
       "    </tr>\n",
       "    <tr>\n",
       "      <th>is</th>\n",
       "      <td>63286</td>\n",
       "    </tr>\n",
       "    <tr>\n",
       "      <th>but</th>\n",
       "      <td>60646</td>\n",
       "    </tr>\n",
       "    <tr>\n",
       "      <th>hotel</th>\n",
       "      <td>57944</td>\n",
       "    </tr>\n",
       "    <tr>\n",
       "      <th>on</th>\n",
       "      <td>55701</td>\n",
       "    </tr>\n",
       "    <tr>\n",
       "      <th>were</th>\n",
       "      <td>49614</td>\n",
       "    </tr>\n",
       "    <tr>\n",
       "      <th>had</th>\n",
       "      <td>48781</td>\n",
       "    </tr>\n",
       "  </tbody>\n",
       "</table>\n",
       "</div>"
      ],
      "text/plain": [
       "          counts\n",
       "the       422313\n",
       "was       191754\n",
       "to        182702\n",
       "and       176017\n",
       "no        157674\n",
       "room      144013\n",
       "in        133779\n",
       "negative  102846\n",
       "not        99069\n",
       "of         96168\n",
       "for        94312\n",
       "it         85271\n",
       "we         79302\n",
       "very       65271\n",
       "is         63286\n",
       "but        60646\n",
       "hotel      57944\n",
       "on         55701\n",
       "were       49614\n",
       "had        48781"
      ]
     },
     "execution_count": 65,
     "metadata": {},
     "output_type": "execute_result"
    }
   ],
   "source": [
    "# sum all the rows for each feature\n",
    "word_counts = pd.DataFrame(\n",
    "        {\"counts\": np.array(count_matrix_train_neg.sum(axis=0)).flatten()},\n",
    "        index=count_vectorizer_neg.get_feature_names_out()).sort_values(\"counts\", ascending=False)\n",
    "\n",
    "print('The most common words and their counts are:')\n",
    "word_counts[:20]"
   ]
  },
  {
   "cell_type": "code",
   "execution_count": 66,
   "id": "5ff96cf7",
   "metadata": {
    "scrolled": true
   },
   "outputs": [
    {
     "data": {
      "image/png": "[encoded data removed]",
      "text/plain": [
       "<Figure size 1008x432 with 1 Axes>"
      ]
     },
     "metadata": {
      "needs_background": "light"
     },
     "output_type": "display_data"
    }
   ],
   "source": [
    "# plot top common word for negative\n",
    "word_counts[:20].plot(kind='bar',title='Counts of the most common words',figsize=(14,6))\n",
    "plt.tight_layout()"
   ]
  },
  {
   "cell_type": "markdown",
   "id": "6f758e20",
   "metadata": {},
   "source": [
    "as we can see there is a lots ot stop word and other LNP common word, lets get ride of them using costumize tokenizer. in this function try to use all known method to make the tokenizer efficient. such as WordNetLemmatizer and PorterStemmer, also number and double white sapce will remove."
   ]
  },
  {
   "cell_type": "code",
   "execution_count": 67,
   "id": "e1cae9e4",
   "metadata": {},
   "outputs": [],
   "source": [
    "import string\n",
    "import re\n",
    "from nltk.stem import PorterStemmer, WordNetLemmatizer\n",
    "from nltk.corpus import stopwords\n",
    "\n",
    "# Assuming stop_words is a predefined list of stopwords\n",
    "stop_words = set(stopwords.words('english'))\n",
    "\n",
    "def my_tokenizer(document, lemmatization=False, stemming=True):\n",
    "    '''\n",
    "    Function for use in Vectorizer that tokenizes the document.\n",
    "    '''\n",
    "    # Convert to lowercase\n",
    "    document = document.lower()\n",
    "\n",
    "    # Remove punctuation\n",
    "    document = re.sub(f'[{string.punctuation}]', '', document)\n",
    "\n",
    "    # Remove numbers\n",
    "    document = re.sub(r'\\d+', '', document)\n",
    "\n",
    "    # Tokenize - split on whitespace\n",
    "    tokenized_document = document.split()\n",
    "\n",
    "    # Remove stopwords\n",
    "    tokenized_document = [word for word in tokenized_document if word not in stop_words]\n",
    "\n",
    "    # Stemming and Lemmatization\n",
    "    stemmer = PorterStemmer()\n",
    "    lemmatizer = WordNetLemmatizer()\n",
    "\n",
    "    if stemming and not lemmatization:\n",
    "        tokenized_document = [stemmer.stem(word) for word in tokenized_document]\n",
    "    elif lemmatization:\n",
    "        tokenized_document = [lemmatizer.lemmatize(word) for word in tokenized_document]\n",
    "\n",
    "    return tokenized_document\n"
   ]
  },
  {
   "cell_type": "code",
   "execution_count": 68,
   "id": "7fdbca22",
   "metadata": {},
   "outputs": [
    {
     "name": "stderr",
     "output_type": "stream",
     "text": [
      "C:\\Users\\azarb\\anaconda3\\lib\\site-packages\\sklearn\\feature_extraction\\text.py:525: UserWarning: The parameter 'token_pattern' will not be used since 'tokenizer' is not None'\n",
      "  warnings.warn(\n"
     ]
    },
    {
     "name": "stdout",
     "output_type": "stream",
     "text": [
      "(412159, 500)\n"
     ]
    }
   ],
   "source": [
    "# Initialise a CountVectorizer object with given parameters and ngram of 1 and 2\n",
    "count_vectorizer_neg = CountVectorizer(tokenizer=my_tokenizer, max_features=500,min_df=10,ngram_range=(1,2))\n",
    "\n",
    "# Fit the CountVectorizer object on X_train\n",
    "count_vectorizer_neg.fit(X_train)\n",
    "\n",
    "# Fit the CountVectorizer object on X_train\n",
    "X_matrix_train_neg = count_vectorizer_neg.transform(X_train)\n",
    "\n",
    "print(X_matrix_train_neg.shape)"
   ]
  },
  {
   "cell_type": "code",
   "execution_count": 69,
   "id": "eda5581c",
   "metadata": {},
   "outputs": [
    {
     "name": "stdout",
     "output_type": "stream",
     "text": [
      "The most common words and their counts are:\n"
     ]
    },
    {
     "data": {
      "text/html": [
       "<div>\n",
       "<style scoped>\n",
       "    .dataframe tbody tr th:only-of-type {\n",
       "        vertical-align: middle;\n",
       "    }\n",
       "\n",
       "    .dataframe tbody tr th {\n",
       "        vertical-align: top;\n",
       "    }\n",
       "\n",
       "    .dataframe thead th {\n",
       "        text-align: right;\n",
       "    }\n",
       "</style>\n",
       "<table border=\"1\" class=\"dataframe\">\n",
       "  <thead>\n",
       "    <tr style=\"text-align: right;\">\n",
       "      <th></th>\n",
       "      <th>counts</th>\n",
       "    </tr>\n",
       "  </thead>\n",
       "  <tbody>\n",
       "    <tr>\n",
       "      <th>standard</th>\n",
       "      <td>422313</td>\n",
       "    </tr>\n",
       "    <tr>\n",
       "      <th>upgrad</th>\n",
       "      <td>191754</td>\n",
       "    </tr>\n",
       "    <tr>\n",
       "      <th>tea coffe</th>\n",
       "      <td>182702</td>\n",
       "    </tr>\n",
       "    <tr>\n",
       "      <th>around</th>\n",
       "      <td>176017</td>\n",
       "    </tr>\n",
       "    <tr>\n",
       "      <th>one</th>\n",
       "      <td>157674</td>\n",
       "    </tr>\n",
       "    <tr>\n",
       "      <th>room could</th>\n",
       "      <td>144013</td>\n",
       "    </tr>\n",
       "    <tr>\n",
       "      <th>kept</th>\n",
       "      <td>133779</td>\n",
       "    </tr>\n",
       "    <tr>\n",
       "      <th>non</th>\n",
       "      <td>102846</td>\n",
       "    </tr>\n",
       "    <tr>\n",
       "      <th>option</th>\n",
       "      <td>99069</td>\n",
       "    </tr>\n",
       "    <tr>\n",
       "      <th>outsid</th>\n",
       "      <td>96168</td>\n",
       "    </tr>\n",
       "    <tr>\n",
       "      <th>fresh</th>\n",
       "      <td>94312</td>\n",
       "    </tr>\n",
       "    <tr>\n",
       "      <th>late</th>\n",
       "      <td>85271</td>\n",
       "    </tr>\n",
       "    <tr>\n",
       "      <th>valu money</th>\n",
       "      <td>79302</td>\n",
       "    </tr>\n",
       "    <tr>\n",
       "      <th>trip</th>\n",
       "      <td>65271</td>\n",
       "    </tr>\n",
       "    <tr>\n",
       "      <th>larg</th>\n",
       "      <td>63286</td>\n",
       "    </tr>\n",
       "    <tr>\n",
       "      <th>chang</th>\n",
       "      <td>60646</td>\n",
       "    </tr>\n",
       "    <tr>\n",
       "      <th>inform</th>\n",
       "      <td>57944</td>\n",
       "    </tr>\n",
       "    <tr>\n",
       "      <th>part</th>\n",
       "      <td>55701</td>\n",
       "    </tr>\n",
       "    <tr>\n",
       "      <th>wait</th>\n",
       "      <td>49614</td>\n",
       "    </tr>\n",
       "    <tr>\n",
       "      <th>happi</th>\n",
       "      <td>48781</td>\n",
       "    </tr>\n",
       "  </tbody>\n",
       "</table>\n",
       "</div>"
      ],
      "text/plain": [
       "            counts\n",
       "standard    422313\n",
       "upgrad      191754\n",
       "tea coffe   182702\n",
       "around      176017\n",
       "one         157674\n",
       "room could  144013\n",
       "kept        133779\n",
       "non         102846\n",
       "option       99069\n",
       "outsid       96168\n",
       "fresh        94312\n",
       "late         85271\n",
       "valu money   79302\n",
       "trip         65271\n",
       "larg         63286\n",
       "chang        60646\n",
       "inform       57944\n",
       "part         55701\n",
       "wait         49614\n",
       "happi        48781"
      ]
     },
     "execution_count": 69,
     "metadata": {},
     "output_type": "execute_result"
    }
   ],
   "source": [
    "# sum all the rows for each feature create the dataframe of common words\n",
    "word_counts = pd.DataFrame(\n",
    "        {\"counts\": np.array(count_matrix_train_neg.sum(axis=0)).flatten()},\n",
    "        index=count_vectorizer_neg.get_feature_names_out()).sort_values(\"counts\", ascending=False)\n",
    "\n",
    "print('The most common words and their counts are:')\n",
    "word_counts[:20]"
   ]
  },
  {
   "cell_type": "code",
   "execution_count": 70,
   "id": "316cd437",
   "metadata": {
    "scrolled": true
   },
   "outputs": [
    {
     "data": {
      "image/png": "[encoded data removed]",
      "text/plain": [
       "<Figure size 1008x432 with 1 Axes>"
      ]
     },
     "metadata": {
      "needs_background": "light"
     },
     "output_type": "display_data"
    }
   ],
   "source": [
    "# plot common word for negative reviews\n",
    "word_counts[:20].plot(kind='bar',title='Counts of the most common words',figsize=(14,6))\n",
    "plt.tight_layout()"
   ]
  },
  {
   "cell_type": "code",
   "execution_count": 71,
   "id": "7f277555",
   "metadata": {},
   "outputs": [
    {
     "data": {
      "text/html": [
       "<div>\n",
       "<style scoped>\n",
       "    .dataframe tbody tr th:only-of-type {\n",
       "        vertical-align: middle;\n",
       "    }\n",
       "\n",
       "    .dataframe tbody tr th {\n",
       "        vertical-align: top;\n",
       "    }\n",
       "\n",
       "    .dataframe thead th {\n",
       "        text-align: right;\n",
       "    }\n",
       "</style>\n",
       "<table border=\"1\" class=\"dataframe\">\n",
       "  <thead>\n",
       "    <tr style=\"text-align: right;\">\n",
       "      <th></th>\n",
       "      <th>abl</th>\n",
       "      <th>absolut</th>\n",
       "      <th>ac</th>\n",
       "      <th>access</th>\n",
       "      <th>actual</th>\n",
       "      <th>addit</th>\n",
       "      <th>advertis</th>\n",
       "      <th>air</th>\n",
       "      <th>air con</th>\n",
       "      <th>air condit</th>\n",
       "      <th>...</th>\n",
       "      <th>window</th>\n",
       "      <th>without</th>\n",
       "      <th>work</th>\n",
       "      <th>worst</th>\n",
       "      <th>worth</th>\n",
       "      <th>would</th>\n",
       "      <th>would like</th>\n",
       "      <th>would nice</th>\n",
       "      <th>wrong</th>\n",
       "      <th>year</th>\n",
       "    </tr>\n",
       "  </thead>\n",
       "  <tbody>\n",
       "    <tr>\n",
       "      <th>0</th>\n",
       "      <td>1</td>\n",
       "      <td>0</td>\n",
       "      <td>0</td>\n",
       "      <td>0</td>\n",
       "      <td>0</td>\n",
       "      <td>0</td>\n",
       "      <td>0</td>\n",
       "      <td>0</td>\n",
       "      <td>0</td>\n",
       "      <td>0</td>\n",
       "      <td>...</td>\n",
       "      <td>3</td>\n",
       "      <td>0</td>\n",
       "      <td>0</td>\n",
       "      <td>0</td>\n",
       "      <td>0</td>\n",
       "      <td>1</td>\n",
       "      <td>0</td>\n",
       "      <td>0</td>\n",
       "      <td>0</td>\n",
       "      <td>0</td>\n",
       "    </tr>\n",
       "    <tr>\n",
       "      <th>1</th>\n",
       "      <td>0</td>\n",
       "      <td>0</td>\n",
       "      <td>0</td>\n",
       "      <td>0</td>\n",
       "      <td>0</td>\n",
       "      <td>0</td>\n",
       "      <td>0</td>\n",
       "      <td>0</td>\n",
       "      <td>0</td>\n",
       "      <td>0</td>\n",
       "      <td>...</td>\n",
       "      <td>0</td>\n",
       "      <td>0</td>\n",
       "      <td>0</td>\n",
       "      <td>0</td>\n",
       "      <td>0</td>\n",
       "      <td>0</td>\n",
       "      <td>0</td>\n",
       "      <td>0</td>\n",
       "      <td>0</td>\n",
       "      <td>0</td>\n",
       "    </tr>\n",
       "    <tr>\n",
       "      <th>2</th>\n",
       "      <td>0</td>\n",
       "      <td>0</td>\n",
       "      <td>0</td>\n",
       "      <td>0</td>\n",
       "      <td>0</td>\n",
       "      <td>0</td>\n",
       "      <td>0</td>\n",
       "      <td>0</td>\n",
       "      <td>0</td>\n",
       "      <td>0</td>\n",
       "      <td>...</td>\n",
       "      <td>0</td>\n",
       "      <td>0</td>\n",
       "      <td>0</td>\n",
       "      <td>0</td>\n",
       "      <td>0</td>\n",
       "      <td>0</td>\n",
       "      <td>0</td>\n",
       "      <td>0</td>\n",
       "      <td>0</td>\n",
       "      <td>0</td>\n",
       "    </tr>\n",
       "    <tr>\n",
       "      <th>3</th>\n",
       "      <td>0</td>\n",
       "      <td>0</td>\n",
       "      <td>0</td>\n",
       "      <td>0</td>\n",
       "      <td>0</td>\n",
       "      <td>0</td>\n",
       "      <td>0</td>\n",
       "      <td>0</td>\n",
       "      <td>0</td>\n",
       "      <td>0</td>\n",
       "      <td>...</td>\n",
       "      <td>0</td>\n",
       "      <td>0</td>\n",
       "      <td>0</td>\n",
       "      <td>0</td>\n",
       "      <td>0</td>\n",
       "      <td>0</td>\n",
       "      <td>0</td>\n",
       "      <td>0</td>\n",
       "      <td>0</td>\n",
       "      <td>0</td>\n",
       "    </tr>\n",
       "    <tr>\n",
       "      <th>4</th>\n",
       "      <td>0</td>\n",
       "      <td>0</td>\n",
       "      <td>0</td>\n",
       "      <td>0</td>\n",
       "      <td>0</td>\n",
       "      <td>0</td>\n",
       "      <td>1</td>\n",
       "      <td>0</td>\n",
       "      <td>0</td>\n",
       "      <td>0</td>\n",
       "      <td>...</td>\n",
       "      <td>0</td>\n",
       "      <td>0</td>\n",
       "      <td>0</td>\n",
       "      <td>0</td>\n",
       "      <td>0</td>\n",
       "      <td>0</td>\n",
       "      <td>0</td>\n",
       "      <td>0</td>\n",
       "      <td>0</td>\n",
       "      <td>0</td>\n",
       "    </tr>\n",
       "  </tbody>\n",
       "</table>\n",
       "<p>5 rows × 500 columns</p>\n",
       "</div>"
      ],
      "text/plain": [
       "   abl  absolut  ac  access  actual  addit  advertis  air  air con  \\\n",
       "0    1        0   0       0       0      0         0    0        0   \n",
       "1    0        0   0       0       0      0         0    0        0   \n",
       "2    0        0   0       0       0      0         0    0        0   \n",
       "3    0        0   0       0       0      0         0    0        0   \n",
       "4    0        0   0       0       0      0         1    0        0   \n",
       "\n",
       "   air condit  ...  window  without  work  worst  worth  would  would like  \\\n",
       "0           0  ...       3        0     0      0      0      1           0   \n",
       "1           0  ...       0        0     0      0      0      0           0   \n",
       "2           0  ...       0        0     0      0      0      0           0   \n",
       "3           0  ...       0        0     0      0      0      0           0   \n",
       "4           0  ...       0        0     0      0      0      0           0   \n",
       "\n",
       "   would nice  wrong  year  \n",
       "0           0      0     0  \n",
       "1           0      0     0  \n",
       "2           0      0     0  \n",
       "3           0      0     0  \n",
       "4           0      0     0  \n",
       "\n",
       "[5 rows x 500 columns]"
      ]
     },
     "execution_count": 71,
     "metadata": {},
     "output_type": "execute_result"
    }
   ],
   "source": [
    "pd.DataFrame(X_matrix_train_neg.toarray(),columns=count_vectorizer_neg.get_feature_names_out()).head()"
   ]
  },
  {
   "cell_type": "code",
   "execution_count": 72,
   "id": "5d2d7e5a",
   "metadata": {},
   "outputs": [
    {
     "data": {
      "text/plain": [
       "(412159, 500)"
      ]
     },
     "execution_count": 72,
     "metadata": {},
     "output_type": "execute_result"
    }
   ],
   "source": [
    "#check shape of dataframe for train set\n",
    "pd.DataFrame(X_matrix_train_neg.toarray(),columns=count_vectorizer_neg.get_feature_names_out()).shape"
   ]
  },
  {
   "cell_type": "code",
   "execution_count": 73,
   "id": "4a2adf9e",
   "metadata": {},
   "outputs": [
    {
     "data": {
      "text/plain": [
       "(103040, 500)"
      ]
     },
     "execution_count": 73,
     "metadata": {},
     "output_type": "execute_result"
    }
   ],
   "source": [
    "# transform test set as requierd and check shape of dataframe for test set\n",
    "X_matrix_test_neg = count_vectorizer_neg.transform(X_test)\n",
    "X_matrix_test_neg.shape"
   ]
  },
  {
   "cell_type": "code",
   "execution_count": 74,
   "id": "55d8fef3",
   "metadata": {
    "scrolled": true
   },
   "outputs": [
    {
     "data": {
      "text/html": [
       "<div>\n",
       "<style scoped>\n",
       "    .dataframe tbody tr th:only-of-type {\n",
       "        vertical-align: middle;\n",
       "    }\n",
       "\n",
       "    .dataframe tbody tr th {\n",
       "        vertical-align: top;\n",
       "    }\n",
       "\n",
       "    .dataframe thead th {\n",
       "        text-align: right;\n",
       "    }\n",
       "</style>\n",
       "<table border=\"1\" class=\"dataframe\">\n",
       "  <thead>\n",
       "    <tr style=\"text-align: right;\">\n",
       "      <th></th>\n",
       "      <th>abl</th>\n",
       "      <th>absolut</th>\n",
       "      <th>ac</th>\n",
       "      <th>access</th>\n",
       "      <th>actual</th>\n",
       "      <th>addit</th>\n",
       "      <th>advertis</th>\n",
       "      <th>air</th>\n",
       "      <th>air con</th>\n",
       "      <th>air condit</th>\n",
       "      <th>...</th>\n",
       "      <th>window</th>\n",
       "      <th>without</th>\n",
       "      <th>work</th>\n",
       "      <th>worst</th>\n",
       "      <th>worth</th>\n",
       "      <th>would</th>\n",
       "      <th>would like</th>\n",
       "      <th>would nice</th>\n",
       "      <th>wrong</th>\n",
       "      <th>year</th>\n",
       "    </tr>\n",
       "  </thead>\n",
       "  <tbody>\n",
       "    <tr>\n",
       "      <th>0</th>\n",
       "      <td>0</td>\n",
       "      <td>0</td>\n",
       "      <td>0</td>\n",
       "      <td>0</td>\n",
       "      <td>0</td>\n",
       "      <td>0</td>\n",
       "      <td>0</td>\n",
       "      <td>0</td>\n",
       "      <td>0</td>\n",
       "      <td>0</td>\n",
       "      <td>...</td>\n",
       "      <td>0</td>\n",
       "      <td>0</td>\n",
       "      <td>0</td>\n",
       "      <td>0</td>\n",
       "      <td>0</td>\n",
       "      <td>0</td>\n",
       "      <td>0</td>\n",
       "      <td>0</td>\n",
       "      <td>0</td>\n",
       "      <td>0</td>\n",
       "    </tr>\n",
       "    <tr>\n",
       "      <th>1</th>\n",
       "      <td>0</td>\n",
       "      <td>0</td>\n",
       "      <td>0</td>\n",
       "      <td>0</td>\n",
       "      <td>0</td>\n",
       "      <td>0</td>\n",
       "      <td>0</td>\n",
       "      <td>0</td>\n",
       "      <td>0</td>\n",
       "      <td>0</td>\n",
       "      <td>...</td>\n",
       "      <td>0</td>\n",
       "      <td>0</td>\n",
       "      <td>0</td>\n",
       "      <td>0</td>\n",
       "      <td>0</td>\n",
       "      <td>0</td>\n",
       "      <td>0</td>\n",
       "      <td>0</td>\n",
       "      <td>0</td>\n",
       "      <td>0</td>\n",
       "    </tr>\n",
       "    <tr>\n",
       "      <th>2</th>\n",
       "      <td>0</td>\n",
       "      <td>0</td>\n",
       "      <td>0</td>\n",
       "      <td>0</td>\n",
       "      <td>0</td>\n",
       "      <td>0</td>\n",
       "      <td>0</td>\n",
       "      <td>0</td>\n",
       "      <td>0</td>\n",
       "      <td>0</td>\n",
       "      <td>...</td>\n",
       "      <td>0</td>\n",
       "      <td>0</td>\n",
       "      <td>0</td>\n",
       "      <td>0</td>\n",
       "      <td>0</td>\n",
       "      <td>1</td>\n",
       "      <td>0</td>\n",
       "      <td>1</td>\n",
       "      <td>0</td>\n",
       "      <td>0</td>\n",
       "    </tr>\n",
       "    <tr>\n",
       "      <th>3</th>\n",
       "      <td>0</td>\n",
       "      <td>0</td>\n",
       "      <td>0</td>\n",
       "      <td>0</td>\n",
       "      <td>0</td>\n",
       "      <td>0</td>\n",
       "      <td>0</td>\n",
       "      <td>0</td>\n",
       "      <td>0</td>\n",
       "      <td>0</td>\n",
       "      <td>...</td>\n",
       "      <td>0</td>\n",
       "      <td>0</td>\n",
       "      <td>0</td>\n",
       "      <td>0</td>\n",
       "      <td>0</td>\n",
       "      <td>0</td>\n",
       "      <td>0</td>\n",
       "      <td>0</td>\n",
       "      <td>0</td>\n",
       "      <td>0</td>\n",
       "    </tr>\n",
       "    <tr>\n",
       "      <th>4</th>\n",
       "      <td>0</td>\n",
       "      <td>0</td>\n",
       "      <td>0</td>\n",
       "      <td>0</td>\n",
       "      <td>0</td>\n",
       "      <td>0</td>\n",
       "      <td>0</td>\n",
       "      <td>0</td>\n",
       "      <td>0</td>\n",
       "      <td>0</td>\n",
       "      <td>...</td>\n",
       "      <td>0</td>\n",
       "      <td>0</td>\n",
       "      <td>0</td>\n",
       "      <td>0</td>\n",
       "      <td>0</td>\n",
       "      <td>0</td>\n",
       "      <td>0</td>\n",
       "      <td>0</td>\n",
       "      <td>0</td>\n",
       "      <td>0</td>\n",
       "    </tr>\n",
       "  </tbody>\n",
       "</table>\n",
       "<p>5 rows × 500 columns</p>\n",
       "</div>"
      ],
      "text/plain": [
       "   abl  absolut  ac  access  actual  addit  advertis  air  air con  \\\n",
       "0    0        0   0       0       0      0         0    0        0   \n",
       "1    0        0   0       0       0      0         0    0        0   \n",
       "2    0        0   0       0       0      0         0    0        0   \n",
       "3    0        0   0       0       0      0         0    0        0   \n",
       "4    0        0   0       0       0      0         0    0        0   \n",
       "\n",
       "   air condit  ...  window  without  work  worst  worth  would  would like  \\\n",
       "0           0  ...       0        0     0      0      0      0           0   \n",
       "1           0  ...       0        0     0      0      0      0           0   \n",
       "2           0  ...       0        0     0      0      0      1           0   \n",
       "3           0  ...       0        0     0      0      0      0           0   \n",
       "4           0  ...       0        0     0      0      0      0           0   \n",
       "\n",
       "   would nice  wrong  year  \n",
       "0           0      0     0  \n",
       "1           0      0     0  \n",
       "2           1      0     0  \n",
       "3           0      0     0  \n",
       "4           0      0     0  \n",
       "\n",
       "[5 rows x 500 columns]"
      ]
     },
     "execution_count": 74,
     "metadata": {},
     "output_type": "execute_result"
    }
   ],
   "source": [
    "pd.DataFrame(X_matrix_test_neg.toarray(),columns=count_vectorizer_neg.get_feature_names_out()).head()"
   ]
  },
  {
   "cell_type": "markdown",
   "id": "ae5d3085",
   "metadata": {},
   "source": [
    "#### POSITIVE REVIEWS"
   ]
  },
  {
   "cell_type": "code",
   "execution_count": 75,
   "id": "a3f37f6c",
   "metadata": {},
   "outputs": [],
   "source": [
    "df_pos = df_raw.copy()"
   ]
  },
  {
   "cell_type": "code",
   "execution_count": 76,
   "id": "30b67e46",
   "metadata": {},
   "outputs": [],
   "source": [
    "X = df_pos[\"Positive_Review\"]\n",
    "y = df_pos['Reviewer_Score']"
   ]
  },
  {
   "cell_type": "code",
   "execution_count": 77,
   "id": "529100a6",
   "metadata": {
    "scrolled": true
   },
   "outputs": [
    {
     "data": {
      "image/png": "[encoded data removed]",
      "text/plain": [
       "<Figure size 432x288 with 1 Axes>"
      ]
     },
     "metadata": {
      "needs_background": "light"
     },
     "output_type": "display_data"
    }
   ],
   "source": [
    "value_counts = dict(df_pos['Reviewer_Score'].value_counts(normalize=True)*100)\n",
    "plt.figure()\n",
    "plt.bar(value_counts.keys(), value_counts.values())\n",
    "plt.xlabel('Review rating')\n",
    "plt.ylabel('Percent of reviews')\n",
    "plt.xticks([0, 1],['Negative', 'Positive'])\n",
    "plt.show()"
   ]
  },
  {
   "cell_type": "markdown",
   "id": "231de6ba",
   "metadata": {},
   "source": [
    "#### split data in a way without shuffling to keep the order"
   ]
  },
  {
   "cell_type": "code",
   "execution_count": 78,
   "id": "387ef29e",
   "metadata": {},
   "outputs": [],
   "source": [
    "X_train, X_test, y_train, y_test = train_test_split(X, y, test_size=0.2, shuffle=False, stratify=None)"
   ]
  },
  {
   "cell_type": "code",
   "execution_count": 79,
   "id": "cd53b0f9",
   "metadata": {},
   "outputs": [
    {
     "name": "stderr",
     "output_type": "stream",
     "text": [
      "C:\\Users\\azarb\\anaconda3\\lib\\site-packages\\sklearn\\feature_extraction\\text.py:525: UserWarning: The parameter 'token_pattern' will not be used since 'tokenizer' is not None'\n",
      "  warnings.warn(\n"
     ]
    },
    {
     "name": "stdout",
     "output_type": "stream",
     "text": [
      "(412159, 500)\n"
     ]
    }
   ],
   "source": [
    "# Initialize a CountVectorizer object with the custom tokenizer\n",
    "count_vectorizer = CountVectorizer(tokenizer=my_tokenizer,max_features=500,min_df=10)\n",
    "\n",
    "# Fit the CountVectorizer object to the training data\n",
    "count_vectorizer.fit(X_train)\n",
    "\n",
    "# Transform the training data to a count matrix\n",
    "count_matrix_train = count_vectorizer.transform(X_train)\n",
    "\n",
    "# Print the shape of the count matrix\n",
    "print(count_matrix_train.shape)"
   ]
  },
  {
   "cell_type": "code",
   "execution_count": 80,
   "id": "de04ed1f",
   "metadata": {},
   "outputs": [
    {
     "name": "stdout",
     "output_type": "stream",
     "text": [
      "(412159, 500)\n"
     ]
    }
   ],
   "source": [
    "# Initialise a CountVectorizer object with given parameter and ngram of 1 and 2\n",
    "count_vectorizer = CountVectorizer(tokenizer=my_tokenizer, max_features=500,min_df=10,ngram_range=(1,2))\n",
    "\n",
    "# Fit the CountVectorizer object on X_train\n",
    "count_vectorizer.fit(X_train)\n",
    "\n",
    "# Fit the CountVectorizer object on X_train\n",
    "X_matrix_train = count_vectorizer.transform(X_train)\n",
    "\n",
    "print(X_matrix_train.shape)"
   ]
  },
  {
   "cell_type": "code",
   "execution_count": 81,
   "id": "2a94ab2e",
   "metadata": {},
   "outputs": [
    {
     "name": "stdout",
     "output_type": "stream",
     "text": [
      "The most common words and their counts are:\n"
     ]
    },
    {
     "data": {
      "text/html": [
       "<div>\n",
       "<style scoped>\n",
       "    .dataframe tbody tr th:only-of-type {\n",
       "        vertical-align: middle;\n",
       "    }\n",
       "\n",
       "    .dataframe tbody tr th {\n",
       "        vertical-align: top;\n",
       "    }\n",
       "\n",
       "    .dataframe thead th {\n",
       "        text-align: right;\n",
       "    }\n",
       "</style>\n",
       "<table border=\"1\" class=\"dataframe\">\n",
       "  <thead>\n",
       "    <tr style=\"text-align: right;\">\n",
       "      <th></th>\n",
       "      <th>counts</th>\n",
       "    </tr>\n",
       "  </thead>\n",
       "  <tbody>\n",
       "    <tr>\n",
       "      <th>locat comfort</th>\n",
       "      <td>161552</td>\n",
       "    </tr>\n",
       "    <tr>\n",
       "      <th>squar</th>\n",
       "      <td>158047</td>\n",
       "    </tr>\n",
       "    <tr>\n",
       "      <th>roof</th>\n",
       "      <td>144179</td>\n",
       "    </tr>\n",
       "    <tr>\n",
       "      <th>help staff</th>\n",
       "      <td>101238</td>\n",
       "    </tr>\n",
       "    <tr>\n",
       "      <th>good staff</th>\n",
       "      <td>87466</td>\n",
       "    </tr>\n",
       "    <tr>\n",
       "      <th>great</th>\n",
       "      <td>84055</td>\n",
       "    </tr>\n",
       "    <tr>\n",
       "      <th>front desk</th>\n",
       "      <td>70399</td>\n",
       "    </tr>\n",
       "    <tr>\n",
       "      <th>guest</th>\n",
       "      <td>68118</td>\n",
       "    </tr>\n",
       "    <tr>\n",
       "      <th>buffet</th>\n",
       "      <td>64088</td>\n",
       "    </tr>\n",
       "    <tr>\n",
       "      <th>modern</th>\n",
       "      <td>56053</td>\n",
       "    </tr>\n",
       "    <tr>\n",
       "      <th>close</th>\n",
       "      <td>55130</td>\n",
       "    </tr>\n",
       "    <tr>\n",
       "      <th>bit</th>\n",
       "      <td>53314</td>\n",
       "    </tr>\n",
       "    <tr>\n",
       "      <th>comfort bed</th>\n",
       "      <td>52277</td>\n",
       "    </tr>\n",
       "    <tr>\n",
       "      <th>expect</th>\n",
       "      <td>50569</td>\n",
       "    </tr>\n",
       "    <tr>\n",
       "      <th>locat near</th>\n",
       "      <td>42927</td>\n",
       "    </tr>\n",
       "    <tr>\n",
       "      <th>staff excel</th>\n",
       "      <td>35922</td>\n",
       "    </tr>\n",
       "    <tr>\n",
       "      <th>place</th>\n",
       "      <td>32210</td>\n",
       "    </tr>\n",
       "    <tr>\n",
       "      <th>walk distanc</th>\n",
       "      <td>25826</td>\n",
       "    </tr>\n",
       "    <tr>\n",
       "      <th>staff clean</th>\n",
       "      <td>25080</td>\n",
       "    </tr>\n",
       "    <tr>\n",
       "      <th>close tube</th>\n",
       "      <td>24979</td>\n",
       "    </tr>\n",
       "  </tbody>\n",
       "</table>\n",
       "</div>"
      ],
      "text/plain": [
       "               counts\n",
       "locat comfort  161552\n",
       "squar          158047\n",
       "roof           144179\n",
       "help staff     101238\n",
       "good staff      87466\n",
       "great           84055\n",
       "front desk      70399\n",
       "guest           68118\n",
       "buffet          64088\n",
       "modern          56053\n",
       "close           55130\n",
       "bit             53314\n",
       "comfort bed     52277\n",
       "expect          50569\n",
       "locat near      42927\n",
       "staff excel     35922\n",
       "place           32210\n",
       "walk distanc    25826\n",
       "staff clean     25080\n",
       "close tube      24979"
      ]
     },
     "execution_count": 81,
     "metadata": {},
     "output_type": "execute_result"
    }
   ],
   "source": [
    "# sum all the rows for each feature to get most common world of positive reviews\n",
    "word_counts = pd.DataFrame(\n",
    "        {\"counts\": np.array(count_matrix_train.sum(axis=0)).flatten()},\n",
    "        index=count_vectorizer.get_feature_names_out()).sort_values(\"counts\", ascending=False)\n",
    "\n",
    "print('The most common words and their counts are:')\n",
    "word_counts[:20]"
   ]
  },
  {
   "cell_type": "code",
   "execution_count": 82,
   "id": "afec2d7e",
   "metadata": {},
   "outputs": [
    {
     "data": {
      "image/png": "[encoded data removed]",
      "text/plain": [
       "<Figure size 1008x432 with 1 Axes>"
      ]
     },
     "metadata": {
      "needs_background": "light"
     },
     "output_type": "display_data"
    }
   ],
   "source": [
    "# plot the top common words for positive reviews\n",
    "word_counts[:20].plot(kind='bar',title='Counts of the most common words',figsize=(14,6))\n",
    "plt.tight_layout()"
   ]
  },
  {
   "cell_type": "code",
   "execution_count": 83,
   "id": "9a0a193f",
   "metadata": {},
   "outputs": [
    {
     "data": {
      "text/plain": [
       "(412159, 500)"
      ]
     },
     "execution_count": 83,
     "metadata": {},
     "output_type": "execute_result"
    }
   ],
   "source": [
    "pd.DataFrame(X_matrix_train.toarray(),columns=count_vectorizer.get_feature_names_out()).shape"
   ]
  },
  {
   "cell_type": "code",
   "execution_count": 84,
   "id": "bd55ec55",
   "metadata": {},
   "outputs": [
    {
     "data": {
      "text/html": [
       "<div>\n",
       "<style scoped>\n",
       "    .dataframe tbody tr th:only-of-type {\n",
       "        vertical-align: middle;\n",
       "    }\n",
       "\n",
       "    .dataframe tbody tr th {\n",
       "        vertical-align: top;\n",
       "    }\n",
       "\n",
       "    .dataframe thead th {\n",
       "        text-align: right;\n",
       "    }\n",
       "</style>\n",
       "<table border=\"1\" class=\"dataframe\">\n",
       "  <thead>\n",
       "    <tr style=\"text-align: right;\">\n",
       "      <th></th>\n",
       "      <th>abl</th>\n",
       "      <th>absolut</th>\n",
       "      <th>access</th>\n",
       "      <th>accommod</th>\n",
       "      <th>across</th>\n",
       "      <th>air</th>\n",
       "      <th>airport</th>\n",
       "      <th>also</th>\n",
       "      <th>although</th>\n",
       "      <th>alway</th>\n",
       "      <th>...</th>\n",
       "      <th>within</th>\n",
       "      <th>within walk</th>\n",
       "      <th>without</th>\n",
       "      <th>wonder</th>\n",
       "      <th>work</th>\n",
       "      <th>worth</th>\n",
       "      <th>would</th>\n",
       "      <th>would definit</th>\n",
       "      <th>would stay</th>\n",
       "      <th>year</th>\n",
       "    </tr>\n",
       "  </thead>\n",
       "  <tbody>\n",
       "    <tr>\n",
       "      <th>0</th>\n",
       "      <td>0</td>\n",
       "      <td>0</td>\n",
       "      <td>0</td>\n",
       "      <td>0</td>\n",
       "      <td>0</td>\n",
       "      <td>0</td>\n",
       "      <td>0</td>\n",
       "      <td>0</td>\n",
       "      <td>0</td>\n",
       "      <td>0</td>\n",
       "      <td>...</td>\n",
       "      <td>0</td>\n",
       "      <td>0</td>\n",
       "      <td>0</td>\n",
       "      <td>0</td>\n",
       "      <td>0</td>\n",
       "      <td>0</td>\n",
       "      <td>0</td>\n",
       "      <td>0</td>\n",
       "      <td>0</td>\n",
       "      <td>0</td>\n",
       "    </tr>\n",
       "    <tr>\n",
       "      <th>1</th>\n",
       "      <td>0</td>\n",
       "      <td>0</td>\n",
       "      <td>0</td>\n",
       "      <td>0</td>\n",
       "      <td>0</td>\n",
       "      <td>0</td>\n",
       "      <td>0</td>\n",
       "      <td>0</td>\n",
       "      <td>0</td>\n",
       "      <td>0</td>\n",
       "      <td>...</td>\n",
       "      <td>0</td>\n",
       "      <td>0</td>\n",
       "      <td>0</td>\n",
       "      <td>0</td>\n",
       "      <td>0</td>\n",
       "      <td>0</td>\n",
       "      <td>1</td>\n",
       "      <td>0</td>\n",
       "      <td>0</td>\n",
       "      <td>0</td>\n",
       "    </tr>\n",
       "    <tr>\n",
       "      <th>2</th>\n",
       "      <td>0</td>\n",
       "      <td>0</td>\n",
       "      <td>0</td>\n",
       "      <td>0</td>\n",
       "      <td>0</td>\n",
       "      <td>0</td>\n",
       "      <td>0</td>\n",
       "      <td>0</td>\n",
       "      <td>0</td>\n",
       "      <td>0</td>\n",
       "      <td>...</td>\n",
       "      <td>0</td>\n",
       "      <td>0</td>\n",
       "      <td>0</td>\n",
       "      <td>0</td>\n",
       "      <td>0</td>\n",
       "      <td>0</td>\n",
       "      <td>0</td>\n",
       "      <td>0</td>\n",
       "      <td>0</td>\n",
       "      <td>0</td>\n",
       "    </tr>\n",
       "    <tr>\n",
       "      <th>3</th>\n",
       "      <td>0</td>\n",
       "      <td>0</td>\n",
       "      <td>0</td>\n",
       "      <td>0</td>\n",
       "      <td>0</td>\n",
       "      <td>0</td>\n",
       "      <td>0</td>\n",
       "      <td>1</td>\n",
       "      <td>0</td>\n",
       "      <td>0</td>\n",
       "      <td>...</td>\n",
       "      <td>0</td>\n",
       "      <td>0</td>\n",
       "      <td>0</td>\n",
       "      <td>0</td>\n",
       "      <td>0</td>\n",
       "      <td>0</td>\n",
       "      <td>0</td>\n",
       "      <td>0</td>\n",
       "      <td>0</td>\n",
       "      <td>0</td>\n",
       "    </tr>\n",
       "    <tr>\n",
       "      <th>4</th>\n",
       "      <td>0</td>\n",
       "      <td>0</td>\n",
       "      <td>0</td>\n",
       "      <td>0</td>\n",
       "      <td>0</td>\n",
       "      <td>0</td>\n",
       "      <td>0</td>\n",
       "      <td>0</td>\n",
       "      <td>0</td>\n",
       "      <td>0</td>\n",
       "      <td>...</td>\n",
       "      <td>0</td>\n",
       "      <td>0</td>\n",
       "      <td>0</td>\n",
       "      <td>0</td>\n",
       "      <td>0</td>\n",
       "      <td>0</td>\n",
       "      <td>0</td>\n",
       "      <td>0</td>\n",
       "      <td>0</td>\n",
       "      <td>0</td>\n",
       "    </tr>\n",
       "  </tbody>\n",
       "</table>\n",
       "<p>5 rows × 500 columns</p>\n",
       "</div>"
      ],
      "text/plain": [
       "   abl  absolut  access  accommod  across  air  airport  also  although  \\\n",
       "0    0        0       0         0       0    0        0     0         0   \n",
       "1    0        0       0         0       0    0        0     0         0   \n",
       "2    0        0       0         0       0    0        0     0         0   \n",
       "3    0        0       0         0       0    0        0     1         0   \n",
       "4    0        0       0         0       0    0        0     0         0   \n",
       "\n",
       "   alway  ...  within  within walk  without  wonder  work  worth  would  \\\n",
       "0      0  ...       0            0        0       0     0      0      0   \n",
       "1      0  ...       0            0        0       0     0      0      1   \n",
       "2      0  ...       0            0        0       0     0      0      0   \n",
       "3      0  ...       0            0        0       0     0      0      0   \n",
       "4      0  ...       0            0        0       0     0      0      0   \n",
       "\n",
       "   would definit  would stay  year  \n",
       "0              0           0     0  \n",
       "1              0           0     0  \n",
       "2              0           0     0  \n",
       "3              0           0     0  \n",
       "4              0           0     0  \n",
       "\n",
       "[5 rows x 500 columns]"
      ]
     },
     "execution_count": 84,
     "metadata": {},
     "output_type": "execute_result"
    }
   ],
   "source": [
    "pd.DataFrame(X_matrix_train.toarray(),columns=count_vectorizer.get_feature_names_out()).head()"
   ]
  },
  {
   "cell_type": "code",
   "execution_count": 85,
   "id": "2f763a99",
   "metadata": {
    "scrolled": true
   },
   "outputs": [
    {
     "data": {
      "text/plain": [
       "(103040, 500)"
      ]
     },
     "execution_count": 85,
     "metadata": {},
     "output_type": "execute_result"
    }
   ],
   "source": [
    "# transform test set as requierd and check shape of dataframe for test set\n",
    "X_matrix_test_pos = count_vectorizer.transform(X_test)\n",
    "X_matrix_test_pos.shape"
   ]
  },
  {
   "cell_type": "markdown",
   "id": "4a9572c2",
   "metadata": {},
   "source": [
    "since data only split by index rejoin them will not change the index sequence"
   ]
  },
  {
   "cell_type": "markdown",
   "id": "ecb805df",
   "metadata": {},
   "source": [
    "keep track of diffrent matris and varablre for positive and negative cells will help with joining the results"
   ]
  },
  {
   "cell_type": "code",
   "execution_count": 86,
   "id": "42a7d44b",
   "metadata": {},
   "outputs": [],
   "source": [
    "# Combine transformed features with original numeric features for train set\n",
    "X_train_final = pd.concat([\n",
    "    pd.DataFrame(X_matrix_train.toarray(), columns=['pos_' + f for f in count_vectorizer.get_feature_names_out()]),\n",
    "    pd.DataFrame(X_matrix_train_neg.toarray(), columns=['neg_' + f for f in count_vectorizer_neg.get_feature_names_out()])\n",
    "], axis=1)\n",
    "# Combine transformed features with original numeric features for test set\n",
    "X_test_final = pd.concat([\n",
    "    pd.DataFrame(X_matrix_test_pos.toarray(), columns=['pos_' + f for f in count_vectorizer.get_feature_names_out()]),\n",
    "    pd.DataFrame(X_matrix_test_neg.toarray(), columns=['neg_' + f for f in count_vectorizer_neg.get_feature_names_out()])\n",
    "], axis=1)\n"
   ]
  },
  {
   "cell_type": "markdown",
   "id": "e98a1aab",
   "metadata": {},
   "source": [
    "its NOT clear why we should split data if we not using the target for predicting and we join the data again"
   ]
  },
  {
   "cell_type": "code",
   "execution_count": 87,
   "id": "69fa310e",
   "metadata": {},
   "outputs": [
    {
     "data": {
      "text/plain": [
       "0"
      ]
     },
     "execution_count": 87,
     "metadata": {},
     "output_type": "execute_result"
    }
   ],
   "source": [
    "X_train_final.isna().sum().sum()"
   ]
  },
  {
   "cell_type": "code",
   "execution_count": 88,
   "id": "e94c5779",
   "metadata": {},
   "outputs": [
    {
     "data": {
      "text/plain": [
       "(412159, 1000)"
      ]
     },
     "execution_count": 88,
     "metadata": {},
     "output_type": "execute_result"
    }
   ],
   "source": [
    "X_train_final.shape"
   ]
  },
  {
   "cell_type": "code",
   "execution_count": 89,
   "id": "5e98792e",
   "metadata": {},
   "outputs": [
    {
     "data": {
      "text/plain": [
       "(103040, 1000)"
      ]
     },
     "execution_count": 89,
     "metadata": {},
     "output_type": "execute_result"
    }
   ],
   "source": [
    "X_test_final.shape"
   ]
  },
  {
   "cell_type": "code",
   "execution_count": 90,
   "id": "680271c5",
   "metadata": {},
   "outputs": [],
   "source": [
    "token_data =  pd.concat([X_train_final,X_test_final], axis=0).reset_index(drop=True)"
   ]
  },
  {
   "cell_type": "code",
   "execution_count": 91,
   "id": "fd7da260",
   "metadata": {},
   "outputs": [
    {
     "data": {
      "text/plain": [
       "(515199, 1000)"
      ]
     },
     "execution_count": 91,
     "metadata": {},
     "output_type": "execute_result"
    }
   ],
   "source": [
    "token_data.shape"
   ]
  },
  {
   "cell_type": "code",
   "execution_count": 92,
   "id": "b45eb2ae",
   "metadata": {},
   "outputs": [
    {
     "data": {
      "text/plain": [
       "(515199, 29)"
      ]
     },
     "execution_count": 92,
     "metadata": {},
     "output_type": "execute_result"
    }
   ],
   "source": [
    "df_raw.shape"
   ]
  },
  {
   "cell_type": "markdown",
   "id": "ddc2123d",
   "metadata": {},
   "source": [
    "we consider rejoin token_data with raw_data after some cleaning and prepration for ML model. since the shape of 2 data sets are the same and order is untouch,it will give us the same order. even split again will keep the test seperate, and we avoid from dataleakage."
   ]
  },
  {
   "cell_type": "code",
   "execution_count": 93,
   "id": "713c1c02",
   "metadata": {},
   "outputs": [],
   "source": [
    "df_join = df_raw.copy().reset_index(drop=True)"
   ]
  },
  {
   "cell_type": "code",
   "execution_count": 94,
   "id": "2ba72b44",
   "metadata": {},
   "outputs": [
    {
     "data": {
      "text/html": [
       "<div>\n",
       "<style scoped>\n",
       "    .dataframe tbody tr th:only-of-type {\n",
       "        vertical-align: middle;\n",
       "    }\n",
       "\n",
       "    .dataframe tbody tr th {\n",
       "        vertical-align: top;\n",
       "    }\n",
       "\n",
       "    .dataframe thead th {\n",
       "        text-align: right;\n",
       "    }\n",
       "</style>\n",
       "<table border=\"1\" class=\"dataframe\">\n",
       "  <thead>\n",
       "    <tr style=\"text-align: right;\">\n",
       "      <th></th>\n",
       "      <th>Additional_Number_of_Scoring</th>\n",
       "      <th>Average_Score</th>\n",
       "      <th>Negative_Review</th>\n",
       "      <th>Review_Total_Negative_Word_Counts</th>\n",
       "      <th>Total_Number_of_Reviews</th>\n",
       "      <th>Positive_Review</th>\n",
       "      <th>Review_Total_Positive_Word_Counts</th>\n",
       "      <th>Total_Number_of_Reviews_Reviewer_Has_Given</th>\n",
       "      <th>Reviewer_Score</th>\n",
       "      <th>Days_Since_Review</th>\n",
       "      <th>...</th>\n",
       "      <th>Reviewer_Nationality_USA</th>\n",
       "      <th>Reviewer_Nationality_Other</th>\n",
       "      <th>Hotel_Address_Amsterdam</th>\n",
       "      <th>Hotel_Address_Barcelona</th>\n",
       "      <th>Hotel_Address_London</th>\n",
       "      <th>Hotel_Address_Milan</th>\n",
       "      <th>Hotel_Address_Paris</th>\n",
       "      <th>Hotel_Address_Vienna</th>\n",
       "      <th>Leisure_Trip</th>\n",
       "      <th>Nights_Stayed</th>\n",
       "    </tr>\n",
       "  </thead>\n",
       "  <tbody>\n",
       "    <tr>\n",
       "      <th>0</th>\n",
       "      <td>194</td>\n",
       "      <td>7.7</td>\n",
       "      <td>I am so angry that i made this post available...</td>\n",
       "      <td>397</td>\n",
       "      <td>1403</td>\n",
       "      <td>Only the park outside of the hotel was beauti...</td>\n",
       "      <td>11</td>\n",
       "      <td>7</td>\n",
       "      <td>0</td>\n",
       "      <td>0</td>\n",
       "      <td>...</td>\n",
       "      <td>0</td>\n",
       "      <td>1</td>\n",
       "      <td>1</td>\n",
       "      <td>0</td>\n",
       "      <td>0</td>\n",
       "      <td>0</td>\n",
       "      <td>0</td>\n",
       "      <td>0</td>\n",
       "      <td>1</td>\n",
       "      <td>6</td>\n",
       "    </tr>\n",
       "    <tr>\n",
       "      <th>1</th>\n",
       "      <td>194</td>\n",
       "      <td>7.7</td>\n",
       "      <td>No Negative</td>\n",
       "      <td>0</td>\n",
       "      <td>1403</td>\n",
       "      <td>No real complaints the hotel was great great ...</td>\n",
       "      <td>105</td>\n",
       "      <td>7</td>\n",
       "      <td>0</td>\n",
       "      <td>0</td>\n",
       "      <td>...</td>\n",
       "      <td>0</td>\n",
       "      <td>0</td>\n",
       "      <td>1</td>\n",
       "      <td>0</td>\n",
       "      <td>0</td>\n",
       "      <td>0</td>\n",
       "      <td>0</td>\n",
       "      <td>0</td>\n",
       "      <td>1</td>\n",
       "      <td>4</td>\n",
       "    </tr>\n",
       "    <tr>\n",
       "      <th>2</th>\n",
       "      <td>194</td>\n",
       "      <td>7.7</td>\n",
       "      <td>Rooms are nice but for elderly a bit difficul...</td>\n",
       "      <td>42</td>\n",
       "      <td>1403</td>\n",
       "      <td>Location was good and staff were ok It is cut...</td>\n",
       "      <td>21</td>\n",
       "      <td>9</td>\n",
       "      <td>0</td>\n",
       "      <td>3</td>\n",
       "      <td>...</td>\n",
       "      <td>0</td>\n",
       "      <td>0</td>\n",
       "      <td>1</td>\n",
       "      <td>0</td>\n",
       "      <td>0</td>\n",
       "      <td>0</td>\n",
       "      <td>0</td>\n",
       "      <td>0</td>\n",
       "      <td>1</td>\n",
       "      <td>3</td>\n",
       "    </tr>\n",
       "    <tr>\n",
       "      <th>3</th>\n",
       "      <td>194</td>\n",
       "      <td>7.7</td>\n",
       "      <td>My room was dirty and I was afraid to walk ba...</td>\n",
       "      <td>210</td>\n",
       "      <td>1403</td>\n",
       "      <td>Great location in nice surroundings the bar a...</td>\n",
       "      <td>26</td>\n",
       "      <td>1</td>\n",
       "      <td>0</td>\n",
       "      <td>3</td>\n",
       "      <td>...</td>\n",
       "      <td>0</td>\n",
       "      <td>0</td>\n",
       "      <td>1</td>\n",
       "      <td>0</td>\n",
       "      <td>0</td>\n",
       "      <td>0</td>\n",
       "      <td>0</td>\n",
       "      <td>0</td>\n",
       "      <td>1</td>\n",
       "      <td>3</td>\n",
       "    </tr>\n",
       "    <tr>\n",
       "      <th>4</th>\n",
       "      <td>194</td>\n",
       "      <td>7.7</td>\n",
       "      <td>You When I booked with your company on line y...</td>\n",
       "      <td>140</td>\n",
       "      <td>1403</td>\n",
       "      <td>Amazing location and building Romantic setting</td>\n",
       "      <td>8</td>\n",
       "      <td>3</td>\n",
       "      <td>0</td>\n",
       "      <td>10</td>\n",
       "      <td>...</td>\n",
       "      <td>0</td>\n",
       "      <td>1</td>\n",
       "      <td>1</td>\n",
       "      <td>0</td>\n",
       "      <td>0</td>\n",
       "      <td>0</td>\n",
       "      <td>0</td>\n",
       "      <td>0</td>\n",
       "      <td>1</td>\n",
       "      <td>2</td>\n",
       "    </tr>\n",
       "  </tbody>\n",
       "</table>\n",
       "<p>5 rows × 29 columns</p>\n",
       "</div>"
      ],
      "text/plain": [
       "   Additional_Number_of_Scoring  Average_Score  \\\n",
       "0                           194            7.7   \n",
       "1                           194            7.7   \n",
       "2                           194            7.7   \n",
       "3                           194            7.7   \n",
       "4                           194            7.7   \n",
       "\n",
       "                                     Negative_Review  \\\n",
       "0   I am so angry that i made this post available...   \n",
       "1                                        No Negative   \n",
       "2   Rooms are nice but for elderly a bit difficul...   \n",
       "3   My room was dirty and I was afraid to walk ba...   \n",
       "4   You When I booked with your company on line y...   \n",
       "\n",
       "   Review_Total_Negative_Word_Counts  Total_Number_of_Reviews  \\\n",
       "0                                397                     1403   \n",
       "1                                  0                     1403   \n",
       "2                                 42                     1403   \n",
       "3                                210                     1403   \n",
       "4                                140                     1403   \n",
       "\n",
       "                                     Positive_Review  \\\n",
       "0   Only the park outside of the hotel was beauti...   \n",
       "1   No real complaints the hotel was great great ...   \n",
       "2   Location was good and staff were ok It is cut...   \n",
       "3   Great location in nice surroundings the bar a...   \n",
       "4    Amazing location and building Romantic setting    \n",
       "\n",
       "   Review_Total_Positive_Word_Counts  \\\n",
       "0                                 11   \n",
       "1                                105   \n",
       "2                                 21   \n",
       "3                                 26   \n",
       "4                                  8   \n",
       "\n",
       "   Total_Number_of_Reviews_Reviewer_Has_Given  Reviewer_Score  \\\n",
       "0                                           7               0   \n",
       "1                                           7               0   \n",
       "2                                           9               0   \n",
       "3                                           1               0   \n",
       "4                                           3               0   \n",
       "\n",
       "   Days_Since_Review  ...  Reviewer_Nationality_USA  \\\n",
       "0                  0  ...                         0   \n",
       "1                  0  ...                         0   \n",
       "2                  3  ...                         0   \n",
       "3                  3  ...                         0   \n",
       "4                 10  ...                         0   \n",
       "\n",
       "   Reviewer_Nationality_Other  Hotel_Address_Amsterdam  \\\n",
       "0                           1                        1   \n",
       "1                           0                        1   \n",
       "2                           0                        1   \n",
       "3                           0                        1   \n",
       "4                           1                        1   \n",
       "\n",
       "   Hotel_Address_Barcelona  Hotel_Address_London  Hotel_Address_Milan  \\\n",
       "0                        0                     0                    0   \n",
       "1                        0                     0                    0   \n",
       "2                        0                     0                    0   \n",
       "3                        0                     0                    0   \n",
       "4                        0                     0                    0   \n",
       "\n",
       "   Hotel_Address_Paris  Hotel_Address_Vienna  Leisure_Trip  Nights_Stayed  \n",
       "0                    0                     0             1              6  \n",
       "1                    0                     0             1              4  \n",
       "2                    0                     0             1              3  \n",
       "3                    0                     0             1              3  \n",
       "4                    0                     0             1              2  \n",
       "\n",
       "[5 rows x 29 columns]"
      ]
     },
     "execution_count": 94,
     "metadata": {},
     "output_type": "execute_result"
    }
   ],
   "source": [
    "df_join.head(5)"
   ]
  },
  {
   "cell_type": "code",
   "execution_count": 95,
   "id": "b1ed0b72",
   "metadata": {},
   "outputs": [],
   "source": [
    "#drop some of unuseful columns along with positive and negative reviews\n",
    "df_join.drop(columns=['Positive_Review','Negative_Review','Days_Since_Review', 'Latitude', 'Longitude', 'Day', 'Month', 'Year',\n",
    "                      'Review_Total_Positive_Word_Counts','Total_Number_of_Reviews','Review_Total_Negative_Word_Counts','Additional_Number_of_Scoring'],inplace=True)"
   ]
  },
  {
   "cell_type": "code",
   "execution_count": 96,
   "id": "ae3732f8",
   "metadata": {},
   "outputs": [],
   "source": [
    "# drop refrence category of dummy variables\n",
    "df_join.drop(columns=['Hotel_Address_Vienna','Reviewer_Nationality_Australia'],inplace=True)"
   ]
  },
  {
   "cell_type": "code",
   "execution_count": 97,
   "id": "18af7060",
   "metadata": {},
   "outputs": [
    {
     "data": {
      "text/plain": [
       "(515199, 15)"
      ]
     },
     "execution_count": 97,
     "metadata": {},
     "output_type": "execute_result"
    }
   ],
   "source": [
    "df_join.shape"
   ]
  },
  {
   "cell_type": "markdown",
   "id": "e80a8041",
   "metadata": {},
   "source": [
    "time to join data sets and creat a data sets for ML models"
   ]
  },
  {
   "cell_type": "code",
   "execution_count": 155,
   "id": "08c2f978",
   "metadata": {},
   "outputs": [],
   "source": [
    "\n",
    "df_train = pd.concat([df_join, token_data], axis=1)\n"
   ]
  },
  {
   "cell_type": "code",
   "execution_count": 156,
   "id": "b819fa53",
   "metadata": {},
   "outputs": [
    {
     "data": {
      "text/plain": [
       "(515199, 1015)"
      ]
     },
     "execution_count": 156,
     "metadata": {},
     "output_type": "execute_result"
    }
   ],
   "source": [
    "df_train.shape"
   ]
  },
  {
   "cell_type": "code",
   "execution_count": 157,
   "id": "60bdd206",
   "metadata": {},
   "outputs": [
    {
     "data": {
      "text/html": [
       "<div>\n",
       "<style scoped>\n",
       "    .dataframe tbody tr th:only-of-type {\n",
       "        vertical-align: middle;\n",
       "    }\n",
       "\n",
       "    .dataframe tbody tr th {\n",
       "        vertical-align: top;\n",
       "    }\n",
       "\n",
       "    .dataframe thead th {\n",
       "        text-align: right;\n",
       "    }\n",
       "</style>\n",
       "<table border=\"1\" class=\"dataframe\">\n",
       "  <thead>\n",
       "    <tr style=\"text-align: right;\">\n",
       "      <th></th>\n",
       "      <th>Average_Score</th>\n",
       "      <th>Total_Number_of_Reviews_Reviewer_Has_Given</th>\n",
       "      <th>Reviewer_Score</th>\n",
       "      <th>Reviewer_Nationality_Ireland</th>\n",
       "      <th>Reviewer_Nationality_UAE</th>\n",
       "      <th>Reviewer_Nationality_UK</th>\n",
       "      <th>Reviewer_Nationality_USA</th>\n",
       "      <th>Reviewer_Nationality_Other</th>\n",
       "      <th>Hotel_Address_Amsterdam</th>\n",
       "      <th>Hotel_Address_Barcelona</th>\n",
       "      <th>...</th>\n",
       "      <th>neg_window</th>\n",
       "      <th>neg_without</th>\n",
       "      <th>neg_work</th>\n",
       "      <th>neg_worst</th>\n",
       "      <th>neg_worth</th>\n",
       "      <th>neg_would</th>\n",
       "      <th>neg_would like</th>\n",
       "      <th>neg_would nice</th>\n",
       "      <th>neg_wrong</th>\n",
       "      <th>neg_year</th>\n",
       "    </tr>\n",
       "  </thead>\n",
       "  <tbody>\n",
       "    <tr>\n",
       "      <th>0</th>\n",
       "      <td>7.7</td>\n",
       "      <td>7</td>\n",
       "      <td>0</td>\n",
       "      <td>0</td>\n",
       "      <td>0</td>\n",
       "      <td>0</td>\n",
       "      <td>0</td>\n",
       "      <td>1</td>\n",
       "      <td>1</td>\n",
       "      <td>0</td>\n",
       "      <td>...</td>\n",
       "      <td>3</td>\n",
       "      <td>0</td>\n",
       "      <td>0</td>\n",
       "      <td>0</td>\n",
       "      <td>0</td>\n",
       "      <td>1</td>\n",
       "      <td>0</td>\n",
       "      <td>0</td>\n",
       "      <td>0</td>\n",
       "      <td>0</td>\n",
       "    </tr>\n",
       "    <tr>\n",
       "      <th>1</th>\n",
       "      <td>7.7</td>\n",
       "      <td>7</td>\n",
       "      <td>0</td>\n",
       "      <td>1</td>\n",
       "      <td>0</td>\n",
       "      <td>0</td>\n",
       "      <td>0</td>\n",
       "      <td>0</td>\n",
       "      <td>1</td>\n",
       "      <td>0</td>\n",
       "      <td>...</td>\n",
       "      <td>0</td>\n",
       "      <td>0</td>\n",
       "      <td>0</td>\n",
       "      <td>0</td>\n",
       "      <td>0</td>\n",
       "      <td>0</td>\n",
       "      <td>0</td>\n",
       "      <td>0</td>\n",
       "      <td>0</td>\n",
       "      <td>0</td>\n",
       "    </tr>\n",
       "    <tr>\n",
       "      <th>2</th>\n",
       "      <td>7.7</td>\n",
       "      <td>9</td>\n",
       "      <td>0</td>\n",
       "      <td>0</td>\n",
       "      <td>0</td>\n",
       "      <td>0</td>\n",
       "      <td>0</td>\n",
       "      <td>0</td>\n",
       "      <td>1</td>\n",
       "      <td>0</td>\n",
       "      <td>...</td>\n",
       "      <td>0</td>\n",
       "      <td>0</td>\n",
       "      <td>0</td>\n",
       "      <td>0</td>\n",
       "      <td>0</td>\n",
       "      <td>0</td>\n",
       "      <td>0</td>\n",
       "      <td>0</td>\n",
       "      <td>0</td>\n",
       "      <td>0</td>\n",
       "    </tr>\n",
       "    <tr>\n",
       "      <th>3</th>\n",
       "      <td>7.7</td>\n",
       "      <td>1</td>\n",
       "      <td>0</td>\n",
       "      <td>0</td>\n",
       "      <td>0</td>\n",
       "      <td>1</td>\n",
       "      <td>0</td>\n",
       "      <td>0</td>\n",
       "      <td>1</td>\n",
       "      <td>0</td>\n",
       "      <td>...</td>\n",
       "      <td>0</td>\n",
       "      <td>0</td>\n",
       "      <td>0</td>\n",
       "      <td>0</td>\n",
       "      <td>0</td>\n",
       "      <td>0</td>\n",
       "      <td>0</td>\n",
       "      <td>0</td>\n",
       "      <td>0</td>\n",
       "      <td>0</td>\n",
       "    </tr>\n",
       "    <tr>\n",
       "      <th>4</th>\n",
       "      <td>7.7</td>\n",
       "      <td>3</td>\n",
       "      <td>0</td>\n",
       "      <td>0</td>\n",
       "      <td>0</td>\n",
       "      <td>0</td>\n",
       "      <td>0</td>\n",
       "      <td>1</td>\n",
       "      <td>1</td>\n",
       "      <td>0</td>\n",
       "      <td>...</td>\n",
       "      <td>0</td>\n",
       "      <td>0</td>\n",
       "      <td>0</td>\n",
       "      <td>0</td>\n",
       "      <td>0</td>\n",
       "      <td>0</td>\n",
       "      <td>0</td>\n",
       "      <td>0</td>\n",
       "      <td>0</td>\n",
       "      <td>0</td>\n",
       "    </tr>\n",
       "  </tbody>\n",
       "</table>\n",
       "<p>5 rows × 1015 columns</p>\n",
       "</div>"
      ],
      "text/plain": [
       "   Average_Score  Total_Number_of_Reviews_Reviewer_Has_Given  Reviewer_Score  \\\n",
       "0            7.7                                           7               0   \n",
       "1            7.7                                           7               0   \n",
       "2            7.7                                           9               0   \n",
       "3            7.7                                           1               0   \n",
       "4            7.7                                           3               0   \n",
       "\n",
       "   Reviewer_Nationality_Ireland  Reviewer_Nationality_UAE  \\\n",
       "0                             0                         0   \n",
       "1                             1                         0   \n",
       "2                             0                         0   \n",
       "3                             0                         0   \n",
       "4                             0                         0   \n",
       "\n",
       "   Reviewer_Nationality_UK  Reviewer_Nationality_USA  \\\n",
       "0                        0                         0   \n",
       "1                        0                         0   \n",
       "2                        0                         0   \n",
       "3                        1                         0   \n",
       "4                        0                         0   \n",
       "\n",
       "   Reviewer_Nationality_Other  Hotel_Address_Amsterdam  \\\n",
       "0                           1                        1   \n",
       "1                           0                        1   \n",
       "2                           0                        1   \n",
       "3                           0                        1   \n",
       "4                           1                        1   \n",
       "\n",
       "   Hotel_Address_Barcelona  ...  neg_window  neg_without  neg_work  neg_worst  \\\n",
       "0                        0  ...           3            0         0          0   \n",
       "1                        0  ...           0            0         0          0   \n",
       "2                        0  ...           0            0         0          0   \n",
       "3                        0  ...           0            0         0          0   \n",
       "4                        0  ...           0            0         0          0   \n",
       "\n",
       "   neg_worth  neg_would  neg_would like  neg_would nice  neg_wrong  neg_year  \n",
       "0          0          1               0               0          0         0  \n",
       "1          0          0               0               0          0         0  \n",
       "2          0          0               0               0          0         0  \n",
       "3          0          0               0               0          0         0  \n",
       "4          0          0               0               0          0         0  \n",
       "\n",
       "[5 rows x 1015 columns]"
      ]
     },
     "execution_count": 157,
     "metadata": {},
     "output_type": "execute_result"
    }
   ],
   "source": [
    "df_train.head()"
   ]
  },
  {
   "cell_type": "markdown",
   "id": "14054b8c",
   "metadata": {},
   "source": [
    "now split data in a way without shuffling to keep the order for X and y, which keep y without get info from X"
   ]
  },
  {
   "cell_type": "code",
   "execution_count": 158,
   "id": "9e46a1f0",
   "metadata": {},
   "outputs": [],
   "source": [
    "X = df_train.drop('Reviewer_Score',axis=1)\n",
    "y = df_train['Reviewer_Score']"
   ]
  },
  {
   "cell_type": "code",
   "execution_count": 159,
   "id": "4df1bf81",
   "metadata": {},
   "outputs": [],
   "source": [
    "X_train, X_test, y_train, y_test = train_test_split(X, y, test_size=0.2, shuffle=False, stratify=None)"
   ]
  },
  {
   "cell_type": "code",
   "execution_count": 103,
   "id": "21881898",
   "metadata": {},
   "outputs": [
    {
     "data": {
      "text/html": [
       "<style>#sk-container-id-1 {color: black;}#sk-container-id-1 pre{padding: 0;}#sk-container-id-1 div.sk-toggleable {background-color: white;}#sk-container-id-1 label.sk-toggleable__label {cursor: pointer;display: block;width: 100%;margin-bottom: 0;padding: 0.3em;box-sizing: border-box;text-align: center;}#sk-container-id-1 label.sk-toggleable__label-arrow:before {content: \"▸\";float: left;margin-right: 0.25em;color: #696969;}#sk-container-id-1 label.sk-toggleable__label-arrow:hover:before {color: black;}#sk-container-id-1 div.sk-estimator:hover label.sk-toggleable__label-arrow:before {color: black;}#sk-container-id-1 div.sk-toggleable__content {max-height: 0;max-width: 0;overflow: hidden;text-align: left;background-color: #f0f8ff;}#sk-container-id-1 div.sk-toggleable__content pre {margin: 0.2em;color: black;border-radius: 0.25em;background-color: #f0f8ff;}#sk-container-id-1 input.sk-toggleable__control:checked~div.sk-toggleable__content {max-height: 200px;max-width: 100%;overflow: auto;}#sk-container-id-1 input.sk-toggleable__control:checked~label.sk-toggleable__label-arrow:before {content: \"▾\";}#sk-container-id-1 div.sk-estimator input.sk-toggleable__control:checked~label.sk-toggleable__label {background-color: #d4ebff;}#sk-container-id-1 div.sk-label input.sk-toggleable__control:checked~label.sk-toggleable__label {background-color: #d4ebff;}#sk-container-id-1 input.sk-hidden--visually {border: 0;clip: rect(1px 1px 1px 1px);clip: rect(1px, 1px, 1px, 1px);height: 1px;margin: -1px;overflow: hidden;padding: 0;position: absolute;width: 1px;}#sk-container-id-1 div.sk-estimator {font-family: monospace;background-color: #f0f8ff;border: 1px dotted black;border-radius: 0.25em;box-sizing: border-box;margin-bottom: 0.5em;}#sk-container-id-1 div.sk-estimator:hover {background-color: #d4ebff;}#sk-container-id-1 div.sk-parallel-item::after {content: \"\";width: 100%;border-bottom: 1px solid gray;flex-grow: 1;}#sk-container-id-1 div.sk-label:hover label.sk-toggleable__label {background-color: #d4ebff;}#sk-container-id-1 div.sk-serial::before {content: \"\";position: absolute;border-left: 1px solid gray;box-sizing: border-box;top: 0;bottom: 0;left: 50%;z-index: 0;}#sk-container-id-1 div.sk-serial {display: flex;flex-direction: column;align-items: center;background-color: white;padding-right: 0.2em;padding-left: 0.2em;position: relative;}#sk-container-id-1 div.sk-item {position: relative;z-index: 1;}#sk-container-id-1 div.sk-parallel {display: flex;align-items: stretch;justify-content: center;background-color: white;position: relative;}#sk-container-id-1 div.sk-item::before, #sk-container-id-1 div.sk-parallel-item::before {content: \"\";position: absolute;border-left: 1px solid gray;box-sizing: border-box;top: 0;bottom: 0;left: 50%;z-index: -1;}#sk-container-id-1 div.sk-parallel-item {display: flex;flex-direction: column;z-index: 1;position: relative;background-color: white;}#sk-container-id-1 div.sk-parallel-item:first-child::after {align-self: flex-end;width: 50%;}#sk-container-id-1 div.sk-parallel-item:last-child::after {align-self: flex-start;width: 50%;}#sk-container-id-1 div.sk-parallel-item:only-child::after {width: 0;}#sk-container-id-1 div.sk-dashed-wrapped {border: 1px dashed gray;margin: 0 0.4em 0.5em 0.4em;box-sizing: border-box;padding-bottom: 0.4em;background-color: white;}#sk-container-id-1 div.sk-label label {font-family: monospace;font-weight: bold;display: inline-block;line-height: 1.2em;}#sk-container-id-1 div.sk-label-container {text-align: center;}#sk-container-id-1 div.sk-container {/* jupyter's `normalize.less` sets `[hidden] { display: none; }` but bootstrap.min.css set `[hidden] { display: none !important; }` so we also need the `!important` here to be able to override the default hidden behavior on the sphinx rendered scikit-learn.org. See: https://github.com/scikit-learn/scikit-learn/issues/21755 */display: inline-block !important;position: relative;}#sk-container-id-1 div.sk-text-repr-fallback {display: none;}</style><div id=\"sk-container-id-1\" class=\"sk-top-container\"><div class=\"sk-text-repr-fallback\"><pre>LogisticRegression(max_iter=1000)</pre><b>In a Jupyter environment, please rerun this cell to show the HTML representation or trust the notebook. <br />On GitHub, the HTML representation is unable to render, please try loading this page with nbviewer.org.</b></div><div class=\"sk-container\" hidden><div class=\"sk-item\"><div class=\"sk-estimator sk-toggleable\"><input class=\"sk-toggleable__control sk-hidden--visually\" id=\"sk-estimator-id-1\" type=\"checkbox\" checked><label for=\"sk-estimator-id-1\" class=\"sk-toggleable__label sk-toggleable__label-arrow\">LogisticRegression</label><div class=\"sk-toggleable__content\"><pre>LogisticRegression(max_iter=1000)</pre></div></div></div></div></div>"
      ],
      "text/plain": [
       "LogisticRegression(max_iter=1000)"
      ]
     },
     "execution_count": 103,
     "metadata": {},
     "output_type": "execute_result"
    }
   ],
   "source": [
    "# Initialize and fit the logistic regression model\n",
    "log_reg = LogisticRegression(max_iter=1000)\n",
    "log_reg.fit(X_train, y_train)"
   ]
  },
  {
   "cell_type": "code",
   "execution_count": 104,
   "id": "4c7fc207",
   "metadata": {
    "scrolled": false
   },
   "outputs": [
    {
     "name": "stdout",
     "output_type": "stream",
     "text": [
      "Train Accuracy: 0.7967459160178475\n",
      "Test Accuracy: 0.7907608695652174\n"
     ]
    }
   ],
   "source": [
    "from sklearn.metrics import accuracy_score\n",
    "\n",
    "# Predictions\n",
    "train_preds = log_reg.predict(X_train)\n",
    "test_preds = log_reg.predict(X_test)\n",
    "\n",
    "# Accuracy\n",
    "train_accuracy = accuracy_score(y_train, train_preds)\n",
    "test_accuracy = accuracy_score(y_test, test_preds)\n",
    "\n",
    "print(f\"Train Accuracy: {train_accuracy}\")\n",
    "print(f\"Test Accuracy: {test_accuracy}\")"
   ]
  },
  {
   "cell_type": "markdown",
   "id": "4c065691",
   "metadata": {},
   "source": [
    "### top 20 for positive reviews"
   ]
  },
  {
   "cell_type": "code",
   "execution_count": 105,
   "id": "30dcbe46",
   "metadata": {},
   "outputs": [
    {
     "name": "stdout",
     "output_type": "stream",
     "text": [
      "Top 20 words for positive sentiment: [('walk', 1.7745447981776294), ('fabul', 1.3504393321161796), ('plenti', 1.0323036811062665), ('abl', 0.9543320499071429), ('food', 0.8664257430271541), ('awesom', 0.8658027359163853), ('charm', 0.8363907286378811), ('tidi', 0.8147414073000803), ('fresh', 0.8108576261235756), ('profession', 0.8073836284760311), ('floor', 0.7812569367526404), ('modern', 0.775075385996315), ('fab', 0.7633380827001416), ('famili', 0.7192064100305201), ('bedroom', 0.6887035310538666), ('bottl', 0.658815741645705), ('friendli help', 0.6455316498076206), ('locat', 0.6264314335464289), ('went', 0.6130953710224855), ('hyde park', 0.6012967045473194)]\n"
     ]
    }
   ],
   "source": [
    "#  CountVectorizer instance\n",
    "feature_names = count_vectorizer.get_feature_names_out()\n",
    "\n",
    "# Get the coefficients from the logistic regression model\n",
    "coefficients = log_reg.coef_[0]\n",
    "\n",
    "# Combine feature names and coefficients\n",
    "features_coefficients = zip(feature_names, coefficients)\n",
    "\n",
    "# Sort by coefficient value and get top 20 for positive\n",
    "top_positive = sorted(features_coefficients, key=lambda x: x[1], reverse=True)[:20]\n",
    "\n",
    "print(\"Top 20 words for positive sentiment:\", top_positive)"
   ]
  },
  {
   "cell_type": "code",
   "execution_count": 106,
   "id": "9b6f7e0c",
   "metadata": {},
   "outputs": [],
   "source": [
    "# top_positive lists of words and coefficients\n",
    "df_positive = pd.DataFrame(top_positive, columns=['Word', 'Coefficient'])"
   ]
  },
  {
   "cell_type": "code",
   "execution_count": 107,
   "id": "cd042359",
   "metadata": {
    "scrolled": true
   },
   "outputs": [
    {
     "data": {
      "image/png": "[encoded data removed]",
      "text/plain": [
       "<Figure size 720x432 with 1 Axes>"
      ]
     },
     "metadata": {
      "needs_background": "light"
     },
     "output_type": "display_data"
    }
   ],
   "source": [
    "# Plot for positive sentiment words\n",
    "plt.figure(figsize=(10, 6))\n",
    "plt.barh(df_positive['Word'], df_positive['Coefficient'], color='green')\n",
    "plt.xlabel('Coefficient')\n",
    "plt.title('Top 20 Words for Positive Sentiment')\n",
    "plt.gca().invert_yaxis()  # To display the highest values at the top\n",
    "plt.show()\n",
    "\n"
   ]
  },
  {
   "cell_type": "markdown",
   "id": "1492aae3",
   "metadata": {},
   "source": [
    "### Key Insights from Top Positive Sentiment Words\n",
    "\n",
    "1. **Location is Crucial**: Words like 'walk' and 'locat' indicate that guests highly value proximity to attractions.\n",
    "\n",
    "2. **Quality of Facilities and Service**: Terms such as 'modern', 'tidi', and 'profession' highlight the importance of high-quality facilities and professional service.\n",
    "\n",
    "3. **Food and Amenities**: The significance of dining options and amenities is underscored by words like 'food' and 'bottl'.\n",
    "\n",
    "4. **Atmosphere and Comfort**: A pleasant atmosphere and comfort are valued, as suggested by 'fabul', 'awesom', and 'charm'.\n",
    "\n",
    "5. **Excellent Customer Service**: The term 'friendli help' emphasizes the priority placed on friendly and helpful customer service.\n"
   ]
  },
  {
   "cell_type": "markdown",
   "id": "6444e178",
   "metadata": {},
   "source": [
    "### top 20 for negative reviews"
   ]
  },
  {
   "cell_type": "code",
   "execution_count": 108,
   "id": "c4bbaf71",
   "metadata": {},
   "outputs": [
    {
     "name": "stdout",
     "output_type": "stream",
     "text": [
      "Top 20 words for negative sentiment: [('person', -1.066847971971402), ('pictur', -1.0012653941451297), ('face', -0.7531724252531703), ('side', -0.5706273472633443), ('done', -0.4496952826402799), ('view', -0.4366905021705401), ('full', -0.41256964142138), ('cold', -0.4065496984073498), ('call', -0.40556391614938203), ('sign', -0.38047291690485596), ('ok', -0.3793452945802618), ('feel', -0.36622053119802617), ('access', -0.3547674001666041), ('small', -0.31890022567720167), ('sound', -0.3028189555248939), ('pillow', -0.2784675177631736), ('reason', -0.27071251775156935), ('coffe', -0.2706940716866133), ('mention', -0.26391491597491123), ('tea coffe', -0.2600349641687515)]\n"
     ]
    }
   ],
   "source": [
    "#  CountVectorizer instance\n",
    "feature_names = count_vectorizer_neg.get_feature_names_out()\n",
    "\n",
    "# Get the coefficients from the logistic regression model\n",
    "coefficients = log_reg.coef_[0]\n",
    "\n",
    "# Combine feature names and coefficients\n",
    "features_coefficients = zip(feature_names, coefficients)\n",
    "\n",
    "# Sort by coefficient value and get top 20 for negative\n",
    "top_negative = sorted(features_coefficients, key=lambda x: x[1])[:20]\n",
    "\n",
    "print(\"Top 20 words for negative sentiment:\", top_negative)"
   ]
  },
  {
   "cell_type": "code",
   "execution_count": 109,
   "id": "dea26d48",
   "metadata": {},
   "outputs": [],
   "source": [
    "# top_negative lists of words and coefficients\n",
    "df_negative = pd.DataFrame(top_negative, columns=['Word', 'Coefficient'])"
   ]
  },
  {
   "cell_type": "code",
   "execution_count": 110,
   "id": "603f9368",
   "metadata": {},
   "outputs": [
    {
     "data": {
      "image/png": "[encoded data removed]",
      "text/plain": [
       "<Figure size 720x432 with 1 Axes>"
      ]
     },
     "metadata": {
      "needs_background": "light"
     },
     "output_type": "display_data"
    }
   ],
   "source": [
    "# Plot for negative sentiment words\n",
    "plt.figure(figsize=(10, 6))\n",
    "plt.barh(df_negative['Word'], df_negative['Coefficient'], color='red')\n",
    "plt.xlabel('Coefficient')\n",
    "plt.title('Top 20 Words for Negative Sentiment')\n",
    "plt.gca().invert_yaxis()  # To display the highest values at the top\n",
    "plt.show()\n"
   ]
  },
  {
   "cell_type": "markdown",
   "id": "62292187",
   "metadata": {},
   "source": [
    "### Key Insights from Top Negative Sentiment Words\n",
    "\n",
    "1. **Personal Experience**: Words like 'person' and 'feel' suggest that individual dissatisfaction is a significant factor in negative reviews.\n",
    "\n",
    "2. **Room Quality and Views**: Terms such as 'pictur', 'view', and 'small' indicate issues with the quality of rooms and unmet expectations regarding views.\n",
    "\n",
    "3. **Amenities and Comfort**: References to 'cold', 'pillow', and 'tea coffe' highlight discomfort with room amenities and temperature.\n",
    "\n",
    "4. **Service and Responsiveness**: 'call' and 'done' imply dissatisfaction with the responsiveness of services and problem resolution.\n",
    "\n",
    "5. **Facility Accessibility**: The mention of 'access' points to concerns about the accessibility of facilities.\n"
   ]
  },
  {
   "cell_type": "markdown",
   "id": "b48f8079",
   "metadata": {},
   "source": [
    "Lets do some metrics for LogisticRegression"
   ]
  },
  {
   "cell_type": "code",
   "execution_count": 160,
   "id": "4642cca7",
   "metadata": {},
   "outputs": [
    {
     "data": {
      "image/png": "[encoded data removed]",
      "text/plain": [
       "<Figure size 432x288 with 2 Axes>"
      ]
     },
     "metadata": {
      "needs_background": "light"
     },
     "output_type": "display_data"
    }
   ],
   "source": [
    "from sklearn.metrics import confusion_matrix\n",
    "\n",
    "#create prediction\n",
    "y_pred = log_reg.predict(X_test)\n",
    "# Generate the confusion matrix\n",
    "conf_matrix = confusion_matrix(y_test, y_pred)\n",
    "\n",
    "# Plot the confusion matrix\n",
    "sns.heatmap(conf_matrix, annot=True, fmt='g', cmap='Blues')\n",
    "plt.xlabel('Predicted labels')\n",
    "plt.ylabel('True labels')\n",
    "plt.title('Confusion Matrix')\n",
    "plt.show()"
   ]
  },
  {
   "cell_type": "code",
   "execution_count": 162,
   "id": "a333e8c2",
   "metadata": {
    "scrolled": false
   },
   "outputs": [
    {
     "name": "stdout",
     "output_type": "stream",
     "text": [
      "Precision: 0.8087383751535357\n",
      "Recall: 0.8412118999817485\n",
      "F1 Score: 0.8246555734478439\n"
     ]
    }
   ],
   "source": [
    "from sklearn.metrics import precision_score, recall_score, f1_score\n",
    "\n",
    "# Calculate precision, recall, and F1 score\n",
    "precision = precision_score(y_test, y_pred)  # Precision: Correct positive predictions relative to total predicted positives\n",
    "recall = recall_score(y_test, y_pred)       # Recall: Correct positive predictions relative to actual positives\n",
    "f1 = f1_score(y_test, y_pred)               # F1 Score: Harmonic mean of precision and recall\n",
    "\n",
    "# Print the scores\n",
    "print(f\"Precision: {precision}\")\n",
    "print(f\"Recall: {recall}\")\n",
    "print(f\"F1 Score: {f1}\")\n"
   ]
  },
  {
   "cell_type": "markdown",
   "id": "38e1035c",
   "metadata": {},
   "source": [
    "#### Insights about LogisticRegression"
   ]
  },
  {
   "cell_type": "markdown",
   "id": "1276e4d7",
   "metadata": {},
   "source": [
    "High Precision (0.81): Model has a high precision score, indicating that it is quite accurate when it predicts a positive class. In other words, when it predicts a positive sentiment, it is correct about 81% of the time.\n",
    "\n",
    "Good Recall (0.84): The recall score is also high, suggesting that the model is effective at identifying most of the actual positive cases. It correctly identifies approximately 84% of all positive sentiments. This is important if it's crucial to capture as many positive cases as possible.\n",
    "\n",
    "Balanced F1 Score (0.82): The F1 score, which balances precision and recall, is around 0.82. This indicates a good balance between precision and recall, making the model reliable for scenarios where both false positives and false negatives are of concern.\n",
    "\n",
    "##### Additional Considerations:\n",
    "\n",
    "Feature Importance: Investigate which features are most influential in predicting positive sentiment. This can provide insights into what factors most strongly correlate with positive reviews.\n",
    "\n",
    "Error Analysis: Conduct a detailed error analysis to understand the cases where the model fails, which can guide further improvements.\n",
    "\n"
   ]
  },
  {
   "cell_type": "markdown",
   "id": "28cd72c4",
   "metadata": {},
   "source": [
    "#### 4. Using a pipeline, combine PCA with a decision tree classifier."
   ]
  },
  {
   "cell_type": "markdown",
   "id": "2aa8e041",
   "metadata": {},
   "source": [
    "Optimize at least 3 hyperparameters including the maximum tree depth and the minimum number of data points required on each leaf node.\n",
    "You can use 20 principle components.\n",
    "The best parameters should be found using 5-fold cross validation."
   ]
  },
  {
   "cell_type": "code",
   "execution_count": null,
   "id": "9514a554",
   "metadata": {},
   "outputs": [],
   "source": []
  },
  {
   "cell_type": "code",
   "execution_count": 113,
   "id": "2fc5a049",
   "metadata": {},
   "outputs": [],
   "source": [
    "from sklearn.decomposition import PCA\n",
    "from sklearn.tree import DecisionTreeClassifier\n",
    "from sklearn.pipeline import Pipeline\n",
    "from sklearn.model_selection import GridSearchCV\n",
    "from sklearn.model_selection import cross_val_score"
   ]
  },
  {
   "cell_type": "markdown",
   "id": "eae168d0",
   "metadata": {},
   "source": [
    "first tried to do some pipe line but the memory is too full to handle the data. lets run decision tree with default parameters"
   ]
  },
  {
   "cell_type": "code",
   "execution_count": 114,
   "id": "6dafae11",
   "metadata": {},
   "outputs": [],
   "source": [
    "# Initialize the Decision Tree Classifier with default parameters\n",
    "decision_tree = DecisionTreeClassifier()\n"
   ]
  },
  {
   "cell_type": "code",
   "execution_count": 115,
   "id": "c99e82f8",
   "metadata": {},
   "outputs": [
    {
     "name": "stdout",
     "output_type": "stream",
     "text": [
      "Cross-validation scores: [0.7025791  0.69906104 0.70056531 0.67961471 0.68673193]\n",
      "Average cross-validation score: 0.6937104200600092\n"
     ]
    }
   ],
   "source": [
    "# Perform 5-fold cross-validation\n",
    "cv_scores = cross_val_score(decision_tree, X_train, y_train, cv=5)\n",
    "\n",
    "# Print the cross-validation scores\n",
    "print(\"Cross-validation scores:\", cv_scores)\n",
    "\n",
    "# Calculate the average score\n",
    "average_cv_score = cv_scores.mean()\n",
    "print(\"Average cross-validation score:\", average_cv_score)\n"
   ]
  },
  {
   "cell_type": "markdown",
   "id": "dac2871d",
   "metadata": {},
   "source": [
    "time for run the cross-validation was around 10 minutes, with default parameter of DecisionTreeClassifier. which indicate time consuming and Not efficency of this model. also lower Cross-validation score compare to Logestic regression show that without hyperparameter tuning logestic regression do a better prediction."
   ]
  },
  {
   "cell_type": "markdown",
   "id": "6640bdd2",
   "metadata": {},
   "source": [
    "here is definition of pipeline and gridsearch without run them"
   ]
  },
  {
   "cell_type": "code",
   "execution_count": null,
   "id": "dae874da",
   "metadata": {},
   "outputs": [],
   "source": [
    "# Define the hyperparameters to optimize\n",
    "parameters = {\n",
    "    'clf__max_depth': [i for i in range(1,25)],\n",
    "    'clf__min_samples_leaf': [1, 2, 4, 6, 8],\n",
    "    'clf__criterion': ['gini', 'entropy']  \n",
    "}\n"
   ]
  },
  {
   "cell_type": "code",
   "execution_count": null,
   "id": "aaaa4bfa",
   "metadata": {},
   "outputs": [],
   "source": [
    "# Initialize GridSearchCV with 5-fold cross-validation\n",
    "grid_search = GridSearchCV(pipeline, parameters, cv=5, n_jobs=-1)\n",
    "\n",
    "# Fit GridSearchCV\n",
    "grid_search.fit(X_train, y_train)\n"
   ]
  },
  {
   "cell_type": "code",
   "execution_count": null,
   "id": "834ac70b",
   "metadata": {},
   "outputs": [],
   "source": [
    "# Print the best parameters\n",
    "print(\"Best parameters found:\")\n",
    "print(grid_search.best_params_)\n"
   ]
  },
  {
   "cell_type": "code",
   "execution_count": null,
   "id": "d86e0e56",
   "metadata": {},
   "outputs": [],
   "source": [
    "# Evaluate the best model on the test set\n",
    "best_model = grid_search.best_estimator_\n",
    "test_score = best_model.score(X_test, y_test)\n",
    "print(f\"Test score of the best model: {test_score}\")\n"
   ]
  },
  {
   "cell_type": "markdown",
   "id": "aa38747f",
   "metadata": {},
   "source": [
    "for this pipe line the memory get error. try to change the data type of columns"
   ]
  },
  {
   "cell_type": "code",
   "execution_count": null,
   "id": "11e72558",
   "metadata": {},
   "outputs": [],
   "source": []
  },
  {
   "cell_type": "code",
   "execution_count": 117,
   "id": "498c7049",
   "metadata": {
    "scrolled": false
   },
   "outputs": [
    {
     "name": "stdout",
     "output_type": "stream",
     "text": [
      "<class 'pandas.core.frame.DataFrame'>\n",
      "RangeIndex: 515199 entries, 0 to 515198\n",
      "Columns: 1015 entries, Average_Score to neg_year\n",
      "dtypes: float64(1), int64(1014)\n",
      "memory usage: 3.9 GB\n"
     ]
    }
   ],
   "source": [
    "df_train.info()"
   ]
  },
  {
   "cell_type": "markdown",
   "id": "b1b4718c",
   "metadata": {},
   "source": [
    "since all of other columns of df_train coming from df_join, we can drop those columns and using spares method for run the pipelines"
   ]
  },
  {
   "cell_type": "code",
   "execution_count": 118,
   "id": "599c32b1",
   "metadata": {
    "scrolled": true
   },
   "outputs": [
    {
     "data": {
      "text/plain": [
       "Index(['Average_Score', 'Total_Number_of_Reviews_Reviewer_Has_Given',\n",
       "       'Reviewer_Score', 'Reviewer_Nationality_Ireland',\n",
       "       'Reviewer_Nationality_UAE', 'Reviewer_Nationality_UK',\n",
       "       'Reviewer_Nationality_USA', 'Reviewer_Nationality_Other',\n",
       "       'Hotel_Address_Amsterdam', 'Hotel_Address_Barcelona',\n",
       "       'Hotel_Address_London', 'Hotel_Address_Milan', 'Hotel_Address_Paris',\n",
       "       'Leisure_Trip', 'Nights_Stayed'],\n",
       "      dtype='object')"
      ]
     },
     "execution_count": 118,
     "metadata": {},
     "output_type": "execute_result"
    }
   ],
   "source": [
    "df_join.columns"
   ]
  },
  {
   "cell_type": "code",
   "execution_count": 119,
   "id": "065ba09e",
   "metadata": {},
   "outputs": [],
   "source": [
    "df_train.drop(['Average_Score', 'Total_Number_of_Reviews_Reviewer_Has_Given', 'Reviewer_Nationality_Ireland',\n",
    "       'Reviewer_Nationality_UAE', 'Reviewer_Nationality_UK',\n",
    "       'Reviewer_Nationality_USA', 'Reviewer_Nationality_Other',\n",
    "       'Hotel_Address_Amsterdam', 'Hotel_Address_Barcelona',\n",
    "       'Hotel_Address_London', 'Hotel_Address_Milan', 'Hotel_Address_Paris',\n",
    "       'Leisure_Trip', 'Nights_Stayed'], inplace=True, axis=1)"
   ]
  },
  {
   "cell_type": "code",
   "execution_count": 120,
   "id": "70838eec",
   "metadata": {
    "scrolled": true
   },
   "outputs": [
    {
     "data": {
      "text/plain": [
       "(515199, 1001)"
      ]
     },
     "execution_count": 120,
     "metadata": {},
     "output_type": "execute_result"
    }
   ],
   "source": [
    "df_train.shape"
   ]
  },
  {
   "cell_type": "markdown",
   "id": "bdb29471",
   "metadata": {},
   "source": [
    "create X and y again for transform X o X_sparse"
   ]
  },
  {
   "cell_type": "code",
   "execution_count": 122,
   "id": "ae2cdfd2",
   "metadata": {},
   "outputs": [],
   "source": [
    "X = df_train.drop('Reviewer_Score',axis=1)\n",
    "y = df_train['Reviewer_Score']"
   ]
  },
  {
   "cell_type": "code",
   "execution_count": null,
   "id": "0b11b831",
   "metadata": {},
   "outputs": [],
   "source": []
  },
  {
   "cell_type": "code",
   "execution_count": 123,
   "id": "6ee55aba",
   "metadata": {},
   "outputs": [],
   "source": [
    "# import csr_matrix and transform X\n",
    "from scipy.sparse import csr_matrix\n",
    "X_sparse = csr_matrix(X)\n"
   ]
  },
  {
   "cell_type": "markdown",
   "id": "e2f48c69",
   "metadata": {},
   "source": [
    "now split data in a way without shuffling to keep the order for X and y, which keep y without get info from X and rename X-train to X_sparse"
   ]
  },
  {
   "cell_type": "code",
   "execution_count": 130,
   "id": "da4f8bd1",
   "metadata": {},
   "outputs": [],
   "source": [
    "X_sparse, X_test, y_train, y_test = train_test_split(X_sparse, y, test_size=0.2, shuffle=False, stratify=None)"
   ]
  },
  {
   "cell_type": "code",
   "execution_count": 131,
   "id": "d3b30745",
   "metadata": {},
   "outputs": [],
   "source": [
    "# import TruncatedSVD which works with sparse datas\n",
    "from sklearn.decomposition import TruncatedSVD\n"
   ]
  },
  {
   "cell_type": "code",
   "execution_count": 132,
   "id": "985681aa",
   "metadata": {},
   "outputs": [],
   "source": [
    "# Create a pipeline with TruncatedSVD and Decision Tree Classifier\n",
    "pipeline = Pipeline([\n",
    "    ('svd', TruncatedSVD(n_components=20)),\n",
    "    ('clf', DecisionTreeClassifier())\n",
    "])\n"
   ]
  },
  {
   "cell_type": "code",
   "execution_count": 137,
   "id": "052c126e",
   "metadata": {},
   "outputs": [],
   "source": [
    "# Define the hyperparameters to optimize\n",
    "parameters = {\n",
    "    'clf__max_depth': [i for i in range(1,3)],\n",
    "    'clf__min_samples_leaf': [1, 2, 4],\n",
    "    'clf__criterion': ['gini', 'entropy']  \n",
    "}"
   ]
  },
  {
   "cell_type": "code",
   "execution_count": 138,
   "id": "4e16b787",
   "metadata": {},
   "outputs": [
    {
     "data": {
      "text/html": [
       "<style>#sk-container-id-2 {color: black;}#sk-container-id-2 pre{padding: 0;}#sk-container-id-2 div.sk-toggleable {background-color: white;}#sk-container-id-2 label.sk-toggleable__label {cursor: pointer;display: block;width: 100%;margin-bottom: 0;padding: 0.3em;box-sizing: border-box;text-align: center;}#sk-container-id-2 label.sk-toggleable__label-arrow:before {content: \"▸\";float: left;margin-right: 0.25em;color: #696969;}#sk-container-id-2 label.sk-toggleable__label-arrow:hover:before {color: black;}#sk-container-id-2 div.sk-estimator:hover label.sk-toggleable__label-arrow:before {color: black;}#sk-container-id-2 div.sk-toggleable__content {max-height: 0;max-width: 0;overflow: hidden;text-align: left;background-color: #f0f8ff;}#sk-container-id-2 div.sk-toggleable__content pre {margin: 0.2em;color: black;border-radius: 0.25em;background-color: #f0f8ff;}#sk-container-id-2 input.sk-toggleable__control:checked~div.sk-toggleable__content {max-height: 200px;max-width: 100%;overflow: auto;}#sk-container-id-2 input.sk-toggleable__control:checked~label.sk-toggleable__label-arrow:before {content: \"▾\";}#sk-container-id-2 div.sk-estimator input.sk-toggleable__control:checked~label.sk-toggleable__label {background-color: #d4ebff;}#sk-container-id-2 div.sk-label input.sk-toggleable__control:checked~label.sk-toggleable__label {background-color: #d4ebff;}#sk-container-id-2 input.sk-hidden--visually {border: 0;clip: rect(1px 1px 1px 1px);clip: rect(1px, 1px, 1px, 1px);height: 1px;margin: -1px;overflow: hidden;padding: 0;position: absolute;width: 1px;}#sk-container-id-2 div.sk-estimator {font-family: monospace;background-color: #f0f8ff;border: 1px dotted black;border-radius: 0.25em;box-sizing: border-box;margin-bottom: 0.5em;}#sk-container-id-2 div.sk-estimator:hover {background-color: #d4ebff;}#sk-container-id-2 div.sk-parallel-item::after {content: \"\";width: 100%;border-bottom: 1px solid gray;flex-grow: 1;}#sk-container-id-2 div.sk-label:hover label.sk-toggleable__label {background-color: #d4ebff;}#sk-container-id-2 div.sk-serial::before {content: \"\";position: absolute;border-left: 1px solid gray;box-sizing: border-box;top: 0;bottom: 0;left: 50%;z-index: 0;}#sk-container-id-2 div.sk-serial {display: flex;flex-direction: column;align-items: center;background-color: white;padding-right: 0.2em;padding-left: 0.2em;position: relative;}#sk-container-id-2 div.sk-item {position: relative;z-index: 1;}#sk-container-id-2 div.sk-parallel {display: flex;align-items: stretch;justify-content: center;background-color: white;position: relative;}#sk-container-id-2 div.sk-item::before, #sk-container-id-2 div.sk-parallel-item::before {content: \"\";position: absolute;border-left: 1px solid gray;box-sizing: border-box;top: 0;bottom: 0;left: 50%;z-index: -1;}#sk-container-id-2 div.sk-parallel-item {display: flex;flex-direction: column;z-index: 1;position: relative;background-color: white;}#sk-container-id-2 div.sk-parallel-item:first-child::after {align-self: flex-end;width: 50%;}#sk-container-id-2 div.sk-parallel-item:last-child::after {align-self: flex-start;width: 50%;}#sk-container-id-2 div.sk-parallel-item:only-child::after {width: 0;}#sk-container-id-2 div.sk-dashed-wrapped {border: 1px dashed gray;margin: 0 0.4em 0.5em 0.4em;box-sizing: border-box;padding-bottom: 0.4em;background-color: white;}#sk-container-id-2 div.sk-label label {font-family: monospace;font-weight: bold;display: inline-block;line-height: 1.2em;}#sk-container-id-2 div.sk-label-container {text-align: center;}#sk-container-id-2 div.sk-container {/* jupyter's `normalize.less` sets `[hidden] { display: none; }` but bootstrap.min.css set `[hidden] { display: none !important; }` so we also need the `!important` here to be able to override the default hidden behavior on the sphinx rendered scikit-learn.org. See: https://github.com/scikit-learn/scikit-learn/issues/21755 */display: inline-block !important;position: relative;}#sk-container-id-2 div.sk-text-repr-fallback {display: none;}</style><div id=\"sk-container-id-2\" class=\"sk-top-container\"><div class=\"sk-text-repr-fallback\"><pre>GridSearchCV(cv=5,\n",
       "             estimator=Pipeline(steps=[(&#x27;svd&#x27;, TruncatedSVD(n_components=20)),\n",
       "                                       (&#x27;clf&#x27;, DecisionTreeClassifier())]),\n",
       "             n_jobs=-1,\n",
       "             param_grid={&#x27;clf__max_depth&#x27;: [1, 2],\n",
       "                         &#x27;clf__min_samples_leaf&#x27;: [1, 2, 4]})</pre><b>In a Jupyter environment, please rerun this cell to show the HTML representation or trust the notebook. <br />On GitHub, the HTML representation is unable to render, please try loading this page with nbviewer.org.</b></div><div class=\"sk-container\" hidden><div class=\"sk-item sk-dashed-wrapped\"><div class=\"sk-label-container\"><div class=\"sk-label sk-toggleable\"><input class=\"sk-toggleable__control sk-hidden--visually\" id=\"sk-estimator-id-2\" type=\"checkbox\" ><label for=\"sk-estimator-id-2\" class=\"sk-toggleable__label sk-toggleable__label-arrow\">GridSearchCV</label><div class=\"sk-toggleable__content\"><pre>GridSearchCV(cv=5,\n",
       "             estimator=Pipeline(steps=[(&#x27;svd&#x27;, TruncatedSVD(n_components=20)),\n",
       "                                       (&#x27;clf&#x27;, DecisionTreeClassifier())]),\n",
       "             n_jobs=-1,\n",
       "             param_grid={&#x27;clf__max_depth&#x27;: [1, 2],\n",
       "                         &#x27;clf__min_samples_leaf&#x27;: [1, 2, 4]})</pre></div></div></div><div class=\"sk-parallel\"><div class=\"sk-parallel-item\"><div class=\"sk-item\"><div class=\"sk-label-container\"><div class=\"sk-label sk-toggleable\"><input class=\"sk-toggleable__control sk-hidden--visually\" id=\"sk-estimator-id-3\" type=\"checkbox\" ><label for=\"sk-estimator-id-3\" class=\"sk-toggleable__label sk-toggleable__label-arrow\">estimator: Pipeline</label><div class=\"sk-toggleable__content\"><pre>Pipeline(steps=[(&#x27;svd&#x27;, TruncatedSVD(n_components=20)),\n",
       "                (&#x27;clf&#x27;, DecisionTreeClassifier())])</pre></div></div></div><div class=\"sk-serial\"><div class=\"sk-item\"><div class=\"sk-serial\"><div class=\"sk-item\"><div class=\"sk-estimator sk-toggleable\"><input class=\"sk-toggleable__control sk-hidden--visually\" id=\"sk-estimator-id-4\" type=\"checkbox\" ><label for=\"sk-estimator-id-4\" class=\"sk-toggleable__label sk-toggleable__label-arrow\">TruncatedSVD</label><div class=\"sk-toggleable__content\"><pre>TruncatedSVD(n_components=20)</pre></div></div></div><div class=\"sk-item\"><div class=\"sk-estimator sk-toggleable\"><input class=\"sk-toggleable__control sk-hidden--visually\" id=\"sk-estimator-id-5\" type=\"checkbox\" ><label for=\"sk-estimator-id-5\" class=\"sk-toggleable__label sk-toggleable__label-arrow\">DecisionTreeClassifier</label><div class=\"sk-toggleable__content\"><pre>DecisionTreeClassifier()</pre></div></div></div></div></div></div></div></div></div></div></div></div>"
      ],
      "text/plain": [
       "GridSearchCV(cv=5,\n",
       "             estimator=Pipeline(steps=[('svd', TruncatedSVD(n_components=20)),\n",
       "                                       ('clf', DecisionTreeClassifier())]),\n",
       "             n_jobs=-1,\n",
       "             param_grid={'clf__max_depth': [1, 2],\n",
       "                         'clf__min_samples_leaf': [1, 2, 4]})"
      ]
     },
     "execution_count": 138,
     "metadata": {},
     "output_type": "execute_result"
    }
   ],
   "source": [
    "# Initialize GridSearchCV with 5-fold cross-validation\n",
    "grid_search = GridSearchCV(pipeline, parameters, cv=5, n_jobs=-1)\n",
    "\n",
    "# Fit GridSearchCV\n",
    "grid_search.fit(X_sparse, y_train)  \n"
   ]
  },
  {
   "cell_type": "code",
   "execution_count": 139,
   "id": "d311445e",
   "metadata": {},
   "outputs": [
    {
     "name": "stdout",
     "output_type": "stream",
     "text": [
      "Best parameters found:\n",
      "{'clf__max_depth': 1, 'clf__min_samples_leaf': 1}\n"
     ]
    }
   ],
   "source": [
    "# Print the best parameters\n",
    "print(\"Best parameters found:\")\n",
    "print(grid_search.best_params_)\n"
   ]
  },
  {
   "cell_type": "code",
   "execution_count": 140,
   "id": "87070e66",
   "metadata": {},
   "outputs": [
    {
     "name": "stdout",
     "output_type": "stream",
     "text": [
      "Test score of the best model: 0.724805900621118\n"
     ]
    }
   ],
   "source": [
    "# Evaluate the best model on the test set\n",
    "best_model = grid_search.best_estimator_\n",
    "test_score = best_model.score(X_test, y_test)\n",
    "print(f\"Test score of the best model: {test_score}\")\n"
   ]
  },
  {
   "cell_type": "markdown",
   "id": "4255e4bb",
   "metadata": {},
   "source": [
    "here we catch max depth of 1 and min leaf of 1 as well, which give us less accuracy than logesticregression.\n",
    "\n",
    "lets try for two main method"
   ]
  },
  {
   "cell_type": "code",
   "execution_count": 141,
   "id": "50a10f8b",
   "metadata": {},
   "outputs": [],
   "source": [
    "# Define the hyperparameters to optimize\n",
    "parameters = {\n",
    "    'clf__max_depth': [i for i in range(1,3)],\n",
    "    'clf__min_samples_leaf': [1, 2, 4],\n",
    "    'clf__criterion': ['gini', 'entropy']  \n",
    "}"
   ]
  },
  {
   "cell_type": "code",
   "execution_count": 142,
   "id": "bd440af0",
   "metadata": {},
   "outputs": [
    {
     "data": {
      "text/html": [
       "<style>#sk-container-id-3 {color: black;}#sk-container-id-3 pre{padding: 0;}#sk-container-id-3 div.sk-toggleable {background-color: white;}#sk-container-id-3 label.sk-toggleable__label {cursor: pointer;display: block;width: 100%;margin-bottom: 0;padding: 0.3em;box-sizing: border-box;text-align: center;}#sk-container-id-3 label.sk-toggleable__label-arrow:before {content: \"▸\";float: left;margin-right: 0.25em;color: #696969;}#sk-container-id-3 label.sk-toggleable__label-arrow:hover:before {color: black;}#sk-container-id-3 div.sk-estimator:hover label.sk-toggleable__label-arrow:before {color: black;}#sk-container-id-3 div.sk-toggleable__content {max-height: 0;max-width: 0;overflow: hidden;text-align: left;background-color: #f0f8ff;}#sk-container-id-3 div.sk-toggleable__content pre {margin: 0.2em;color: black;border-radius: 0.25em;background-color: #f0f8ff;}#sk-container-id-3 input.sk-toggleable__control:checked~div.sk-toggleable__content {max-height: 200px;max-width: 100%;overflow: auto;}#sk-container-id-3 input.sk-toggleable__control:checked~label.sk-toggleable__label-arrow:before {content: \"▾\";}#sk-container-id-3 div.sk-estimator input.sk-toggleable__control:checked~label.sk-toggleable__label {background-color: #d4ebff;}#sk-container-id-3 div.sk-label input.sk-toggleable__control:checked~label.sk-toggleable__label {background-color: #d4ebff;}#sk-container-id-3 input.sk-hidden--visually {border: 0;clip: rect(1px 1px 1px 1px);clip: rect(1px, 1px, 1px, 1px);height: 1px;margin: -1px;overflow: hidden;padding: 0;position: absolute;width: 1px;}#sk-container-id-3 div.sk-estimator {font-family: monospace;background-color: #f0f8ff;border: 1px dotted black;border-radius: 0.25em;box-sizing: border-box;margin-bottom: 0.5em;}#sk-container-id-3 div.sk-estimator:hover {background-color: #d4ebff;}#sk-container-id-3 div.sk-parallel-item::after {content: \"\";width: 100%;border-bottom: 1px solid gray;flex-grow: 1;}#sk-container-id-3 div.sk-label:hover label.sk-toggleable__label {background-color: #d4ebff;}#sk-container-id-3 div.sk-serial::before {content: \"\";position: absolute;border-left: 1px solid gray;box-sizing: border-box;top: 0;bottom: 0;left: 50%;z-index: 0;}#sk-container-id-3 div.sk-serial {display: flex;flex-direction: column;align-items: center;background-color: white;padding-right: 0.2em;padding-left: 0.2em;position: relative;}#sk-container-id-3 div.sk-item {position: relative;z-index: 1;}#sk-container-id-3 div.sk-parallel {display: flex;align-items: stretch;justify-content: center;background-color: white;position: relative;}#sk-container-id-3 div.sk-item::before, #sk-container-id-3 div.sk-parallel-item::before {content: \"\";position: absolute;border-left: 1px solid gray;box-sizing: border-box;top: 0;bottom: 0;left: 50%;z-index: -1;}#sk-container-id-3 div.sk-parallel-item {display: flex;flex-direction: column;z-index: 1;position: relative;background-color: white;}#sk-container-id-3 div.sk-parallel-item:first-child::after {align-self: flex-end;width: 50%;}#sk-container-id-3 div.sk-parallel-item:last-child::after {align-self: flex-start;width: 50%;}#sk-container-id-3 div.sk-parallel-item:only-child::after {width: 0;}#sk-container-id-3 div.sk-dashed-wrapped {border: 1px dashed gray;margin: 0 0.4em 0.5em 0.4em;box-sizing: border-box;padding-bottom: 0.4em;background-color: white;}#sk-container-id-3 div.sk-label label {font-family: monospace;font-weight: bold;display: inline-block;line-height: 1.2em;}#sk-container-id-3 div.sk-label-container {text-align: center;}#sk-container-id-3 div.sk-container {/* jupyter's `normalize.less` sets `[hidden] { display: none; }` but bootstrap.min.css set `[hidden] { display: none !important; }` so we also need the `!important` here to be able to override the default hidden behavior on the sphinx rendered scikit-learn.org. See: https://github.com/scikit-learn/scikit-learn/issues/21755 */display: inline-block !important;position: relative;}#sk-container-id-3 div.sk-text-repr-fallback {display: none;}</style><div id=\"sk-container-id-3\" class=\"sk-top-container\"><div class=\"sk-text-repr-fallback\"><pre>GridSearchCV(cv=5,\n",
       "             estimator=Pipeline(steps=[(&#x27;svd&#x27;, TruncatedSVD(n_components=20)),\n",
       "                                       (&#x27;clf&#x27;, DecisionTreeClassifier())]),\n",
       "             n_jobs=-1,\n",
       "             param_grid={&#x27;clf__criterion&#x27;: [&#x27;gini&#x27;, &#x27;entropy&#x27;],\n",
       "                         &#x27;clf__max_depth&#x27;: [1, 2],\n",
       "                         &#x27;clf__min_samples_leaf&#x27;: [1, 2, 4]})</pre><b>In a Jupyter environment, please rerun this cell to show the HTML representation or trust the notebook. <br />On GitHub, the HTML representation is unable to render, please try loading this page with nbviewer.org.</b></div><div class=\"sk-container\" hidden><div class=\"sk-item sk-dashed-wrapped\"><div class=\"sk-label-container\"><div class=\"sk-label sk-toggleable\"><input class=\"sk-toggleable__control sk-hidden--visually\" id=\"sk-estimator-id-6\" type=\"checkbox\" ><label for=\"sk-estimator-id-6\" class=\"sk-toggleable__label sk-toggleable__label-arrow\">GridSearchCV</label><div class=\"sk-toggleable__content\"><pre>GridSearchCV(cv=5,\n",
       "             estimator=Pipeline(steps=[(&#x27;svd&#x27;, TruncatedSVD(n_components=20)),\n",
       "                                       (&#x27;clf&#x27;, DecisionTreeClassifier())]),\n",
       "             n_jobs=-1,\n",
       "             param_grid={&#x27;clf__criterion&#x27;: [&#x27;gini&#x27;, &#x27;entropy&#x27;],\n",
       "                         &#x27;clf__max_depth&#x27;: [1, 2],\n",
       "                         &#x27;clf__min_samples_leaf&#x27;: [1, 2, 4]})</pre></div></div></div><div class=\"sk-parallel\"><div class=\"sk-parallel-item\"><div class=\"sk-item\"><div class=\"sk-label-container\"><div class=\"sk-label sk-toggleable\"><input class=\"sk-toggleable__control sk-hidden--visually\" id=\"sk-estimator-id-7\" type=\"checkbox\" ><label for=\"sk-estimator-id-7\" class=\"sk-toggleable__label sk-toggleable__label-arrow\">estimator: Pipeline</label><div class=\"sk-toggleable__content\"><pre>Pipeline(steps=[(&#x27;svd&#x27;, TruncatedSVD(n_components=20)),\n",
       "                (&#x27;clf&#x27;, DecisionTreeClassifier())])</pre></div></div></div><div class=\"sk-serial\"><div class=\"sk-item\"><div class=\"sk-serial\"><div class=\"sk-item\"><div class=\"sk-estimator sk-toggleable\"><input class=\"sk-toggleable__control sk-hidden--visually\" id=\"sk-estimator-id-8\" type=\"checkbox\" ><label for=\"sk-estimator-id-8\" class=\"sk-toggleable__label sk-toggleable__label-arrow\">TruncatedSVD</label><div class=\"sk-toggleable__content\"><pre>TruncatedSVD(n_components=20)</pre></div></div></div><div class=\"sk-item\"><div class=\"sk-estimator sk-toggleable\"><input class=\"sk-toggleable__control sk-hidden--visually\" id=\"sk-estimator-id-9\" type=\"checkbox\" ><label for=\"sk-estimator-id-9\" class=\"sk-toggleable__label sk-toggleable__label-arrow\">DecisionTreeClassifier</label><div class=\"sk-toggleable__content\"><pre>DecisionTreeClassifier()</pre></div></div></div></div></div></div></div></div></div></div></div></div>"
      ],
      "text/plain": [
       "GridSearchCV(cv=5,\n",
       "             estimator=Pipeline(steps=[('svd', TruncatedSVD(n_components=20)),\n",
       "                                       ('clf', DecisionTreeClassifier())]),\n",
       "             n_jobs=-1,\n",
       "             param_grid={'clf__criterion': ['gini', 'entropy'],\n",
       "                         'clf__max_depth': [1, 2],\n",
       "                         'clf__min_samples_leaf': [1, 2, 4]})"
      ]
     },
     "execution_count": 142,
     "metadata": {},
     "output_type": "execute_result"
    }
   ],
   "source": [
    "# Initialize GridSearchCV with 5-fold cross-validation\n",
    "grid_search = GridSearchCV(pipeline, parameters, cv=5, n_jobs=-1)\n",
    "\n",
    "# Fit GridSearchCV\n",
    "grid_search.fit(X_sparse, y_train)  \n"
   ]
  },
  {
   "cell_type": "code",
   "execution_count": 143,
   "id": "64cf8ed2",
   "metadata": {},
   "outputs": [
    {
     "name": "stdout",
     "output_type": "stream",
     "text": [
      "Best parameters found:\n",
      "{'clf__criterion': 'gini', 'clf__max_depth': 1, 'clf__min_samples_leaf': 1}\n"
     ]
    }
   ],
   "source": [
    "# Print the best parameters\n",
    "print(\"Best parameters found:\")\n",
    "print(grid_search.best_params_)"
   ]
  },
  {
   "cell_type": "code",
   "execution_count": 144,
   "id": "8ac12f59",
   "metadata": {
    "scrolled": false
   },
   "outputs": [
    {
     "name": "stdout",
     "output_type": "stream",
     "text": [
      "Test score of the best model: 0.724805900621118\n"
     ]
    }
   ],
   "source": [
    "# Evaluate the best model on the test set\n",
    "best_model = grid_search.best_estimator_\n",
    "test_score = best_model.score(X_test, y_test)\n",
    "print(f\"Test score of the best model: {test_score}\")"
   ]
  },
  {
   "cell_type": "markdown",
   "id": "255f32a2",
   "metadata": {},
   "source": [
    "With try another method it show that still default will give a better result, but still less than LogesticReggression."
   ]
  },
  {
   "cell_type": "code",
   "execution_count": 147,
   "id": "47eb0f19",
   "metadata": {
    "scrolled": true
   },
   "outputs": [
    {
     "data": {
      "image/png": "[encoded data removed]",
      "text/plain": [
       "<Figure size 432x288 with 2 Axes>"
      ]
     },
     "metadata": {
      "needs_background": "light"
     },
     "output_type": "display_data"
    }
   ],
   "source": [
    "y_pred = best_model.predict(X_test)\n",
    "# Generate the confusion matrix\n",
    "conf_matrix = confusion_matrix(y_test, y_pred)\n",
    "\n",
    "# Plot the confusion matrix\n",
    "sns.heatmap(conf_matrix, annot=True, fmt='g', cmap='Blues')\n",
    "plt.xlabel('Predicted labels')\n",
    "plt.ylabel('True labels')\n",
    "plt.title('Confusion Matrix')\n",
    "plt.show()"
   ]
  },
  {
   "cell_type": "code",
   "execution_count": 148,
   "id": "4a749470",
   "metadata": {
    "scrolled": true
   },
   "outputs": [
    {
     "name": "stdout",
     "output_type": "stream",
     "text": [
      "Precision: 0.745397782323178\n",
      "Recall: 0.8041945278667308\n",
      "F1 Score: 0.7736806819270186\n"
     ]
    }
   ],
   "source": [
    "# Calculate precision, recall, and F1 score for DecisionTreeClassifier\n",
    "precision_DTC = precision_score(y_test, y_pred)  # Precision: Correct positive predictions relative to total predicted positives\n",
    "recall_DTC = recall_score(y_test, y_pred)       # Recall: Correct positive predictions relative to actual positives\n",
    "f1_DTC = f1_score(y_test, y_pred)               # F1 Score: Harmonic mean of precision and recall\n",
    "\n",
    "# Print the scores\n",
    "print(f\"Precision: {precision_DTC}\")\n",
    "print(f\"Recall: {recall_DTC}\")\n",
    "print(f\"F1 Score: {f1_DTC}\")\n"
   ]
  },
  {
   "cell_type": "code",
   "execution_count": 163,
   "id": "8474b347",
   "metadata": {
    "scrolled": true
   },
   "outputs": [
    {
     "name": "stdout",
     "output_type": "stream",
     "text": [
      "Precision: 0.8087383751535357\n",
      "Recall: 0.8412118999817485\n",
      "F1 Score: 0.8246555734478439\n"
     ]
    }
   ],
   "source": [
    "# Print the precision, recall, and F1 score for Logesticregression\n",
    "print(f\"Precision: {precision}\")\n",
    "print(f\"Recall: {recall}\")\n",
    "print(f\"F1 Score: {f1}\")\n"
   ]
  },
  {
   "cell_type": "markdown",
   "id": "c6d9fd39",
   "metadata": {},
   "source": [
    "### Model Performance Comparison: Logistic Regression vs Decision Tree\n",
    "\n",
    "- **Logistic Regression**:\n",
    "  - Precision: 0.81\n",
    "  - Recall: 0.84\n",
    "  - F1 Score: 0.82\n",
    "  - **Insights**: Exhibits a well-balanced performance, particularly effective in minimizing false positives.\n",
    "\n",
    "- **Decision Tree (Post Hyperparameter Tuning)**:\n",
    "  - Precision: 0.75\n",
    "  - Recall: 0.80\n",
    "  - F1 Score: 0.77\n",
    "  - **Insights**: Shows robust performance with a strong focus on recall, slightly less precise than Logistic Regression.\n",
    "\n",
    "### Conclusion\n",
    "- **Logistic Regression** is more precise, making it suitable for scenarios where accuracy in predicting positive cases is crucial.\n",
    "- **Decision Tree** offers competitive recall, beneficial when it's important not to miss positive cases.\n",
    "- **Choice of Model** depends on the specific application needs, balancing precision and recall, and the importance of model interpretability.\n"
   ]
  },
  {
   "cell_type": "code",
   "execution_count": null,
   "id": "e59d31dd",
   "metadata": {},
   "outputs": [],
   "source": [
    "df_raw.head(1)"
   ]
  },
  {
   "cell_type": "code",
   "execution_count": null,
   "id": "51bfc234",
   "metadata": {},
   "outputs": [],
   "source": [
    "df_clean.head(1)"
   ]
  },
  {
   "cell_type": "code",
   "execution_count": null,
   "id": "817221d9",
   "metadata": {},
   "outputs": [],
   "source": [
    "df_join.head(1)"
   ]
  },
  {
   "cell_type": "code",
   "execution_count": null,
   "id": "bae03066",
   "metadata": {},
   "outputs": [],
   "source": [
    "df_train.head(1)"
   ]
  },
  {
   "cell_type": "code",
   "execution_count": null,
   "id": "a0555a34",
   "metadata": {},
   "outputs": [],
   "source": [
    "df_neg.head(1)"
   ]
  },
  {
   "cell_type": "code",
   "execution_count": null,
   "id": "fc357b8d",
   "metadata": {},
   "outputs": [],
   "source": []
  }
 ],
 "metadata": {
  "kernelspec": {
   "display_name": "Python 3",
   "language": "python",
   "name": "python3"
  },
  "language_info": {
   "codemirror_mode": {
    "name": "ipython",
    "version": 3
   },
   "file_extension": ".py",
   "mimetype": "text/x-python",
   "name": "python",
   "nbconvert_exporter": "python",
   "pygments_lexer": "ipython3",
   "version": "3.8.8"
  }
 },
 "nbformat": 4,
 "nbformat_minor": 5
}
