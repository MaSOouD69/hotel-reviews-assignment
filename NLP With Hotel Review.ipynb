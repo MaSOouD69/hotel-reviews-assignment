{
 "cells": [
  {
   "cell_type": "markdown",
   "id": "5b6e5399",
   "metadata": {},
   "source": [
    "# NLP With Hotel Review"
   ]
  },
  {
   "cell_type": "code",
   "execution_count": 3,
   "id": "7de53d45",
   "metadata": {},
   "outputs": [],
   "source": [
    "import numpy as np\n",
    "import pandas as pd"
   ]
  },
  {
   "cell_type": "code",
   "execution_count": 4,
   "id": "89c77cbf",
   "metadata": {},
   "outputs": [],
   "source": [
    "df = pd.read_csv('Hotel_Reviews.csv')"
   ]
  },
  {
   "cell_type": "code",
   "execution_count": 12,
   "id": "b23c0832",
   "metadata": {},
   "outputs": [
    {
     "data": {
      "text/plain": [
       "Index(['Unnamed: 0', 'Additional_Number_of_Scoring', 'Average_Score',\n",
       "       'Negative_Review', 'Review_Total_Negative_Word_Counts',\n",
       "       'Total_Number_of_Reviews', 'Positive_Review',\n",
       "       'Review_Total_Positive_Word_Counts',\n",
       "       'Total_Number_of_Reviews_Reviewer_Has_Given', 'Reviewer_Score',\n",
       "       'Days_Since_Review', 'Latitude', 'Longitude', 'Day', 'Month', 'Year',\n",
       "       'Reviewer_Nationality_Australia', 'Reviewer_Nationality_Ireland',\n",
       "       'Reviewer_Nationality_UAE', 'Reviewer_Nationality_UK',\n",
       "       'Reviewer_Nationality_USA', 'Reviewer_Nationality_Other',\n",
       "       'Hotel_Address_Amsterdam', 'Hotel_Address_Barcelona',\n",
       "       'Hotel_Address_London', 'Hotel_Address_Milan', 'Hotel_Address_Paris',\n",
       "       'Hotel_Address_Vienna', 'Leisure_Trip', 'Nights_Stayed'],\n",
       "      dtype='object')"
      ]
     },
     "execution_count": 12,
     "metadata": {},
     "output_type": "execute_result"
    }
   ],
   "source": [
    "df.columns"
   ]
  },
  {
   "cell_type": "code",
   "execution_count": 6,
   "id": "8d9ee6c5",
   "metadata": {},
   "outputs": [
    {
     "name": "stdout",
     "output_type": "stream",
     "text": [
      "<class 'pandas.core.frame.DataFrame'>\n",
      "RangeIndex: 515738 entries, 0 to 515737\n",
      "Data columns (total 30 columns):\n",
      " #   Column                                      Non-Null Count   Dtype  \n",
      "---  ------                                      --------------   -----  \n",
      " 0   Unnamed: 0                                  515738 non-null  int64  \n",
      " 1   Additional_Number_of_Scoring                515738 non-null  int64  \n",
      " 2   Average_Score                               515738 non-null  float64\n",
      " 3   Negative_Review                             515738 non-null  object \n",
      " 4   Review_Total_Negative_Word_Counts           515738 non-null  int64  \n",
      " 5   Total_Number_of_Reviews                     515738 non-null  int64  \n",
      " 6   Positive_Review                             515738 non-null  object \n",
      " 7   Review_Total_Positive_Word_Counts           515738 non-null  int64  \n",
      " 8   Total_Number_of_Reviews_Reviewer_Has_Given  515738 non-null  int64  \n",
      " 9   Reviewer_Score                              515738 non-null  int64  \n",
      " 10  Days_Since_Review                           515738 non-null  int64  \n",
      " 11  Latitude                                    515738 non-null  float64\n",
      " 12  Longitude                                   515738 non-null  float64\n",
      " 13  Day                                         515738 non-null  int64  \n",
      " 14  Month                                       515738 non-null  int64  \n",
      " 15  Year                                        515738 non-null  int64  \n",
      " 16  Reviewer_Nationality_Australia              515738 non-null  int64  \n",
      " 17  Reviewer_Nationality_Ireland                515738 non-null  int64  \n",
      " 18  Reviewer_Nationality_UAE                    515738 non-null  int64  \n",
      " 19  Reviewer_Nationality_UK                     515738 non-null  int64  \n",
      " 20  Reviewer_Nationality_USA                    515738 non-null  int64  \n",
      " 21  Reviewer_Nationality_Other                  515738 non-null  int64  \n",
      " 22  Hotel_Address_Amsterdam                     515738 non-null  int64  \n",
      " 23  Hotel_Address_Barcelona                     515738 non-null  int64  \n",
      " 24  Hotel_Address_London                        515738 non-null  int64  \n",
      " 25  Hotel_Address_Milan                         515738 non-null  int64  \n",
      " 26  Hotel_Address_Paris                         515738 non-null  int64  \n",
      " 27  Hotel_Address_Vienna                        515738 non-null  int64  \n",
      " 28  Leisure_Trip                                515738 non-null  int64  \n",
      " 29  Nights_Stayed                               515738 non-null  int64  \n",
      "dtypes: float64(3), int64(25), object(2)\n",
      "memory usage: 118.0+ MB\n"
     ]
    }
   ],
   "source": [
    "df.info()"
   ]
  },
  {
   "cell_type": "code",
   "execution_count": 8,
   "id": "4c61e208",
   "metadata": {},
   "outputs": [
    {
     "data": {
      "text/plain": [
       "Negative_Review\n",
       "No Negative                                                                                                                                                                                                                127890\n",
       " Nothing                                                                                                                                                                                                                    14295\n",
       " Nothing                                                                                                                                                                                                                     4236\n",
       " nothing                                                                                                                                                                                                                     2225\n",
       " N A                                                                                                                                                                                                                         1037\n",
       "                                                                                                                                                                                                                            ...  \n",
       " Quite a large hold per night was taken I have been back from the hotel for 3 nights now and still haven t received the hold money back This is has unfortunately left a negative image in my head after a lovely trip          1\n",
       " One of the two elevators were broken It was still ok                                                                                                                                                                           1\n",
       " Information regarding the charge of 100 per night for room service and wifi etc Didn t know until check in that this was a thing                                                                                               1\n",
       " the room maintenance especially the shower and toilet are not 5 star hotel maybe 3 also breakfast can be much better for this price                                                                                            1\n",
       " I was in 3rd floor It didn t work Free Wife                                                                                                                                                                                    1\n",
       "Name: count, Length: 330011, dtype: int64"
      ]
     },
     "execution_count": 8,
     "metadata": {},
     "output_type": "execute_result"
    }
   ],
   "source": [
    "df['Negative_Review'].value_counts()"
   ]
  },
  {
   "cell_type": "code",
   "execution_count": 10,
   "id": "07afa9f4",
   "metadata": {},
   "outputs": [
    {
     "data": {
      "text/plain": [
       "(515738, 30)"
      ]
     },
     "execution_count": 10,
     "metadata": {},
     "output_type": "execute_result"
    }
   ],
   "source": [
    "df.shape"
   ]
  },
  {
   "cell_type": "code",
   "execution_count": 22,
   "id": "8d392ffc",
   "metadata": {},
   "outputs": [
    {
     "data": {
      "text/html": [
       "<div>\n",
       "<style scoped>\n",
       "    .dataframe tbody tr th:only-of-type {\n",
       "        vertical-align: middle;\n",
       "    }\n",
       "\n",
       "    .dataframe tbody tr th {\n",
       "        vertical-align: top;\n",
       "    }\n",
       "\n",
       "    .dataframe thead th {\n",
       "        text-align: right;\n",
       "    }\n",
       "</style>\n",
       "<table border=\"1\" class=\"dataframe\">\n",
       "  <thead>\n",
       "    <tr style=\"text-align: right;\">\n",
       "      <th></th>\n",
       "      <th>Average_Score</th>\n",
       "      <th>Negative_Review</th>\n",
       "      <th>Review_Total_Negative_Word_Counts</th>\n",
       "      <th>Total_Number_of_Reviews</th>\n",
       "      <th>Positive_Review</th>\n",
       "      <th>Review_Total_Positive_Word_Counts</th>\n",
       "      <th>Total_Number_of_Reviews_Reviewer_Has_Given</th>\n",
       "      <th>Reviewer_Score</th>\n",
       "      <th>Days_Since_Review</th>\n",
       "      <th>Latitude</th>\n",
       "      <th>Longitude</th>\n",
       "      <th>Day</th>\n",
       "      <th>Month</th>\n",
       "    </tr>\n",
       "  </thead>\n",
       "  <tbody>\n",
       "    <tr>\n",
       "      <th>0</th>\n",
       "      <td>7.7</td>\n",
       "      <td>I am so angry that i made this post available...</td>\n",
       "      <td>397</td>\n",
       "      <td>1403</td>\n",
       "      <td>Only the park outside of the hotel was beauti...</td>\n",
       "      <td>11</td>\n",
       "      <td>7</td>\n",
       "      <td>0</td>\n",
       "      <td>0</td>\n",
       "      <td>52.360576</td>\n",
       "      <td>4.915968</td>\n",
       "      <td>3</td>\n",
       "      <td>8</td>\n",
       "    </tr>\n",
       "    <tr>\n",
       "      <th>1</th>\n",
       "      <td>7.7</td>\n",
       "      <td>No Negative</td>\n",
       "      <td>0</td>\n",
       "      <td>1403</td>\n",
       "      <td>No real complaints the hotel was great great ...</td>\n",
       "      <td>105</td>\n",
       "      <td>7</td>\n",
       "      <td>0</td>\n",
       "      <td>0</td>\n",
       "      <td>52.360576</td>\n",
       "      <td>4.915968</td>\n",
       "      <td>3</td>\n",
       "      <td>8</td>\n",
       "    </tr>\n",
       "    <tr>\n",
       "      <th>2</th>\n",
       "      <td>7.7</td>\n",
       "      <td>Rooms are nice but for elderly a bit difficul...</td>\n",
       "      <td>42</td>\n",
       "      <td>1403</td>\n",
       "      <td>Location was good and staff were ok It is cut...</td>\n",
       "      <td>21</td>\n",
       "      <td>9</td>\n",
       "      <td>0</td>\n",
       "      <td>3</td>\n",
       "      <td>52.360576</td>\n",
       "      <td>4.915968</td>\n",
       "      <td>31</td>\n",
       "      <td>7</td>\n",
       "    </tr>\n",
       "  </tbody>\n",
       "</table>\n",
       "</div>"
      ],
      "text/plain": [
       "   Average_Score                                    Negative_Review  \\\n",
       "0            7.7   I am so angry that i made this post available...   \n",
       "1            7.7                                        No Negative   \n",
       "2            7.7   Rooms are nice but for elderly a bit difficul...   \n",
       "\n",
       "   Review_Total_Negative_Word_Counts  Total_Number_of_Reviews  \\\n",
       "0                                397                     1403   \n",
       "1                                  0                     1403   \n",
       "2                                 42                     1403   \n",
       "\n",
       "                                     Positive_Review  \\\n",
       "0   Only the park outside of the hotel was beauti...   \n",
       "1   No real complaints the hotel was great great ...   \n",
       "2   Location was good and staff were ok It is cut...   \n",
       "\n",
       "   Review_Total_Positive_Word_Counts  \\\n",
       "0                                 11   \n",
       "1                                105   \n",
       "2                                 21   \n",
       "\n",
       "   Total_Number_of_Reviews_Reviewer_Has_Given  Reviewer_Score  \\\n",
       "0                                           7               0   \n",
       "1                                           7               0   \n",
       "2                                           9               0   \n",
       "\n",
       "   Days_Since_Review   Latitude  Longitude  Day  Month  \n",
       "0                  0  52.360576   4.915968    3      8  \n",
       "1                  0  52.360576   4.915968    3      8  \n",
       "2                  3  52.360576   4.915968   31      7  "
      ]
     },
     "execution_count": 22,
     "metadata": {},
     "output_type": "execute_result"
    }
   ],
   "source": [
    "df.iloc[:3,2:15].head()"
   ]
  },
  {
   "cell_type": "code",
   "execution_count": 16,
   "id": "416a61ec",
   "metadata": {},
   "outputs": [
    {
     "data": {
      "text/plain": [
       "Unnamed: 0                                    0\n",
       "Additional_Number_of_Scoring                  0\n",
       "Average_Score                                 0\n",
       "Negative_Review                               0\n",
       "Review_Total_Negative_Word_Counts             0\n",
       "Total_Number_of_Reviews                       0\n",
       "Positive_Review                               0\n",
       "Review_Total_Positive_Word_Counts             0\n",
       "Total_Number_of_Reviews_Reviewer_Has_Given    0\n",
       "Reviewer_Score                                0\n",
       "Days_Since_Review                             0\n",
       "Latitude                                      0\n",
       "Longitude                                     0\n",
       "Day                                           0\n",
       "Month                                         0\n",
       "Year                                          0\n",
       "Reviewer_Nationality_Australia                0\n",
       "Reviewer_Nationality_Ireland                  0\n",
       "Reviewer_Nationality_UAE                      0\n",
       "Reviewer_Nationality_UK                       0\n",
       "Reviewer_Nationality_USA                      0\n",
       "Reviewer_Nationality_Other                    0\n",
       "Hotel_Address_Amsterdam                       0\n",
       "Hotel_Address_Barcelona                       0\n",
       "Hotel_Address_London                          0\n",
       "Hotel_Address_Milan                           0\n",
       "Hotel_Address_Paris                           0\n",
       "Hotel_Address_Vienna                          0\n",
       "Leisure_Trip                                  0\n",
       "Nights_Stayed                                 0\n",
       "dtype: int64"
      ]
     },
     "execution_count": 16,
     "metadata": {},
     "output_type": "execute_result"
    }
   ],
   "source": [
    "df.isna().sum()"
   ]
  },
  {
   "cell_type": "code",
   "execution_count": 18,
   "id": "8e6b599f",
   "metadata": {},
   "outputs": [
    {
     "data": {
      "text/plain": [
       "0"
      ]
     },
     "execution_count": 18,
     "metadata": {},
     "output_type": "execute_result"
    }
   ],
   "source": [
    "df.duplicated().sum()"
   ]
  },
  {
   "cell_type": "code",
   "execution_count": 20,
   "id": "47e2735d",
   "metadata": {},
   "outputs": [
    {
     "data": {
      "text/plain": [
       "Reviewer_Score\n",
       "1    293974\n",
       "0    221764\n",
       "Name: count, dtype: int64"
      ]
     },
     "execution_count": 20,
     "metadata": {},
     "output_type": "execute_result"
    }
   ],
   "source": [
    "df['Reviewer_Score'].value_counts()"
   ]
  },
  {
   "cell_type": "code",
   "execution_count": 23,
   "id": "372fba88",
   "metadata": {},
   "outputs": [
    {
     "data": {
      "text/plain": [
       "Positive_Review\n",
       "No Positive                                                                                                    35946\n",
       " Location                                                                                                       9222\n",
       " Everything                                                                                                     2284\n",
       " location                                                                                                       1677\n",
       " Nothing                                                                                                        1243\n",
       "                                                                                                               ...  \n",
       " The rooms and staff were amazing                                                                                  1\n",
       " The entire package                                                                                                1\n",
       " The hotel is very clean rooms are big                                                                             1\n",
       " The rooms are very wide and clean very close to the metro station its almost at the entrance to the hotel         1\n",
       " staff was very kind                                                                                               1\n",
       "Name: count, Length: 412601, dtype: int64"
      ]
     },
     "execution_count": 23,
     "metadata": {},
     "output_type": "execute_result"
    }
   ],
   "source": [
    "df['Positive_Review'].value_counts()"
   ]
  },
  {
   "cell_type": "code",
   "execution_count": 28,
   "id": "711beb06",
   "metadata": {},
   "outputs": [
    {
     "data": {
      "text/plain": [
       "<bound method Series.sort_index of Average_Score\n",
       "8.4    41222\n",
       "8.1    38122\n",
       "8.5    38066\n",
       "8.7    37798\n",
       "8.6    36945\n",
       "8.2    34847\n",
       "8.3    32880\n",
       "8.8    30836\n",
       "8.9    28520\n",
       "8.0    22342\n",
       "9.1    21379\n",
       "9.0    21051\n",
       "7.8    19895\n",
       "7.9    15194\n",
       "7.5    13720\n",
       "9.2    12935\n",
       "9.3    12659\n",
       "7.7    11829\n",
       "9.4     9339\n",
       "7.1     6780\n",
       "7.6     6684\n",
       "7.4     6300\n",
       "7.3     3997\n",
       "7.0     3899\n",
       "6.9     1737\n",
       "6.8     1335\n",
       "9.5     1207\n",
       "6.4     1163\n",
       "6.7      965\n",
       "9.6      915\n",
       "7.2      684\n",
       "6.6      400\n",
       "5.2       65\n",
       "9.8       28\n",
       "Name: count, dtype: int64>"
      ]
     },
     "execution_count": 28,
     "metadata": {},
     "output_type": "execute_result"
    }
   ],
   "source": [
    "df['Average_Score'].value_counts().sort_index"
   ]
  },
  {
   "cell_type": "code",
   "execution_count": null,
   "id": "eb17bb11",
   "metadata": {},
   "outputs": [],
   "source": []
  }
 ],
 "metadata": {
  "kernelspec": {
   "display_name": "Python 3",
   "language": "python",
   "name": "python3"
  },
  "language_info": {
   "codemirror_mode": {
    "name": "ipython",
    "version": 3
   },
   "file_extension": ".py",
   "mimetype": "text/x-python",
   "name": "python",
   "nbconvert_exporter": "python",
   "pygments_lexer": "ipython3",
   "version": "3.8.8"
  }
 },
 "nbformat": 4,
 "nbformat_minor": 5
}
