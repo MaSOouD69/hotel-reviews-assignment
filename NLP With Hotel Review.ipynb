{
 "cells": [
  {
   "cell_type": "markdown",
   "id": "5b6e5399",
   "metadata": {},
   "source": [
    "# NLP With Hotel Review"
   ]
  },
  {
   "cell_type": "code",
   "execution_count": 1,
   "id": "7de53d45",
   "metadata": {},
   "outputs": [],
   "source": [
    "import numpy as np\n",
    "import pandas as pd\n",
    "\n",
    "import matplotlib.pyplot as plt\n",
    "import seaborn as sns\n"
   ]
  },
  {
   "cell_type": "code",
   "execution_count": 2,
   "id": "a4cb8c63",
   "metadata": {},
   "outputs": [],
   "source": [
    "# load the data sets\n",
    "df_raw = pd.read_csv('Hotel_Reviews.csv')"
   ]
  },
  {
   "cell_type": "code",
   "execution_count": 3,
   "id": "b62d8317",
   "metadata": {},
   "outputs": [
    {
     "data": {
      "text/plain": [
       "Index(['Unnamed: 0', 'Additional_Number_of_Scoring', 'Average_Score',\n",
       "       'Negative_Review', 'Review_Total_Negative_Word_Counts',\n",
       "       'Total_Number_of_Reviews', 'Positive_Review',\n",
       "       'Review_Total_Positive_Word_Counts',\n",
       "       'Total_Number_of_Reviews_Reviewer_Has_Given', 'Reviewer_Score',\n",
       "       'Days_Since_Review', 'Latitude', 'Longitude', 'Day', 'Month', 'Year',\n",
       "       'Reviewer_Nationality_Australia', 'Reviewer_Nationality_Ireland',\n",
       "       'Reviewer_Nationality_UAE', 'Reviewer_Nationality_UK',\n",
       "       'Reviewer_Nationality_USA', 'Reviewer_Nationality_Other',\n",
       "       'Hotel_Address_Amsterdam', 'Hotel_Address_Barcelona',\n",
       "       'Hotel_Address_London', 'Hotel_Address_Milan', 'Hotel_Address_Paris',\n",
       "       'Hotel_Address_Vienna', 'Leisure_Trip', 'Nights_Stayed'],\n",
       "      dtype='object')"
      ]
     },
     "execution_count": 3,
     "metadata": {},
     "output_type": "execute_result"
    }
   ],
   "source": [
    "# firat look at the columns\n",
    "df_raw.columns"
   ]
  },
  {
   "cell_type": "code",
   "execution_count": 4,
   "id": "aea85078",
   "metadata": {},
   "outputs": [
    {
     "name": "stdout",
     "output_type": "stream",
     "text": [
      "<class 'pandas.core.frame.DataFrame'>\n",
      "RangeIndex: 515738 entries, 0 to 515737\n",
      "Data columns (total 30 columns):\n",
      " #   Column                                      Non-Null Count   Dtype  \n",
      "---  ------                                      --------------   -----  \n",
      " 0   Unnamed: 0                                  515738 non-null  int64  \n",
      " 1   Additional_Number_of_Scoring                515738 non-null  int64  \n",
      " 2   Average_Score                               515738 non-null  float64\n",
      " 3   Negative_Review                             515738 non-null  object \n",
      " 4   Review_Total_Negative_Word_Counts           515738 non-null  int64  \n",
      " 5   Total_Number_of_Reviews                     515738 non-null  int64  \n",
      " 6   Positive_Review                             515738 non-null  object \n",
      " 7   Review_Total_Positive_Word_Counts           515738 non-null  int64  \n",
      " 8   Total_Number_of_Reviews_Reviewer_Has_Given  515738 non-null  int64  \n",
      " 9   Reviewer_Score                              515738 non-null  int64  \n",
      " 10  Days_Since_Review                           515738 non-null  int64  \n",
      " 11  Latitude                                    515738 non-null  float64\n",
      " 12  Longitude                                   515738 non-null  float64\n",
      " 13  Day                                         515738 non-null  int64  \n",
      " 14  Month                                       515738 non-null  int64  \n",
      " 15  Year                                        515738 non-null  int64  \n",
      " 16  Reviewer_Nationality_Australia              515738 non-null  int64  \n",
      " 17  Reviewer_Nationality_Ireland                515738 non-null  int64  \n",
      " 18  Reviewer_Nationality_UAE                    515738 non-null  int64  \n",
      " 19  Reviewer_Nationality_UK                     515738 non-null  int64  \n",
      " 20  Reviewer_Nationality_USA                    515738 non-null  int64  \n",
      " 21  Reviewer_Nationality_Other                  515738 non-null  int64  \n",
      " 22  Hotel_Address_Amsterdam                     515738 non-null  int64  \n",
      " 23  Hotel_Address_Barcelona                     515738 non-null  int64  \n",
      " 24  Hotel_Address_London                        515738 non-null  int64  \n",
      " 25  Hotel_Address_Milan                         515738 non-null  int64  \n",
      " 26  Hotel_Address_Paris                         515738 non-null  int64  \n",
      " 27  Hotel_Address_Vienna                        515738 non-null  int64  \n",
      " 28  Leisure_Trip                                515738 non-null  int64  \n",
      " 29  Nights_Stayed                               515738 non-null  int64  \n",
      "dtypes: float64(3), int64(25), object(2)\n",
      "memory usage: 118.0+ MB\n"
     ]
    }
   ],
   "source": [
    "# check the info for the dataframe\n",
    "df_raw.info()"
   ]
  },
  {
   "cell_type": "code",
   "execution_count": 6,
   "id": "190595ca",
   "metadata": {},
   "outputs": [
    {
     "data": {
      "text/plain": [
       "Negative_Review\n",
       "No Negative    127890\n",
       " Nothing        14295\n",
       " Nothing         4236\n",
       " nothing         2225\n",
       " N A             1037\n",
       "Name: count, dtype: int64"
      ]
     },
     "execution_count": 6,
     "metadata": {},
     "output_type": "execute_result"
    }
   ],
   "source": [
    "# first look at the negative reviews\n",
    "df_raw['Negative_Review'].value_counts().head()"
   ]
  },
  {
   "cell_type": "code",
   "execution_count": 7,
   "id": "b6a09012",
   "metadata": {},
   "outputs": [
    {
     "data": {
      "text/html": [
       "<div>\n",
       "<style scoped>\n",
       "    .dataframe tbody tr th:only-of-type {\n",
       "        vertical-align: middle;\n",
       "    }\n",
       "\n",
       "    .dataframe tbody tr th {\n",
       "        vertical-align: top;\n",
       "    }\n",
       "\n",
       "    .dataframe thead th {\n",
       "        text-align: right;\n",
       "    }\n",
       "</style>\n",
       "<table border=\"1\" class=\"dataframe\">\n",
       "  <thead>\n",
       "    <tr style=\"text-align: right;\">\n",
       "      <th></th>\n",
       "      <th>Unnamed: 0</th>\n",
       "      <th>Additional_Number_of_Scoring</th>\n",
       "      <th>Average_Score</th>\n",
       "      <th>Negative_Review</th>\n",
       "      <th>Review_Total_Negative_Word_Counts</th>\n",
       "      <th>Total_Number_of_Reviews</th>\n",
       "      <th>Positive_Review</th>\n",
       "      <th>Review_Total_Positive_Word_Counts</th>\n",
       "      <th>Total_Number_of_Reviews_Reviewer_Has_Given</th>\n",
       "      <th>Reviewer_Score</th>\n",
       "      <th>Days_Since_Review</th>\n",
       "      <th>Latitude</th>\n",
       "      <th>Longitude</th>\n",
       "      <th>Day</th>\n",
       "      <th>Month</th>\n",
       "    </tr>\n",
       "  </thead>\n",
       "  <tbody>\n",
       "    <tr>\n",
       "      <th>0</th>\n",
       "      <td>0</td>\n",
       "      <td>194</td>\n",
       "      <td>7.7</td>\n",
       "      <td>I am so angry that i made this post available...</td>\n",
       "      <td>397</td>\n",
       "      <td>1403</td>\n",
       "      <td>Only the park outside of the hotel was beauti...</td>\n",
       "      <td>11</td>\n",
       "      <td>7</td>\n",
       "      <td>0</td>\n",
       "      <td>0</td>\n",
       "      <td>52.360576</td>\n",
       "      <td>4.915968</td>\n",
       "      <td>3</td>\n",
       "      <td>8</td>\n",
       "    </tr>\n",
       "    <tr>\n",
       "      <th>1</th>\n",
       "      <td>1</td>\n",
       "      <td>194</td>\n",
       "      <td>7.7</td>\n",
       "      <td>No Negative</td>\n",
       "      <td>0</td>\n",
       "      <td>1403</td>\n",
       "      <td>No real complaints the hotel was great great ...</td>\n",
       "      <td>105</td>\n",
       "      <td>7</td>\n",
       "      <td>0</td>\n",
       "      <td>0</td>\n",
       "      <td>52.360576</td>\n",
       "      <td>4.915968</td>\n",
       "      <td>3</td>\n",
       "      <td>8</td>\n",
       "    </tr>\n",
       "    <tr>\n",
       "      <th>2</th>\n",
       "      <td>2</td>\n",
       "      <td>194</td>\n",
       "      <td>7.7</td>\n",
       "      <td>Rooms are nice but for elderly a bit difficul...</td>\n",
       "      <td>42</td>\n",
       "      <td>1403</td>\n",
       "      <td>Location was good and staff were ok It is cut...</td>\n",
       "      <td>21</td>\n",
       "      <td>9</td>\n",
       "      <td>0</td>\n",
       "      <td>3</td>\n",
       "      <td>52.360576</td>\n",
       "      <td>4.915968</td>\n",
       "      <td>31</td>\n",
       "      <td>7</td>\n",
       "    </tr>\n",
       "    <tr>\n",
       "      <th>3</th>\n",
       "      <td>3</td>\n",
       "      <td>194</td>\n",
       "      <td>7.7</td>\n",
       "      <td>My room was dirty and I was afraid to walk ba...</td>\n",
       "      <td>210</td>\n",
       "      <td>1403</td>\n",
       "      <td>Great location in nice surroundings the bar a...</td>\n",
       "      <td>26</td>\n",
       "      <td>1</td>\n",
       "      <td>0</td>\n",
       "      <td>3</td>\n",
       "      <td>52.360576</td>\n",
       "      <td>4.915968</td>\n",
       "      <td>31</td>\n",
       "      <td>7</td>\n",
       "    </tr>\n",
       "    <tr>\n",
       "      <th>4</th>\n",
       "      <td>4</td>\n",
       "      <td>194</td>\n",
       "      <td>7.7</td>\n",
       "      <td>You When I booked with your company on line y...</td>\n",
       "      <td>140</td>\n",
       "      <td>1403</td>\n",
       "      <td>Amazing location and building Romantic setting</td>\n",
       "      <td>8</td>\n",
       "      <td>3</td>\n",
       "      <td>0</td>\n",
       "      <td>10</td>\n",
       "      <td>52.360576</td>\n",
       "      <td>4.915968</td>\n",
       "      <td>24</td>\n",
       "      <td>7</td>\n",
       "    </tr>\n",
       "  </tbody>\n",
       "</table>\n",
       "</div>"
      ],
      "text/plain": [
       "   Unnamed: 0  Additional_Number_of_Scoring  Average_Score  \\\n",
       "0           0                           194            7.7   \n",
       "1           1                           194            7.7   \n",
       "2           2                           194            7.7   \n",
       "3           3                           194            7.7   \n",
       "4           4                           194            7.7   \n",
       "\n",
       "                                     Negative_Review  \\\n",
       "0   I am so angry that i made this post available...   \n",
       "1                                        No Negative   \n",
       "2   Rooms are nice but for elderly a bit difficul...   \n",
       "3   My room was dirty and I was afraid to walk ba...   \n",
       "4   You When I booked with your company on line y...   \n",
       "\n",
       "   Review_Total_Negative_Word_Counts  Total_Number_of_Reviews  \\\n",
       "0                                397                     1403   \n",
       "1                                  0                     1403   \n",
       "2                                 42                     1403   \n",
       "3                                210                     1403   \n",
       "4                                140                     1403   \n",
       "\n",
       "                                     Positive_Review  \\\n",
       "0   Only the park outside of the hotel was beauti...   \n",
       "1   No real complaints the hotel was great great ...   \n",
       "2   Location was good and staff were ok It is cut...   \n",
       "3   Great location in nice surroundings the bar a...   \n",
       "4    Amazing location and building Romantic setting    \n",
       "\n",
       "   Review_Total_Positive_Word_Counts  \\\n",
       "0                                 11   \n",
       "1                                105   \n",
       "2                                 21   \n",
       "3                                 26   \n",
       "4                                  8   \n",
       "\n",
       "   Total_Number_of_Reviews_Reviewer_Has_Given  Reviewer_Score  \\\n",
       "0                                           7               0   \n",
       "1                                           7               0   \n",
       "2                                           9               0   \n",
       "3                                           1               0   \n",
       "4                                           3               0   \n",
       "\n",
       "   Days_Since_Review   Latitude  Longitude  Day  Month  \n",
       "0                  0  52.360576   4.915968    3      8  \n",
       "1                  0  52.360576   4.915968    3      8  \n",
       "2                  3  52.360576   4.915968   31      7  \n",
       "3                  3  52.360576   4.915968   31      7  \n",
       "4                 10  52.360576   4.915968   24      7  "
      ]
     },
     "execution_count": 7,
     "metadata": {},
     "output_type": "execute_result"
    }
   ],
   "source": [
    "# take brief look at first 15 columns\n",
    "df_raw.iloc[:5,:15]"
   ]
  },
  {
   "cell_type": "code",
   "execution_count": 8,
   "id": "63d2ec9e",
   "metadata": {},
   "outputs": [
    {
     "data": {
      "text/html": [
       "<div>\n",
       "<style scoped>\n",
       "    .dataframe tbody tr th:only-of-type {\n",
       "        vertical-align: middle;\n",
       "    }\n",
       "\n",
       "    .dataframe tbody tr th {\n",
       "        vertical-align: top;\n",
       "    }\n",
       "\n",
       "    .dataframe thead th {\n",
       "        text-align: right;\n",
       "    }\n",
       "</style>\n",
       "<table border=\"1\" class=\"dataframe\">\n",
       "  <thead>\n",
       "    <tr style=\"text-align: right;\">\n",
       "      <th></th>\n",
       "      <th>Year</th>\n",
       "      <th>Reviewer_Nationality_Australia</th>\n",
       "      <th>Reviewer_Nationality_Ireland</th>\n",
       "      <th>Reviewer_Nationality_UAE</th>\n",
       "      <th>Reviewer_Nationality_UK</th>\n",
       "      <th>Reviewer_Nationality_USA</th>\n",
       "      <th>Reviewer_Nationality_Other</th>\n",
       "      <th>Hotel_Address_Amsterdam</th>\n",
       "      <th>Hotel_Address_Barcelona</th>\n",
       "      <th>Hotel_Address_London</th>\n",
       "      <th>Hotel_Address_Milan</th>\n",
       "      <th>Hotel_Address_Paris</th>\n",
       "      <th>Hotel_Address_Vienna</th>\n",
       "      <th>Leisure_Trip</th>\n",
       "      <th>Nights_Stayed</th>\n",
       "    </tr>\n",
       "  </thead>\n",
       "  <tbody>\n",
       "    <tr>\n",
       "      <th>0</th>\n",
       "      <td>2017</td>\n",
       "      <td>0</td>\n",
       "      <td>0</td>\n",
       "      <td>0</td>\n",
       "      <td>0</td>\n",
       "      <td>0</td>\n",
       "      <td>1</td>\n",
       "      <td>1</td>\n",
       "      <td>0</td>\n",
       "      <td>0</td>\n",
       "      <td>0</td>\n",
       "      <td>0</td>\n",
       "      <td>0</td>\n",
       "      <td>1</td>\n",
       "      <td>6</td>\n",
       "    </tr>\n",
       "    <tr>\n",
       "      <th>1</th>\n",
       "      <td>2017</td>\n",
       "      <td>0</td>\n",
       "      <td>1</td>\n",
       "      <td>0</td>\n",
       "      <td>0</td>\n",
       "      <td>0</td>\n",
       "      <td>0</td>\n",
       "      <td>1</td>\n",
       "      <td>0</td>\n",
       "      <td>0</td>\n",
       "      <td>0</td>\n",
       "      <td>0</td>\n",
       "      <td>0</td>\n",
       "      <td>1</td>\n",
       "      <td>4</td>\n",
       "    </tr>\n",
       "    <tr>\n",
       "      <th>2</th>\n",
       "      <td>2017</td>\n",
       "      <td>1</td>\n",
       "      <td>0</td>\n",
       "      <td>0</td>\n",
       "      <td>0</td>\n",
       "      <td>0</td>\n",
       "      <td>0</td>\n",
       "      <td>1</td>\n",
       "      <td>0</td>\n",
       "      <td>0</td>\n",
       "      <td>0</td>\n",
       "      <td>0</td>\n",
       "      <td>0</td>\n",
       "      <td>1</td>\n",
       "      <td>3</td>\n",
       "    </tr>\n",
       "    <tr>\n",
       "      <th>3</th>\n",
       "      <td>2017</td>\n",
       "      <td>0</td>\n",
       "      <td>0</td>\n",
       "      <td>0</td>\n",
       "      <td>1</td>\n",
       "      <td>0</td>\n",
       "      <td>0</td>\n",
       "      <td>1</td>\n",
       "      <td>0</td>\n",
       "      <td>0</td>\n",
       "      <td>0</td>\n",
       "      <td>0</td>\n",
       "      <td>0</td>\n",
       "      <td>1</td>\n",
       "      <td>3</td>\n",
       "    </tr>\n",
       "    <tr>\n",
       "      <th>4</th>\n",
       "      <td>2017</td>\n",
       "      <td>0</td>\n",
       "      <td>0</td>\n",
       "      <td>0</td>\n",
       "      <td>0</td>\n",
       "      <td>0</td>\n",
       "      <td>1</td>\n",
       "      <td>1</td>\n",
       "      <td>0</td>\n",
       "      <td>0</td>\n",
       "      <td>0</td>\n",
       "      <td>0</td>\n",
       "      <td>0</td>\n",
       "      <td>1</td>\n",
       "      <td>2</td>\n",
       "    </tr>\n",
       "  </tbody>\n",
       "</table>\n",
       "</div>"
      ],
      "text/plain": [
       "   Year  Reviewer_Nationality_Australia  Reviewer_Nationality_Ireland  \\\n",
       "0  2017                               0                             0   \n",
       "1  2017                               0                             1   \n",
       "2  2017                               1                             0   \n",
       "3  2017                               0                             0   \n",
       "4  2017                               0                             0   \n",
       "\n",
       "   Reviewer_Nationality_UAE  Reviewer_Nationality_UK  \\\n",
       "0                         0                        0   \n",
       "1                         0                        0   \n",
       "2                         0                        0   \n",
       "3                         0                        1   \n",
       "4                         0                        0   \n",
       "\n",
       "   Reviewer_Nationality_USA  Reviewer_Nationality_Other  \\\n",
       "0                         0                           1   \n",
       "1                         0                           0   \n",
       "2                         0                           0   \n",
       "3                         0                           0   \n",
       "4                         0                           1   \n",
       "\n",
       "   Hotel_Address_Amsterdam  Hotel_Address_Barcelona  Hotel_Address_London  \\\n",
       "0                        1                        0                     0   \n",
       "1                        1                        0                     0   \n",
       "2                        1                        0                     0   \n",
       "3                        1                        0                     0   \n",
       "4                        1                        0                     0   \n",
       "\n",
       "   Hotel_Address_Milan  Hotel_Address_Paris  Hotel_Address_Vienna  \\\n",
       "0                    0                    0                     0   \n",
       "1                    0                    0                     0   \n",
       "2                    0                    0                     0   \n",
       "3                    0                    0                     0   \n",
       "4                    0                    0                     0   \n",
       "\n",
       "   Leisure_Trip  Nights_Stayed  \n",
       "0             1              6  \n",
       "1             1              4  \n",
       "2             1              3  \n",
       "3             1              3  \n",
       "4             1              2  "
      ]
     },
     "execution_count": 8,
     "metadata": {},
     "output_type": "execute_result"
    }
   ],
   "source": [
    "# take brief look at last 15 columns\n",
    "df_raw.iloc[:5,15:30]"
   ]
  },
  {
   "cell_type": "code",
   "execution_count": 9,
   "id": "8893a7f4",
   "metadata": {},
   "outputs": [
    {
     "data": {
      "text/plain": [
       "Unnamed: 0                                    0\n",
       "Additional_Number_of_Scoring                  0\n",
       "Average_Score                                 0\n",
       "Negative_Review                               0\n",
       "Review_Total_Negative_Word_Counts             0\n",
       "Total_Number_of_Reviews                       0\n",
       "Positive_Review                               0\n",
       "Review_Total_Positive_Word_Counts             0\n",
       "Total_Number_of_Reviews_Reviewer_Has_Given    0\n",
       "Reviewer_Score                                0\n",
       "Days_Since_Review                             0\n",
       "Latitude                                      0\n",
       "Longitude                                     0\n",
       "Day                                           0\n",
       "Month                                         0\n",
       "Year                                          0\n",
       "Reviewer_Nationality_Australia                0\n",
       "Reviewer_Nationality_Ireland                  0\n",
       "Reviewer_Nationality_UAE                      0\n",
       "Reviewer_Nationality_UK                       0\n",
       "Reviewer_Nationality_USA                      0\n",
       "Reviewer_Nationality_Other                    0\n",
       "Hotel_Address_Amsterdam                       0\n",
       "Hotel_Address_Barcelona                       0\n",
       "Hotel_Address_London                          0\n",
       "Hotel_Address_Milan                           0\n",
       "Hotel_Address_Paris                           0\n",
       "Hotel_Address_Vienna                          0\n",
       "Leisure_Trip                                  0\n",
       "Nights_Stayed                                 0\n",
       "dtype: int64"
      ]
     },
     "execution_count": 9,
     "metadata": {},
     "output_type": "execute_result"
    }
   ],
   "source": [
    "# checking for missing value\n",
    "df_raw.isna().sum()"
   ]
  },
  {
   "cell_type": "code",
   "execution_count": 10,
   "id": "f6672de9",
   "metadata": {},
   "outputs": [
    {
     "data": {
      "text/plain": [
       "0"
      ]
     },
     "execution_count": 10,
     "metadata": {},
     "output_type": "execute_result"
    }
   ],
   "source": [
    "# checking for duplicated data\n",
    "df_raw.duplicated().sum()"
   ]
  },
  {
   "cell_type": "code",
   "execution_count": 11,
   "id": "2d2f6896",
   "metadata": {},
   "outputs": [
    {
     "data": {
      "text/plain": [
       "Reviewer_Score\n",
       "1    293974\n",
       "0    221764\n",
       "Name: count, dtype: int64"
      ]
     },
     "execution_count": 11,
     "metadata": {},
     "output_type": "execute_result"
    }
   ],
   "source": [
    "# a brief look at data target\n",
    "df_raw['Reviewer_Score'].value_counts()"
   ]
  },
  {
   "cell_type": "code",
   "execution_count": 13,
   "id": "12af0ce3",
   "metadata": {},
   "outputs": [],
   "source": [
    "good_percent, bad_percent = df_raw['Reviewer_Score'].value_counts() /df_raw.shape[0]"
   ]
  },
  {
   "cell_type": "code",
   "execution_count": 142,
   "id": "3c11336e",
   "metadata": {},
   "outputs": [
    {
     "name": "stdout",
     "output_type": "stream",
     "text": [
      "Good reviews: 57.000647615649804 %\n",
      "Bad reviews: 42.99935238435019 %\n"
     ]
    }
   ],
   "source": [
    "print(f'Good reviews: {good_percent * 100} %')\n",
    "print(f'Bad reviews: {bad_percent * 100} %')"
   ]
  },
  {
   "cell_type": "markdown",
   "id": "920dace1",
   "metadata": {},
   "source": [
    "#### The data target is almost balenced"
   ]
  },
  {
   "cell_type": "code",
   "execution_count": 14,
   "id": "f8d48254",
   "metadata": {},
   "outputs": [
    {
     "name": "stdout",
     "output_type": "stream",
     "text": [
      "Number of Unique Positive reviews: 412601\n",
      "Number of Unique Negative reviews: 330011\n"
     ]
    }
   ],
   "source": [
    "# check for target count\n",
    "print(\"Number of Unique Positive reviews: \",end=\"\")\n",
    "print(df_raw['Positive_Review'].value_counts().shape[0])\n",
    "print(\"Number of Unique Negative reviews: \",end=\"\")\n",
    "print(df_raw['Negative_Review'].value_counts().shape[0])"
   ]
  },
  {
   "cell_type": "code",
   "execution_count": 15,
   "id": "92edb780",
   "metadata": {},
   "outputs": [
    {
     "data": {
      "image/png": "[encoded data removed]",
      "text/plain": [
       "<Figure size 864x432 with 1 Axes>"
      ]
     },
     "metadata": {
      "needs_background": "light"
     },
     "output_type": "display_data"
    }
   ],
   "source": [
    "# Assuming df is your DataFrame and Average_Score and Reviewer_Score are the columns\n",
    "plt.figure(figsize=(12, 6))  # Set the size of the plot\n",
    "sns.countplot(x='Average_Score', hue='Reviewer_Score', data=df_raw, palette=\"deep\")\n",
    "\n",
    "plt.xlabel('Average Score')  # Set the x-axis label\n",
    "plt.ylabel('Count')          # Set the y-axis label\n",
    "plt.title('Distribution of Average Scores')  # Set the title of the plot\n",
    "\n",
    "plt.xticks(rotation=90)  # Rotate the x-axis labels for better readability if needed\n",
    "\n",
    "plt.show()\n",
    "\n"
   ]
  },
  {
   "cell_type": "markdown",
   "id": "87d21686",
   "metadata": {},
   "source": [
    "first make copy for cleaning as df_clean "
   ]
  },
  {
   "cell_type": "code",
   "execution_count": 16,
   "id": "99b5322a",
   "metadata": {},
   "outputs": [],
   "source": [
    "df_clean = df_raw"
   ]
  },
  {
   "cell_type": "markdown",
   "id": "2118934f",
   "metadata": {},
   "source": [
    "In This level for easier visalization, reverse the dummy data into categorical columns"
   ]
  },
  {
   "cell_type": "code",
   "execution_count": 18,
   "id": "d9d30891",
   "metadata": {},
   "outputs": [],
   "source": [
    "\n",
    "\n",
    "# Extracting columns related to Reviewer_Nationality and Hotel_Address\n",
    "reviewer_nationality_cols = [col for col in df_clean.columns if 'Reviewer_Nationality' in col]\n",
    "hotel_address_cols = [col for col in df_clean.columns if 'Hotel_Address' in col]\n",
    "\n",
    "# Function to get the category name\n",
    "def get_category(row, columns):\n",
    "    for col in columns:\n",
    "        if row[col] == 1:\n",
    "            return col.split('_')[-1]\n",
    "    return None\n",
    "\n",
    "# Apply the function to each row\n",
    "df_clean['Reviewer_Nationality'] = df_clean.apply(lambda row: get_category(row, reviewer_nationality_cols), axis=1)\n",
    "df_clean['Hotel_Address'] = df_clean.apply(lambda row: get_category(row, hotel_address_cols), axis=1)\n",
    "\n",
    "#  drop the original dummy columns\n",
    "df_clean.drop(reviewer_nationality_cols + hotel_address_cols, axis=1, inplace=True)\n"
   ]
  },
  {
   "cell_type": "code",
   "execution_count": 19,
   "id": "315f4e99",
   "metadata": {},
   "outputs": [
    {
     "data": {
      "text/html": [
       "<div>\n",
       "<style scoped>\n",
       "    .dataframe tbody tr th:only-of-type {\n",
       "        vertical-align: middle;\n",
       "    }\n",
       "\n",
       "    .dataframe tbody tr th {\n",
       "        vertical-align: top;\n",
       "    }\n",
       "\n",
       "    .dataframe thead th {\n",
       "        text-align: right;\n",
       "    }\n",
       "</style>\n",
       "<table border=\"1\" class=\"dataframe\">\n",
       "  <thead>\n",
       "    <tr style=\"text-align: right;\">\n",
       "      <th></th>\n",
       "      <th>Unnamed: 0</th>\n",
       "      <th>Additional_Number_of_Scoring</th>\n",
       "      <th>Average_Score</th>\n",
       "      <th>Negative_Review</th>\n",
       "      <th>Review_Total_Negative_Word_Counts</th>\n",
       "      <th>Total_Number_of_Reviews</th>\n",
       "      <th>Positive_Review</th>\n",
       "      <th>Review_Total_Positive_Word_Counts</th>\n",
       "      <th>Total_Number_of_Reviews_Reviewer_Has_Given</th>\n",
       "      <th>Reviewer_Score</th>\n",
       "      <th>Days_Since_Review</th>\n",
       "      <th>Latitude</th>\n",
       "      <th>Longitude</th>\n",
       "      <th>Day</th>\n",
       "      <th>Month</th>\n",
       "      <th>Year</th>\n",
       "      <th>Leisure_Trip</th>\n",
       "      <th>Nights_Stayed</th>\n",
       "      <th>Reviewer_Nationality</th>\n",
       "      <th>Hotel_Address</th>\n",
       "    </tr>\n",
       "  </thead>\n",
       "  <tbody>\n",
       "    <tr>\n",
       "      <th>0</th>\n",
       "      <td>0</td>\n",
       "      <td>194</td>\n",
       "      <td>7.7</td>\n",
       "      <td>I am so angry that i made this post available...</td>\n",
       "      <td>397</td>\n",
       "      <td>1403</td>\n",
       "      <td>Only the park outside of the hotel was beauti...</td>\n",
       "      <td>11</td>\n",
       "      <td>7</td>\n",
       "      <td>0</td>\n",
       "      <td>0</td>\n",
       "      <td>52.360576</td>\n",
       "      <td>4.915968</td>\n",
       "      <td>3</td>\n",
       "      <td>8</td>\n",
       "      <td>2017</td>\n",
       "      <td>1</td>\n",
       "      <td>6</td>\n",
       "      <td>Other</td>\n",
       "      <td>Amsterdam</td>\n",
       "    </tr>\n",
       "    <tr>\n",
       "      <th>1</th>\n",
       "      <td>1</td>\n",
       "      <td>194</td>\n",
       "      <td>7.7</td>\n",
       "      <td>No Negative</td>\n",
       "      <td>0</td>\n",
       "      <td>1403</td>\n",
       "      <td>No real complaints the hotel was great great ...</td>\n",
       "      <td>105</td>\n",
       "      <td>7</td>\n",
       "      <td>0</td>\n",
       "      <td>0</td>\n",
       "      <td>52.360576</td>\n",
       "      <td>4.915968</td>\n",
       "      <td>3</td>\n",
       "      <td>8</td>\n",
       "      <td>2017</td>\n",
       "      <td>1</td>\n",
       "      <td>4</td>\n",
       "      <td>Ireland</td>\n",
       "      <td>Amsterdam</td>\n",
       "    </tr>\n",
       "    <tr>\n",
       "      <th>2</th>\n",
       "      <td>2</td>\n",
       "      <td>194</td>\n",
       "      <td>7.7</td>\n",
       "      <td>Rooms are nice but for elderly a bit difficul...</td>\n",
       "      <td>42</td>\n",
       "      <td>1403</td>\n",
       "      <td>Location was good and staff were ok It is cut...</td>\n",
       "      <td>21</td>\n",
       "      <td>9</td>\n",
       "      <td>0</td>\n",
       "      <td>3</td>\n",
       "      <td>52.360576</td>\n",
       "      <td>4.915968</td>\n",
       "      <td>31</td>\n",
       "      <td>7</td>\n",
       "      <td>2017</td>\n",
       "      <td>1</td>\n",
       "      <td>3</td>\n",
       "      <td>Australia</td>\n",
       "      <td>Amsterdam</td>\n",
       "    </tr>\n",
       "  </tbody>\n",
       "</table>\n",
       "</div>"
      ],
      "text/plain": [
       "   Unnamed: 0  Additional_Number_of_Scoring  Average_Score  \\\n",
       "0           0                           194            7.7   \n",
       "1           1                           194            7.7   \n",
       "2           2                           194            7.7   \n",
       "\n",
       "                                     Negative_Review  \\\n",
       "0   I am so angry that i made this post available...   \n",
       "1                                        No Negative   \n",
       "2   Rooms are nice but for elderly a bit difficul...   \n",
       "\n",
       "   Review_Total_Negative_Word_Counts  Total_Number_of_Reviews  \\\n",
       "0                                397                     1403   \n",
       "1                                  0                     1403   \n",
       "2                                 42                     1403   \n",
       "\n",
       "                                     Positive_Review  \\\n",
       "0   Only the park outside of the hotel was beauti...   \n",
       "1   No real complaints the hotel was great great ...   \n",
       "2   Location was good and staff were ok It is cut...   \n",
       "\n",
       "   Review_Total_Positive_Word_Counts  \\\n",
       "0                                 11   \n",
       "1                                105   \n",
       "2                                 21   \n",
       "\n",
       "   Total_Number_of_Reviews_Reviewer_Has_Given  Reviewer_Score  \\\n",
       "0                                           7               0   \n",
       "1                                           7               0   \n",
       "2                                           9               0   \n",
       "\n",
       "   Days_Since_Review   Latitude  Longitude  Day  Month  Year  Leisure_Trip  \\\n",
       "0                  0  52.360576   4.915968    3      8  2017             1   \n",
       "1                  0  52.360576   4.915968    3      8  2017             1   \n",
       "2                  3  52.360576   4.915968   31      7  2017             1   \n",
       "\n",
       "   Nights_Stayed Reviewer_Nationality Hotel_Address  \n",
       "0              6                Other     Amsterdam  \n",
       "1              4              Ireland     Amsterdam  \n",
       "2              3            Australia     Amsterdam  "
      ]
     },
     "execution_count": 19,
     "metadata": {},
     "output_type": "execute_result"
    }
   ],
   "source": [
    "df_clean.head(3)"
   ]
  },
  {
   "cell_type": "markdown",
   "id": "ccc33bcd",
   "metadata": {},
   "source": [
    "Now we have columns with categorical columns"
   ]
  },
  {
   "cell_type": "code",
   "execution_count": 21,
   "id": "5f278e3f",
   "metadata": {},
   "outputs": [],
   "source": [
    "# remove the old index\n",
    "# Remove the 'Unnamed: 0' column from the DataFrame\n",
    "df_clean.drop('Unnamed: 0', axis=1, inplace=True)"
   ]
  },
  {
   "cell_type": "markdown",
   "id": "f4a4163d",
   "metadata": {},
   "source": [
    "## Data Dictionary\n",
    "\n",
    "| Column Name                                  | Description                                               | Type       |\n",
    "| -------------------------------------------- | --------------------------------------------------------- | ---------- |\n",
    "| Additional_Number_of_Scoring                 | Number of scores given without an accompanying review.    | int64      |\n",
    "| Average_Score                                | Average score of the hotel, calculated based on the latest comments in the last year. | float64    |\n",
    "| Negative_Review                              | Text of the negative review given by the reviewer. 'No Negative' if no negative review is given. | object     |\n",
    "| Review_Total_Negative_Word_Counts            | Total number of words in the negative review.             | int64      |\n",
    "| Total_Number_of_Reviews                      | Total number of valid reviews the hotel has received.     | int64      |\n",
    "| Positive_Review                              | Text of the positive review given by the reviewer. 'No Positive' if no positive review is given. | object     |\n",
    "| Review_Total_Positive_Word_Counts            | Total number of words in the positive review.             | int64      |\n",
    "| Total_Number_of_Reviews_Reviewer_Has_Given   | Number of reviews the reviewer has given in the past.     | int64      |\n",
    "| Reviewer_Score                               | Score the reviewer has given to the hotel, based on his/her experience. | int64      |\n",
    "| Days_Since_Review                            | Duration between the review date and scrape date.         | int64      |\n",
    "| Latitude                                     | Geographical latitude of the hotel.                       | float64    |\n",
    "| Longitude                                    | Geographical longitude of the hotel.                      | float64    |\n",
    "| Day                                          | Day of the month when the review was posted.              | int64      |\n",
    "| Month                                        | Month when the review was posted.                         | int64      |\n",
    "| Year                                         | Year when the review was posted.                          | int64      |\n",
    "| Leisure_Trip                                 | Indicates whether the trip was for leisure (1) or not (0).| int64      |\n",
    "| Nights_Stayed                                | Number of nights the reviewer stayed in the hotel.        | int64      |\n",
    "| Reviewer_Nationality                         | Nationality of the reviewer.                              | object     |\n",
    "| Hotel_Address                                | Address of the hotel.                                     | object     |\n"
   ]
  },
  {
   "cell_type": "code",
   "execution_count": 22,
   "id": "3728d2c9",
   "metadata": {},
   "outputs": [
    {
     "data": {
      "text/html": [
       "<div>\n",
       "<style scoped>\n",
       "    .dataframe tbody tr th:only-of-type {\n",
       "        vertical-align: middle;\n",
       "    }\n",
       "\n",
       "    .dataframe tbody tr th {\n",
       "        vertical-align: top;\n",
       "    }\n",
       "\n",
       "    .dataframe thead th {\n",
       "        text-align: right;\n",
       "    }\n",
       "</style>\n",
       "<table border=\"1\" class=\"dataframe\">\n",
       "  <thead>\n",
       "    <tr style=\"text-align: right;\">\n",
       "      <th></th>\n",
       "      <th>Additional_Number_of_Scoring</th>\n",
       "      <th>Average_Score</th>\n",
       "      <th>Review_Total_Negative_Word_Counts</th>\n",
       "      <th>Total_Number_of_Reviews</th>\n",
       "      <th>Review_Total_Positive_Word_Counts</th>\n",
       "      <th>Total_Number_of_Reviews_Reviewer_Has_Given</th>\n",
       "      <th>Reviewer_Score</th>\n",
       "      <th>Days_Since_Review</th>\n",
       "      <th>Latitude</th>\n",
       "      <th>Longitude</th>\n",
       "      <th>Day</th>\n",
       "      <th>Month</th>\n",
       "      <th>Year</th>\n",
       "      <th>Leisure_Trip</th>\n",
       "      <th>Nights_Stayed</th>\n",
       "    </tr>\n",
       "  </thead>\n",
       "  <tbody>\n",
       "    <tr>\n",
       "      <th>count</th>\n",
       "      <td>515738.000000</td>\n",
       "      <td>515738.000000</td>\n",
       "      <td>515738.000000</td>\n",
       "      <td>515738.000000</td>\n",
       "      <td>515738.000000</td>\n",
       "      <td>515738.000000</td>\n",
       "      <td>515738.000000</td>\n",
       "      <td>515738.000000</td>\n",
       "      <td>515738.000000</td>\n",
       "      <td>515738.000000</td>\n",
       "      <td>515738.000000</td>\n",
       "      <td>515738.000000</td>\n",
       "      <td>515738.000000</td>\n",
       "      <td>515738.000000</td>\n",
       "      <td>515738.000000</td>\n",
       "    </tr>\n",
       "    <tr>\n",
       "      <th>mean</th>\n",
       "      <td>498.081836</td>\n",
       "      <td>8.397487</td>\n",
       "      <td>18.539450</td>\n",
       "      <td>2743.743944</td>\n",
       "      <td>17.776458</td>\n",
       "      <td>7.166001</td>\n",
       "      <td>0.570006</td>\n",
       "      <td>354.441932</td>\n",
       "      <td>49.432419</td>\n",
       "      <td>2.893479</td>\n",
       "      <td>15.680221</td>\n",
       "      <td>6.486660</td>\n",
       "      <td>2016.120761</td>\n",
       "      <td>0.810059</td>\n",
       "      <td>2.362122</td>\n",
       "    </tr>\n",
       "    <tr>\n",
       "      <th>std</th>\n",
       "      <td>500.538467</td>\n",
       "      <td>0.548048</td>\n",
       "      <td>29.690831</td>\n",
       "      <td>2317.464868</td>\n",
       "      <td>21.804185</td>\n",
       "      <td>11.040228</td>\n",
       "      <td>0.495075</td>\n",
       "      <td>208.928124</td>\n",
       "      <td>3.460237</td>\n",
       "      <td>4.667477</td>\n",
       "      <td>8.864491</td>\n",
       "      <td>3.351779</td>\n",
       "      <td>0.687567</td>\n",
       "      <td>0.392255</td>\n",
       "      <td>1.646808</td>\n",
       "    </tr>\n",
       "    <tr>\n",
       "      <th>min</th>\n",
       "      <td>1.000000</td>\n",
       "      <td>5.200000</td>\n",
       "      <td>0.000000</td>\n",
       "      <td>43.000000</td>\n",
       "      <td>0.000000</td>\n",
       "      <td>1.000000</td>\n",
       "      <td>0.000000</td>\n",
       "      <td>0.000000</td>\n",
       "      <td>41.328376</td>\n",
       "      <td>-0.369758</td>\n",
       "      <td>1.000000</td>\n",
       "      <td>1.000000</td>\n",
       "      <td>2015.000000</td>\n",
       "      <td>0.000000</td>\n",
       "      <td>1.000000</td>\n",
       "    </tr>\n",
       "    <tr>\n",
       "      <th>25%</th>\n",
       "      <td>169.000000</td>\n",
       "      <td>8.100000</td>\n",
       "      <td>2.000000</td>\n",
       "      <td>1161.000000</td>\n",
       "      <td>5.000000</td>\n",
       "      <td>1.000000</td>\n",
       "      <td>0.000000</td>\n",
       "      <td>175.000000</td>\n",
       "      <td>48.214066</td>\n",
       "      <td>-0.143372</td>\n",
       "      <td>8.000000</td>\n",
       "      <td>4.000000</td>\n",
       "      <td>2016.000000</td>\n",
       "      <td>1.000000</td>\n",
       "      <td>1.000000</td>\n",
       "    </tr>\n",
       "    <tr>\n",
       "      <th>50%</th>\n",
       "      <td>341.000000</td>\n",
       "      <td>8.400000</td>\n",
       "      <td>9.000000</td>\n",
       "      <td>2134.000000</td>\n",
       "      <td>11.000000</td>\n",
       "      <td>3.000000</td>\n",
       "      <td>1.000000</td>\n",
       "      <td>353.000000</td>\n",
       "      <td>51.499981</td>\n",
       "      <td>0.019886</td>\n",
       "      <td>16.000000</td>\n",
       "      <td>7.000000</td>\n",
       "      <td>2016.000000</td>\n",
       "      <td>1.000000</td>\n",
       "      <td>2.000000</td>\n",
       "    </tr>\n",
       "    <tr>\n",
       "      <th>75%</th>\n",
       "      <td>660.000000</td>\n",
       "      <td>8.800000</td>\n",
       "      <td>23.000000</td>\n",
       "      <td>3613.000000</td>\n",
       "      <td>22.000000</td>\n",
       "      <td>8.000000</td>\n",
       "      <td>1.000000</td>\n",
       "      <td>527.000000</td>\n",
       "      <td>51.516288</td>\n",
       "      <td>4.841163</td>\n",
       "      <td>23.000000</td>\n",
       "      <td>9.000000</td>\n",
       "      <td>2017.000000</td>\n",
       "      <td>1.000000</td>\n",
       "      <td>3.000000</td>\n",
       "    </tr>\n",
       "    <tr>\n",
       "      <th>max</th>\n",
       "      <td>2682.000000</td>\n",
       "      <td>9.800000</td>\n",
       "      <td>408.000000</td>\n",
       "      <td>16670.000000</td>\n",
       "      <td>395.000000</td>\n",
       "      <td>355.000000</td>\n",
       "      <td>1.000000</td>\n",
       "      <td>730.000000</td>\n",
       "      <td>52.400181</td>\n",
       "      <td>16.429233</td>\n",
       "      <td>31.000000</td>\n",
       "      <td>12.000000</td>\n",
       "      <td>2017.000000</td>\n",
       "      <td>1.000000</td>\n",
       "      <td>31.000000</td>\n",
       "    </tr>\n",
       "  </tbody>\n",
       "</table>\n",
       "</div>"
      ],
      "text/plain": [
       "       Additional_Number_of_Scoring  Average_Score  \\\n",
       "count                 515738.000000  515738.000000   \n",
       "mean                     498.081836       8.397487   \n",
       "std                      500.538467       0.548048   \n",
       "min                        1.000000       5.200000   \n",
       "25%                      169.000000       8.100000   \n",
       "50%                      341.000000       8.400000   \n",
       "75%                      660.000000       8.800000   \n",
       "max                     2682.000000       9.800000   \n",
       "\n",
       "       Review_Total_Negative_Word_Counts  Total_Number_of_Reviews  \\\n",
       "count                      515738.000000            515738.000000   \n",
       "mean                           18.539450              2743.743944   \n",
       "std                            29.690831              2317.464868   \n",
       "min                             0.000000                43.000000   \n",
       "25%                             2.000000              1161.000000   \n",
       "50%                             9.000000              2134.000000   \n",
       "75%                            23.000000              3613.000000   \n",
       "max                           408.000000             16670.000000   \n",
       "\n",
       "       Review_Total_Positive_Word_Counts  \\\n",
       "count                      515738.000000   \n",
       "mean                           17.776458   \n",
       "std                            21.804185   \n",
       "min                             0.000000   \n",
       "25%                             5.000000   \n",
       "50%                            11.000000   \n",
       "75%                            22.000000   \n",
       "max                           395.000000   \n",
       "\n",
       "       Total_Number_of_Reviews_Reviewer_Has_Given  Reviewer_Score  \\\n",
       "count                               515738.000000   515738.000000   \n",
       "mean                                     7.166001        0.570006   \n",
       "std                                     11.040228        0.495075   \n",
       "min                                      1.000000        0.000000   \n",
       "25%                                      1.000000        0.000000   \n",
       "50%                                      3.000000        1.000000   \n",
       "75%                                      8.000000        1.000000   \n",
       "max                                    355.000000        1.000000   \n",
       "\n",
       "       Days_Since_Review       Latitude      Longitude            Day  \\\n",
       "count      515738.000000  515738.000000  515738.000000  515738.000000   \n",
       "mean          354.441932      49.432419       2.893479      15.680221   \n",
       "std           208.928124       3.460237       4.667477       8.864491   \n",
       "min             0.000000      41.328376      -0.369758       1.000000   \n",
       "25%           175.000000      48.214066      -0.143372       8.000000   \n",
       "50%           353.000000      51.499981       0.019886      16.000000   \n",
       "75%           527.000000      51.516288       4.841163      23.000000   \n",
       "max           730.000000      52.400181      16.429233      31.000000   \n",
       "\n",
       "               Month           Year   Leisure_Trip  Nights_Stayed  \n",
       "count  515738.000000  515738.000000  515738.000000  515738.000000  \n",
       "mean        6.486660    2016.120761       0.810059       2.362122  \n",
       "std         3.351779       0.687567       0.392255       1.646808  \n",
       "min         1.000000    2015.000000       0.000000       1.000000  \n",
       "25%         4.000000    2016.000000       1.000000       1.000000  \n",
       "50%         7.000000    2016.000000       1.000000       2.000000  \n",
       "75%         9.000000    2017.000000       1.000000       3.000000  \n",
       "max        12.000000    2017.000000       1.000000      31.000000  "
      ]
     },
     "execution_count": 22,
     "metadata": {},
     "output_type": "execute_result"
    }
   ],
   "source": [
    "df_clean.describe()"
   ]
  },
  {
   "cell_type": "code",
   "execution_count": 23,
   "id": "98459f8f",
   "metadata": {
    "scrolled": false
   },
   "outputs": [
    {
     "name": "stdout",
     "output_type": "stream",
     "text": [
      "<class 'pandas.core.frame.DataFrame'>\n",
      "RangeIndex: 515738 entries, 0 to 515737\n",
      "Data columns (total 19 columns):\n",
      " #   Column                                      Non-Null Count   Dtype  \n",
      "---  ------                                      --------------   -----  \n",
      " 0   Additional_Number_of_Scoring                515738 non-null  int64  \n",
      " 1   Average_Score                               515738 non-null  float64\n",
      " 2   Negative_Review                             515738 non-null  object \n",
      " 3   Review_Total_Negative_Word_Counts           515738 non-null  int64  \n",
      " 4   Total_Number_of_Reviews                     515738 non-null  int64  \n",
      " 5   Positive_Review                             515738 non-null  object \n",
      " 6   Review_Total_Positive_Word_Counts           515738 non-null  int64  \n",
      " 7   Total_Number_of_Reviews_Reviewer_Has_Given  515738 non-null  int64  \n",
      " 8   Reviewer_Score                              515738 non-null  int64  \n",
      " 9   Days_Since_Review                           515738 non-null  int64  \n",
      " 10  Latitude                                    515738 non-null  float64\n",
      " 11  Longitude                                   515738 non-null  float64\n",
      " 12  Day                                         515738 non-null  int64  \n",
      " 13  Month                                       515738 non-null  int64  \n",
      " 14  Year                                        515738 non-null  int64  \n",
      " 15  Leisure_Trip                                515738 non-null  int64  \n",
      " 16  Nights_Stayed                               515738 non-null  int64  \n",
      " 17  Reviewer_Nationality                        515738 non-null  object \n",
      " 18  Hotel_Address                               515738 non-null  object \n",
      "dtypes: float64(3), int64(12), object(4)\n",
      "memory usage: 74.8+ MB\n"
     ]
    }
   ],
   "source": [
    "df_clean.info()"
   ]
  },
  {
   "cell_type": "code",
   "execution_count": 44,
   "id": "628d984e",
   "metadata": {},
   "outputs": [
    {
     "data": {
      "text/plain": [
       "Hotel_Address\n",
       "London       262301\n",
       "Barcelona     60149\n",
       "Paris         59928\n",
       "Amsterdam     57214\n",
       "Vienna        38939\n",
       "Milan         37207\n",
       "Name: count, dtype: int64"
      ]
     },
     "execution_count": 44,
     "metadata": {},
     "output_type": "execute_result"
    }
   ],
   "source": [
    "df_clean['Hotel_Address'].value_counts()"
   ]
  },
  {
   "cell_type": "code",
   "execution_count": 45,
   "id": "8f80c528",
   "metadata": {},
   "outputs": [
    {
     "data": {
      "text/plain": [
       "<AxesSubplot:xlabel='Hotel_Address'>"
      ]
     },
     "execution_count": 45,
     "metadata": {},
     "output_type": "execute_result"
    },
    {
     "data": {
      "image/png": "[encoded data removed]",
      "text/plain": [
       "<Figure size 432x288 with 1 Axes>"
      ]
     },
     "metadata": {
      "needs_background": "light"
     },
     "output_type": "display_data"
    }
   ],
   "source": [
    "df_clean['Hotel_Address'].value_counts().plot(kind = 'bar')\n"
   ]
  },
  {
   "cell_type": "code",
   "execution_count": 46,
   "id": "d3182b11",
   "metadata": {},
   "outputs": [
    {
     "data": {
      "text/plain": [
       "Reviewer_Nationality\n",
       "UK           245246\n",
       "Other        188307\n",
       "USA           35437\n",
       "Australia     21686\n",
       "Ireland       14827\n",
       "UAE           10235\n",
       "Name: count, dtype: int64"
      ]
     },
     "execution_count": 46,
     "metadata": {},
     "output_type": "execute_result"
    }
   ],
   "source": [
    "df_clean['Reviewer_Nationality'].value_counts()"
   ]
  },
  {
   "cell_type": "code",
   "execution_count": 47,
   "id": "212414b5",
   "metadata": {},
   "outputs": [
    {
     "data": {
      "text/plain": [
       "<AxesSubplot:xlabel='Reviewer_Nationality'>"
      ]
     },
     "execution_count": 47,
     "metadata": {},
     "output_type": "execute_result"
    },
    {
     "data": {
      "image/png": "[encoded data removed]",
      "text/plain": [
       "<Figure size 432x288 with 1 Axes>"
      ]
     },
     "metadata": {
      "needs_background": "light"
     },
     "output_type": "display_data"
    }
   ],
   "source": [
    "df_clean['Reviewer_Nationality'].value_counts().plot(kind = 'bar')"
   ]
  },
  {
   "cell_type": "code",
   "execution_count": 48,
   "id": "13afc3c8",
   "metadata": {},
   "outputs": [
    {
     "data": {
      "text/plain": [
       "Nights_Stayed\n",
       "1     193645\n",
       "2     134129\n",
       "3      95821\n",
       "4      47817\n",
       "5      20845\n",
       "6       9776\n",
       "7       7399\n",
       "8       2502\n",
       "9       1293\n",
       "10       889\n",
       "11       418\n",
       "12       316\n",
       "14       247\n",
       "13       246\n",
       "15       117\n",
       "16        57\n",
       "17        42\n",
       "18        33\n",
       "19        29\n",
       "21        23\n",
       "20        19\n",
       "30        11\n",
       "27        11\n",
       "23        10\n",
       "22        10\n",
       "25         7\n",
       "28         7\n",
       "26         7\n",
       "24         6\n",
       "29         5\n",
       "31         1\n",
       "Name: count, dtype: int64"
      ]
     },
     "execution_count": 48,
     "metadata": {},
     "output_type": "execute_result"
    }
   ],
   "source": [
    "df_clean['Nights_Stayed'].value_counts()"
   ]
  },
  {
   "cell_type": "code",
   "execution_count": 51,
   "id": "ff84ea89",
   "metadata": {},
   "outputs": [
    {
     "data": {
      "image/png": "[encoded data removed]",
      "text/plain": [
       "<Figure size 1152x432 with 1 Axes>"
      ]
     },
     "metadata": {
      "needs_background": "light"
     },
     "output_type": "display_data"
    }
   ],
   "source": [
    "plt.figure(figsize=(16,6))\n",
    "df_clean['Nights_Stayed'].value_counts().plot(kind = 'bar')\n",
    "plt.tight_layout()\n"
   ]
  },
  {
   "cell_type": "code",
   "execution_count": 52,
   "id": "b7079e37",
   "metadata": {},
   "outputs": [
    {
     "data": {
      "text/plain": [
       "Leisure_Trip\n",
       "1    417778\n",
       "0     97960\n",
       "Name: count, dtype: int64"
      ]
     },
     "execution_count": 52,
     "metadata": {},
     "output_type": "execute_result"
    }
   ],
   "source": [
    "df_clean['Leisure_Trip'].value_counts()"
   ]
  },
  {
   "cell_type": "code",
   "execution_count": 53,
   "id": "9006da25",
   "metadata": {},
   "outputs": [
    {
     "data": {
      "text/plain": [
       "<AxesSubplot:xlabel='Leisure_Trip'>"
      ]
     },
     "execution_count": 53,
     "metadata": {},
     "output_type": "execute_result"
    },
    {
     "data": {
      "image/png": "[encoded data removed]",
      "text/plain": [
       "<Figure size 432x288 with 1 Axes>"
      ]
     },
     "metadata": {
      "needs_background": "light"
     },
     "output_type": "display_data"
    }
   ],
   "source": [
    "df_clean['Leisure_Trip'].value_counts().plot(kind = 'bar')"
   ]
  },
  {
   "cell_type": "code",
   "execution_count": 54,
   "id": "ae4de35a",
   "metadata": {},
   "outputs": [
    {
     "data": {
      "text/plain": [
       "Year\n",
       "2016    264403\n",
       "2017    156808\n",
       "2015     94527\n",
       "Name: count, dtype: int64"
      ]
     },
     "execution_count": 54,
     "metadata": {},
     "output_type": "execute_result"
    }
   ],
   "source": [
    "df_clean['Year'].value_counts()"
   ]
  },
  {
   "cell_type": "code",
   "execution_count": 55,
   "id": "22052f21",
   "metadata": {},
   "outputs": [
    {
     "data": {
      "text/plain": [
       "<AxesSubplot:xlabel='Year'>"
      ]
     },
     "execution_count": 55,
     "metadata": {},
     "output_type": "execute_result"
    },
    {
     "data": {
      "image/png": "[encoded data removed]",
      "text/plain": [
       "<Figure size 432x288 with 1 Axes>"
      ]
     },
     "metadata": {
      "needs_background": "light"
     },
     "output_type": "display_data"
    }
   ],
   "source": [
    "df_clean['Year'].value_counts().plot(kind = 'bar')"
   ]
  },
  {
   "cell_type": "code",
   "execution_count": 56,
   "id": "6972f393",
   "metadata": {},
   "outputs": [
    {
     "data": {
      "text/plain": [
       "Month\n",
       "8     50672\n",
       "7     49318\n",
       "5     46490\n",
       "10    43843\n",
       "6     42896\n",
       "4     42883\n",
       "9     42428\n",
       "1     42151\n",
       "3     41110\n",
       "12    39607\n",
       "2     38370\n",
       "11    35970\n",
       "Name: count, dtype: int64"
      ]
     },
     "execution_count": 56,
     "metadata": {},
     "output_type": "execute_result"
    }
   ],
   "source": [
    "df_clean['Month'].value_counts()"
   ]
  },
  {
   "cell_type": "code",
   "execution_count": 103,
   "id": "5d0a7f88",
   "metadata": {},
   "outputs": [
    {
     "data": {
      "image/png": "[encoded data removed]",
      "text/plain": [
       "<Figure size 1152x432 with 1 Axes>"
      ]
     },
     "metadata": {
      "needs_background": "light"
     },
     "output_type": "display_data"
    }
   ],
   "source": [
    "# Count the occurrences of each month\n",
    "month_counts = df_clean['Month'].value_counts().sort_index()\n",
    "plt.figure(figsize=(16,6))\n",
    "# Plot\n",
    "month_counts.plot(kind='bar')\n",
    "plt.xlabel('Month')\n",
    "plt.ylabel('Count')\n",
    "plt.title('Distribution of Reviews by Month')\n",
    "\n",
    "# Set the x-axis labels to month names for readability\n",
    "plt.xticks(ticks=range(12), labels=['Jan', 'Feb', 'Mar', 'Apr', 'May', 'Jun', 'Jul', 'Aug', 'Sep', 'Oct', 'Nov', 'Dec'], rotation=45)\n",
    "\n",
    "plt.show()\n"
   ]
  },
  {
   "cell_type": "code",
   "execution_count": 58,
   "id": "849ffe19",
   "metadata": {},
   "outputs": [
    {
     "data": {
      "text/plain": [
       "Days_Since_Review\n",
       "1      2585\n",
       "322    2308\n",
       "120    2284\n",
       "338    1963\n",
       "534    1940\n",
       "       ... \n",
       "327     199\n",
       "615     194\n",
       "122     192\n",
       "124     173\n",
       "123     143\n",
       "Name: count, Length: 731, dtype: int64"
      ]
     },
     "execution_count": 58,
     "metadata": {},
     "output_type": "execute_result"
    }
   ],
   "source": [
    "df_clean['Days_Since_Review'].value_counts()"
   ]
  },
  {
   "cell_type": "code",
   "execution_count": 77,
   "id": "5f19d593",
   "metadata": {},
   "outputs": [
    {
     "data": {
      "text/plain": [
       "<AxesSubplot:ylabel='Frequency'>"
      ]
     },
     "execution_count": 77,
     "metadata": {},
     "output_type": "execute_result"
    },
    {
     "data": {
      "image/png": "[encoded data removed]",
      "text/plain": [
       "<Figure size 1152x432 with 1 Axes>"
      ]
     },
     "metadata": {
      "needs_background": "light"
     },
     "output_type": "display_data"
    }
   ],
   "source": [
    "plt.figure(figsize=(16,6))\n",
    "df_clean['Days_Since_Review'].value_counts().plot(kind = 'hist',bins=100)"
   ]
  },
  {
   "cell_type": "code",
   "execution_count": 60,
   "id": "a0d3c847",
   "metadata": {},
   "outputs": [
    {
     "data": {
      "text/plain": [
       "Reviewer_Score\n",
       "1    293974\n",
       "0    221764\n",
       "Name: count, dtype: int64"
      ]
     },
     "execution_count": 60,
     "metadata": {},
     "output_type": "execute_result"
    }
   ],
   "source": [
    "df_clean['Reviewer_Score'].value_counts()"
   ]
  },
  {
   "cell_type": "code",
   "execution_count": 61,
   "id": "30638ff1",
   "metadata": {},
   "outputs": [
    {
     "data": {
      "text/plain": [
       "<AxesSubplot:xlabel='Reviewer_Score'>"
      ]
     },
     "execution_count": 61,
     "metadata": {},
     "output_type": "execute_result"
    },
    {
     "data": {
      "image/png": "[encoded data removed]",
      "text/plain": [
       "<Figure size 432x288 with 1 Axes>"
      ]
     },
     "metadata": {
      "needs_background": "light"
     },
     "output_type": "display_data"
    }
   ],
   "source": [
    "df_clean['Reviewer_Score'].value_counts().plot(kind = 'bar')"
   ]
  },
  {
   "cell_type": "code",
   "execution_count": 62,
   "id": "57210e76",
   "metadata": {},
   "outputs": [
    {
     "data": {
      "text/plain": [
       "Total_Number_of_Reviews_Reviewer_Has_Given\n",
       "1      154640\n",
       "2       67077\n",
       "3       46845\n",
       "4       35026\n",
       "5       27629\n",
       "        ...  \n",
       "137         1\n",
       "135         1\n",
       "181         1\n",
       "186         1\n",
       "164         1\n",
       "Name: count, Length: 198, dtype: int64"
      ]
     },
     "execution_count": 62,
     "metadata": {},
     "output_type": "execute_result"
    }
   ],
   "source": [
    "df_clean['Total_Number_of_Reviews_Reviewer_Has_Given'].value_counts()"
   ]
  },
  {
   "cell_type": "code",
   "execution_count": 73,
   "id": "7f7d8acf",
   "metadata": {},
   "outputs": [
    {
     "data": {
      "image/png": "[encoded data removed]",
      "text/plain": [
       "<Figure size 432x288 with 1 Axes>"
      ]
     },
     "metadata": {
      "needs_background": "light"
     },
     "output_type": "display_data"
    }
   ],
   "source": [
    "df_clean['Total_Number_of_Reviews_Reviewer_Has_Given'].value_counts().head(20).plot(kind = 'bar')\n",
    "plt.tight_layout()"
   ]
  },
  {
   "cell_type": "code",
   "execution_count": 64,
   "id": "26f3a949",
   "metadata": {},
   "outputs": [
    {
     "data": {
      "text/plain": [
       "Review_Total_Positive_Word_Counts\n",
       "0      35946\n",
       "6      26921\n",
       "5      26844\n",
       "4      24656\n",
       "7      24538\n",
       "       ...  \n",
       "354        1\n",
       "395        1\n",
       "374        1\n",
       "348        1\n",
       "339        1\n",
       "Name: count, Length: 365, dtype: int64"
      ]
     },
     "execution_count": 64,
     "metadata": {},
     "output_type": "execute_result"
    }
   ],
   "source": [
    "df_clean['Review_Total_Positive_Word_Counts'].value_counts()"
   ]
  },
  {
   "cell_type": "code",
   "execution_count": 78,
   "id": "164e3abc",
   "metadata": {},
   "outputs": [
    {
     "data": {
      "image/png": "[encoded data removed]",
      "text/plain": [
       "<Figure size 1152x432 with 1 Axes>"
      ]
     },
     "metadata": {
      "needs_background": "light"
     },
     "output_type": "display_data"
    }
   ],
   "source": [
    "plt.figure(figsize=(16,6))\n",
    "df_clean['Review_Total_Positive_Word_Counts'].value_counts().head(30).plot(kind = 'bar')\n",
    "plt.tight_layout()"
   ]
  },
  {
   "cell_type": "code",
   "execution_count": 66,
   "id": "3a28a153",
   "metadata": {},
   "outputs": [
    {
     "data": {
      "text/plain": [
       "Positive_Review\n",
       "No Positive                                                                                                    35946\n",
       " Location                                                                                                       9222\n",
       " Everything                                                                                                     2284\n",
       " location                                                                                                       1677\n",
       " Nothing                                                                                                        1243\n",
       "                                                                                                               ...  \n",
       " The rooms and staff were amazing                                                                                  1\n",
       " The entire package                                                                                                1\n",
       " The hotel is very clean rooms are big                                                                             1\n",
       " The rooms are very wide and clean very close to the metro station its almost at the entrance to the hotel         1\n",
       " staff was very kind                                                                                               1\n",
       "Name: count, Length: 412601, dtype: int64"
      ]
     },
     "execution_count": 66,
     "metadata": {},
     "output_type": "execute_result"
    }
   ],
   "source": [
    "df_clean['Positive_Review'].value_counts()"
   ]
  },
  {
   "cell_type": "code",
   "execution_count": 99,
   "id": "f046059a",
   "metadata": {},
   "outputs": [
    {
     "data": {
      "text/plain": [
       "<AxesSubplot:xlabel='Positive_Review'>"
      ]
     },
     "execution_count": 99,
     "metadata": {},
     "output_type": "execute_result"
    },
    {
     "data": {
      "image/png": "[encoded data removed]",
      "text/plain": [
       "<Figure size 1152x432 with 1 Axes>"
      ]
     },
     "metadata": {
      "needs_background": "light"
     },
     "output_type": "display_data"
    }
   ],
   "source": [
    "plt.figure(figsize=(16,6))\n",
    "df_clean['Positive_Review'].value_counts().head(30).plot(kind = 'bar')"
   ]
  },
  {
   "cell_type": "code",
   "execution_count": null,
   "id": "2a6db05a",
   "metadata": {},
   "outputs": [],
   "source": []
  },
  {
   "cell_type": "code",
   "execution_count": 102,
   "id": "35acc913",
   "metadata": {},
   "outputs": [
    {
     "data": {
      "text/plain": [
       "<AxesSubplot:xlabel='Positive_Review'>"
      ]
     },
     "execution_count": 102,
     "metadata": {},
     "output_type": "execute_result"
    },
    {
     "data": {
      "image/png": "[encoded data removed]",
      "text/plain": [
       "<Figure size 1152x432 with 1 Axes>"
      ]
     },
     "metadata": {
      "needs_background": "light"
     },
     "output_type": "display_data"
    }
   ],
   "source": [
    "#remove 'No Positive' frome plot\n",
    "plt.figure(figsize=(16,6))\n",
    "df_clean[df_clean['Positive_Review'] != 'No Positive']['Positive_Review'].value_counts().head(30).plot(kind = 'bar')"
   ]
  },
  {
   "cell_type": "code",
   "execution_count": 80,
   "id": "55e37bcd",
   "metadata": {
    "scrolled": true
   },
   "outputs": [
    {
     "data": {
      "text/plain": [
       "Total_Number_of_Reviews\n",
       "9086     4789\n",
       "9568     4256\n",
       "12158    4169\n",
       "7105     3578\n",
       "7491     3212\n",
       "         ... \n",
       "45         12\n",
       "207        12\n",
       "66         12\n",
       "131        12\n",
       "110        10\n",
       "Name: count, Length: 1142, dtype: int64"
      ]
     },
     "execution_count": 80,
     "metadata": {},
     "output_type": "execute_result"
    }
   ],
   "source": [
    "df_clean['Total_Number_of_Reviews'].value_counts()"
   ]
  },
  {
   "cell_type": "code",
   "execution_count": 83,
   "id": "1287aea2",
   "metadata": {},
   "outputs": [
    {
     "data": {
      "text/plain": [
       "<AxesSubplot:xlabel='Total_Number_of_Reviews'>"
      ]
     },
     "execution_count": 83,
     "metadata": {},
     "output_type": "execute_result"
    },
    {
     "data": {
      "image/png": "[encoded data removed]",
      "text/plain": [
       "<Figure size 1152x432 with 1 Axes>"
      ]
     },
     "metadata": {
      "needs_background": "light"
     },
     "output_type": "display_data"
    }
   ],
   "source": [
    "plt.figure(figsize=(16,6))\n",
    "df_clean['Total_Number_of_Reviews'].value_counts().head(30).plot(kind = 'bar')"
   ]
  },
  {
   "cell_type": "code",
   "execution_count": 84,
   "id": "a1cefe0b",
   "metadata": {},
   "outputs": [
    {
     "data": {
      "text/plain": [
       "Negative_Review\n",
       "No Negative                                                                                                                                                                                                                127890\n",
       " Nothing                                                                                                                                                                                                                    14295\n",
       " Nothing                                                                                                                                                                                                                     4236\n",
       " nothing                                                                                                                                                                                                                     2225\n",
       " N A                                                                                                                                                                                                                         1037\n",
       "                                                                                                                                                                                                                            ...  \n",
       " Quite a large hold per night was taken I have been back from the hotel for 3 nights now and still haven t received the hold money back This is has unfortunately left a negative image in my head after a lovely trip          1\n",
       " One of the two elevators were broken It was still ok                                                                                                                                                                           1\n",
       " Information regarding the charge of 100 per night for room service and wifi etc Didn t know until check in that this was a thing                                                                                               1\n",
       " the room maintenance especially the shower and toilet are not 5 star hotel maybe 3 also breakfast can be much better for this price                                                                                            1\n",
       " I was in 3rd floor It didn t work Free Wife                                                                                                                                                                                    1\n",
       "Name: count, Length: 330011, dtype: int64"
      ]
     },
     "execution_count": 84,
     "metadata": {},
     "output_type": "execute_result"
    }
   ],
   "source": [
    "df_clean['Negative_Review'].value_counts()"
   ]
  },
  {
   "cell_type": "code",
   "execution_count": 86,
   "id": "29be025c",
   "metadata": {},
   "outputs": [
    {
     "data": {
      "text/plain": [
       "<AxesSubplot:xlabel='Negative_Review'>"
      ]
     },
     "execution_count": 86,
     "metadata": {},
     "output_type": "execute_result"
    },
    {
     "data": {
      "image/png": "[encoded data removed]",
      "text/plain": [
       "<Figure size 1152x432 with 1 Axes>"
      ]
     },
     "metadata": {
      "needs_background": "light"
     },
     "output_type": "display_data"
    }
   ],
   "source": [
    "plt.figure(figsize=(16,6))\n",
    "df_clean['Negative_Review'].value_counts().head(30).plot(kind = 'bar')"
   ]
  },
  {
   "cell_type": "code",
   "execution_count": 87,
   "id": "488140dd",
   "metadata": {},
   "outputs": [
    {
     "data": {
      "text/plain": [
       "Average_Score\n",
       "8.4    41222\n",
       "8.1    38122\n",
       "8.5    38066\n",
       "8.7    37798\n",
       "8.6    36945\n",
       "8.2    34847\n",
       "8.3    32880\n",
       "8.8    30836\n",
       "8.9    28520\n",
       "8.0    22342\n",
       "9.1    21379\n",
       "9.0    21051\n",
       "7.8    19895\n",
       "7.9    15194\n",
       "7.5    13720\n",
       "9.2    12935\n",
       "9.3    12659\n",
       "7.7    11829\n",
       "9.4     9339\n",
       "7.1     6780\n",
       "7.6     6684\n",
       "7.4     6300\n",
       "7.3     3997\n",
       "7.0     3899\n",
       "6.9     1737\n",
       "6.8     1335\n",
       "9.5     1207\n",
       "6.4     1163\n",
       "6.7      965\n",
       "9.6      915\n",
       "7.2      684\n",
       "6.6      400\n",
       "5.2       65\n",
       "9.8       28\n",
       "Name: count, dtype: int64"
      ]
     },
     "execution_count": 87,
     "metadata": {},
     "output_type": "execute_result"
    }
   ],
   "source": [
    "df_clean['Average_Score'].value_counts()\n"
   ]
  },
  {
   "cell_type": "code",
   "execution_count": 91,
   "id": "eb744a02",
   "metadata": {},
   "outputs": [
    {
     "data": {
      "image/png": "[encoded data removed]",
      "text/plain": [
       "<Figure size 864x432 with 1 Axes>"
      ]
     },
     "metadata": {
      "needs_background": "light"
     },
     "output_type": "display_data"
    }
   ],
   "source": [
    "plt.figure(figsize=(12, 6))  # Set the size of the plot\n",
    "sns.countplot(x='Average_Score', data=df_clean)\n",
    "\n",
    "plt.xlabel('Average Score')  # Set the x-axis label\n",
    "plt.ylabel('Count')          # Set the y-axis label\n",
    "plt.title('Distribution of Average Scores')  # Set the title of the plot\n",
    "\n",
    "plt.xticks(rotation=90)  # Rotate the x-axis labels for better readability if needed\n",
    "\n",
    "plt.show()"
   ]
  },
  {
   "cell_type": "code",
   "execution_count": 93,
   "id": "6d69ee2a",
   "metadata": {},
   "outputs": [
    {
     "data": {
      "text/plain": [
       "Additional_Number_of_Scoring\n",
       "2682    4789\n",
       "2288    4256\n",
       "2623    4169\n",
       "1831    3578\n",
       "1936    3212\n",
       "        ... \n",
       "7         56\n",
       "5         39\n",
       "17        24\n",
       "1         13\n",
       "4         12\n",
       "Name: count, Length: 480, dtype: int64"
      ]
     },
     "execution_count": 93,
     "metadata": {},
     "output_type": "execute_result"
    },
    {
     "data": {
      "text/plain": [
       "<Figure size 864x432 with 0 Axes>"
      ]
     },
     "metadata": {},
     "output_type": "display_data"
    }
   ],
   "source": [
    "\n",
    "df_clean['Additional_Number_of_Scoring'].value_counts()"
   ]
  },
  {
   "cell_type": "code",
   "execution_count": 94,
   "id": "e6a399ef",
   "metadata": {},
   "outputs": [
    {
     "data": {
      "text/plain": [
       "<AxesSubplot:xlabel='Additional_Number_of_Scoring'>"
      ]
     },
     "execution_count": 94,
     "metadata": {},
     "output_type": "execute_result"
    },
    {
     "data": {
      "image/png": "[encoded data removed]",
      "text/plain": [
       "<Figure size 864x432 with 1 Axes>"
      ]
     },
     "metadata": {
      "needs_background": "light"
     },
     "output_type": "display_data"
    }
   ],
   "source": [
    "plt.figure(figsize=(12, 6))  # Set the size of the plot\n",
    "df_clean['Additional_Number_of_Scoring'].value_counts().head(30).plot(kind = 'bar')"
   ]
  },
  {
   "cell_type": "code",
   "execution_count": 96,
   "id": "973c37e2",
   "metadata": {},
   "outputs": [
    {
     "data": {
      "image/png": "[encoded data removed]",
      "text/plain": [
       "<Figure size 1296x432 with 1 Axes>"
      ]
     },
     "metadata": {
      "needs_background": "light"
     },
     "output_type": "display_data"
    }
   ],
   "source": [
    "plt.figure(figsize=(18, 6))  # Set the size of the plot\n",
    "sns.countplot(x='Additional_Number_of_Scoring', data=df_clean)\n",
    "\n",
    "plt.xlabel('Additional_Number_of_Scoring')  # Set the x-axis label\n",
    "plt.ylabel('Count')          # Set the y-axis label\n",
    "plt.title('Distribution of Additional_Number_of_Scoring')  # Set the title of the plot\n",
    "\n",
    "plt.xticks(rotation=90)  # Rotate the x-axis labels for better readability if needed\n",
    "\n",
    "plt.show()"
   ]
  },
  {
   "cell_type": "markdown",
   "id": "6aa09a95",
   "metadata": {},
   "source": [
    "2. Text Data Analysis\n",
    "Since you have text data (Negative_Review, Positive_Review), you might want to explore:\n",
    "\n",
    "Word Count Analysis: Look at the most common words in the reviews. This can be done using a word cloud or frequency distribution.\n",
    "Sentiment Analysis: You could analyze the sentiment of the reviews. This might be particularly interesting to compare against the Reviewer_Score.\n",
    "3. Data Distribution and Trends\n",
    "Score Distributions: Plot histograms or boxplots for Average_Score and Reviewer_Score to understand their distribution.\n",
    "Time Series Analysis: Since you have Day, Month, and Year, you can look at trends over time. Are scores improving or declining? Are there seasonal patterns?\n",
    "4. Correlation Analysis\n",
    "Investigate correlations between numerical variables, especially between scores and word counts, using a correlation matrix and heatmap.\n",
    "5. Categorical Data Analysis\n",
    "For Reviewer_Nationality and Hotel_Address, you can explore which nationalities are most common and which hotels (or locations) are reviewed most frequently.\n",
    "Leisure_Trip: Analyze the proportion of leisure trips versus other types of trips.\n",
    "6. Geographical Analysis\n",
    "With Latitude and Longitude, you could create geographical plots to see where the hotels are located and if location correlates with scores.\n",
    "7. Review Length Analysis\n",
    "Analyze the relationship between review length (Review_Total_Negative_Word_Counts and Review_Total_Positive_Word_Counts) and scores."
   ]
  },
  {
   "cell_type": "markdown",
   "id": "cdb6179e",
   "metadata": {},
   "source": []
  },
  {
   "cell_type": "code",
   "execution_count": 154,
   "id": "63ba804f",
   "metadata": {},
   "outputs": [
    {
     "data": {
      "text/html": [
       "<div>\n",
       "<style scoped>\n",
       "    .dataframe tbody tr th:only-of-type {\n",
       "        vertical-align: middle;\n",
       "    }\n",
       "\n",
       "    .dataframe tbody tr th {\n",
       "        vertical-align: top;\n",
       "    }\n",
       "\n",
       "    .dataframe thead th {\n",
       "        text-align: right;\n",
       "    }\n",
       "</style>\n",
       "<table border=\"1\" class=\"dataframe\">\n",
       "  <thead>\n",
       "    <tr style=\"text-align: right;\">\n",
       "      <th></th>\n",
       "      <th>Unnamed: 0</th>\n",
       "      <th>Additional_Number_of_Scoring</th>\n",
       "      <th>Average_Score</th>\n",
       "      <th>Negative_Review</th>\n",
       "      <th>Review_Total_Negative_Word_Counts</th>\n",
       "      <th>Total_Number_of_Reviews</th>\n",
       "      <th>Positive_Review</th>\n",
       "      <th>Review_Total_Positive_Word_Counts</th>\n",
       "      <th>Total_Number_of_Reviews_Reviewer_Has_Given</th>\n",
       "      <th>Reviewer_Score</th>\n",
       "      <th>Days_Since_Review</th>\n",
       "      <th>Latitude</th>\n",
       "      <th>Longitude</th>\n",
       "      <th>Day</th>\n",
       "      <th>Month</th>\n",
       "      <th>Year</th>\n",
       "      <th>Leisure_Trip</th>\n",
       "      <th>Nights_Stayed</th>\n",
       "    </tr>\n",
       "  </thead>\n",
       "  <tbody>\n",
       "    <tr>\n",
       "      <th>0</th>\n",
       "      <td>0</td>\n",
       "      <td>194</td>\n",
       "      <td>7.7</td>\n",
       "      <td>I am so angry that i made this post available...</td>\n",
       "      <td>397</td>\n",
       "      <td>1403</td>\n",
       "      <td>Only the park outside of the hotel was beauti...</td>\n",
       "      <td>11</td>\n",
       "      <td>7</td>\n",
       "      <td>0</td>\n",
       "      <td>0</td>\n",
       "      <td>52.360576</td>\n",
       "      <td>4.915968</td>\n",
       "      <td>3</td>\n",
       "      <td>8</td>\n",
       "      <td>2017</td>\n",
       "      <td>1</td>\n",
       "      <td>6</td>\n",
       "    </tr>\n",
       "  </tbody>\n",
       "</table>\n",
       "</div>"
      ],
      "text/plain": [
       "   Unnamed: 0  Additional_Number_of_Scoring  Average_Score  \\\n",
       "0           0                           194            7.7   \n",
       "\n",
       "                                     Negative_Review  \\\n",
       "0   I am so angry that i made this post available...   \n",
       "\n",
       "   Review_Total_Negative_Word_Counts  Total_Number_of_Reviews  \\\n",
       "0                                397                     1403   \n",
       "\n",
       "                                     Positive_Review  \\\n",
       "0   Only the park outside of the hotel was beauti...   \n",
       "\n",
       "   Review_Total_Positive_Word_Counts  \\\n",
       "0                                 11   \n",
       "\n",
       "   Total_Number_of_Reviews_Reviewer_Has_Given  Reviewer_Score  \\\n",
       "0                                           7               0   \n",
       "\n",
       "   Days_Since_Review   Latitude  Longitude  Day  Month  Year  Leisure_Trip  \\\n",
       "0                  0  52.360576   4.915968    3      8  2017             1   \n",
       "\n",
       "   Nights_Stayed  \n",
       "0              6  "
      ]
     },
     "execution_count": 154,
     "metadata": {},
     "output_type": "execute_result"
    }
   ],
   "source": [
    "df_raw.head(1)"
   ]
  },
  {
   "cell_type": "code",
   "execution_count": 155,
   "id": "b1f3e779",
   "metadata": {},
   "outputs": [
    {
     "data": {
      "text/html": [
       "<div>\n",
       "<style scoped>\n",
       "    .dataframe tbody tr th:only-of-type {\n",
       "        vertical-align: middle;\n",
       "    }\n",
       "\n",
       "    .dataframe tbody tr th {\n",
       "        vertical-align: top;\n",
       "    }\n",
       "\n",
       "    .dataframe thead th {\n",
       "        text-align: right;\n",
       "    }\n",
       "</style>\n",
       "<table border=\"1\" class=\"dataframe\">\n",
       "  <thead>\n",
       "    <tr style=\"text-align: right;\">\n",
       "      <th></th>\n",
       "      <th>Unnamed: 0</th>\n",
       "      <th>Additional_Number_of_Scoring</th>\n",
       "      <th>Average_Score</th>\n",
       "      <th>Negative_Review</th>\n",
       "      <th>Review_Total_Negative_Word_Counts</th>\n",
       "      <th>Total_Number_of_Reviews</th>\n",
       "      <th>Positive_Review</th>\n",
       "      <th>Review_Total_Positive_Word_Counts</th>\n",
       "      <th>Total_Number_of_Reviews_Reviewer_Has_Given</th>\n",
       "      <th>Reviewer_Score</th>\n",
       "      <th>Days_Since_Review</th>\n",
       "      <th>Latitude</th>\n",
       "      <th>Longitude</th>\n",
       "      <th>Day</th>\n",
       "      <th>Month</th>\n",
       "      <th>Year</th>\n",
       "      <th>Leisure_Trip</th>\n",
       "      <th>Nights_Stayed</th>\n",
       "    </tr>\n",
       "  </thead>\n",
       "  <tbody>\n",
       "    <tr>\n",
       "      <th>0</th>\n",
       "      <td>0</td>\n",
       "      <td>194</td>\n",
       "      <td>7.7</td>\n",
       "      <td>I am so angry that i made this post available...</td>\n",
       "      <td>397</td>\n",
       "      <td>1403</td>\n",
       "      <td>Only the park outside of the hotel was beauti...</td>\n",
       "      <td>11</td>\n",
       "      <td>7</td>\n",
       "      <td>0</td>\n",
       "      <td>0</td>\n",
       "      <td>52.360576</td>\n",
       "      <td>4.915968</td>\n",
       "      <td>3</td>\n",
       "      <td>8</td>\n",
       "      <td>2017</td>\n",
       "      <td>1</td>\n",
       "      <td>6</td>\n",
       "    </tr>\n",
       "  </tbody>\n",
       "</table>\n",
       "</div>"
      ],
      "text/plain": [
       "   Unnamed: 0  Additional_Number_of_Scoring  Average_Score  \\\n",
       "0           0                           194            7.7   \n",
       "\n",
       "                                     Negative_Review  \\\n",
       "0   I am so angry that i made this post available...   \n",
       "\n",
       "   Review_Total_Negative_Word_Counts  Total_Number_of_Reviews  \\\n",
       "0                                397                     1403   \n",
       "\n",
       "                                     Positive_Review  \\\n",
       "0   Only the park outside of the hotel was beauti...   \n",
       "\n",
       "   Review_Total_Positive_Word_Counts  \\\n",
       "0                                 11   \n",
       "\n",
       "   Total_Number_of_Reviews_Reviewer_Has_Given  Reviewer_Score  \\\n",
       "0                                           7               0   \n",
       "\n",
       "   Days_Since_Review   Latitude  Longitude  Day  Month  Year  Leisure_Trip  \\\n",
       "0                  0  52.360576   4.915968    3      8  2017             1   \n",
       "\n",
       "   Nights_Stayed  \n",
       "0              6  "
      ]
     },
     "execution_count": 155,
     "metadata": {},
     "output_type": "execute_result"
    }
   ],
   "source": [
    "df_clean.head(1)"
   ]
  },
  {
   "cell_type": "code",
   "execution_count": null,
   "id": "849380e6",
   "metadata": {},
   "outputs": [],
   "source": [
    "df_eda "
   ]
  },
  {
   "cell_type": "code",
   "execution_count": null,
   "id": "2b862660",
   "metadata": {},
   "outputs": [],
   "source": [
    "df_feat"
   ]
  },
  {
   "cell_type": "code",
   "execution_count": null,
   "id": "bb3708a2",
   "metadata": {},
   "outputs": [],
   "source": [
    "df_train"
   ]
  }
 ],
 "metadata": {
  "kernelspec": {
   "display_name": "Python 3",
   "language": "python",
   "name": "python3"
  },
  "language_info": {
   "codemirror_mode": {
    "name": "ipython",
    "version": 3
   },
   "file_extension": ".py",
   "mimetype": "text/x-python",
   "name": "python",
   "nbconvert_exporter": "python",
   "pygments_lexer": "ipython3",
   "version": "3.8.8"
  }
 },
 "nbformat": 4,
 "nbformat_minor": 5
}
