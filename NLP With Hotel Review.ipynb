{
 "cells": [
  {
   "cell_type": "markdown",
   "id": "5b6e5399",
   "metadata": {},
   "source": [
    "# NLP With Hotel Review"
   ]
  },
  {
   "cell_type": "code",
   "execution_count": 131,
   "id": "7de53d45",
   "metadata": {},
   "outputs": [],
   "source": [
    "import numpy as np\n",
    "import pandas as pd\n",
    "\n",
    "import matplotlib.pyplot as plt\n",
    "import seaborn as sns\n",
    "\n",
    "import re\n",
    "import string\n",
    "\n",
    "# SK Packages\n",
    "from sklearn.linear_model import LogisticRegression\n",
    "from sklearn.model_selection import train_test_split\n",
    "\n",
    "## Vectorizers\n",
    "from sklearn.feature_extraction.text import CountVectorizer\n",
    "from sklearn.feature_extraction.text import TfidfVectorizer\n",
    "\n",
    "# NLTK\n",
    "import nltk"
   ]
  },
  {
   "cell_type": "code",
   "execution_count": 132,
   "id": "4cd89ff5",
   "metadata": {},
   "outputs": [],
   "source": [
    "# NLTK Packages\n",
    "# Use the code below to download the NLTK package, a straightforward GUI should pop up\n",
    "# nltk.download()\n",
    "from nltk.corpus import stopwords\n",
    "from nltk.tokenize import word_tokenize\n",
    "from nltk.stem import PorterStemmer\n",
    "from nltk.stem import WordNetLemmatizer"
   ]
  },
  {
   "cell_type": "markdown",
   "id": "d315d406",
   "metadata": {},
   "source": [
    "## Exploratory Data Analysis\n",
    "First, let's load the data and understand what we are working with.\n",
    "\n",
    "1. Perform EDA on the data and mention 3-4 observations from which you can draw actionable insights. In your EDA, you may consider creating a data dictionary, basic statistical analysis, data visualizations, data cleaning and preprocessing to prepare the data for modeling.\n"
   ]
  },
  {
   "cell_type": "code",
   "execution_count": 2,
   "id": "55113f33",
   "metadata": {},
   "outputs": [],
   "source": [
    "# load the data sets\n",
    "df_raw = pd.read_csv('Hotel_Reviews.csv')"
   ]
  },
  {
   "cell_type": "code",
   "execution_count": 3,
   "id": "9ee669fb",
   "metadata": {},
   "outputs": [
    {
     "data": {
      "text/plain": [
       "Index(['Unnamed: 0', 'Additional_Number_of_Scoring', 'Average_Score',\n",
       "       'Negative_Review', 'Review_Total_Negative_Word_Counts',\n",
       "       'Total_Number_of_Reviews', 'Positive_Review',\n",
       "       'Review_Total_Positive_Word_Counts',\n",
       "       'Total_Number_of_Reviews_Reviewer_Has_Given', 'Reviewer_Score',\n",
       "       'Days_Since_Review', 'Latitude', 'Longitude', 'Day', 'Month', 'Year',\n",
       "       'Reviewer_Nationality_Australia', 'Reviewer_Nationality_Ireland',\n",
       "       'Reviewer_Nationality_UAE', 'Reviewer_Nationality_UK',\n",
       "       'Reviewer_Nationality_USA', 'Reviewer_Nationality_Other',\n",
       "       'Hotel_Address_Amsterdam', 'Hotel_Address_Barcelona',\n",
       "       'Hotel_Address_London', 'Hotel_Address_Milan', 'Hotel_Address_Paris',\n",
       "       'Hotel_Address_Vienna', 'Leisure_Trip', 'Nights_Stayed'],\n",
       "      dtype='object')"
      ]
     },
     "execution_count": 3,
     "metadata": {},
     "output_type": "execute_result"
    }
   ],
   "source": [
    "# firat look at the columns\n",
    "df_raw.columns"
   ]
  },
  {
   "cell_type": "code",
   "execution_count": 4,
   "id": "202dcb23",
   "metadata": {},
   "outputs": [
    {
     "name": "stdout",
     "output_type": "stream",
     "text": [
      "<class 'pandas.core.frame.DataFrame'>\n",
      "RangeIndex: 515738 entries, 0 to 515737\n",
      "Data columns (total 30 columns):\n",
      " #   Column                                      Non-Null Count   Dtype  \n",
      "---  ------                                      --------------   -----  \n",
      " 0   Unnamed: 0                                  515738 non-null  int64  \n",
      " 1   Additional_Number_of_Scoring                515738 non-null  int64  \n",
      " 2   Average_Score                               515738 non-null  float64\n",
      " 3   Negative_Review                             515738 non-null  object \n",
      " 4   Review_Total_Negative_Word_Counts           515738 non-null  int64  \n",
      " 5   Total_Number_of_Reviews                     515738 non-null  int64  \n",
      " 6   Positive_Review                             515738 non-null  object \n",
      " 7   Review_Total_Positive_Word_Counts           515738 non-null  int64  \n",
      " 8   Total_Number_of_Reviews_Reviewer_Has_Given  515738 non-null  int64  \n",
      " 9   Reviewer_Score                              515738 non-null  int64  \n",
      " 10  Days_Since_Review                           515738 non-null  int64  \n",
      " 11  Latitude                                    515738 non-null  float64\n",
      " 12  Longitude                                   515738 non-null  float64\n",
      " 13  Day                                         515738 non-null  int64  \n",
      " 14  Month                                       515738 non-null  int64  \n",
      " 15  Year                                        515738 non-null  int64  \n",
      " 16  Reviewer_Nationality_Australia              515738 non-null  int64  \n",
      " 17  Reviewer_Nationality_Ireland                515738 non-null  int64  \n",
      " 18  Reviewer_Nationality_UAE                    515738 non-null  int64  \n",
      " 19  Reviewer_Nationality_UK                     515738 non-null  int64  \n",
      " 20  Reviewer_Nationality_USA                    515738 non-null  int64  \n",
      " 21  Reviewer_Nationality_Other                  515738 non-null  int64  \n",
      " 22  Hotel_Address_Amsterdam                     515738 non-null  int64  \n",
      " 23  Hotel_Address_Barcelona                     515738 non-null  int64  \n",
      " 24  Hotel_Address_London                        515738 non-null  int64  \n",
      " 25  Hotel_Address_Milan                         515738 non-null  int64  \n",
      " 26  Hotel_Address_Paris                         515738 non-null  int64  \n",
      " 27  Hotel_Address_Vienna                        515738 non-null  int64  \n",
      " 28  Leisure_Trip                                515738 non-null  int64  \n",
      " 29  Nights_Stayed                               515738 non-null  int64  \n",
      "dtypes: float64(3), int64(25), object(2)\n",
      "memory usage: 118.0+ MB\n"
     ]
    }
   ],
   "source": [
    "# check the info for the dataframe\n",
    "df_raw.info()"
   ]
  },
  {
   "cell_type": "code",
   "execution_count": 6,
   "id": "6cea7cb6",
   "metadata": {},
   "outputs": [
    {
     "data": {
      "text/plain": [
       "Negative_Review\n",
       "No Negative    127890\n",
       " Nothing        14295\n",
       " Nothing         4236\n",
       " nothing         2225\n",
       " N A             1037\n",
       "Name: count, dtype: int64"
      ]
     },
     "execution_count": 6,
     "metadata": {},
     "output_type": "execute_result"
    }
   ],
   "source": [
    "# first look at the negative reviews\n",
    "df_raw['Negative_Review'].value_counts().head()"
   ]
  },
  {
   "cell_type": "code",
   "execution_count": 7,
   "id": "9f1ef8d5",
   "metadata": {},
   "outputs": [
    {
     "data": {
      "text/html": [
       "<div>\n",
       "<style scoped>\n",
       "    .dataframe tbody tr th:only-of-type {\n",
       "        vertical-align: middle;\n",
       "    }\n",
       "\n",
       "    .dataframe tbody tr th {\n",
       "        vertical-align: top;\n",
       "    }\n",
       "\n",
       "    .dataframe thead th {\n",
       "        text-align: right;\n",
       "    }\n",
       "</style>\n",
       "<table border=\"1\" class=\"dataframe\">\n",
       "  <thead>\n",
       "    <tr style=\"text-align: right;\">\n",
       "      <th></th>\n",
       "      <th>Unnamed: 0</th>\n",
       "      <th>Additional_Number_of_Scoring</th>\n",
       "      <th>Average_Score</th>\n",
       "      <th>Negative_Review</th>\n",
       "      <th>Review_Total_Negative_Word_Counts</th>\n",
       "      <th>Total_Number_of_Reviews</th>\n",
       "      <th>Positive_Review</th>\n",
       "      <th>Review_Total_Positive_Word_Counts</th>\n",
       "      <th>Total_Number_of_Reviews_Reviewer_Has_Given</th>\n",
       "      <th>Reviewer_Score</th>\n",
       "      <th>Days_Since_Review</th>\n",
       "      <th>Latitude</th>\n",
       "      <th>Longitude</th>\n",
       "      <th>Day</th>\n",
       "      <th>Month</th>\n",
       "    </tr>\n",
       "  </thead>\n",
       "  <tbody>\n",
       "    <tr>\n",
       "      <th>0</th>\n",
       "      <td>0</td>\n",
       "      <td>194</td>\n",
       "      <td>7.7</td>\n",
       "      <td>I am so angry that i made this post available...</td>\n",
       "      <td>397</td>\n",
       "      <td>1403</td>\n",
       "      <td>Only the park outside of the hotel was beauti...</td>\n",
       "      <td>11</td>\n",
       "      <td>7</td>\n",
       "      <td>0</td>\n",
       "      <td>0</td>\n",
       "      <td>52.360576</td>\n",
       "      <td>4.915968</td>\n",
       "      <td>3</td>\n",
       "      <td>8</td>\n",
       "    </tr>\n",
       "    <tr>\n",
       "      <th>1</th>\n",
       "      <td>1</td>\n",
       "      <td>194</td>\n",
       "      <td>7.7</td>\n",
       "      <td>No Negative</td>\n",
       "      <td>0</td>\n",
       "      <td>1403</td>\n",
       "      <td>No real complaints the hotel was great great ...</td>\n",
       "      <td>105</td>\n",
       "      <td>7</td>\n",
       "      <td>0</td>\n",
       "      <td>0</td>\n",
       "      <td>52.360576</td>\n",
       "      <td>4.915968</td>\n",
       "      <td>3</td>\n",
       "      <td>8</td>\n",
       "    </tr>\n",
       "    <tr>\n",
       "      <th>2</th>\n",
       "      <td>2</td>\n",
       "      <td>194</td>\n",
       "      <td>7.7</td>\n",
       "      <td>Rooms are nice but for elderly a bit difficul...</td>\n",
       "      <td>42</td>\n",
       "      <td>1403</td>\n",
       "      <td>Location was good and staff were ok It is cut...</td>\n",
       "      <td>21</td>\n",
       "      <td>9</td>\n",
       "      <td>0</td>\n",
       "      <td>3</td>\n",
       "      <td>52.360576</td>\n",
       "      <td>4.915968</td>\n",
       "      <td>31</td>\n",
       "      <td>7</td>\n",
       "    </tr>\n",
       "    <tr>\n",
       "      <th>3</th>\n",
       "      <td>3</td>\n",
       "      <td>194</td>\n",
       "      <td>7.7</td>\n",
       "      <td>My room was dirty and I was afraid to walk ba...</td>\n",
       "      <td>210</td>\n",
       "      <td>1403</td>\n",
       "      <td>Great location in nice surroundings the bar a...</td>\n",
       "      <td>26</td>\n",
       "      <td>1</td>\n",
       "      <td>0</td>\n",
       "      <td>3</td>\n",
       "      <td>52.360576</td>\n",
       "      <td>4.915968</td>\n",
       "      <td>31</td>\n",
       "      <td>7</td>\n",
       "    </tr>\n",
       "    <tr>\n",
       "      <th>4</th>\n",
       "      <td>4</td>\n",
       "      <td>194</td>\n",
       "      <td>7.7</td>\n",
       "      <td>You When I booked with your company on line y...</td>\n",
       "      <td>140</td>\n",
       "      <td>1403</td>\n",
       "      <td>Amazing location and building Romantic setting</td>\n",
       "      <td>8</td>\n",
       "      <td>3</td>\n",
       "      <td>0</td>\n",
       "      <td>10</td>\n",
       "      <td>52.360576</td>\n",
       "      <td>4.915968</td>\n",
       "      <td>24</td>\n",
       "      <td>7</td>\n",
       "    </tr>\n",
       "  </tbody>\n",
       "</table>\n",
       "</div>"
      ],
      "text/plain": [
       "   Unnamed: 0  Additional_Number_of_Scoring  Average_Score  \\\n",
       "0           0                           194            7.7   \n",
       "1           1                           194            7.7   \n",
       "2           2                           194            7.7   \n",
       "3           3                           194            7.7   \n",
       "4           4                           194            7.7   \n",
       "\n",
       "                                     Negative_Review  \\\n",
       "0   I am so angry that i made this post available...   \n",
       "1                                        No Negative   \n",
       "2   Rooms are nice but for elderly a bit difficul...   \n",
       "3   My room was dirty and I was afraid to walk ba...   \n",
       "4   You When I booked with your company on line y...   \n",
       "\n",
       "   Review_Total_Negative_Word_Counts  Total_Number_of_Reviews  \\\n",
       "0                                397                     1403   \n",
       "1                                  0                     1403   \n",
       "2                                 42                     1403   \n",
       "3                                210                     1403   \n",
       "4                                140                     1403   \n",
       "\n",
       "                                     Positive_Review  \\\n",
       "0   Only the park outside of the hotel was beauti...   \n",
       "1   No real complaints the hotel was great great ...   \n",
       "2   Location was good and staff were ok It is cut...   \n",
       "3   Great location in nice surroundings the bar a...   \n",
       "4    Amazing location and building Romantic setting    \n",
       "\n",
       "   Review_Total_Positive_Word_Counts  \\\n",
       "0                                 11   \n",
       "1                                105   \n",
       "2                                 21   \n",
       "3                                 26   \n",
       "4                                  8   \n",
       "\n",
       "   Total_Number_of_Reviews_Reviewer_Has_Given  Reviewer_Score  \\\n",
       "0                                           7               0   \n",
       "1                                           7               0   \n",
       "2                                           9               0   \n",
       "3                                           1               0   \n",
       "4                                           3               0   \n",
       "\n",
       "   Days_Since_Review   Latitude  Longitude  Day  Month  \n",
       "0                  0  52.360576   4.915968    3      8  \n",
       "1                  0  52.360576   4.915968    3      8  \n",
       "2                  3  52.360576   4.915968   31      7  \n",
       "3                  3  52.360576   4.915968   31      7  \n",
       "4                 10  52.360576   4.915968   24      7  "
      ]
     },
     "execution_count": 7,
     "metadata": {},
     "output_type": "execute_result"
    }
   ],
   "source": [
    "# take brief look at first 15 columns\n",
    "df_raw.iloc[:5,:15]"
   ]
  },
  {
   "cell_type": "code",
   "execution_count": 8,
   "id": "bbe23cb1",
   "metadata": {},
   "outputs": [
    {
     "data": {
      "text/html": [
       "<div>\n",
       "<style scoped>\n",
       "    .dataframe tbody tr th:only-of-type {\n",
       "        vertical-align: middle;\n",
       "    }\n",
       "\n",
       "    .dataframe tbody tr th {\n",
       "        vertical-align: top;\n",
       "    }\n",
       "\n",
       "    .dataframe thead th {\n",
       "        text-align: right;\n",
       "    }\n",
       "</style>\n",
       "<table border=\"1\" class=\"dataframe\">\n",
       "  <thead>\n",
       "    <tr style=\"text-align: right;\">\n",
       "      <th></th>\n",
       "      <th>Year</th>\n",
       "      <th>Reviewer_Nationality_Australia</th>\n",
       "      <th>Reviewer_Nationality_Ireland</th>\n",
       "      <th>Reviewer_Nationality_UAE</th>\n",
       "      <th>Reviewer_Nationality_UK</th>\n",
       "      <th>Reviewer_Nationality_USA</th>\n",
       "      <th>Reviewer_Nationality_Other</th>\n",
       "      <th>Hotel_Address_Amsterdam</th>\n",
       "      <th>Hotel_Address_Barcelona</th>\n",
       "      <th>Hotel_Address_London</th>\n",
       "      <th>Hotel_Address_Milan</th>\n",
       "      <th>Hotel_Address_Paris</th>\n",
       "      <th>Hotel_Address_Vienna</th>\n",
       "      <th>Leisure_Trip</th>\n",
       "      <th>Nights_Stayed</th>\n",
       "    </tr>\n",
       "  </thead>\n",
       "  <tbody>\n",
       "    <tr>\n",
       "      <th>0</th>\n",
       "      <td>2017</td>\n",
       "      <td>0</td>\n",
       "      <td>0</td>\n",
       "      <td>0</td>\n",
       "      <td>0</td>\n",
       "      <td>0</td>\n",
       "      <td>1</td>\n",
       "      <td>1</td>\n",
       "      <td>0</td>\n",
       "      <td>0</td>\n",
       "      <td>0</td>\n",
       "      <td>0</td>\n",
       "      <td>0</td>\n",
       "      <td>1</td>\n",
       "      <td>6</td>\n",
       "    </tr>\n",
       "    <tr>\n",
       "      <th>1</th>\n",
       "      <td>2017</td>\n",
       "      <td>0</td>\n",
       "      <td>1</td>\n",
       "      <td>0</td>\n",
       "      <td>0</td>\n",
       "      <td>0</td>\n",
       "      <td>0</td>\n",
       "      <td>1</td>\n",
       "      <td>0</td>\n",
       "      <td>0</td>\n",
       "      <td>0</td>\n",
       "      <td>0</td>\n",
       "      <td>0</td>\n",
       "      <td>1</td>\n",
       "      <td>4</td>\n",
       "    </tr>\n",
       "    <tr>\n",
       "      <th>2</th>\n",
       "      <td>2017</td>\n",
       "      <td>1</td>\n",
       "      <td>0</td>\n",
       "      <td>0</td>\n",
       "      <td>0</td>\n",
       "      <td>0</td>\n",
       "      <td>0</td>\n",
       "      <td>1</td>\n",
       "      <td>0</td>\n",
       "      <td>0</td>\n",
       "      <td>0</td>\n",
       "      <td>0</td>\n",
       "      <td>0</td>\n",
       "      <td>1</td>\n",
       "      <td>3</td>\n",
       "    </tr>\n",
       "    <tr>\n",
       "      <th>3</th>\n",
       "      <td>2017</td>\n",
       "      <td>0</td>\n",
       "      <td>0</td>\n",
       "      <td>0</td>\n",
       "      <td>1</td>\n",
       "      <td>0</td>\n",
       "      <td>0</td>\n",
       "      <td>1</td>\n",
       "      <td>0</td>\n",
       "      <td>0</td>\n",
       "      <td>0</td>\n",
       "      <td>0</td>\n",
       "      <td>0</td>\n",
       "      <td>1</td>\n",
       "      <td>3</td>\n",
       "    </tr>\n",
       "    <tr>\n",
       "      <th>4</th>\n",
       "      <td>2017</td>\n",
       "      <td>0</td>\n",
       "      <td>0</td>\n",
       "      <td>0</td>\n",
       "      <td>0</td>\n",
       "      <td>0</td>\n",
       "      <td>1</td>\n",
       "      <td>1</td>\n",
       "      <td>0</td>\n",
       "      <td>0</td>\n",
       "      <td>0</td>\n",
       "      <td>0</td>\n",
       "      <td>0</td>\n",
       "      <td>1</td>\n",
       "      <td>2</td>\n",
       "    </tr>\n",
       "  </tbody>\n",
       "</table>\n",
       "</div>"
      ],
      "text/plain": [
       "   Year  Reviewer_Nationality_Australia  Reviewer_Nationality_Ireland  \\\n",
       "0  2017                               0                             0   \n",
       "1  2017                               0                             1   \n",
       "2  2017                               1                             0   \n",
       "3  2017                               0                             0   \n",
       "4  2017                               0                             0   \n",
       "\n",
       "   Reviewer_Nationality_UAE  Reviewer_Nationality_UK  \\\n",
       "0                         0                        0   \n",
       "1                         0                        0   \n",
       "2                         0                        0   \n",
       "3                         0                        1   \n",
       "4                         0                        0   \n",
       "\n",
       "   Reviewer_Nationality_USA  Reviewer_Nationality_Other  \\\n",
       "0                         0                           1   \n",
       "1                         0                           0   \n",
       "2                         0                           0   \n",
       "3                         0                           0   \n",
       "4                         0                           1   \n",
       "\n",
       "   Hotel_Address_Amsterdam  Hotel_Address_Barcelona  Hotel_Address_London  \\\n",
       "0                        1                        0                     0   \n",
       "1                        1                        0                     0   \n",
       "2                        1                        0                     0   \n",
       "3                        1                        0                     0   \n",
       "4                        1                        0                     0   \n",
       "\n",
       "   Hotel_Address_Milan  Hotel_Address_Paris  Hotel_Address_Vienna  \\\n",
       "0                    0                    0                     0   \n",
       "1                    0                    0                     0   \n",
       "2                    0                    0                     0   \n",
       "3                    0                    0                     0   \n",
       "4                    0                    0                     0   \n",
       "\n",
       "   Leisure_Trip  Nights_Stayed  \n",
       "0             1              6  \n",
       "1             1              4  \n",
       "2             1              3  \n",
       "3             1              3  \n",
       "4             1              2  "
      ]
     },
     "execution_count": 8,
     "metadata": {},
     "output_type": "execute_result"
    }
   ],
   "source": [
    "# take brief look at last 15 columns\n",
    "df_raw.iloc[:5,15:30]"
   ]
  },
  {
   "cell_type": "code",
   "execution_count": 9,
   "id": "10f32c17",
   "metadata": {},
   "outputs": [
    {
     "data": {
      "text/plain": [
       "Unnamed: 0                                    0\n",
       "Additional_Number_of_Scoring                  0\n",
       "Average_Score                                 0\n",
       "Negative_Review                               0\n",
       "Review_Total_Negative_Word_Counts             0\n",
       "Total_Number_of_Reviews                       0\n",
       "Positive_Review                               0\n",
       "Review_Total_Positive_Word_Counts             0\n",
       "Total_Number_of_Reviews_Reviewer_Has_Given    0\n",
       "Reviewer_Score                                0\n",
       "Days_Since_Review                             0\n",
       "Latitude                                      0\n",
       "Longitude                                     0\n",
       "Day                                           0\n",
       "Month                                         0\n",
       "Year                                          0\n",
       "Reviewer_Nationality_Australia                0\n",
       "Reviewer_Nationality_Ireland                  0\n",
       "Reviewer_Nationality_UAE                      0\n",
       "Reviewer_Nationality_UK                       0\n",
       "Reviewer_Nationality_USA                      0\n",
       "Reviewer_Nationality_Other                    0\n",
       "Hotel_Address_Amsterdam                       0\n",
       "Hotel_Address_Barcelona                       0\n",
       "Hotel_Address_London                          0\n",
       "Hotel_Address_Milan                           0\n",
       "Hotel_Address_Paris                           0\n",
       "Hotel_Address_Vienna                          0\n",
       "Leisure_Trip                                  0\n",
       "Nights_Stayed                                 0\n",
       "dtype: int64"
      ]
     },
     "execution_count": 9,
     "metadata": {},
     "output_type": "execute_result"
    }
   ],
   "source": [
    "# checking for missing value\n",
    "df_raw.isna().sum()"
   ]
  },
  {
   "cell_type": "code",
   "execution_count": 10,
   "id": "451add7f",
   "metadata": {},
   "outputs": [
    {
     "data": {
      "text/plain": [
       "0"
      ]
     },
     "execution_count": 10,
     "metadata": {},
     "output_type": "execute_result"
    }
   ],
   "source": [
    "# checking for duplicated data\n",
    "df_raw.duplicated().sum()"
   ]
  },
  {
   "cell_type": "code",
   "execution_count": 11,
   "id": "bdef99a4",
   "metadata": {},
   "outputs": [
    {
     "data": {
      "text/plain": [
       "Reviewer_Score\n",
       "1    293974\n",
       "0    221764\n",
       "Name: count, dtype: int64"
      ]
     },
     "execution_count": 11,
     "metadata": {},
     "output_type": "execute_result"
    }
   ],
   "source": [
    "# a brief look at data target\n",
    "df_raw['Reviewer_Score'].value_counts()"
   ]
  },
  {
   "cell_type": "code",
   "execution_count": 13,
   "id": "a58fb8db",
   "metadata": {},
   "outputs": [],
   "source": [
    "good_percent, bad_percent = df_raw['Reviewer_Score'].value_counts() /df_raw.shape[0]"
   ]
  },
  {
   "cell_type": "code",
   "execution_count": 142,
   "id": "44c1ac9f",
   "metadata": {},
   "outputs": [
    {
     "name": "stdout",
     "output_type": "stream",
     "text": [
      "Good reviews: 57.000647615649804 %\n",
      "Bad reviews: 42.99935238435019 %\n"
     ]
    }
   ],
   "source": [
    "print(f'Good reviews: {good_percent * 100} %')\n",
    "print(f'Bad reviews: {bad_percent * 100} %')"
   ]
  },
  {
   "cell_type": "markdown",
   "id": "8ef8a173",
   "metadata": {},
   "source": [
    "#### The data target is almost balenced"
   ]
  },
  {
   "cell_type": "code",
   "execution_count": 14,
   "id": "a71f836e",
   "metadata": {},
   "outputs": [
    {
     "name": "stdout",
     "output_type": "stream",
     "text": [
      "Number of Unique Positive reviews: 412601\n",
      "Number of Unique Negative reviews: 330011\n"
     ]
    }
   ],
   "source": [
    "# check for target count\n",
    "print(\"Number of Unique Positive reviews: \",end=\"\")\n",
    "print(df_raw['Positive_Review'].value_counts().shape[0])\n",
    "print(\"Number of Unique Negative reviews: \",end=\"\")\n",
    "print(df_raw['Negative_Review'].value_counts().shape[0])"
   ]
  },
  {
   "cell_type": "code",
   "execution_count": 15,
   "id": "2f0827cb",
   "metadata": {},
   "outputs": [
    {
     "data": {
      "image/png": "[encoded data removed]",
      "text/plain": [
       "<Figure size 864x432 with 1 Axes>"
      ]
     },
     "metadata": {
      "needs_background": "light"
     },
     "output_type": "display_data"
    }
   ],
   "source": [
    "# Assuming df is your DataFrame and Average_Score and Reviewer_Score are the columns\n",
    "plt.figure(figsize=(12, 6))  # Set the size of the plot\n",
    "sns.countplot(x='Average_Score', hue='Reviewer_Score', data=df_raw, palette=\"deep\")\n",
    "\n",
    "plt.xlabel('Average Score')  # Set the x-axis label\n",
    "plt.ylabel('Count')          # Set the y-axis label\n",
    "plt.title('Distribution of Average Scores')  # Set the title of the plot\n",
    "\n",
    "plt.xticks(rotation=90)  # Rotate the x-axis labels for better readability if needed\n",
    "\n",
    "plt.show()\n",
    "\n"
   ]
  },
  {
   "cell_type": "markdown",
   "id": "4fa8fc67",
   "metadata": {},
   "source": [
    "first make copy for cleaning as df_clean "
   ]
  },
  {
   "cell_type": "code",
   "execution_count": 16,
   "id": "008f8d8b",
   "metadata": {},
   "outputs": [],
   "source": [
    "df_clean = df_raw"
   ]
  },
  {
   "cell_type": "markdown",
   "id": "7e8f40fe",
   "metadata": {},
   "source": [
    "In This level for easier visalization, reverse the dummy data into categorical columns"
   ]
  },
  {
   "cell_type": "code",
   "execution_count": 18,
   "id": "6fb98d1a",
   "metadata": {},
   "outputs": [],
   "source": [
    "# Extracting columns related to Reviewer_Nationality and Hotel_Address\n",
    "reviewer_nationality_cols = [col for col in df_clean.columns if 'Reviewer_Nationality' in col]\n",
    "hotel_address_cols = [col for col in df_clean.columns if 'Hotel_Address' in col]\n",
    "\n",
    "# Function to get the category name\n",
    "def get_category(row, columns):\n",
    "    for col in columns:\n",
    "        if row[col] == 1:\n",
    "            return col.split('_')[-1]\n",
    "    return None\n",
    "\n",
    "# Apply the function to each row\n",
    "df_clean['Reviewer_Nationality'] = df_clean.apply(lambda row: get_category(row, reviewer_nationality_cols), axis=1)\n",
    "df_clean['Hotel_Address'] = df_clean.apply(lambda row: get_category(row, hotel_address_cols), axis=1)\n",
    "\n",
    "#  drop the original dummy columns\n",
    "df_clean.drop(reviewer_nationality_cols + hotel_address_cols, axis=1, inplace=True)\n"
   ]
  },
  {
   "cell_type": "code",
   "execution_count": 19,
   "id": "0a752c58",
   "metadata": {},
   "outputs": [
    {
     "data": {
      "text/html": [
       "<div>\n",
       "<style scoped>\n",
       "    .dataframe tbody tr th:only-of-type {\n",
       "        vertical-align: middle;\n",
       "    }\n",
       "\n",
       "    .dataframe tbody tr th {\n",
       "        vertical-align: top;\n",
       "    }\n",
       "\n",
       "    .dataframe thead th {\n",
       "        text-align: right;\n",
       "    }\n",
       "</style>\n",
       "<table border=\"1\" class=\"dataframe\">\n",
       "  <thead>\n",
       "    <tr style=\"text-align: right;\">\n",
       "      <th></th>\n",
       "      <th>Unnamed: 0</th>\n",
       "      <th>Additional_Number_of_Scoring</th>\n",
       "      <th>Average_Score</th>\n",
       "      <th>Negative_Review</th>\n",
       "      <th>Review_Total_Negative_Word_Counts</th>\n",
       "      <th>Total_Number_of_Reviews</th>\n",
       "      <th>Positive_Review</th>\n",
       "      <th>Review_Total_Positive_Word_Counts</th>\n",
       "      <th>Total_Number_of_Reviews_Reviewer_Has_Given</th>\n",
       "      <th>Reviewer_Score</th>\n",
       "      <th>Days_Since_Review</th>\n",
       "      <th>Latitude</th>\n",
       "      <th>Longitude</th>\n",
       "      <th>Day</th>\n",
       "      <th>Month</th>\n",
       "      <th>Year</th>\n",
       "      <th>Leisure_Trip</th>\n",
       "      <th>Nights_Stayed</th>\n",
       "      <th>Reviewer_Nationality</th>\n",
       "      <th>Hotel_Address</th>\n",
       "    </tr>\n",
       "  </thead>\n",
       "  <tbody>\n",
       "    <tr>\n",
       "      <th>0</th>\n",
       "      <td>0</td>\n",
       "      <td>194</td>\n",
       "      <td>7.7</td>\n",
       "      <td>I am so angry that i made this post available...</td>\n",
       "      <td>397</td>\n",
       "      <td>1403</td>\n",
       "      <td>Only the park outside of the hotel was beauti...</td>\n",
       "      <td>11</td>\n",
       "      <td>7</td>\n",
       "      <td>0</td>\n",
       "      <td>0</td>\n",
       "      <td>52.360576</td>\n",
       "      <td>4.915968</td>\n",
       "      <td>3</td>\n",
       "      <td>8</td>\n",
       "      <td>2017</td>\n",
       "      <td>1</td>\n",
       "      <td>6</td>\n",
       "      <td>Other</td>\n",
       "      <td>Amsterdam</td>\n",
       "    </tr>\n",
       "    <tr>\n",
       "      <th>1</th>\n",
       "      <td>1</td>\n",
       "      <td>194</td>\n",
       "      <td>7.7</td>\n",
       "      <td>No Negative</td>\n",
       "      <td>0</td>\n",
       "      <td>1403</td>\n",
       "      <td>No real complaints the hotel was great great ...</td>\n",
       "      <td>105</td>\n",
       "      <td>7</td>\n",
       "      <td>0</td>\n",
       "      <td>0</td>\n",
       "      <td>52.360576</td>\n",
       "      <td>4.915968</td>\n",
       "      <td>3</td>\n",
       "      <td>8</td>\n",
       "      <td>2017</td>\n",
       "      <td>1</td>\n",
       "      <td>4</td>\n",
       "      <td>Ireland</td>\n",
       "      <td>Amsterdam</td>\n",
       "    </tr>\n",
       "    <tr>\n",
       "      <th>2</th>\n",
       "      <td>2</td>\n",
       "      <td>194</td>\n",
       "      <td>7.7</td>\n",
       "      <td>Rooms are nice but for elderly a bit difficul...</td>\n",
       "      <td>42</td>\n",
       "      <td>1403</td>\n",
       "      <td>Location was good and staff were ok It is cut...</td>\n",
       "      <td>21</td>\n",
       "      <td>9</td>\n",
       "      <td>0</td>\n",
       "      <td>3</td>\n",
       "      <td>52.360576</td>\n",
       "      <td>4.915968</td>\n",
       "      <td>31</td>\n",
       "      <td>7</td>\n",
       "      <td>2017</td>\n",
       "      <td>1</td>\n",
       "      <td>3</td>\n",
       "      <td>Australia</td>\n",
       "      <td>Amsterdam</td>\n",
       "    </tr>\n",
       "  </tbody>\n",
       "</table>\n",
       "</div>"
      ],
      "text/plain": [
       "   Unnamed: 0  Additional_Number_of_Scoring  Average_Score  \\\n",
       "0           0                           194            7.7   \n",
       "1           1                           194            7.7   \n",
       "2           2                           194            7.7   \n",
       "\n",
       "                                     Negative_Review  \\\n",
       "0   I am so angry that i made this post available...   \n",
       "1                                        No Negative   \n",
       "2   Rooms are nice but for elderly a bit difficul...   \n",
       "\n",
       "   Review_Total_Negative_Word_Counts  Total_Number_of_Reviews  \\\n",
       "0                                397                     1403   \n",
       "1                                  0                     1403   \n",
       "2                                 42                     1403   \n",
       "\n",
       "                                     Positive_Review  \\\n",
       "0   Only the park outside of the hotel was beauti...   \n",
       "1   No real complaints the hotel was great great ...   \n",
       "2   Location was good and staff were ok It is cut...   \n",
       "\n",
       "   Review_Total_Positive_Word_Counts  \\\n",
       "0                                 11   \n",
       "1                                105   \n",
       "2                                 21   \n",
       "\n",
       "   Total_Number_of_Reviews_Reviewer_Has_Given  Reviewer_Score  \\\n",
       "0                                           7               0   \n",
       "1                                           7               0   \n",
       "2                                           9               0   \n",
       "\n",
       "   Days_Since_Review   Latitude  Longitude  Day  Month  Year  Leisure_Trip  \\\n",
       "0                  0  52.360576   4.915968    3      8  2017             1   \n",
       "1                  0  52.360576   4.915968    3      8  2017             1   \n",
       "2                  3  52.360576   4.915968   31      7  2017             1   \n",
       "\n",
       "   Nights_Stayed Reviewer_Nationality Hotel_Address  \n",
       "0              6                Other     Amsterdam  \n",
       "1              4              Ireland     Amsterdam  \n",
       "2              3            Australia     Amsterdam  "
      ]
     },
     "execution_count": 19,
     "metadata": {},
     "output_type": "execute_result"
    }
   ],
   "source": [
    "df_clean.head(3)"
   ]
  },
  {
   "cell_type": "markdown",
   "id": "0822a86e",
   "metadata": {},
   "source": [
    "Now we have columns with categorical columns"
   ]
  },
  {
   "cell_type": "code",
   "execution_count": 21,
   "id": "174836b1",
   "metadata": {},
   "outputs": [],
   "source": [
    "# remove the old index\n",
    "# Remove the 'Unnamed: 0' column from the DataFrame\n",
    "df_clean.drop('Unnamed: 0', axis=1, inplace=True)"
   ]
  },
  {
   "cell_type": "markdown",
   "id": "93621a14",
   "metadata": {},
   "source": [
    "## Data Dictionary\n",
    "\n",
    "| Column Name                                  | Description                                               | Type       |\n",
    "| -------------------------------------------- | --------------------------------------------------------- | ---------- |\n",
    "| Additional_Number_of_Scoring                 | Number of scores given without an accompanying review.    | int64      |\n",
    "| Average_Score                                | Average score of the hotel, calculated based on the latest comments in the last year. | float64    |\n",
    "| Negative_Review                              | Text of the negative review given by the reviewer. 'No Negative' if no negative review is given. | object     |\n",
    "| Review_Total_Negative_Word_Counts            | Total number of words in the negative review.             | int64      |\n",
    "| Total_Number_of_Reviews                      | Total number of valid reviews the hotel has received.     | int64      |\n",
    "| Positive_Review                              | Text of the positive review given by the reviewer. 'No Positive' if no positive review is given. | object     |\n",
    "| Review_Total_Positive_Word_Counts            | Total number of words in the positive review.             | int64      |\n",
    "| Total_Number_of_Reviews_Reviewer_Has_Given   | Number of reviews the reviewer has given in the past.     | int64      |\n",
    "| Reviewer_Score                               | Score the reviewer has given to the hotel, based on his/her experience. | int64      |\n",
    "| Days_Since_Review                            | Duration between the review date and scrape date.         | int64      |\n",
    "| Latitude                                     | Geographical latitude of the hotel.                       | float64    |\n",
    "| Longitude                                    | Geographical longitude of the hotel.                      | float64    |\n",
    "| Day                                          | Day of the month when the review was posted.              | int64      |\n",
    "| Month                                        | Month when the review was posted.                         | int64      |\n",
    "| Year                                         | Year when the review was posted.                          | int64      |\n",
    "| Leisure_Trip                                 | Indicates whether the trip was for leisure (1) or not (0).| int64      |\n",
    "| Nights_Stayed                                | Number of nights the reviewer stayed in the hotel.        | int64      |\n",
    "| Reviewer_Nationality                         | Nationality of the reviewer.                              | object     |\n",
    "| Hotel_Address                                | Address of the hotel.                                     | object     |\n"
   ]
  },
  {
   "cell_type": "code",
   "execution_count": 22,
   "id": "82943d62",
   "metadata": {},
   "outputs": [
    {
     "data": {
      "text/html": [
       "<div>\n",
       "<style scoped>\n",
       "    .dataframe tbody tr th:only-of-type {\n",
       "        vertical-align: middle;\n",
       "    }\n",
       "\n",
       "    .dataframe tbody tr th {\n",
       "        vertical-align: top;\n",
       "    }\n",
       "\n",
       "    .dataframe thead th {\n",
       "        text-align: right;\n",
       "    }\n",
       "</style>\n",
       "<table border=\"1\" class=\"dataframe\">\n",
       "  <thead>\n",
       "    <tr style=\"text-align: right;\">\n",
       "      <th></th>\n",
       "      <th>Additional_Number_of_Scoring</th>\n",
       "      <th>Average_Score</th>\n",
       "      <th>Review_Total_Negative_Word_Counts</th>\n",
       "      <th>Total_Number_of_Reviews</th>\n",
       "      <th>Review_Total_Positive_Word_Counts</th>\n",
       "      <th>Total_Number_of_Reviews_Reviewer_Has_Given</th>\n",
       "      <th>Reviewer_Score</th>\n",
       "      <th>Days_Since_Review</th>\n",
       "      <th>Latitude</th>\n",
       "      <th>Longitude</th>\n",
       "      <th>Day</th>\n",
       "      <th>Month</th>\n",
       "      <th>Year</th>\n",
       "      <th>Leisure_Trip</th>\n",
       "      <th>Nights_Stayed</th>\n",
       "    </tr>\n",
       "  </thead>\n",
       "  <tbody>\n",
       "    <tr>\n",
       "      <th>count</th>\n",
       "      <td>515738.000000</td>\n",
       "      <td>515738.000000</td>\n",
       "      <td>515738.000000</td>\n",
       "      <td>515738.000000</td>\n",
       "      <td>515738.000000</td>\n",
       "      <td>515738.000000</td>\n",
       "      <td>515738.000000</td>\n",
       "      <td>515738.000000</td>\n",
       "      <td>515738.000000</td>\n",
       "      <td>515738.000000</td>\n",
       "      <td>515738.000000</td>\n",
       "      <td>515738.000000</td>\n",
       "      <td>515738.000000</td>\n",
       "      <td>515738.000000</td>\n",
       "      <td>515738.000000</td>\n",
       "    </tr>\n",
       "    <tr>\n",
       "      <th>mean</th>\n",
       "      <td>498.081836</td>\n",
       "      <td>8.397487</td>\n",
       "      <td>18.539450</td>\n",
       "      <td>2743.743944</td>\n",
       "      <td>17.776458</td>\n",
       "      <td>7.166001</td>\n",
       "      <td>0.570006</td>\n",
       "      <td>354.441932</td>\n",
       "      <td>49.432419</td>\n",
       "      <td>2.893479</td>\n",
       "      <td>15.680221</td>\n",
       "      <td>6.486660</td>\n",
       "      <td>2016.120761</td>\n",
       "      <td>0.810059</td>\n",
       "      <td>2.362122</td>\n",
       "    </tr>\n",
       "    <tr>\n",
       "      <th>std</th>\n",
       "      <td>500.538467</td>\n",
       "      <td>0.548048</td>\n",
       "      <td>29.690831</td>\n",
       "      <td>2317.464868</td>\n",
       "      <td>21.804185</td>\n",
       "      <td>11.040228</td>\n",
       "      <td>0.495075</td>\n",
       "      <td>208.928124</td>\n",
       "      <td>3.460237</td>\n",
       "      <td>4.667477</td>\n",
       "      <td>8.864491</td>\n",
       "      <td>3.351779</td>\n",
       "      <td>0.687567</td>\n",
       "      <td>0.392255</td>\n",
       "      <td>1.646808</td>\n",
       "    </tr>\n",
       "    <tr>\n",
       "      <th>min</th>\n",
       "      <td>1.000000</td>\n",
       "      <td>5.200000</td>\n",
       "      <td>0.000000</td>\n",
       "      <td>43.000000</td>\n",
       "      <td>0.000000</td>\n",
       "      <td>1.000000</td>\n",
       "      <td>0.000000</td>\n",
       "      <td>0.000000</td>\n",
       "      <td>41.328376</td>\n",
       "      <td>-0.369758</td>\n",
       "      <td>1.000000</td>\n",
       "      <td>1.000000</td>\n",
       "      <td>2015.000000</td>\n",
       "      <td>0.000000</td>\n",
       "      <td>1.000000</td>\n",
       "    </tr>\n",
       "    <tr>\n",
       "      <th>25%</th>\n",
       "      <td>169.000000</td>\n",
       "      <td>8.100000</td>\n",
       "      <td>2.000000</td>\n",
       "      <td>1161.000000</td>\n",
       "      <td>5.000000</td>\n",
       "      <td>1.000000</td>\n",
       "      <td>0.000000</td>\n",
       "      <td>175.000000</td>\n",
       "      <td>48.214066</td>\n",
       "      <td>-0.143372</td>\n",
       "      <td>8.000000</td>\n",
       "      <td>4.000000</td>\n",
       "      <td>2016.000000</td>\n",
       "      <td>1.000000</td>\n",
       "      <td>1.000000</td>\n",
       "    </tr>\n",
       "    <tr>\n",
       "      <th>50%</th>\n",
       "      <td>341.000000</td>\n",
       "      <td>8.400000</td>\n",
       "      <td>9.000000</td>\n",
       "      <td>2134.000000</td>\n",
       "      <td>11.000000</td>\n",
       "      <td>3.000000</td>\n",
       "      <td>1.000000</td>\n",
       "      <td>353.000000</td>\n",
       "      <td>51.499981</td>\n",
       "      <td>0.019886</td>\n",
       "      <td>16.000000</td>\n",
       "      <td>7.000000</td>\n",
       "      <td>2016.000000</td>\n",
       "      <td>1.000000</td>\n",
       "      <td>2.000000</td>\n",
       "    </tr>\n",
       "    <tr>\n",
       "      <th>75%</th>\n",
       "      <td>660.000000</td>\n",
       "      <td>8.800000</td>\n",
       "      <td>23.000000</td>\n",
       "      <td>3613.000000</td>\n",
       "      <td>22.000000</td>\n",
       "      <td>8.000000</td>\n",
       "      <td>1.000000</td>\n",
       "      <td>527.000000</td>\n",
       "      <td>51.516288</td>\n",
       "      <td>4.841163</td>\n",
       "      <td>23.000000</td>\n",
       "      <td>9.000000</td>\n",
       "      <td>2017.000000</td>\n",
       "      <td>1.000000</td>\n",
       "      <td>3.000000</td>\n",
       "    </tr>\n",
       "    <tr>\n",
       "      <th>max</th>\n",
       "      <td>2682.000000</td>\n",
       "      <td>9.800000</td>\n",
       "      <td>408.000000</td>\n",
       "      <td>16670.000000</td>\n",
       "      <td>395.000000</td>\n",
       "      <td>355.000000</td>\n",
       "      <td>1.000000</td>\n",
       "      <td>730.000000</td>\n",
       "      <td>52.400181</td>\n",
       "      <td>16.429233</td>\n",
       "      <td>31.000000</td>\n",
       "      <td>12.000000</td>\n",
       "      <td>2017.000000</td>\n",
       "      <td>1.000000</td>\n",
       "      <td>31.000000</td>\n",
       "    </tr>\n",
       "  </tbody>\n",
       "</table>\n",
       "</div>"
      ],
      "text/plain": [
       "       Additional_Number_of_Scoring  Average_Score  \\\n",
       "count                 515738.000000  515738.000000   \n",
       "mean                     498.081836       8.397487   \n",
       "std                      500.538467       0.548048   \n",
       "min                        1.000000       5.200000   \n",
       "25%                      169.000000       8.100000   \n",
       "50%                      341.000000       8.400000   \n",
       "75%                      660.000000       8.800000   \n",
       "max                     2682.000000       9.800000   \n",
       "\n",
       "       Review_Total_Negative_Word_Counts  Total_Number_of_Reviews  \\\n",
       "count                      515738.000000            515738.000000   \n",
       "mean                           18.539450              2743.743944   \n",
       "std                            29.690831              2317.464868   \n",
       "min                             0.000000                43.000000   \n",
       "25%                             2.000000              1161.000000   \n",
       "50%                             9.000000              2134.000000   \n",
       "75%                            23.000000              3613.000000   \n",
       "max                           408.000000             16670.000000   \n",
       "\n",
       "       Review_Total_Positive_Word_Counts  \\\n",
       "count                      515738.000000   \n",
       "mean                           17.776458   \n",
       "std                            21.804185   \n",
       "min                             0.000000   \n",
       "25%                             5.000000   \n",
       "50%                            11.000000   \n",
       "75%                            22.000000   \n",
       "max                           395.000000   \n",
       "\n",
       "       Total_Number_of_Reviews_Reviewer_Has_Given  Reviewer_Score  \\\n",
       "count                               515738.000000   515738.000000   \n",
       "mean                                     7.166001        0.570006   \n",
       "std                                     11.040228        0.495075   \n",
       "min                                      1.000000        0.000000   \n",
       "25%                                      1.000000        0.000000   \n",
       "50%                                      3.000000        1.000000   \n",
       "75%                                      8.000000        1.000000   \n",
       "max                                    355.000000        1.000000   \n",
       "\n",
       "       Days_Since_Review       Latitude      Longitude            Day  \\\n",
       "count      515738.000000  515738.000000  515738.000000  515738.000000   \n",
       "mean          354.441932      49.432419       2.893479      15.680221   \n",
       "std           208.928124       3.460237       4.667477       8.864491   \n",
       "min             0.000000      41.328376      -0.369758       1.000000   \n",
       "25%           175.000000      48.214066      -0.143372       8.000000   \n",
       "50%           353.000000      51.499981       0.019886      16.000000   \n",
       "75%           527.000000      51.516288       4.841163      23.000000   \n",
       "max           730.000000      52.400181      16.429233      31.000000   \n",
       "\n",
       "               Month           Year   Leisure_Trip  Nights_Stayed  \n",
       "count  515738.000000  515738.000000  515738.000000  515738.000000  \n",
       "mean        6.486660    2016.120761       0.810059       2.362122  \n",
       "std         3.351779       0.687567       0.392255       1.646808  \n",
       "min         1.000000    2015.000000       0.000000       1.000000  \n",
       "25%         4.000000    2016.000000       1.000000       1.000000  \n",
       "50%         7.000000    2016.000000       1.000000       2.000000  \n",
       "75%         9.000000    2017.000000       1.000000       3.000000  \n",
       "max        12.000000    2017.000000       1.000000      31.000000  "
      ]
     },
     "execution_count": 22,
     "metadata": {},
     "output_type": "execute_result"
    }
   ],
   "source": [
    "df_clean.describe()"
   ]
  },
  {
   "cell_type": "code",
   "execution_count": 23,
   "id": "04d27e6e",
   "metadata": {
    "scrolled": false
   },
   "outputs": [
    {
     "name": "stdout",
     "output_type": "stream",
     "text": [
      "<class 'pandas.core.frame.DataFrame'>\n",
      "RangeIndex: 515738 entries, 0 to 515737\n",
      "Data columns (total 19 columns):\n",
      " #   Column                                      Non-Null Count   Dtype  \n",
      "---  ------                                      --------------   -----  \n",
      " 0   Additional_Number_of_Scoring                515738 non-null  int64  \n",
      " 1   Average_Score                               515738 non-null  float64\n",
      " 2   Negative_Review                             515738 non-null  object \n",
      " 3   Review_Total_Negative_Word_Counts           515738 non-null  int64  \n",
      " 4   Total_Number_of_Reviews                     515738 non-null  int64  \n",
      " 5   Positive_Review                             515738 non-null  object \n",
      " 6   Review_Total_Positive_Word_Counts           515738 non-null  int64  \n",
      " 7   Total_Number_of_Reviews_Reviewer_Has_Given  515738 non-null  int64  \n",
      " 8   Reviewer_Score                              515738 non-null  int64  \n",
      " 9   Days_Since_Review                           515738 non-null  int64  \n",
      " 10  Latitude                                    515738 non-null  float64\n",
      " 11  Longitude                                   515738 non-null  float64\n",
      " 12  Day                                         515738 non-null  int64  \n",
      " 13  Month                                       515738 non-null  int64  \n",
      " 14  Year                                        515738 non-null  int64  \n",
      " 15  Leisure_Trip                                515738 non-null  int64  \n",
      " 16  Nights_Stayed                               515738 non-null  int64  \n",
      " 17  Reviewer_Nationality                        515738 non-null  object \n",
      " 18  Hotel_Address                               515738 non-null  object \n",
      "dtypes: float64(3), int64(12), object(4)\n",
      "memory usage: 74.8+ MB\n"
     ]
    }
   ],
   "source": [
    "df_clean.info()"
   ]
  },
  {
   "cell_type": "markdown",
   "id": "d7382885",
   "metadata": {},
   "source": [
    "The DataFrame's data types are correctly assigned, but some columns could be optimized for computational efficiency. Adjusting these data types will enhance processing and analysis performance."
   ]
  },
  {
   "cell_type": "code",
   "execution_count": 44,
   "id": "be083798",
   "metadata": {},
   "outputs": [
    {
     "data": {
      "text/plain": [
       "Hotel_Address\n",
       "London       262301\n",
       "Barcelona     60149\n",
       "Paris         59928\n",
       "Amsterdam     57214\n",
       "Vienna        38939\n",
       "Milan         37207\n",
       "Name: count, dtype: int64"
      ]
     },
     "execution_count": 44,
     "metadata": {},
     "output_type": "execute_result"
    }
   ],
   "source": [
    "df_clean['Hotel_Address'].value_counts()"
   ]
  },
  {
   "cell_type": "code",
   "execution_count": 45,
   "id": "363bd2a7",
   "metadata": {
    "scrolled": false
   },
   "outputs": [
    {
     "data": {
      "text/plain": [
       "<AxesSubplot:xlabel='Hotel_Address'>"
      ]
     },
     "execution_count": 45,
     "metadata": {},
     "output_type": "execute_result"
    },
    {
     "data": {
      "image/png": "[encoded data removed]",
      "text/plain": [
       "<Figure size 432x288 with 1 Axes>"
      ]
     },
     "metadata": {
      "needs_background": "light"
     },
     "output_type": "display_data"
    }
   ],
   "source": [
    "df_clean['Hotel_Address'].value_counts().plot(kind = 'bar')\n"
   ]
  },
  {
   "cell_type": "markdown",
   "id": "dc4f403a",
   "metadata": {},
   "source": [
    "The analysis of the Hotel_Address column reveals that the majority of hotel reviews are concentrated in London, with a count of 262,301. This is followed by Barcelona, Paris, Amsterdam, Vienna, and Milan, indicating a higher volume of reviews in these popular European cities."
   ]
  },
  {
   "cell_type": "code",
   "execution_count": 46,
   "id": "c6bc25b1",
   "metadata": {},
   "outputs": [
    {
     "data": {
      "text/plain": [
       "Reviewer_Nationality\n",
       "UK           245246\n",
       "Other        188307\n",
       "USA           35437\n",
       "Australia     21686\n",
       "Ireland       14827\n",
       "UAE           10235\n",
       "Name: count, dtype: int64"
      ]
     },
     "execution_count": 46,
     "metadata": {},
     "output_type": "execute_result"
    }
   ],
   "source": [
    "df_clean['Reviewer_Nationality'].value_counts()"
   ]
  },
  {
   "cell_type": "code",
   "execution_count": 47,
   "id": "5a97450d",
   "metadata": {},
   "outputs": [
    {
     "data": {
      "text/plain": [
       "<AxesSubplot:xlabel='Reviewer_Nationality'>"
      ]
     },
     "execution_count": 47,
     "metadata": {},
     "output_type": "execute_result"
    },
    {
     "data": {
      "image/png": "[encoded data removed]",
      "text/plain": [
       "<Figure size 432x288 with 1 Axes>"
      ]
     },
     "metadata": {
      "needs_background": "light"
     },
     "output_type": "display_data"
    }
   ],
   "source": [
    "df_clean['Reviewer_Nationality'].value_counts().plot(kind = 'bar')"
   ]
  },
  {
   "cell_type": "markdown",
   "id": "cc753729",
   "metadata": {},
   "source": [
    "This distribution indicates a significant representation of UK reviewers in the dataset"
   ]
  },
  {
   "cell_type": "code",
   "execution_count": 48,
   "id": "a933d37d",
   "metadata": {
    "scrolled": true
   },
   "outputs": [
    {
     "data": {
      "text/plain": [
       "Nights_Stayed\n",
       "1     193645\n",
       "2     134129\n",
       "3      95821\n",
       "4      47817\n",
       "5      20845\n",
       "6       9776\n",
       "7       7399\n",
       "8       2502\n",
       "9       1293\n",
       "10       889\n",
       "11       418\n",
       "12       316\n",
       "14       247\n",
       "13       246\n",
       "15       117\n",
       "16        57\n",
       "17        42\n",
       "18        33\n",
       "19        29\n",
       "21        23\n",
       "20        19\n",
       "30        11\n",
       "27        11\n",
       "23        10\n",
       "22        10\n",
       "25         7\n",
       "28         7\n",
       "26         7\n",
       "24         6\n",
       "29         5\n",
       "31         1\n",
       "Name: count, dtype: int64"
      ]
     },
     "execution_count": 48,
     "metadata": {},
     "output_type": "execute_result"
    }
   ],
   "source": [
    "df_clean['Nights_Stayed'].value_counts()"
   ]
  },
  {
   "cell_type": "code",
   "execution_count": null,
   "id": "41247244",
   "metadata": {},
   "outputs": [],
   "source": []
  },
  {
   "cell_type": "code",
   "execution_count": 51,
   "id": "27eb1af1",
   "metadata": {
    "scrolled": false
   },
   "outputs": [
    {
     "data": {
      "image/png": "[encoded data removed]",
      "text/plain": [
       "<Figure size 1152x432 with 1 Axes>"
      ]
     },
     "metadata": {
      "needs_background": "light"
     },
     "output_type": "display_data"
    }
   ],
   "source": [
    "plt.figure(figsize=(16,6))\n",
    "df_clean['Nights_Stayed'].value_counts().plot(kind = 'bar')\n",
    "plt.tight_layout()\n"
   ]
  },
  {
   "cell_type": "markdown",
   "id": "10063998",
   "metadata": {},
   "source": [
    "The analysis of the Nights_Stayed column indicates that most hotel stays are short, with single-night stays being the most common at 193,645 instances. Two-night and three-night stays follow with 134,129 and 95,821 instances, respectively. The frequency of stays decreases significantly as the number of nights increases, highlighting a preference for shorter hotel visits in the dataset"
   ]
  },
  {
   "cell_type": "code",
   "execution_count": 52,
   "id": "e1518661",
   "metadata": {},
   "outputs": [
    {
     "data": {
      "text/plain": [
       "Leisure_Trip\n",
       "1    417778\n",
       "0     97960\n",
       "Name: count, dtype: int64"
      ]
     },
     "execution_count": 52,
     "metadata": {},
     "output_type": "execute_result"
    }
   ],
   "source": [
    "df_clean['Leisure_Trip'].value_counts()"
   ]
  },
  {
   "cell_type": "code",
   "execution_count": 53,
   "id": "91d097e5",
   "metadata": {
    "scrolled": true
   },
   "outputs": [
    {
     "data": {
      "text/plain": [
       "<AxesSubplot:xlabel='Leisure_Trip'>"
      ]
     },
     "execution_count": 53,
     "metadata": {},
     "output_type": "execute_result"
    },
    {
     "data": {
      "image/png": "[encoded data removed]",
      "text/plain": [
       "<Figure size 432x288 with 1 Axes>"
      ]
     },
     "metadata": {
      "needs_background": "light"
     },
     "output_type": "display_data"
    }
   ],
   "source": [
    "df_clean['Leisure_Trip'].value_counts().plot(kind = 'bar')"
   ]
  },
  {
   "cell_type": "markdown",
   "id": "789b9fb1",
   "metadata": {},
   "source": [
    "The data reveals that a substantial majority of hotel stays, totaling 417,778, are categorized as leisure trips. This significantly outweighs the 97,960 instances of non-leisure stays, indicating a predominant leisure-oriented clientele in the dataset"
   ]
  },
  {
   "cell_type": "code",
   "execution_count": 54,
   "id": "af1a711a",
   "metadata": {},
   "outputs": [
    {
     "data": {
      "text/plain": [
       "Year\n",
       "2016    264403\n",
       "2017    156808\n",
       "2015     94527\n",
       "Name: count, dtype: int64"
      ]
     },
     "execution_count": 54,
     "metadata": {},
     "output_type": "execute_result"
    }
   ],
   "source": [
    "df_clean['Year'].value_counts()"
   ]
  },
  {
   "cell_type": "code",
   "execution_count": 55,
   "id": "b227524e",
   "metadata": {
    "scrolled": true
   },
   "outputs": [
    {
     "data": {
      "text/plain": [
       "<AxesSubplot:xlabel='Year'>"
      ]
     },
     "execution_count": 55,
     "metadata": {},
     "output_type": "execute_result"
    },
    {
     "data": {
      "image/png": "[encoded data removed]",
      "text/plain": [
       "<Figure size 432x288 with 1 Axes>"
      ]
     },
     "metadata": {
      "needs_background": "light"
     },
     "output_type": "display_data"
    }
   ],
   "source": [
    "df_clean['Year'].value_counts().plot(kind = 'bar')"
   ]
  },
  {
   "cell_type": "markdown",
   "id": "efb33d4b",
   "metadata": {},
   "source": [
    "The dataset shows a year-over-year increase in the number of hotel reviews, with 2016 recording the highest count at 264,403. This is a significant rise from the 94,527 reviews in 2015, and the trend continues with 156,808 reviews in 2017, indicating growing engagement over the years."
   ]
  },
  {
   "cell_type": "code",
   "execution_count": 56,
   "id": "cd6663e3",
   "metadata": {},
   "outputs": [
    {
     "data": {
      "text/plain": [
       "Month\n",
       "8     50672\n",
       "7     49318\n",
       "5     46490\n",
       "10    43843\n",
       "6     42896\n",
       "4     42883\n",
       "9     42428\n",
       "1     42151\n",
       "3     41110\n",
       "12    39607\n",
       "2     38370\n",
       "11    35970\n",
       "Name: count, dtype: int64"
      ]
     },
     "execution_count": 56,
     "metadata": {},
     "output_type": "execute_result"
    }
   ],
   "source": [
    "df_clean['Month'].value_counts()"
   ]
  },
  {
   "cell_type": "code",
   "execution_count": 106,
   "id": "6b3f2f11",
   "metadata": {
    "scrolled": true
   },
   "outputs": [
    {
     "data": {
      "image/png": "[encoded data removed]",
      "text/plain": [
       "<Figure size 1152x432 with 1 Axes>"
      ]
     },
     "metadata": {
      "needs_background": "light"
     },
     "output_type": "display_data"
    }
   ],
   "source": [
    "# Count the occurrences of each month\n",
    "month_counts = df_clean['Month'].value_counts().sort_index()\n",
    "plt.figure(figsize=(16,6))\n",
    "# Plot\n",
    "month_counts.plot(kind='bar')\n",
    "plt.xlabel('Month')\n",
    "plt.ylabel('Count')\n",
    "plt.title('Distribution of Reviews by Month')\n",
    "\n",
    "# Set the x-axis labels to month names for readability\n",
    "plt.xticks(ticks=range(12), labels=['Jan', 'Feb', 'Mar', 'Apr', 'May', 'Jun', 'Jul', 'Aug', 'Sep', 'Oct', 'Nov', 'Dec'], rotation=45)\n",
    "\n",
    "plt.show()\n"
   ]
  },
  {
   "cell_type": "markdown",
   "id": "44790be7",
   "metadata": {},
   "source": [
    "The analysis of hotel reviews by month shows the highest number of reviews in August (50,672) and July (49,318), indicating a peak in hotel stays during the summer season. The months of May and October also see high activity with over 40,000 reviews each. The least number of reviews are recorded in November (35,970) and February (38,370), suggesting a lower frequency of hotel stays during these months"
   ]
  },
  {
   "cell_type": "code",
   "execution_count": 115,
   "id": "7a781010",
   "metadata": {},
   "outputs": [
    {
     "data": {
      "text/plain": [
       "Days_Since_Review\n",
       "419    274\n",
       "475    268\n",
       "517    264\n",
       "496    263\n",
       "510    261\n",
       "118    259\n",
       "566    258\n",
       "126    257\n",
       "594    254\n",
       "552    253\n",
       "587    249\n",
       "601    248\n",
       "326    248\n",
       "324    241\n",
       "636    241\n",
       "629    238\n",
       "524    237\n",
       "130    233\n",
       "622    229\n",
       "545    226\n",
       "608    225\n",
       "538    223\n",
       "559    206\n",
       "243    206\n",
       "121    202\n",
       "327    199\n",
       "615    194\n",
       "122    192\n",
       "124    173\n",
       "123    143\n",
       "Name: count, dtype: int64"
      ]
     },
     "execution_count": 115,
     "metadata": {},
     "output_type": "execute_result"
    }
   ],
   "source": [
    "df_clean['Days_Since_Review'].value_counts().tail(30)"
   ]
  },
  {
   "cell_type": "code",
   "execution_count": 130,
   "id": "0aa59fa0",
   "metadata": {
    "scrolled": false
   },
   "outputs": [
    {
     "data": {
      "text/plain": [
       "Text(0.5, 1.0, 'Distribution of Days_Since_Review')"
      ]
     },
     "execution_count": 130,
     "metadata": {},
     "output_type": "execute_result"
    },
    {
     "data": {
      "image/png": "[encoded data removed]",
      "text/plain": [
       "<Figure size 1152x432 with 1 Axes>"
      ]
     },
     "metadata": {
      "needs_background": "light"
     },
     "output_type": "display_data"
    }
   ],
   "source": [
    "plt.figure(figsize=(16,6))\n",
    "df_clean['Days_Since_Review'].value_counts().plot(kind = 'hist',bins=300)\n",
    "\n",
    "\n",
    "plt.xlabel('Days_Since_Review')  # Set the x-axis label\n",
    "plt.ylabel('Count')          # Set the y-axis label\n",
    "plt.title('Distribution of Days_Since_Review')  # Set the title of the plot"
   ]
  },
  {
   "cell_type": "markdown",
   "id": "6e9eeb60",
   "metadata": {},
   "source": [
    "The Days_Since_Review data shows an unusual pattern with peaks at specific intervals, like 1 day (2,585 reviews), 322 days (2,308 reviews), and 120 days (2,284 reviews), suggesting that review frequency is influenced by certain time periods. This irregular distribution, with spikes up to 611 days, indicates that external factors such as holidays or promotions might affect when reviews are posted. The pattern is atypical for review data and warrants further investigation to understand the underlying reasons"
   ]
  },
  {
   "cell_type": "code",
   "execution_count": 60,
   "id": "fd361ba3",
   "metadata": {},
   "outputs": [
    {
     "data": {
      "text/plain": [
       "Reviewer_Score\n",
       "1    293974\n",
       "0    221764\n",
       "Name: count, dtype: int64"
      ]
     },
     "execution_count": 60,
     "metadata": {},
     "output_type": "execute_result"
    }
   ],
   "source": [
    "df_clean['Reviewer_Score'].value_counts()"
   ]
  },
  {
   "cell_type": "code",
   "execution_count": 61,
   "id": "e24f8992",
   "metadata": {
    "scrolled": true
   },
   "outputs": [
    {
     "data": {
      "text/plain": [
       "<AxesSubplot:xlabel='Reviewer_Score'>"
      ]
     },
     "execution_count": 61,
     "metadata": {},
     "output_type": "execute_result"
    },
    {
     "data": {
      "image/png": "[encoded data removed]",
      "text/plain": [
       "<Figure size 432x288 with 1 Axes>"
      ]
     },
     "metadata": {
      "needs_background": "light"
     },
     "output_type": "display_data"
    }
   ],
   "source": [
    "df_clean['Reviewer_Score'].value_counts().plot(kind = 'bar')"
   ]
  },
  {
   "cell_type": "markdown",
   "id": "b9fa245a",
   "metadata": {},
   "source": [
    "The dataset indicates a higher frequency of positive reviews, with 293,974 instances scored as '1' (positive sentiment), compared to 221,764 instances scored as '0' (negative sentiment). This suggests that the majority of reviewers had a favorable experience at the hotels."
   ]
  },
  {
   "cell_type": "code",
   "execution_count": 118,
   "id": "dedf97d0",
   "metadata": {},
   "outputs": [
    {
     "data": {
      "text/plain": [
       "Total_Number_of_Reviews_Reviewer_Has_Given\n",
       "1      154640\n",
       "2       67077\n",
       "3       46845\n",
       "4       35026\n",
       "5       27629\n",
       "        ...  \n",
       "137         1\n",
       "135         1\n",
       "181         1\n",
       "186         1\n",
       "164         1\n",
       "Name: count, Length: 198, dtype: int64"
      ]
     },
     "execution_count": 118,
     "metadata": {},
     "output_type": "execute_result"
    }
   ],
   "source": [
    "df_clean['Total_Number_of_Reviews_Reviewer_Has_Given'].value_counts()"
   ]
  },
  {
   "cell_type": "code",
   "execution_count": 73,
   "id": "aae12ab5",
   "metadata": {
    "scrolled": true
   },
   "outputs": [
    {
     "data": {
      "image/png": "[encoded data removed]",
      "text/plain": [
       "<Figure size 432x288 with 1 Axes>"
      ]
     },
     "metadata": {
      "needs_background": "light"
     },
     "output_type": "display_data"
    }
   ],
   "source": [
    "df_clean['Total_Number_of_Reviews_Reviewer_Has_Given'].value_counts().head(20).plot(kind = 'bar')\n",
    "plt.tight_layout()"
   ]
  },
  {
   "cell_type": "markdown",
   "id": "e818f35f",
   "metadata": {},
   "source": [
    "The data shows a decreasing trend in the number of reviews given by individual reviewers. A large portion of reviewers (154,640) have only given one review, with the number progressively decreasing as the total number of reviews given by an individual increases. This trend suggests that most reviewers tend to contribute a single review, with a smaller, more engaged group providing multiple reviews"
   ]
  },
  {
   "cell_type": "code",
   "execution_count": 64,
   "id": "b2276559",
   "metadata": {},
   "outputs": [
    {
     "data": {
      "text/plain": [
       "Review_Total_Positive_Word_Counts\n",
       "0      35946\n",
       "6      26921\n",
       "5      26844\n",
       "4      24656\n",
       "7      24538\n",
       "       ...  \n",
       "354        1\n",
       "395        1\n",
       "374        1\n",
       "348        1\n",
       "339        1\n",
       "Name: count, Length: 365, dtype: int64"
      ]
     },
     "execution_count": 64,
     "metadata": {},
     "output_type": "execute_result"
    }
   ],
   "source": [
    "df_clean['Review_Total_Positive_Word_Counts'].value_counts()"
   ]
  },
  {
   "cell_type": "code",
   "execution_count": 78,
   "id": "9991aac2",
   "metadata": {
    "scrolled": true
   },
   "outputs": [
    {
     "data": {
      "image/png": "[encoded data removed]",
      "text/plain": [
       "<Figure size 1152x432 with 1 Axes>"
      ]
     },
     "metadata": {
      "needs_background": "light"
     },
     "output_type": "display_data"
    }
   ],
   "source": [
    "plt.figure(figsize=(16,6))\n",
    "df_clean['Review_Total_Positive_Word_Counts'].value_counts().head(30).plot(kind = 'bar')\n",
    "plt.tight_layout()"
   ]
  },
  {
   "cell_type": "code",
   "execution_count": null,
   "id": "0ca97ca9",
   "metadata": {},
   "outputs": [],
   "source": []
  },
  {
   "cell_type": "code",
   "execution_count": 121,
   "id": "e397e818",
   "metadata": {},
   "outputs": [
    {
     "data": {
      "text/plain": [
       "Positive_Review\n",
       "No Positive                                                                                                    35946\n",
       " Location                                                                                                       9222\n",
       " Everything                                                                                                     2284\n",
       " location                                                                                                       1677\n",
       " Nothing                                                                                                        1243\n",
       "                                                                                                               ...  \n",
       " The rooms and staff were amazing                                                                                  1\n",
       " The entire package                                                                                                1\n",
       " The hotel is very clean rooms are big                                                                             1\n",
       " The rooms are very wide and clean very close to the metro station its almost at the entrance to the hotel         1\n",
       " staff was very kind                                                                                               1\n",
       "Name: count, Length: 412601, dtype: int64"
      ]
     },
     "execution_count": 121,
     "metadata": {},
     "output_type": "execute_result"
    }
   ],
   "source": [
    "df_clean['Positive_Review'].value_counts()"
   ]
  },
  {
   "cell_type": "code",
   "execution_count": 99,
   "id": "5364fc5a",
   "metadata": {
    "scrolled": true
   },
   "outputs": [
    {
     "data": {
      "text/plain": [
       "<AxesSubplot:xlabel='Positive_Review'>"
      ]
     },
     "execution_count": 99,
     "metadata": {},
     "output_type": "execute_result"
    },
    {
     "data": {
      "image/png": "[encoded data removed]",
      "text/plain": [
       "<Figure size 1152x432 with 1 Axes>"
      ]
     },
     "metadata": {
      "needs_background": "light"
     },
     "output_type": "display_data"
    }
   ],
   "source": [
    "plt.figure(figsize=(16,6))\n",
    "df_clean['Positive_Review'].value_counts().head(30).plot(kind = 'bar')"
   ]
  },
  {
   "cell_type": "markdown",
   "id": "3f7e0629",
   "metadata": {},
   "source": [
    "The analysis of the Positive_Review column reveals that a significant number of reviews (35,946) explicitly state 'No Positive' comment. Among those with positive comments, the most frequently mentioned aspect is 'Location', highlighted in various forms (e.g., 'Great location', 'Good location') in over 12,000 reviews. Other common positive remarks include 'Everything' (indicating overall satisfaction), specific mentions of 'Breakfast', 'Friendly staff', and 'Comfy bed'. The repetition of certain key terms like 'location', 'staff', and 'breakfast' underscores their importance in guest satisfaction."
   ]
  },
  {
   "cell_type": "code",
   "execution_count": 102,
   "id": "31199f1c",
   "metadata": {},
   "outputs": [
    {
     "data": {
      "text/plain": [
       "<AxesSubplot:xlabel='Positive_Review'>"
      ]
     },
     "execution_count": 102,
     "metadata": {},
     "output_type": "execute_result"
    },
    {
     "data": {
      "image/png": "[encoded data removed]",
      "text/plain": [
       "<Figure size 1152x432 with 1 Axes>"
      ]
     },
     "metadata": {
      "needs_background": "light"
     },
     "output_type": "display_data"
    }
   ],
   "source": [
    "#remove 'No Positive' frome plot, it can be outlier\n",
    "plt.figure(figsize=(16,6))\n",
    "df_clean[df_clean['Positive_Review'] != 'No Positive']['Positive_Review'].value_counts().head(30).plot(kind = 'bar')"
   ]
  },
  {
   "cell_type": "code",
   "execution_count": 80,
   "id": "dfb6a2e9",
   "metadata": {
    "scrolled": true
   },
   "outputs": [
    {
     "data": {
      "text/plain": [
       "Total_Number_of_Reviews\n",
       "9086     4789\n",
       "9568     4256\n",
       "12158    4169\n",
       "7105     3578\n",
       "7491     3212\n",
       "         ... \n",
       "45         12\n",
       "207        12\n",
       "66         12\n",
       "131        12\n",
       "110        10\n",
       "Name: count, Length: 1142, dtype: int64"
      ]
     },
     "execution_count": 80,
     "metadata": {},
     "output_type": "execute_result"
    }
   ],
   "source": [
    "df_clean['Total_Number_of_Reviews'].value_counts()"
   ]
  },
  {
   "cell_type": "code",
   "execution_count": 83,
   "id": "5a870313",
   "metadata": {},
   "outputs": [
    {
     "data": {
      "text/plain": [
       "<AxesSubplot:xlabel='Total_Number_of_Reviews'>"
      ]
     },
     "execution_count": 83,
     "metadata": {},
     "output_type": "execute_result"
    },
    {
     "data": {
      "image/png": "[encoded data removed]",
      "text/plain": [
       "<Figure size 1152x432 with 1 Axes>"
      ]
     },
     "metadata": {
      "needs_background": "light"
     },
     "output_type": "display_data"
    }
   ],
   "source": [
    "plt.figure(figsize=(16,6))\n",
    "df_clean['Total_Number_of_Reviews'].value_counts().head(30).plot(kind = 'bar')"
   ]
  },
  {
   "cell_type": "code",
   "execution_count": 122,
   "id": "dafbc64e",
   "metadata": {},
   "outputs": [
    {
     "data": {
      "text/plain": [
       "Negative_Review\n",
       "No Negative                    127890\n",
       " Nothing                        14295\n",
       " Nothing                         4236\n",
       " nothing                         2225\n",
       " N A                             1037\n",
       " None                             984\n",
       "                                  849\n",
       " N a                              509\n",
       " Breakfast                        407\n",
       " Small room                       373\n",
       " Location                         368\n",
       " Everything                       326\n",
       " All good                         318\n",
       " Nothing really                   316\n",
       " none                             302\n",
       " nothing                          283\n",
       " No complaints                    274\n",
       " Price                            260\n",
       " Nothing really                   254\n",
       " Nil                              247\n",
       " n a                              227\n",
       " Nothing at all                   221\n",
       " Nothing to dislike               209\n",
       " Nothing at all                   194\n",
       " Small rooms                      188\n",
       " None                             182\n",
       " No complaints                    176\n",
       " All good                         152\n",
       " NA                               148\n",
       " Expensive                        142\n",
       " Room size                        140\n",
       " Can t think of anything          138\n",
       " Staff                            130\n",
       " Everything was perfect           129\n",
       " No                               129\n",
       " Absolutely nothing               129\n",
       " Nothing to dislike               126\n",
       " Very small room                  120\n",
       " Everything was perfect           118\n",
       " Everything was great             114\n",
       " Leaving                          111\n",
       " Leaving                          109\n",
       " Nothing to complain about        109\n",
       " NOTHING                          105\n",
       " Having to leave                  102\n",
       " See above                        100\n",
       " Na                               100\n",
       " small room                        98\n",
       " Nothing not to like               96\n",
       " Can t think of anything           96\n",
       " Liked everything                  95\n",
       " breakfast                         93\n",
       " Non                               91\n",
       " Everything was great              89\n",
       " Expensive breakfast               87\n",
       " Absolutely nothing                85\n",
       " Small room                        82\n",
       " Not much                          81\n",
       " Not applicable                    80\n",
       " Pillows                           80\n",
       "Name: count, dtype: int64"
      ]
     },
     "execution_count": 122,
     "metadata": {},
     "output_type": "execute_result"
    }
   ],
   "source": [
    "df_clean['Negative_Review'].value_counts().head(60)"
   ]
  },
  {
   "cell_type": "code",
   "execution_count": 86,
   "id": "52a8c917",
   "metadata": {
    "scrolled": true
   },
   "outputs": [
    {
     "data": {
      "text/plain": [
       "<AxesSubplot:xlabel='Negative_Review'>"
      ]
     },
     "execution_count": 86,
     "metadata": {},
     "output_type": "execute_result"
    },
    {
     "data": {
      "image/png": "[encoded data removed]",
      "text/plain": [
       "<Figure size 1152x432 with 1 Axes>"
      ]
     },
     "metadata": {
      "needs_background": "light"
     },
     "output_type": "display_data"
    }
   ],
   "source": [
    "plt.figure(figsize=(16,6))\n",
    "df_clean['Negative_Review'].value_counts().head(30).plot(kind = 'bar')"
   ]
  },
  {
   "cell_type": "markdown",
   "id": "e392c525",
   "metadata": {},
   "source": [
    "In the pre-processed dataset, the 'Negative_Review' column, labeled directly from guest comments, shows that a significant number of entries (127,890) are marked as 'No Negative', indicating an absence of negative feedback. Among the reviews with negative labels, common mentions include 'Nothing', 'Small room', 'Location', and 'Breakfast'. The high frequency of 'No Negative' or non-specific negative comments like 'Nothing' suggests that a large portion of guests did not express significant dissatisfaction. Analyzing the correlation between these negative labels and the 'Reviewer_Score' will provide insights into how much these negative aspects, or the lack thereof, influence the overall guest satisfaction and scoring behavior"
   ]
  },
  {
   "cell_type": "code",
   "execution_count": 87,
   "id": "c96cf1e7",
   "metadata": {},
   "outputs": [
    {
     "data": {
      "text/plain": [
       "Average_Score\n",
       "8.4    41222\n",
       "8.1    38122\n",
       "8.5    38066\n",
       "8.7    37798\n",
       "8.6    36945\n",
       "8.2    34847\n",
       "8.3    32880\n",
       "8.8    30836\n",
       "8.9    28520\n",
       "8.0    22342\n",
       "9.1    21379\n",
       "9.0    21051\n",
       "7.8    19895\n",
       "7.9    15194\n",
       "7.5    13720\n",
       "9.2    12935\n",
       "9.3    12659\n",
       "7.7    11829\n",
       "9.4     9339\n",
       "7.1     6780\n",
       "7.6     6684\n",
       "7.4     6300\n",
       "7.3     3997\n",
       "7.0     3899\n",
       "6.9     1737\n",
       "6.8     1335\n",
       "9.5     1207\n",
       "6.4     1163\n",
       "6.7      965\n",
       "9.6      915\n",
       "7.2      684\n",
       "6.6      400\n",
       "5.2       65\n",
       "9.8       28\n",
       "Name: count, dtype: int64"
      ]
     },
     "execution_count": 87,
     "metadata": {},
     "output_type": "execute_result"
    }
   ],
   "source": [
    "df_clean['Average_Score'].value_counts()\n"
   ]
  },
  {
   "cell_type": "code",
   "execution_count": 91,
   "id": "d9b2939e",
   "metadata": {
    "scrolled": true
   },
   "outputs": [
    {
     "data": {
      "image/png": "[encoded data removed]",
      "text/plain": [
       "<Figure size 864x432 with 1 Axes>"
      ]
     },
     "metadata": {
      "needs_background": "light"
     },
     "output_type": "display_data"
    }
   ],
   "source": [
    "plt.figure(figsize=(12, 6))  # Set the size of the plot\n",
    "sns.countplot(x='Average_Score', data=df_clean)\n",
    "\n",
    "plt.xlabel('Average Score')  # Set the x-axis label\n",
    "plt.ylabel('Count')          # Set the y-axis label\n",
    "plt.title('Distribution of Average Scores')  # Set the title of the plot\n",
    "\n",
    "plt.xticks(rotation=90)  # Rotate the x-axis labels for better readability if needed\n",
    "\n",
    "plt.show()"
   ]
  },
  {
   "cell_type": "markdown",
   "id": "642b53ca",
   "metadata": {},
   "source": [
    "The Average_Score data shows a concentration of scores around the 8.0 to 8.9 range, indicating a generally high level of guest satisfaction. The most frequent score is 8.4 (41,222 instances), followed closely by 8.1 and 8.5. Scores above 9.0 are less common but still significant, with 9.1 and 9.0 also appearing frequently. The lower end of the scale (below 7.0) has notably fewer instances, suggesting that very low scores are relatively rare. This distribution highlights an overall positive guest experience in the dataset"
   ]
  },
  {
   "cell_type": "code",
   "execution_count": 123,
   "id": "453ad935",
   "metadata": {
    "scrolled": true
   },
   "outputs": [
    {
     "data": {
      "text/plain": [
       "Additional_Number_of_Scoring\n",
       "2682    4789\n",
       "2288    4256\n",
       "2623    4169\n",
       "1831    3578\n",
       "1936    3212\n",
       "        ... \n",
       "7         56\n",
       "5         39\n",
       "17        24\n",
       "1         13\n",
       "4         12\n",
       "Name: count, Length: 480, dtype: int64"
      ]
     },
     "execution_count": 123,
     "metadata": {},
     "output_type": "execute_result"
    }
   ],
   "source": [
    "\n",
    "df_clean['Additional_Number_of_Scoring'].value_counts()"
   ]
  },
  {
   "cell_type": "code",
   "execution_count": 94,
   "id": "2b583998",
   "metadata": {},
   "outputs": [
    {
     "data": {
      "text/plain": [
       "<AxesSubplot:xlabel='Additional_Number_of_Scoring'>"
      ]
     },
     "execution_count": 94,
     "metadata": {},
     "output_type": "execute_result"
    },
    {
     "data": {
      "image/png": "[encoded data removed]",
      "text/plain": [
       "<Figure size 864x432 with 1 Axes>"
      ]
     },
     "metadata": {
      "needs_background": "light"
     },
     "output_type": "display_data"
    }
   ],
   "source": [
    "plt.figure(figsize=(12, 6))  # Set the size of the plot\n",
    "df_clean['Additional_Number_of_Scoring'].value_counts().head(30).plot(kind = 'bar')"
   ]
  },
  {
   "cell_type": "code",
   "execution_count": 127,
   "id": "9c13ec83",
   "metadata": {
    "scrolled": true
   },
   "outputs": [
    {
     "data": {
      "image/png": "[encoded data removed]",
      "text/plain": [
       "<Figure size 1296x432 with 1 Axes>"
      ]
     },
     "metadata": {
      "needs_background": "light"
     },
     "output_type": "display_data"
    }
   ],
   "source": [
    "plt.figure(figsize=(18, 6))  # Set the size of the plot\n",
    "sns.histplot(x='Additional_Number_of_Scoring', data=df_clean)\n",
    "\n",
    "plt.xlabel('Additional_Number_of_Scoring')  # Set the x-axis label\n",
    "plt.ylabel('Count')          # Set the y-axis label\n",
    "plt.title('Distribution of Additional_Number_of_Scoring')  # Set the title of the plot\n",
    "\n",
    "plt.xticks(rotation=90)  # Rotate the x-axis labels for better readability if needed\n",
    "\n",
    "plt.show()"
   ]
  },
  {
   "cell_type": "markdown",
   "id": "0d456ddb",
   "metadata": {},
   "source": [
    "## Preprocessing\n",
    "Next, the text data needs to be processed for modelling.\n",
    "\n",
    "2. Split the data into train and test sets and transform the positive and negative review columns using a CountVectorizer. Consider the following:"
   ]
  },
  {
   "cell_type": "markdown",
   "id": "4edcb93b",
   "metadata": {},
   "source": [
    "What tokenizer and text cleaning steps do you include?\n"
   ]
  },
  {
   "cell_type": "markdown",
   "id": "78233b83",
   "metadata": {},
   "source": [
    "Using the vectorizer, maximize the number of features at 500 and make sure that tokens used <10 times are dropped from the vocabulary."
   ]
  },
  {
   "cell_type": "markdown",
   "id": "6237469a",
   "metadata": {},
   "source": [
    "This process may be done on the positive and negative review columns separately and then the resulting arrays merged with the original numeric features to form the final train and test data frames ready for modelling. In your column names, make sure you mark which words are coming from the positive vs negative reviews "
   ]
  },
  {
   "cell_type": "code",
   "execution_count": 133,
   "id": "0eeccf18",
   "metadata": {},
   "outputs": [
    {
     "data": {
      "text/html": [
       "<div>\n",
       "<style scoped>\n",
       "    .dataframe tbody tr th:only-of-type {\n",
       "        vertical-align: middle;\n",
       "    }\n",
       "\n",
       "    .dataframe tbody tr th {\n",
       "        vertical-align: top;\n",
       "    }\n",
       "\n",
       "    .dataframe thead th {\n",
       "        text-align: right;\n",
       "    }\n",
       "</style>\n",
       "<table border=\"1\" class=\"dataframe\">\n",
       "  <thead>\n",
       "    <tr style=\"text-align: right;\">\n",
       "      <th></th>\n",
       "      <th>Additional_Number_of_Scoring</th>\n",
       "      <th>Average_Score</th>\n",
       "      <th>Negative_Review</th>\n",
       "      <th>Review_Total_Negative_Word_Counts</th>\n",
       "      <th>Total_Number_of_Reviews</th>\n",
       "      <th>Positive_Review</th>\n",
       "      <th>Review_Total_Positive_Word_Counts</th>\n",
       "      <th>Total_Number_of_Reviews_Reviewer_Has_Given</th>\n",
       "      <th>Reviewer_Score</th>\n",
       "      <th>Days_Since_Review</th>\n",
       "      <th>Latitude</th>\n",
       "      <th>Longitude</th>\n",
       "      <th>Day</th>\n",
       "      <th>Month</th>\n",
       "      <th>Year</th>\n",
       "      <th>Leisure_Trip</th>\n",
       "      <th>Nights_Stayed</th>\n",
       "      <th>Reviewer_Nationality</th>\n",
       "      <th>Hotel_Address</th>\n",
       "    </tr>\n",
       "  </thead>\n",
       "  <tbody>\n",
       "    <tr>\n",
       "      <th>0</th>\n",
       "      <td>194</td>\n",
       "      <td>7.7</td>\n",
       "      <td>I am so angry that i made this post available...</td>\n",
       "      <td>397</td>\n",
       "      <td>1403</td>\n",
       "      <td>Only the park outside of the hotel was beauti...</td>\n",
       "      <td>11</td>\n",
       "      <td>7</td>\n",
       "      <td>0</td>\n",
       "      <td>0</td>\n",
       "      <td>52.360576</td>\n",
       "      <td>4.915968</td>\n",
       "      <td>3</td>\n",
       "      <td>8</td>\n",
       "      <td>2017</td>\n",
       "      <td>1</td>\n",
       "      <td>6</td>\n",
       "      <td>Other</td>\n",
       "      <td>Amsterdam</td>\n",
       "    </tr>\n",
       "    <tr>\n",
       "      <th>1</th>\n",
       "      <td>194</td>\n",
       "      <td>7.7</td>\n",
       "      <td>No Negative</td>\n",
       "      <td>0</td>\n",
       "      <td>1403</td>\n",
       "      <td>No real complaints the hotel was great great ...</td>\n",
       "      <td>105</td>\n",
       "      <td>7</td>\n",
       "      <td>0</td>\n",
       "      <td>0</td>\n",
       "      <td>52.360576</td>\n",
       "      <td>4.915968</td>\n",
       "      <td>3</td>\n",
       "      <td>8</td>\n",
       "      <td>2017</td>\n",
       "      <td>1</td>\n",
       "      <td>4</td>\n",
       "      <td>Ireland</td>\n",
       "      <td>Amsterdam</td>\n",
       "    </tr>\n",
       "    <tr>\n",
       "      <th>2</th>\n",
       "      <td>194</td>\n",
       "      <td>7.7</td>\n",
       "      <td>Rooms are nice but for elderly a bit difficul...</td>\n",
       "      <td>42</td>\n",
       "      <td>1403</td>\n",
       "      <td>Location was good and staff were ok It is cut...</td>\n",
       "      <td>21</td>\n",
       "      <td>9</td>\n",
       "      <td>0</td>\n",
       "      <td>3</td>\n",
       "      <td>52.360576</td>\n",
       "      <td>4.915968</td>\n",
       "      <td>31</td>\n",
       "      <td>7</td>\n",
       "      <td>2017</td>\n",
       "      <td>1</td>\n",
       "      <td>3</td>\n",
       "      <td>Australia</td>\n",
       "      <td>Amsterdam</td>\n",
       "    </tr>\n",
       "    <tr>\n",
       "      <th>3</th>\n",
       "      <td>194</td>\n",
       "      <td>7.7</td>\n",
       "      <td>My room was dirty and I was afraid to walk ba...</td>\n",
       "      <td>210</td>\n",
       "      <td>1403</td>\n",
       "      <td>Great location in nice surroundings the bar a...</td>\n",
       "      <td>26</td>\n",
       "      <td>1</td>\n",
       "      <td>0</td>\n",
       "      <td>3</td>\n",
       "      <td>52.360576</td>\n",
       "      <td>4.915968</td>\n",
       "      <td>31</td>\n",
       "      <td>7</td>\n",
       "      <td>2017</td>\n",
       "      <td>1</td>\n",
       "      <td>3</td>\n",
       "      <td>UK</td>\n",
       "      <td>Amsterdam</td>\n",
       "    </tr>\n",
       "    <tr>\n",
       "      <th>4</th>\n",
       "      <td>194</td>\n",
       "      <td>7.7</td>\n",
       "      <td>You When I booked with your company on line y...</td>\n",
       "      <td>140</td>\n",
       "      <td>1403</td>\n",
       "      <td>Amazing location and building Romantic setting</td>\n",
       "      <td>8</td>\n",
       "      <td>3</td>\n",
       "      <td>0</td>\n",
       "      <td>10</td>\n",
       "      <td>52.360576</td>\n",
       "      <td>4.915968</td>\n",
       "      <td>24</td>\n",
       "      <td>7</td>\n",
       "      <td>2017</td>\n",
       "      <td>1</td>\n",
       "      <td>2</td>\n",
       "      <td>Other</td>\n",
       "      <td>Amsterdam</td>\n",
       "    </tr>\n",
       "  </tbody>\n",
       "</table>\n",
       "</div>"
      ],
      "text/plain": [
       "   Additional_Number_of_Scoring  Average_Score  \\\n",
       "0                           194            7.7   \n",
       "1                           194            7.7   \n",
       "2                           194            7.7   \n",
       "3                           194            7.7   \n",
       "4                           194            7.7   \n",
       "\n",
       "                                     Negative_Review  \\\n",
       "0   I am so angry that i made this post available...   \n",
       "1                                        No Negative   \n",
       "2   Rooms are nice but for elderly a bit difficul...   \n",
       "3   My room was dirty and I was afraid to walk ba...   \n",
       "4   You When I booked with your company on line y...   \n",
       "\n",
       "   Review_Total_Negative_Word_Counts  Total_Number_of_Reviews  \\\n",
       "0                                397                     1403   \n",
       "1                                  0                     1403   \n",
       "2                                 42                     1403   \n",
       "3                                210                     1403   \n",
       "4                                140                     1403   \n",
       "\n",
       "                                     Positive_Review  \\\n",
       "0   Only the park outside of the hotel was beauti...   \n",
       "1   No real complaints the hotel was great great ...   \n",
       "2   Location was good and staff were ok It is cut...   \n",
       "3   Great location in nice surroundings the bar a...   \n",
       "4    Amazing location and building Romantic setting    \n",
       "\n",
       "   Review_Total_Positive_Word_Counts  \\\n",
       "0                                 11   \n",
       "1                                105   \n",
       "2                                 21   \n",
       "3                                 26   \n",
       "4                                  8   \n",
       "\n",
       "   Total_Number_of_Reviews_Reviewer_Has_Given  Reviewer_Score  \\\n",
       "0                                           7               0   \n",
       "1                                           7               0   \n",
       "2                                           9               0   \n",
       "3                                           1               0   \n",
       "4                                           3               0   \n",
       "\n",
       "   Days_Since_Review   Latitude  Longitude  Day  Month  Year  Leisure_Trip  \\\n",
       "0                  0  52.360576   4.915968    3      8  2017             1   \n",
       "1                  0  52.360576   4.915968    3      8  2017             1   \n",
       "2                  3  52.360576   4.915968   31      7  2017             1   \n",
       "3                  3  52.360576   4.915968   31      7  2017             1   \n",
       "4                 10  52.360576   4.915968   24      7  2017             1   \n",
       "\n",
       "   Nights_Stayed Reviewer_Nationality Hotel_Address  \n",
       "0              6                Other     Amsterdam  \n",
       "1              4              Ireland     Amsterdam  \n",
       "2              3            Australia     Amsterdam  \n",
       "3              3                   UK     Amsterdam  \n",
       "4              2                Other     Amsterdam  "
      ]
     },
     "execution_count": 133,
     "metadata": {},
     "output_type": "execute_result"
    }
   ],
   "source": [
    "df_clean.head()"
   ]
  },
  {
   "cell_type": "code",
   "execution_count": 230,
   "id": "295348c8",
   "metadata": {},
   "outputs": [],
   "source": [
    "df_vec = df_clean.copy()"
   ]
  },
  {
   "cell_type": "code",
   "execution_count": 231,
   "id": "34f7a66b",
   "metadata": {},
   "outputs": [],
   "source": [
    "X = df_vec[\"Negative_Review\"]\n",
    "y = df_vec['Reviewer_Score']"
   ]
  },
  {
   "cell_type": "code",
   "execution_count": 232,
   "id": "b45120c0",
   "metadata": {},
   "outputs": [
    {
     "data": {
      "image/png": "[encoded data removed]",
      "text/plain": [
       "<Figure size 432x288 with 1 Axes>"
      ]
     },
     "metadata": {
      "needs_background": "light"
     },
     "output_type": "display_data"
    }
   ],
   "source": [
    "value_counts = dict(df_vec['Reviewer_Score'].value_counts(normalize=True)*100)\n",
    "plt.figure()\n",
    "plt.bar(value_counts.keys(), value_counts.values())\n",
    "plt.xlabel('Review rating')\n",
    "plt.ylabel('Percent of reviews')\n",
    "plt.xticks([0, 1],['Negative', 'Positive'])\n",
    "plt.show()"
   ]
  },
  {
   "cell_type": "code",
   "execution_count": 233,
   "id": "67cb3294",
   "metadata": {},
   "outputs": [],
   "source": [
    "X_train, X_test, y_train, y_test=train_test_split(X, y, test_size=0.2, random_state=42, stratify=y_neg)"
   ]
  },
  {
   "cell_type": "markdown",
   "id": "36712e67",
   "metadata": {},
   "source": [
    "Now our task is to convert each review into into numeric representation using vectorization"
   ]
  },
  {
   "cell_type": "code",
   "execution_count": 235,
   "id": "92bae0a2",
   "metadata": {},
   "outputs": [
    {
     "name": "stdout",
     "output_type": "stream",
     "text": [
      "The output type is <class 'scipy.sparse.csr.csr_matrix'>\n",
      "(412590, 500)\n",
      "(103148, 500)\n"
     ]
    }
   ],
   "source": [
    "# Initialise a CountVectorizer object\n",
    "count_vectorizer = CountVectorizer(max_features=500,min_df=10)\n",
    "\n",
    "# Fit the CountVectorizer object on X_train\n",
    "count_vectorizer.fit(X_train)\n",
    "\n",
    "# Transform X_train and X_test using the fitted CountVectorizer object\n",
    "count_matrix_train = count_vectorizer.transform(X_train)\n",
    "count_matrix_test = count_vectorizer.transform(X_test)\n",
    "\n",
    "print('The output type is',type(count_matrix_train))\n",
    "\n",
    "# Preview the shape of the transformed matrices\n",
    "print(count_matrix_train.shape)\n",
    "print(count_matrix_test.shape)"
   ]
  },
  {
   "cell_type": "code",
   "execution_count": null,
   "id": "9e2625f9",
   "metadata": {},
   "outputs": [],
   "source": []
  },
  {
   "cell_type": "code",
   "execution_count": 236,
   "id": "b240a1b4",
   "metadata": {},
   "outputs": [
    {
     "name": "stdout",
     "output_type": "stream",
     "text": [
      "['no', 'negative', 'nothing', 'shower', 'room', 'is', 'small', 'location', 'not', 'good', 'the', 'whole', 'thing', 'was', 'just', 'great', 'rather', 'free', 'coffee', 'in', 'business', 'however', 'dated', 'staff', 'lobby', 'were', 'very', 'nice', 'people', 'bit']\n"
     ]
    }
   ],
   "source": [
    "print(list(count_vectorizer.vocabulary_.keys())[:30])"
   ]
  },
  {
   "cell_type": "code",
   "execution_count": 237,
   "id": "060d82ff",
   "metadata": {
    "scrolled": true
   },
   "outputs": [
    {
     "data": {
      "text/html": [
       "<div>\n",
       "<style scoped>\n",
       "    .dataframe tbody tr th:only-of-type {\n",
       "        vertical-align: middle;\n",
       "    }\n",
       "\n",
       "    .dataframe tbody tr th {\n",
       "        vertical-align: top;\n",
       "    }\n",
       "\n",
       "    .dataframe thead th {\n",
       "        text-align: right;\n",
       "    }\n",
       "</style>\n",
       "<table border=\"1\" class=\"dataframe\">\n",
       "  <thead>\n",
       "    <tr style=\"text-align: right;\">\n",
       "      <th></th>\n",
       "      <th>Parameters</th>\n",
       "      <th>Feature_count</th>\n",
       "    </tr>\n",
       "  </thead>\n",
       "  <tbody>\n",
       "    <tr>\n",
       "      <th>0</th>\n",
       "      <td>default</td>\n",
       "      <td>500</td>\n",
       "    </tr>\n",
       "  </tbody>\n",
       "</table>\n",
       "</div>"
      ],
      "text/plain": [
       "  Parameters Feature_count\n",
       "0    default           500"
      ]
     },
     "execution_count": 237,
     "metadata": {},
     "output_type": "execute_result"
    }
   ],
   "source": [
    "table=pd.DataFrame(columns=['Parameters','Feature_count'])\n",
    "\n",
    "table.loc[table.shape[0],['Parameters','Feature_count']]=['default',count_matrix_train.shape[1]]\n",
    "table"
   ]
  },
  {
   "cell_type": "code",
   "execution_count": 238,
   "id": "34fc1769",
   "metadata": {},
   "outputs": [
    {
     "name": "stdout",
     "output_type": "stream",
     "text": [
      "(412590, 49170)\n"
     ]
    }
   ],
   "source": [
    "# Initialise a CountVectorizer object\n",
    "count_vectorizer = CountVectorizer(stop_words=\"english\",max_features=500,min_df=10)\n",
    "\n",
    "# Fit the CountVectorizer object on X_train\n",
    "count_vectorizer.fit(X_train)\n",
    "\n",
    "# Transform X_train using the fitted CountVectorizer object\n",
    "count_matrix_train = count_vectorizer.transform(X_train)\n",
    "\n",
    "# Preview the shape of the transformed matrices\n",
    "print(count_matrix_train.shape)"
   ]
  },
  {
   "cell_type": "code",
   "execution_count": 239,
   "id": "778d0061",
   "metadata": {},
   "outputs": [
    {
     "data": {
      "text/html": [
       "<div>\n",
       "<style scoped>\n",
       "    .dataframe tbody tr th:only-of-type {\n",
       "        vertical-align: middle;\n",
       "    }\n",
       "\n",
       "    .dataframe tbody tr th {\n",
       "        vertical-align: top;\n",
       "    }\n",
       "\n",
       "    .dataframe thead th {\n",
       "        text-align: right;\n",
       "    }\n",
       "</style>\n",
       "<table border=\"1\" class=\"dataframe\">\n",
       "  <thead>\n",
       "    <tr style=\"text-align: right;\">\n",
       "      <th></th>\n",
       "      <th>Parameters</th>\n",
       "      <th>Feature_count</th>\n",
       "    </tr>\n",
       "  </thead>\n",
       "  <tbody>\n",
       "    <tr>\n",
       "      <th>0</th>\n",
       "      <td>default</td>\n",
       "      <td>500</td>\n",
       "    </tr>\n",
       "    <tr>\n",
       "      <th>1</th>\n",
       "      <td>stop_words='english'</td>\n",
       "      <td>49170</td>\n",
       "    </tr>\n",
       "  </tbody>\n",
       "</table>\n",
       "</div>"
      ],
      "text/plain": [
       "             Parameters Feature_count\n",
       "0               default           500\n",
       "1  stop_words='english'         49170"
      ]
     },
     "execution_count": 239,
     "metadata": {},
     "output_type": "execute_result"
    }
   ],
   "source": [
    "table.loc[table.shape[0],['Parameters','Feature_count']]=[\"stop_words='english'\",count_matrix_train.shape[1]]\n",
    "table"
   ]
  },
  {
   "cell_type": "code",
   "execution_count": 240,
   "id": "bf0c7c6e",
   "metadata": {},
   "outputs": [
    {
     "name": "stdout",
     "output_type": "stream",
     "text": [
      "(412590, 49334)\n"
     ]
    }
   ],
   "source": [
    "#Load up our stop words\n",
    "stop_words = stopwords.words('english')\n",
    "\n",
    "#use the list as an input to <stop_words> parameter\n",
    "count_vectorizer = CountVectorizer(stop_words=stop_words)\n",
    "\n",
    "count_vectorizer.fit(X_train)\n",
    "\n",
    "count_matrix_train = count_vectorizer.transform(X_train)\n",
    "print(count_matrix_train.shape)"
   ]
  },
  {
   "cell_type": "code",
   "execution_count": 241,
   "id": "54999840",
   "metadata": {},
   "outputs": [
    {
     "data": {
      "text/html": [
       "<div>\n",
       "<style scoped>\n",
       "    .dataframe tbody tr th:only-of-type {\n",
       "        vertical-align: middle;\n",
       "    }\n",
       "\n",
       "    .dataframe tbody tr th {\n",
       "        vertical-align: top;\n",
       "    }\n",
       "\n",
       "    .dataframe thead th {\n",
       "        text-align: right;\n",
       "    }\n",
       "</style>\n",
       "<table border=\"1\" class=\"dataframe\">\n",
       "  <thead>\n",
       "    <tr style=\"text-align: right;\">\n",
       "      <th></th>\n",
       "      <th>Parameters</th>\n",
       "      <th>Feature_count</th>\n",
       "    </tr>\n",
       "  </thead>\n",
       "  <tbody>\n",
       "    <tr>\n",
       "      <th>0</th>\n",
       "      <td>default</td>\n",
       "      <td>500</td>\n",
       "    </tr>\n",
       "    <tr>\n",
       "      <th>1</th>\n",
       "      <td>stop_words='english'</td>\n",
       "      <td>49170</td>\n",
       "    </tr>\n",
       "    <tr>\n",
       "      <th>2</th>\n",
       "      <td>stop words from nltk library</td>\n",
       "      <td>49334</td>\n",
       "    </tr>\n",
       "  </tbody>\n",
       "</table>\n",
       "</div>"
      ],
      "text/plain": [
       "                     Parameters Feature_count\n",
       "0                       default           500\n",
       "1          stop_words='english'         49170\n",
       "2  stop words from nltk library         49334"
      ]
     },
     "execution_count": 241,
     "metadata": {},
     "output_type": "execute_result"
    }
   ],
   "source": [
    "table.loc[table.shape[0],['Parameters','Feature_count']]=[\"stop words from nltk library\",count_matrix_train.shape[1]]\n",
    "table"
   ]
  },
  {
   "cell_type": "code",
   "execution_count": 217,
   "id": "a8323e00",
   "metadata": {},
   "outputs": [],
   "source": [
    "import string\n",
    "from nltk.stem import PorterStemmer, WordNetLemmatizer\n",
    "from nltk.corpus import stopwords\n",
    "\n",
    "# Assuming stop_words is a predefined list of stopwords\n",
    "stop_words = set(stopwords.words('english'))\n",
    "\n",
    "def my_tokenizer(document, lemmatization=False, stemming=True):\n",
    "    '''\n",
    "    Function for use in Vectorizer that tokenizes the document.\n",
    "    '''\n",
    "    # Remove punctuation\n",
    "    for punct in string.punctuation:\n",
    "        document = document.replace(punct, '')\n",
    "\n",
    "    # Tokenize - split on whitespace\n",
    "    tokenized_document = document.split(' ')\n",
    "\n",
    "    # Remove stopwords\n",
    "    tokenized_document = [word for word in tokenized_document if word not in stop_words and word != '']\n",
    "\n",
    "    # Stemming and Lemmatization\n",
    "    stemmer = PorterStemmer()\n",
    "    lemmatizer = WordNetLemmatizer()\n",
    "\n",
    "    if stemming:\n",
    "        tokenized_document = [stemmer.stem(word) for word in tokenized_document]\n",
    "\n",
    "    if lemmatization:\n",
    "        tokenized_document = [lemmatizer.lemmatize(word) for word in tokenized_document]\n",
    "\n",
    "    return tokenized_document\n"
   ]
  },
  {
   "cell_type": "code",
   "execution_count": null,
   "id": "e0efdd86",
   "metadata": {
    "scrolled": true
   },
   "outputs": [
    {
     "name": "stderr",
     "output_type": "stream",
     "text": [
      "C:\\Users\\azarb\\anaconda3\\lib\\site-packages\\sklearn\\feature_extraction\\text.py:525: UserWarning: The parameter 'token_pattern' will not be used since 'tokenizer' is not None'\n",
      "  warnings.warn(\n"
     ]
    }
   ],
   "source": [
    "# Initialize a CountVectorizer object with the custom tokenizer\n",
    "count_vectorizer = CountVectorizer(tokenizer=my_tokenizer,max_features=500,min_df=10)\n",
    "\n",
    "# Fit the CountVectorizer object to the training data\n",
    "count_vectorizer.fit(X_train)\n",
    "\n",
    "# Transform the training data to a count matrix\n",
    "count_matrix_train = count_vectorizer.transform(X_train)\n",
    "\n",
    "# Print the shape of the count matrix\n",
    "print(count_matrix_train.shape)"
   ]
  },
  {
   "cell_type": "code",
   "execution_count": 219,
   "id": "5b07fc9b",
   "metadata": {},
   "outputs": [
    {
     "data": {
      "text/html": [
       "<div>\n",
       "<style scoped>\n",
       "    .dataframe tbody tr th:only-of-type {\n",
       "        vertical-align: middle;\n",
       "    }\n",
       "\n",
       "    .dataframe tbody tr th {\n",
       "        vertical-align: top;\n",
       "    }\n",
       "\n",
       "    .dataframe thead th {\n",
       "        text-align: right;\n",
       "    }\n",
       "</style>\n",
       "<table border=\"1\" class=\"dataframe\">\n",
       "  <thead>\n",
       "    <tr style=\"text-align: right;\">\n",
       "      <th></th>\n",
       "      <th>Parameters</th>\n",
       "      <th>Feature_count</th>\n",
       "      <th>Normalization</th>\n",
       "    </tr>\n",
       "  </thead>\n",
       "  <tbody>\n",
       "    <tr>\n",
       "      <th>0</th>\n",
       "      <td>default</td>\n",
       "      <td>49477</td>\n",
       "      <td>NaN</td>\n",
       "    </tr>\n",
       "    <tr>\n",
       "      <th>1</th>\n",
       "      <td>stop_words='english'</td>\n",
       "      <td>49170</td>\n",
       "      <td>NaN</td>\n",
       "    </tr>\n",
       "    <tr>\n",
       "      <th>2</th>\n",
       "      <td>stop words from nltk library</td>\n",
       "      <td>49334</td>\n",
       "      <td>NaN</td>\n",
       "    </tr>\n",
       "    <tr>\n",
       "      <th>3</th>\n",
       "      <td>stop words from nltk library</td>\n",
       "      <td>35635</td>\n",
       "      <td>Stemming</td>\n",
       "    </tr>\n",
       "  </tbody>\n",
       "</table>\n",
       "</div>"
      ],
      "text/plain": [
       "                     Parameters Feature_count Normalization\n",
       "0                       default         49477           NaN\n",
       "1          stop_words='english'         49170           NaN\n",
       "2  stop words from nltk library         49334           NaN\n",
       "3  stop words from nltk library         35635      Stemming"
      ]
     },
     "execution_count": 219,
     "metadata": {},
     "output_type": "execute_result"
    }
   ],
   "source": [
    "table.loc[table.shape[0],['Parameters','Normalization','Feature_count']]=[\"stop words from nltk library\",\"Stemming\",count_matrix_train.shape[1]]\n",
    "table"
   ]
  },
  {
   "cell_type": "code",
   "execution_count": 220,
   "id": "7aa6f445",
   "metadata": {},
   "outputs": [
    {
     "name": "stdout",
     "output_type": "stream",
     "text": [
      "The most common words and their counts are:\n"
     ]
    },
    {
     "data": {
      "text/html": [
       "<div>\n",
       "<style scoped>\n",
       "    .dataframe tbody tr th:only-of-type {\n",
       "        vertical-align: middle;\n",
       "    }\n",
       "\n",
       "    .dataframe tbody tr th {\n",
       "        vertical-align: top;\n",
       "    }\n",
       "\n",
       "    .dataframe thead th {\n",
       "        text-align: right;\n",
       "    }\n",
       "</style>\n",
       "<table border=\"1\" class=\"dataframe\">\n",
       "  <thead>\n",
       "    <tr style=\"text-align: right;\">\n",
       "      <th></th>\n",
       "      <th>counts</th>\n",
       "    </tr>\n",
       "  </thead>\n",
       "  <tbody>\n",
       "    <tr>\n",
       "      <th>room</th>\n",
       "      <td>168768</td>\n",
       "    </tr>\n",
       "    <tr>\n",
       "      <th>neg</th>\n",
       "      <td>103747</td>\n",
       "    </tr>\n",
       "    <tr>\n",
       "      <th>hotel</th>\n",
       "      <td>64388</td>\n",
       "    </tr>\n",
       "    <tr>\n",
       "      <th>breakfast</th>\n",
       "      <td>47393</td>\n",
       "    </tr>\n",
       "    <tr>\n",
       "      <th>small</th>\n",
       "      <td>39919</td>\n",
       "    </tr>\n",
       "    <tr>\n",
       "      <th>staff</th>\n",
       "      <td>31951</td>\n",
       "    </tr>\n",
       "    <tr>\n",
       "      <th>noth</th>\n",
       "      <td>30987</td>\n",
       "    </tr>\n",
       "    <tr>\n",
       "      <th>bed</th>\n",
       "      <td>30502</td>\n",
       "    </tr>\n",
       "    <tr>\n",
       "      <th>would</th>\n",
       "      <td>25841</td>\n",
       "    </tr>\n",
       "    <tr>\n",
       "      <th>could</th>\n",
       "      <td>25712</td>\n",
       "    </tr>\n",
       "    <tr>\n",
       "      <th>one</th>\n",
       "      <td>23339</td>\n",
       "    </tr>\n",
       "    <tr>\n",
       "      <th>night</th>\n",
       "      <td>22775</td>\n",
       "    </tr>\n",
       "    <tr>\n",
       "      <th>stay</th>\n",
       "      <td>22571</td>\n",
       "    </tr>\n",
       "    <tr>\n",
       "      <th>bathroom</th>\n",
       "      <td>22558</td>\n",
       "    </tr>\n",
       "    <tr>\n",
       "      <th>bit</th>\n",
       "      <td>22200</td>\n",
       "    </tr>\n",
       "    <tr>\n",
       "      <th>like</th>\n",
       "      <td>20868</td>\n",
       "    </tr>\n",
       "    <tr>\n",
       "      <th>book</th>\n",
       "      <td>19735</td>\n",
       "    </tr>\n",
       "    <tr>\n",
       "      <th>time</th>\n",
       "      <td>19097</td>\n",
       "    </tr>\n",
       "    <tr>\n",
       "      <th>work</th>\n",
       "      <td>18760</td>\n",
       "    </tr>\n",
       "    <tr>\n",
       "      <th>get</th>\n",
       "      <td>18338</td>\n",
       "    </tr>\n",
       "  </tbody>\n",
       "</table>\n",
       "</div>"
      ],
      "text/plain": [
       "           counts\n",
       "room       168768\n",
       "neg        103747\n",
       "hotel       64388\n",
       "breakfast   47393\n",
       "small       39919\n",
       "staff       31951\n",
       "noth        30987\n",
       "bed         30502\n",
       "would       25841\n",
       "could       25712\n",
       "one         23339\n",
       "night       22775\n",
       "stay        22571\n",
       "bathroom    22558\n",
       "bit         22200\n",
       "like        20868\n",
       "book        19735\n",
       "time        19097\n",
       "work        18760\n",
       "get         18338"
      ]
     },
     "execution_count": 220,
     "metadata": {},
     "output_type": "execute_result"
    }
   ],
   "source": [
    "# sum all the rows for each feature\n",
    "word_counts = pd.DataFrame(\n",
    "        {\"counts\": np.array(count_matrix_train.sum(axis=0)).flatten()},\n",
    "        index=count_vectorizer.get_feature_names_out()).sort_values(\"counts\", ascending=False)\n",
    "\n",
    "print('The most common words and their counts are:')\n",
    "word_counts[:20]"
   ]
  },
  {
   "cell_type": "code",
   "execution_count": 224,
   "id": "29c789eb",
   "metadata": {},
   "outputs": [
    {
     "data": {
      "image/png": "[encoded data removed]",
      "text/plain": [
       "<Figure size 1008x432 with 1 Axes>"
      ]
     },
     "metadata": {
      "needs_background": "light"
     },
     "output_type": "display_data"
    }
   ],
   "source": [
    "\n",
    "word_counts[:20].plot(kind='bar',title='Counts of the most common words',figsize=(14,6))\n",
    "plt.tight_layout()"
   ]
  },
  {
   "cell_type": "markdown",
   "id": "b6267de3",
   "metadata": {},
   "source": [
    "Using max_df and min_df parameters in CountVectorizer can effectively reduce the number of features and help mitigate problems like overfitting and the curse of dimensionality"
   ]
  },
  {
   "cell_type": "code",
   "execution_count": null,
   "id": "0383aa6d",
   "metadata": {},
   "outputs": [],
   "source": [
    "# Initialise a CountVectorizer object\n",
    "count_vectorizer = CountVectorizer(tokenizer=my_tokenizer, max_features=500,min_df=10)\n",
    "\n",
    "# Fit the CountVectorizer object on X_train\n",
    "count_vectorizer.fit(X_train)\n",
    "\n",
    "# Fit the CountVectorizer object on X_train\n",
    "count_matrix_train = count_vectorizer.transform(X_train)\n",
    "\n",
    "print(count_matrix_train.shape);"
   ]
  },
  {
   "cell_type": "code",
   "execution_count": 226,
   "id": "99634edc",
   "metadata": {},
   "outputs": [
    {
     "name": "stderr",
     "output_type": "stream",
     "text": [
      "C:\\Users\\azarb\\anaconda3\\lib\\site-packages\\sklearn\\feature_extraction\\text.py:525: UserWarning: The parameter 'token_pattern' will not be used since 'tokenizer' is not None'\n",
      "  warnings.warn(\n"
     ]
    },
    {
     "name": "stdout",
     "output_type": "stream",
     "text": [
      "Shape of count_matrix_train: (412590, 9586)\n",
      "Shape of count_matrix_test: (103148, 9586)\n"
     ]
    }
   ],
   "source": [
    "# Adjust these values based on your dataset and requirements\n",
    "max_df_value = 0.50  # Example: terms appearing in more than 50% of documents will be ignored\n",
    "min_df_value = 10     # Example: terms appearing in fewer than 10 documents will be ignored\n",
    "\n",
    "count_vectorizer = CountVectorizer(tokenizer=my_tokenizer,max_df=max_df_value, min_df=min_df_value)\n",
    "count_vectorizer.fit(X_train)\n",
    "\n",
    "count_matrix_train = count_vectorizer.transform(X_train)\n",
    "count_matrix_test = count_vectorizer.transform(X_test)\n",
    "\n",
    "print('Shape of count_matrix_train:', count_matrix_train.shape)\n",
    "print('Shape of count_matrix_test:', count_matrix_test.shape)\n"
   ]
  },
  {
   "cell_type": "code",
   "execution_count": 229,
   "id": "25cc62f0",
   "metadata": {},
   "outputs": [],
   "source": [
    "table.loc[table.shape[0],['Parameters','Normalization','min_df','Feature_count']]=[\"stop words from nltk library\",\"Stemming\",\"1% of documents\",count_matrix_train.shape[1]]\n"
   ]
  },
  {
   "cell_type": "code",
   "execution_count": 228,
   "id": "9069e239",
   "metadata": {},
   "outputs": [
    {
     "data": {
      "text/html": [
       "<div>\n",
       "<style scoped>\n",
       "    .dataframe tbody tr th:only-of-type {\n",
       "        vertical-align: middle;\n",
       "    }\n",
       "\n",
       "    .dataframe tbody tr th {\n",
       "        vertical-align: top;\n",
       "    }\n",
       "\n",
       "    .dataframe thead th {\n",
       "        text-align: right;\n",
       "    }\n",
       "</style>\n",
       "<table border=\"1\" class=\"dataframe\">\n",
       "  <thead>\n",
       "    <tr style=\"text-align: right;\">\n",
       "      <th></th>\n",
       "      <th>Parameters</th>\n",
       "      <th>Feature_count</th>\n",
       "      <th>Normalization</th>\n",
       "      <th>min_df</th>\n",
       "    </tr>\n",
       "  </thead>\n",
       "  <tbody>\n",
       "    <tr>\n",
       "      <th>0</th>\n",
       "      <td>default</td>\n",
       "      <td>49477</td>\n",
       "      <td>NaN</td>\n",
       "      <td>NaN</td>\n",
       "    </tr>\n",
       "    <tr>\n",
       "      <th>1</th>\n",
       "      <td>stop_words='english'</td>\n",
       "      <td>49170</td>\n",
       "      <td>NaN</td>\n",
       "      <td>NaN</td>\n",
       "    </tr>\n",
       "    <tr>\n",
       "      <th>2</th>\n",
       "      <td>stop words from nltk library</td>\n",
       "      <td>49334</td>\n",
       "      <td>NaN</td>\n",
       "      <td>NaN</td>\n",
       "    </tr>\n",
       "    <tr>\n",
       "      <th>3</th>\n",
       "      <td>stop words from nltk library</td>\n",
       "      <td>35635</td>\n",
       "      <td>Stemming</td>\n",
       "      <td>NaN</td>\n",
       "    </tr>\n",
       "    <tr>\n",
       "      <th>4</th>\n",
       "      <td>stop words from nltk library</td>\n",
       "      <td>9586</td>\n",
       "      <td>Stemming</td>\n",
       "      <td>0.5% of documents</td>\n",
       "    </tr>\n",
       "  </tbody>\n",
       "</table>\n",
       "</div>"
      ],
      "text/plain": [
       "                     Parameters Feature_count Normalization             min_df\n",
       "0                       default         49477           NaN                NaN\n",
       "1          stop_words='english'         49170           NaN                NaN\n",
       "2  stop words from nltk library         49334           NaN                NaN\n",
       "3  stop words from nltk library         35635      Stemming                NaN\n",
       "4  stop words from nltk library          9586      Stemming  0.5% of documents"
      ]
     },
     "execution_count": 228,
     "metadata": {},
     "output_type": "execute_result"
    }
   ],
   "source": [
    "table"
   ]
  },
  {
   "cell_type": "code",
   "execution_count": null,
   "id": "d0779070",
   "metadata": {},
   "outputs": [],
   "source": []
  },
  {
   "cell_type": "code",
   "execution_count": null,
   "id": "1c3587b3",
   "metadata": {},
   "outputs": [],
   "source": []
  },
  {
   "cell_type": "code",
   "execution_count": null,
   "id": "01238616",
   "metadata": {},
   "outputs": [],
   "source": []
  },
  {
   "cell_type": "code",
   "execution_count": null,
   "id": "ff1c6d4f",
   "metadata": {},
   "outputs": [],
   "source": [
    "X_pos = df_vec[\"Positive_Review\"]\n",
    "y_pos = df_vec['Reviewer_Score']"
   ]
  },
  {
   "cell_type": "code",
   "execution_count": null,
   "id": "f7c2a99a",
   "metadata": {},
   "outputs": [],
   "source": [
    "X = X_pos\n",
    "y = y_pos"
   ]
  },
  {
   "cell_type": "code",
   "execution_count": null,
   "id": "b105c1ab",
   "metadata": {},
   "outputs": [],
   "source": [
    "# Initialize a CountVectorizer object with default settings\n",
    "count_vectorizer_default = CountVectorizer()\n",
    "count_vectorizer_default.fit(X_train)\n",
    "count_matrix_train_default = count_vectorizer_default.transform(X_train)\n",
    "count_matrix_test_default = count_vectorizer_default.transform(X_test)\n",
    "\n",
    "# Output type and shape of the transformed matrices\n",
    "print('The output type is', type(count_matrix_train_default))\n",
    "print('Shape of count_matrix_train (default):', count_matrix_train_default.shape)\n",
    "print('Shape of count_matrix_test (default):', count_matrix_test_default.shape)\n",
    "\n",
    "# Initialize DataFrame to store feature counts\n",
    "table = pd.DataFrame(columns=['Parameters', 'Feature_count'])\n",
    "table.loc[table.shape[0]] = ['default', count_matrix_train_default.shape[1]]\n",
    "\n",
    "# Initialize CountVectorizer with English stop words\n",
    "count_vectorizer_stopwords = CountVectorizer(stop_words=\"english\")\n",
    "count_vectorizer_stopwords.fit(X_train)\n",
    "count_matrix_train_stopwords = count_vectorizer_stopwords.transform(X_train)\n",
    "\n",
    "# Shape of the transformed matrix\n",
    "print('Shape of count_matrix_train (stop_words=\"english\"):', count_matrix_train_stopwords.shape)\n",
    "table.loc[table.shape[0]] = [\"stop_words='english'\", count_matrix_train_stopwords.shape[1]]\n",
    "\n",
    "# Load custom stop words from NLTK\n",
    "nltk_stop_words = stopwords.words('english')\n",
    "\n",
    "# Initialize CountVectorizer with NLTK stop words\n",
    "count_vectorizer_nltk = CountVectorizer(stop_words=nltk_stop_words)\n",
    "count_vectorizer_nltk.fit(X_train)\n",
    "count_matrix_train_nltk = count_vectorizer_nltk.transform(X_train)\n",
    "\n",
    "# Shape of the transformed matrix\n",
    "print('Shape of count_matrix_train (NLTK stop words):', count_matrix_train_nltk.shape)\n",
    "table.loc[table.shape[0]] = [\"stop words from nltk library\", count_matrix_train_nltk.shape[1]]\n",
    "\n",
    "# Display the table\n",
    "print(table)\n"
   ]
  },
  {
   "cell_type": "markdown",
   "id": "f1afd830",
   "metadata": {},
   "source": [
    "2. Text Data Analysis\n",
    "Since you have text data (Negative_Review, Positive_Review), you might want to explore:\n",
    "\n",
    "Word Count Analysis: Look at the most common words in the reviews. This can be done using a word cloud or frequency distribution.\n",
    "Sentiment Analysis: You could analyze the sentiment of the reviews. This might be particularly interesting to compare against the Reviewer_Score.\n",
    "3. Data Distribution and Trends\n",
    "Score Distributions: Plot histograms or boxplots for Average_Score and Reviewer_Score to understand their distribution.\n",
    "Time Series Analysis: Since you have Day, Month, and Year, you can look at trends over time. Are scores improving or declining? Are there seasonal patterns?\n",
    "4. Correlation Analysis\n",
    "Investigate correlations between numerical variables, especially between scores and word counts, using a correlation matrix and heatmap.\n",
    "5. Categorical Data Analysis\n",
    "For Reviewer_Nationality and Hotel_Address, you can explore which nationalities are most common and which hotels (or locations) are reviewed most frequently.\n",
    "Leisure_Trip: Analyze the proportion of leisure trips versus other types of trips.\n",
    "6. Geographical Analysis\n",
    "With Latitude and Longitude, you could create geographical plots to see where the hotels are located and if location correlates with scores.\n",
    "7. Review Length Analysis\n",
    "Analyze the relationship between review length (Review_Total_Negative_Word_Counts and Review_Total_Positive_Word_Counts) and scores."
   ]
  },
  {
   "cell_type": "markdown",
   "id": "cc240bc0",
   "metadata": {},
   "source": []
  },
  {
   "cell_type": "code",
   "execution_count": 154,
   "id": "7aebd90b",
   "metadata": {},
   "outputs": [
    {
     "data": {
      "text/html": [
       "<div>\n",
       "<style scoped>\n",
       "    .dataframe tbody tr th:only-of-type {\n",
       "        vertical-align: middle;\n",
       "    }\n",
       "\n",
       "    .dataframe tbody tr th {\n",
       "        vertical-align: top;\n",
       "    }\n",
       "\n",
       "    .dataframe thead th {\n",
       "        text-align: right;\n",
       "    }\n",
       "</style>\n",
       "<table border=\"1\" class=\"dataframe\">\n",
       "  <thead>\n",
       "    <tr style=\"text-align: right;\">\n",
       "      <th></th>\n",
       "      <th>Unnamed: 0</th>\n",
       "      <th>Additional_Number_of_Scoring</th>\n",
       "      <th>Average_Score</th>\n",
       "      <th>Negative_Review</th>\n",
       "      <th>Review_Total_Negative_Word_Counts</th>\n",
       "      <th>Total_Number_of_Reviews</th>\n",
       "      <th>Positive_Review</th>\n",
       "      <th>Review_Total_Positive_Word_Counts</th>\n",
       "      <th>Total_Number_of_Reviews_Reviewer_Has_Given</th>\n",
       "      <th>Reviewer_Score</th>\n",
       "      <th>Days_Since_Review</th>\n",
       "      <th>Latitude</th>\n",
       "      <th>Longitude</th>\n",
       "      <th>Day</th>\n",
       "      <th>Month</th>\n",
       "      <th>Year</th>\n",
       "      <th>Leisure_Trip</th>\n",
       "      <th>Nights_Stayed</th>\n",
       "    </tr>\n",
       "  </thead>\n",
       "  <tbody>\n",
       "    <tr>\n",
       "      <th>0</th>\n",
       "      <td>0</td>\n",
       "      <td>194</td>\n",
       "      <td>7.7</td>\n",
       "      <td>I am so angry that i made this post available...</td>\n",
       "      <td>397</td>\n",
       "      <td>1403</td>\n",
       "      <td>Only the park outside of the hotel was beauti...</td>\n",
       "      <td>11</td>\n",
       "      <td>7</td>\n",
       "      <td>0</td>\n",
       "      <td>0</td>\n",
       "      <td>52.360576</td>\n",
       "      <td>4.915968</td>\n",
       "      <td>3</td>\n",
       "      <td>8</td>\n",
       "      <td>2017</td>\n",
       "      <td>1</td>\n",
       "      <td>6</td>\n",
       "    </tr>\n",
       "  </tbody>\n",
       "</table>\n",
       "</div>"
      ],
      "text/plain": [
       "   Unnamed: 0  Additional_Number_of_Scoring  Average_Score  \\\n",
       "0           0                           194            7.7   \n",
       "\n",
       "                                     Negative_Review  \\\n",
       "0   I am so angry that i made this post available...   \n",
       "\n",
       "   Review_Total_Negative_Word_Counts  Total_Number_of_Reviews  \\\n",
       "0                                397                     1403   \n",
       "\n",
       "                                     Positive_Review  \\\n",
       "0   Only the park outside of the hotel was beauti...   \n",
       "\n",
       "   Review_Total_Positive_Word_Counts  \\\n",
       "0                                 11   \n",
       "\n",
       "   Total_Number_of_Reviews_Reviewer_Has_Given  Reviewer_Score  \\\n",
       "0                                           7               0   \n",
       "\n",
       "   Days_Since_Review   Latitude  Longitude  Day  Month  Year  Leisure_Trip  \\\n",
       "0                  0  52.360576   4.915968    3      8  2017             1   \n",
       "\n",
       "   Nights_Stayed  \n",
       "0              6  "
      ]
     },
     "execution_count": 154,
     "metadata": {},
     "output_type": "execute_result"
    }
   ],
   "source": [
    "df_raw.head(1)"
   ]
  },
  {
   "cell_type": "code",
   "execution_count": 155,
   "id": "f0bc7ec0",
   "metadata": {},
   "outputs": [
    {
     "data": {
      "text/html": [
       "<div>\n",
       "<style scoped>\n",
       "    .dataframe tbody tr th:only-of-type {\n",
       "        vertical-align: middle;\n",
       "    }\n",
       "\n",
       "    .dataframe tbody tr th {\n",
       "        vertical-align: top;\n",
       "    }\n",
       "\n",
       "    .dataframe thead th {\n",
       "        text-align: right;\n",
       "    }\n",
       "</style>\n",
       "<table border=\"1\" class=\"dataframe\">\n",
       "  <thead>\n",
       "    <tr style=\"text-align: right;\">\n",
       "      <th></th>\n",
       "      <th>Unnamed: 0</th>\n",
       "      <th>Additional_Number_of_Scoring</th>\n",
       "      <th>Average_Score</th>\n",
       "      <th>Negative_Review</th>\n",
       "      <th>Review_Total_Negative_Word_Counts</th>\n",
       "      <th>Total_Number_of_Reviews</th>\n",
       "      <th>Positive_Review</th>\n",
       "      <th>Review_Total_Positive_Word_Counts</th>\n",
       "      <th>Total_Number_of_Reviews_Reviewer_Has_Given</th>\n",
       "      <th>Reviewer_Score</th>\n",
       "      <th>Days_Since_Review</th>\n",
       "      <th>Latitude</th>\n",
       "      <th>Longitude</th>\n",
       "      <th>Day</th>\n",
       "      <th>Month</th>\n",
       "      <th>Year</th>\n",
       "      <th>Leisure_Trip</th>\n",
       "      <th>Nights_Stayed</th>\n",
       "    </tr>\n",
       "  </thead>\n",
       "  <tbody>\n",
       "    <tr>\n",
       "      <th>0</th>\n",
       "      <td>0</td>\n",
       "      <td>194</td>\n",
       "      <td>7.7</td>\n",
       "      <td>I am so angry that i made this post available...</td>\n",
       "      <td>397</td>\n",
       "      <td>1403</td>\n",
       "      <td>Only the park outside of the hotel was beauti...</td>\n",
       "      <td>11</td>\n",
       "      <td>7</td>\n",
       "      <td>0</td>\n",
       "      <td>0</td>\n",
       "      <td>52.360576</td>\n",
       "      <td>4.915968</td>\n",
       "      <td>3</td>\n",
       "      <td>8</td>\n",
       "      <td>2017</td>\n",
       "      <td>1</td>\n",
       "      <td>6</td>\n",
       "    </tr>\n",
       "  </tbody>\n",
       "</table>\n",
       "</div>"
      ],
      "text/plain": [
       "   Unnamed: 0  Additional_Number_of_Scoring  Average_Score  \\\n",
       "0           0                           194            7.7   \n",
       "\n",
       "                                     Negative_Review  \\\n",
       "0   I am so angry that i made this post available...   \n",
       "\n",
       "   Review_Total_Negative_Word_Counts  Total_Number_of_Reviews  \\\n",
       "0                                397                     1403   \n",
       "\n",
       "                                     Positive_Review  \\\n",
       "0   Only the park outside of the hotel was beauti...   \n",
       "\n",
       "   Review_Total_Positive_Word_Counts  \\\n",
       "0                                 11   \n",
       "\n",
       "   Total_Number_of_Reviews_Reviewer_Has_Given  Reviewer_Score  \\\n",
       "0                                           7               0   \n",
       "\n",
       "   Days_Since_Review   Latitude  Longitude  Day  Month  Year  Leisure_Trip  \\\n",
       "0                  0  52.360576   4.915968    3      8  2017             1   \n",
       "\n",
       "   Nights_Stayed  \n",
       "0              6  "
      ]
     },
     "execution_count": 155,
     "metadata": {},
     "output_type": "execute_result"
    }
   ],
   "source": [
    "df_clean.head(1)"
   ]
  },
  {
   "cell_type": "code",
   "execution_count": null,
   "id": "e9face77",
   "metadata": {},
   "outputs": [],
   "source": [
    "df_eda "
   ]
  },
  {
   "cell_type": "code",
   "execution_count": null,
   "id": "a3c69943",
   "metadata": {},
   "outputs": [],
   "source": [
    "df_feat"
   ]
  },
  {
   "cell_type": "code",
   "execution_count": null,
   "id": "62aa5957",
   "metadata": {},
   "outputs": [],
   "source": [
    "df_train"
   ]
  }
 ],
 "metadata": {
  "kernelspec": {
   "display_name": "Python 3",
   "language": "python",
   "name": "python3"
  },
  "language_info": {
   "codemirror_mode": {
    "name": "ipython",
    "version": 3
   },
   "file_extension": ".py",
   "mimetype": "text/x-python",
   "name": "python",
   "nbconvert_exporter": "python",
   "pygments_lexer": "ipython3",
   "version": "3.8.8"
  }
 },
 "nbformat": 4,
 "nbformat_minor": 5
}
